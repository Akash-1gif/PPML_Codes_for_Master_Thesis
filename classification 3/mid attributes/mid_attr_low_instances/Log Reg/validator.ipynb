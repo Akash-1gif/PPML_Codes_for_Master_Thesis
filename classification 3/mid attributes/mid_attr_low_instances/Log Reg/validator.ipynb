{
 "cells": [
  {
   "cell_type": "code",
   "execution_count": 1,
   "id": "c07897fe-cc90-4ed3-8107-47cb86ed6dba",
   "metadata": {},
   "outputs": [
    {
     "name": "stdout",
     "output_type": "stream",
     "text": [
      "Weights (Unencrypted): [0.1874780847483361, 0.2211313433445556, 0.05538156505204331, -0.04403124292941919, 0.012964080977385363, 0.0758022945838267, 0.13714431052823906, 0.07220779641907711, -0.09453428967114064, -0.07957826882347438, 0.2166192108086845, 0.1052559451343994, -0.0005248201939963559, -0.006846613604062149, -0.020654602168698494]\n"
     ]
    }
   ],
   "source": [
    "import joblib\n",
    "\n",
    "# Specify the path to your .pkl file\n",
    "file_path = 'variables_ckks.pkl'\n",
    "\n",
    "# Load the data from the file\n",
    "data = joblib.load(file_path)\n",
    "\n",
    "# Now `data` contains all the variables that were stored in the .pkl file\n",
    "# You can unpack them into their respective variables\n",
    "weights_unenc_ckks, bias_unenc, accuracy, y_pred_ckks, cpu_seconds, cpu_usages, ram_usages, train_time_ckks, test_time = data\n",
    "\n",
    "# Print the variables to verify\n",
    "print(\"Weights (Unencrypted):\", weights_unenc_ckks)\n",
    "# print(\"Bias (Unencrypted):\", bias_unenc)\n",
    "# print(\"Accuracy:\", accuracy)\n",
    "# print(\"CPU Seconds:\", cpu_seconds)\n",
    "# print(\"CPU Usages:\", cpu_usages)\n",
    "# print(\"RAM Usages:\", ram_usages)\n",
    "# print(\"Train Time:\", train_time)\n",
    "# print(\"Test Time:\", test_time)\n"
   ]
  },
  {
   "cell_type": "code",
   "execution_count": 2,
   "id": "55ea7ad0-d4bd-4bcc-b8e6-a247a39ab32a",
   "metadata": {},
   "outputs": [
    {
     "name": "stdout",
     "output_type": "stream",
     "text": [
      "Weights (Unencrypted): [ 0.18827471  0.20714802  0.05051041 -0.0484264   0.01770359  0.08320539\n",
      "  0.09152511  0.0721082  -0.06069077 -0.0621444   0.22633924  0.13308143\n",
      "  0.03659664  0.01479291 -0.01256733]\n"
     ]
    }
   ],
   "source": [
    "import joblib\n",
    "\n",
    "# Specify the path to your .pkl file\n",
    "file_path = 'variables_manual_sgd.pkl'\n",
    "\n",
    "# Load the data from the file\n",
    "data = joblib.load(file_path)\n",
    "\n",
    "# Now `data` contains all the variables that were stored in the .pkl file\n",
    "# You can unpack them into their respective variables\n",
    "weights_unenc_manual, bias_unenc, accuracy_manual, y_pred_manual, cpu_seconds, cpu_usages, ram_usages, train_time, test_time = data\n",
    "\n",
    "# Print the variables to verify\n",
    "print(\"Weights (Unencrypted):\", weights_unenc_manual)\n",
    "# print(\"Bias (Unencrypted):\", bias_unenc)\n",
    "# print(\"Accuracy:\", accuracy)\n",
    "# print(\"CPU Seconds:\", cpu_seconds)\n",
    "# print(\"CPU Usages:\", cpu_usages)\n",
    "# print(\"RAM Usages:\", ram_usages)\n",
    "# print(\"Train Time:\", train_time)\n",
    "# print(\"Test Time:\", test_time)\n"
   ]
  },
  {
   "cell_type": "code",
   "execution_count": 3,
   "id": "f4246ad2-0f7c-4f8c-a886-6af25e668bfc",
   "metadata": {},
   "outputs": [
    {
     "name": "stdout",
     "output_type": "stream",
     "text": [
      "Weights (Unencrypted): [ 0.28870593  0.35713183  0.04928873  0.01220768 -0.01294147  0.05971708\n",
      "  0.06605875  0.04248337 -0.14301988 -0.0496764   0.26504475  0.15465842\n",
      "  0.04762984  0.03660482 -0.02656737]\n"
     ]
    }
   ],
   "source": [
    "import joblib\n",
    "\n",
    "# Specify the path to your .pkl file\n",
    "file_path = 'variables_sklearn.pkl'\n",
    "\n",
    "# Load the data from the file\n",
    "data = joblib.load(file_path)\n",
    "\n",
    "# Now `data` contains all the variables that were stored in the .pkl file\n",
    "# You can unpack them into their respective variables\n",
    "weights_unenc_sk, bias_unenc, accuracy_sk, y_pred_sk, cpu_seconds, cpu_usages, ram_usages, train_time, test_time = data\n",
    "\n",
    "# Print the variables to verify\n",
    "print(\"Weights (Unencrypted):\", weights_unenc_sk)\n",
    "# print(\"Bias (Unencrypted):\", bias_unenc)\n",
    "# print(\"Accuracy:\", accuracy)\n",
    "# print(\"CPU Seconds:\", cpu_seconds)\n",
    "# print(\"CPU Usages:\", cpu_usages)\n",
    "# print(\"RAM Usages:\", ram_usages)\n",
    "# print(\"Train Time:\", train_time)\n",
    "# print(\"Test Time:\", test_time)\n"
   ]
  },
  {
   "cell_type": "code",
   "execution_count": 4,
   "id": "88e454ed-ebb2-482d-9b0e-eb31be6b68ed",
   "metadata": {},
   "outputs": [
    {
     "data": {
      "text/plain": [
       "(ShapiroResult(statistic=0.9500215003300814, pvalue=0.5247897228753486),\n",
       " ShapiroResult(statistic=0.9086134645732457, pvalue=0.12894035809789572))"
      ]
     },
     "execution_count": 4,
     "metadata": {},
     "output_type": "execute_result"
    }
   ],
   "source": [
    "import numpy as np\n",
    "from scipy import stats\n",
    "\n",
    "# Data sets\n",
    "ckks_w = weights_unenc_ckks\n",
    "skl_w = weights_unenc_sk\n",
    "\n",
    "# Perform Shapiro-Wilk test\n",
    "shapiro_ckks_w = stats.shapiro(ckks_w)\n",
    "shapiro_skl_w = stats.shapiro(skl_w)\n",
    "\n",
    "shapiro_ckks_w, shapiro_skl_w\n"
   ]
  },
  {
   "cell_type": "code",
   "execution_count": 5,
   "id": "10e9e9d9-c828-4823-8963-ab10c3971b01",
   "metadata": {},
   "outputs": [
    {
     "data": {
      "text/plain": [
       "(ShapiroResult(statistic=0.9500215003300814, pvalue=0.5247897228753486),\n",
       " ShapiroResult(statistic=0.9086134645732457, pvalue=0.12894035809789572),\n",
       " 'Paired t-test',\n",
       " TtestResult(statistic=-1.4143671730614888, pvalue=0.17910747813689798, df=14))"
      ]
     },
     "execution_count": 5,
     "metadata": {},
     "output_type": "execute_result"
    }
   ],
   "source": [
    "# Perform the appropriate test based on normality results\n",
    "if shapiro_ckks_w.pvalue > 0.05 and shapiro_skl_w.pvalue > 0.05:\n",
    "    # Perform paired t-test\n",
    "    t_test_result = stats.ttest_rel(ckks_w, skl_w)\n",
    "    test_result = t_test_result\n",
    "    test_name = \"Paired t-test\"\n",
    "else:\n",
    "    # Perform Wilcoxon signed-rank test\n",
    "    wilcoxon_result = stats.wilcoxon(ckks_w, skl_w)\n",
    "    test_result = wilcoxon_result\n",
    "    test_name = \"Wilcoxon signed-rank test\"\n",
    "\n",
    "shapiro_ckks_w, shapiro_skl_w, test_name, test_result\n"
   ]
  },
  {
   "cell_type": "code",
   "execution_count": 6,
   "id": "564743b4-5610-4a38-bcc9-fec6269ee22c",
   "metadata": {},
   "outputs": [
    {
     "name": "stdout",
     "output_type": "stream",
     "text": [
      "83.04905462265015\n"
     ]
    }
   ],
   "source": [
    "print(train_time_ckks)"
   ]
  },
  {
   "cell_type": "code",
   "execution_count": 7,
   "id": "8bd8d0cf-112f-44b1-a88b-81c0df33dc8b",
   "metadata": {},
   "outputs": [
    {
     "data": {
      "text/plain": [
       "0.9777777777777777"
      ]
     },
     "execution_count": 7,
     "metadata": {},
     "output_type": "execute_result"
    }
   ],
   "source": [
    "from sklearn.metrics import accuracy_score\n",
    "accuracy_score(y_pred_ckks,y_pred_sk)"
   ]
  },
  {
   "cell_type": "code",
   "execution_count": 8,
   "id": "ccd3417b-1712-4bfa-9948-019b8f0f2463",
   "metadata": {},
   "outputs": [
    {
     "data": {
      "text/plain": [
       "0.9888888888888889"
      ]
     },
     "execution_count": 8,
     "metadata": {},
     "output_type": "execute_result"
    }
   ],
   "source": [
    "from sklearn.metrics import accuracy_score\n",
    "accuracy_score(y_pred_ckks,y_pred_manual)"
   ]
  },
  {
   "cell_type": "code",
   "execution_count": 9,
   "id": "d5f504e2-a74d-45bb-a4a1-055f37f5006b",
   "metadata": {},
   "outputs": [
    {
     "data": {
      "text/plain": [
       "0.9888888888888889"
      ]
     },
     "execution_count": 9,
     "metadata": {},
     "output_type": "execute_result"
    }
   ],
   "source": [
    "from sklearn.metrics import accuracy_score\n",
    "accuracy_score(y_pred_manual,y_pred_sk)"
   ]
  },
  {
   "cell_type": "code",
   "execution_count": null,
   "id": "5eac43e8-de55-4907-b9a2-c3eac482127d",
   "metadata": {},
   "outputs": [],
   "source": []
  }
 ],
 "metadata": {
  "kernelspec": {
   "display_name": "Python 3 (ipykernel)",
   "language": "python",
   "name": "python3"
  },
  "language_info": {
   "codemirror_mode": {
    "name": "ipython",
    "version": 3
   },
   "file_extension": ".py",
   "mimetype": "text/x-python",
   "name": "python",
   "nbconvert_exporter": "python",
   "pygments_lexer": "ipython3",
   "version": "3.12.3"
  }
 },
 "nbformat": 4,
 "nbformat_minor": 5
}
