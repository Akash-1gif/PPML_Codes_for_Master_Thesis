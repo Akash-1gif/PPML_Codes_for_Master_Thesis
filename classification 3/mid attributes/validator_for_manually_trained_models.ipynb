{
 "cells": [
  {
   "cell_type": "code",
   "execution_count": 1,
   "id": "27ceee46-d252-429d-9697-65d14af11b05",
   "metadata": {},
   "outputs": [
    {
     "name": "stdout",
     "output_type": "stream",
     "text": [
      "Shapiro-Wilk Test p-value for data1: 0.8793132683696175\n",
      "Shapiro-Wilk Test p-value for data2: 0.9402321884385377\n",
      "Independent t-test p-value: 0.9944123879242218\n",
      "there is no significant difference between the weights obtained from sklearn model and manually trained model\n"
     ]
    }
   ],
   "source": [
    "import numpy as np\n",
    "from scipy import stats\n",
    "import matplotlib.pyplot as plt\n",
    "\n",
    "# Sample data (replace with your actual data)\n",
    "\n",
    "# sklearn weights\n",
    "data1 = [ 0.14236168,  0.25845806,  0.34644221, -0.134592,   -0.22370972, -0.48433093,\n",
    "  0.087935,    0.01430579]\n",
    "\n",
    "# maunal model weights\n",
    "data2 = [ 0.15764738,  0.29275128,  0.37677366, -0.10388496, -0.25581072, -0.49875659,\n",
    " -0.00934515,  0.03951303]\n",
    "\n",
    "# Perform Shapiro-Wilk test\n",
    "shapiro_test1 = stats.shapiro(data1)\n",
    "shapiro_test2 = stats.shapiro(data2)\n",
    "\n",
    "print(\"Shapiro-Wilk Test p-value for data1:\", shapiro_test1.pvalue)\n",
    "print(\"Shapiro-Wilk Test p-value for data2:\", shapiro_test2.pvalue)\n",
    "\n",
    "# Determine whether to use parametric or non-parametric tests\n",
    "if shapiro_test1.pvalue > 0.05 and shapiro_test2.pvalue > 0.05:\n",
    "    # Perform parametric test (e.g., independent t-test)\n",
    "    t_test_result = stats.ttest_ind(data1, data2)\n",
    "    print(\"Independent t-test p-value:\", t_test_result.pvalue)\n",
    "    if t_test_result.pvalue > 0.05:\n",
    "        print(\"there is no significant difference between the weights obtained from sklearn model and manually trained model\")\n",
    "    else:\n",
    "        print(\"there is a significant difference between the weights obtained from sklearn model and manually trained model\")\n",
    "else:\n",
    "    # Perform non-parametric test (e.g., Mann-Whitney U test)\n",
    "    mannwhitney_test_result = stats.mannwhitneyu(data1, data2)\n",
    "    print(\"Mann-Whitney U Test p-value:\", mannwhitney_test_result.pvalue)\n",
    "    if t_test_result.pvalue > 0.05:\n",
    "        print(\"there is no significant difference between the weights obtained from sklearn model and manually trained model\")\n",
    "    else:\n",
    "        print(\"there is a significant difference between the weights obtained from sklearn model and manually trained model\")"
   ]
  }
 ],
 "metadata": {
  "kernelspec": {
   "display_name": "Python 3 (ipykernel)",
   "language": "python",
   "name": "python3"
  },
  "language_info": {
   "codemirror_mode": {
    "name": "ipython",
    "version": 3
   },
   "file_extension": ".py",
   "mimetype": "text/x-python",
   "name": "python",
   "nbconvert_exporter": "python",
   "pygments_lexer": "ipython3",
   "version": "3.12.3"
  }
 },
 "nbformat": 4,
 "nbformat_minor": 5
}
