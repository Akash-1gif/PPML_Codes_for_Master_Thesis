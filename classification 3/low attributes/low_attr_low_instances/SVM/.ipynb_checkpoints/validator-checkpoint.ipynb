{
 "cells": [
  {
   "cell_type": "code",
   "execution_count": 1,
   "id": "c07897fe-cc90-4ed3-8107-47cb86ed6dba",
   "metadata": {},
   "outputs": [
    {
     "name": "stdout",
     "output_type": "stream",
     "text": [
      "Weights (Unencrypted): [0.001097300146630771, 0.0011437997520151297, 0.0016720001367197162, -0.002430501141154886, -0.00048709969283880706, -0.0021439992483387772, 0.0007399998363444429, -0.0002025991633607039]\n"
     ]
    }
   ],
   "source": [
    "import joblib\n",
    "\n",
    "# Specify the path to your .pkl file\n",
    "file_path = 'variables_ckks.pkl'\n",
    "\n",
    "# Load the data from the file\n",
    "data = joblib.load(file_path)\n",
    "\n",
    "# Now `data` contains all the variables that were stored in the .pkl file\n",
    "# You can unpack them into their respective variables\n",
    "weights_unenc_ckks, bias_unenc, accuracy, y_pred_ckks, cpu_seconds, cpu_usages, ram_usages, train_time_ckks, test_time = data\n",
    "\n",
    "# Print the variables to verify\n",
    "print(\"Weights (Unencrypted):\", weights_unenc_ckks)\n",
    "# print(\"Bias (Unencrypted):\", bias_unenc)\n",
    "# print(\"Accuracy:\", accuracy)\n",
    "# print(\"CPU Seconds:\", cpu_seconds)\n",
    "# print(\"CPU Usages:\", cpu_usages)\n",
    "# print(\"RAM Usages:\", ram_usages)\n",
    "# print(\"Train Time:\", train_time)\n",
    "# print(\"Test Time:\", test_time)\n"
   ]
  },
  {
   "cell_type": "code",
   "execution_count": 2,
   "id": "55ea7ad0-d4bd-4bcc-b8e6-a247a39ab32a",
   "metadata": {},
   "outputs": [
    {
     "name": "stdout",
     "output_type": "stream",
     "text": [
      "Weights (Unencrypted): [ 0.00109756  0.0011438   0.00167209 -0.00243038 -0.00048693 -0.00214377\n",
      "  0.00074032 -0.00020264]\n"
     ]
    }
   ],
   "source": [
    "import joblib\n",
    "\n",
    "# Specify the path to your .pkl file\n",
    "file_path = 'variables_manual_sgd.pkl'\n",
    "\n",
    "# Load the data from the file\n",
    "data = joblib.load(file_path)\n",
    "\n",
    "# Now `data` contains all the variables that were stored in the .pkl file\n",
    "# You can unpack them into their respective variables\n",
    "weights_unenc_manual, bias_unenc, accuracy_manual, y_pred_manual, cpu_seconds, cpu_usages, ram_usages, train_time, test_time = data\n",
    "\n",
    "# Print the variables to verify\n",
    "print(\"Weights (Unencrypted):\", weights_unenc_manual)\n",
    "# print(\"Bias (Unencrypted):\", bias_unenc)\n",
    "# print(\"Accuracy:\", accuracy)\n",
    "# print(\"CPU Seconds:\", cpu_seconds)\n",
    "# print(\"CPU Usages:\", cpu_usages)\n",
    "# print(\"RAM Usages:\", ram_usages)\n",
    "# print(\"Train Time:\", train_time)\n",
    "# print(\"Test Time:\", test_time)\n"
   ]
  },
  {
   "cell_type": "code",
   "execution_count": 3,
   "id": "f4246ad2-0f7c-4f8c-a886-6af25e668bfc",
   "metadata": {},
   "outputs": [
    {
     "name": "stdout",
     "output_type": "stream",
     "text": [
      "Weights (Unencrypted): [-0.02667904  0.05348847  0.0744524  -0.10861823 -0.03436317 -0.10665545\n",
      " -0.00078018  0.01128655]\n"
     ]
    }
   ],
   "source": [
    "import joblib\n",
    "\n",
    "# Specify the path to your .pkl file\n",
    "file_path = 'variables_sklearn.pkl'\n",
    "\n",
    "# Load the data from the file\n",
    "data = joblib.load(file_path)\n",
    "\n",
    "# Now `data` contains all the variables that were stored in the .pkl file\n",
    "# You can unpack them into their respective variables\n",
    "weights_unenc_sk, bias_unenc, accuracy_sk, y_pred_sk, cpu_seconds, cpu_usages, ram_usages, train_time, test_time = data\n",
    "\n",
    "# Print the variables to verify\n",
    "print(\"Weights (Unencrypted):\", weights_unenc_sk)\n",
    "# print(\"Bias (Unencrypted):\", bias_unenc)\n",
    "# print(\"Accuracy:\", accuracy)\n",
    "# print(\"CPU Seconds:\", cpu_seconds)\n",
    "# print(\"CPU Usages:\", cpu_usages)\n",
    "# print(\"RAM Usages:\", ram_usages)\n",
    "# print(\"Train Time:\", train_time)\n",
    "# print(\"Test Time:\", test_time)\n"
   ]
  },
  {
   "cell_type": "code",
   "execution_count": 4,
   "id": "88e454ed-ebb2-482d-9b0e-eb31be6b68ed",
   "metadata": {},
   "outputs": [
    {
     "data": {
      "text/plain": [
       "(ShapiroResult(statistic=0.8947349225501218, pvalue=0.2588231455681822),\n",
       " ShapiroResult(statistic=0.9352278563572666, pvalue=0.5648199748704648))"
      ]
     },
     "execution_count": 4,
     "metadata": {},
     "output_type": "execute_result"
    }
   ],
   "source": [
    "import numpy as np\n",
    "from scipy import stats\n",
    "\n",
    "# Data sets\n",
    "ckks_w = weights_unenc_ckks\n",
    "skl_w = weights_unenc_sk\n",
    "\n",
    "# Perform Shapiro-Wilk test\n",
    "shapiro_ckks_w = stats.shapiro(ckks_w)\n",
    "shapiro_skl_w = stats.shapiro(skl_w)\n",
    "\n",
    "shapiro_ckks_w, shapiro_skl_w\n"
   ]
  },
  {
   "cell_type": "code",
   "execution_count": 5,
   "id": "10e9e9d9-c828-4823-8963-ab10c3971b01",
   "metadata": {},
   "outputs": [
    {
     "data": {
      "text/plain": [
       "(ShapiroResult(statistic=0.8947349225501218, pvalue=0.2588231455681822),\n",
       " ShapiroResult(statistic=0.9352278563572666, pvalue=0.5648199748704648),\n",
       " 'Paired t-test',\n",
       " TtestResult(statistic=0.7420934872246836, pvalue=0.4821827726775223, df=7))"
      ]
     },
     "execution_count": 5,
     "metadata": {},
     "output_type": "execute_result"
    }
   ],
   "source": [
    "# Perform the appropriate test based on normality results\n",
    "if shapiro_ckks_w.pvalue > 0.05 and shapiro_skl_w.pvalue > 0.05:\n",
    "    # Perform paired t-test\n",
    "    t_test_result = stats.ttest_rel(ckks_w, skl_w)\n",
    "    test_result = t_test_result\n",
    "    test_name = \"Paired t-test\"\n",
    "else:\n",
    "    # Perform Wilcoxon signed-rank test\n",
    "    wilcoxon_result = stats.wilcoxon(ckks_w, skl_w)\n",
    "    test_result = wilcoxon_result\n",
    "    test_name = \"Wilcoxon signed-rank test\"\n",
    "\n",
    "shapiro_ckks_w, shapiro_skl_w, test_name, test_result\n"
   ]
  },
  {
   "cell_type": "code",
   "execution_count": null,
   "id": "564743b4-5610-4a38-bcc9-fec6269ee22c",
   "metadata": {},
   "outputs": [],
   "source": []
  }
 ],
 "metadata": {
  "kernelspec": {
   "display_name": "Python 3 (ipykernel)",
   "language": "python",
   "name": "python3"
  },
  "language_info": {
   "codemirror_mode": {
    "name": "ipython",
    "version": 3
   },
   "file_extension": ".py",
   "mimetype": "text/x-python",
   "name": "python",
   "nbconvert_exporter": "python",
   "pygments_lexer": "ipython3",
   "version": "3.12.3"
  }
 },
 "nbformat": 4,
 "nbformat_minor": 5
}
