{
 "cells": [
  {
   "cell_type": "code",
   "execution_count": 1,
   "id": "119e352e-5f22-4749-b597-4a2ede43ac4d",
   "metadata": {},
   "outputs": [
    {
     "name": "stdout",
     "output_type": "stream",
     "text": [
      "Weights (Unencrypted): [ 0.07805985  0.13607229 -0.0342225   0.00639412 -0.04374489 -0.04358273\n",
      " -0.00166049  0.02738419  0.228898    0.12660748  0.09941744  0.1841061\n",
      "  0.05683794  0.01876537  0.04097558  0.02414909  0.06266346 -0.04617184\n",
      " -0.04414414 -0.15040752 -0.22893875 -0.04916696]\n",
      "Bias (Unencrypted): 0.09\n",
      "Accuracy: 0.7666666666666667\n",
      "CPU Seconds: 0.07\n",
      "CPU Usages: [3.0, 1.0, 1.0, 1.0, 1.0]\n",
      "RAM Usages: [1.4963816150833003, 1.4963816150833003, 1.4963816150833003, 1.4963816150833003, 1.4963816150833003]\n",
      "Train Time: 0.030352354049682617\n",
      "Test Time: 0.0002694129943847656\n"
     ]
    }
   ],
   "source": [
    "import joblib\n",
    "\n",
    "# Specify the path to your .pkl file\n",
    "file_path = 'variables_manual_sgd.pkl'\n",
    "\n",
    "# Load the data from the file\n",
    "data = joblib.load(file_path)\n",
    "\n",
    "# Now `data` contains all the variables that were stored in the .pkl file\n",
    "# You can unpack them into their respective variables\n",
    "weights_unenc_sgd, bias_unenc, accuracy, y_pred_sgd, cpu_seconds, cpu_usages, ram_usages, train_time, test_time = data\n",
    "\n",
    "# Print the variables to verify\n",
    "print(\"Weights (Unencrypted):\", weights_unenc_sgd)\n",
    "print(\"Bias (Unencrypted):\", bias_unenc)\n",
    "print(\"Accuracy:\", accuracy)\n",
    "print(\"CPU Seconds:\", cpu_seconds)\n",
    "print(\"CPU Usages:\", cpu_usages)\n",
    "print(\"RAM Usages:\", ram_usages)\n",
    "print(\"Train Time:\", train_time)\n",
    "print(\"Test Time:\", test_time)\n"
   ]
  },
  {
   "cell_type": "code",
   "execution_count": 2,
   "id": "3397afe0-4cb7-4fca-bb38-419878d7dd94",
   "metadata": {},
   "outputs": [
    {
     "data": {
      "text/plain": [
       "array([ 1.,  1., -1.,  1., -1., -1.,  1., -1., -1.,  1.,  1., -1.,  1.,\n",
       "        1.,  1.,  1.,  1.,  1.,  1., -1., -1., -1., -1., -1., -1.,  1.,\n",
       "       -1., -1.,  1.,  1., -1.,  1.,  1.,  1., -1.,  1., -1., -1., -1.,\n",
       "        1., -1.,  1.,  1., -1.,  1.,  1.,  1., -1., -1., -1., -1.,  1.,\n",
       "        1.,  1.,  1., -1.,  1., -1.,  1., -1., -1.,  1., -1.,  1.,  1.,\n",
       "        1., -1., -1., -1.,  1., -1.,  1.,  1., -1.,  1., -1.,  1., -1.,\n",
       "       -1., -1.,  1., -1.,  1., -1., -1.,  1., -1.,  1.,  1., -1.])"
      ]
     },
     "execution_count": 2,
     "metadata": {},
     "output_type": "execute_result"
    }
   ],
   "source": [
    "y_pred_sgd"
   ]
  },
  {
   "cell_type": "code",
   "execution_count": 3,
   "id": "9dabfa89-fbba-4396-beb0-f26cb3459e09",
   "metadata": {},
   "outputs": [
    {
     "name": "stdout",
     "output_type": "stream",
     "text": [
      "Weights (Unencrypted): [-1.25412054  0.60082693 -1.39401786  0.871186    0.48838156 -2.03739763\n",
      "  2.20536391 -0.23129674  2.76950047  0.71098283  0.95997124  1.05520837\n",
      "  0.70400055  1.01865048 -0.67565674  1.28176692  0.32660229  1.09371142\n",
      " -1.43249257 -1.29599413 -2.69151176  0.85471714]\n",
      "Bias (Unencrypted): 0.03652110790712737\n",
      "Accuracy: 0.7444444444444445\n",
      "CPU Seconds: 0.06\n",
      "CPU Usages: [2.0, 1.0, 1.0, 1.0, 1.0]\n",
      "RAM Usages: [1.5483587475527558, 1.5483587475527558, 1.5483587475527558, 1.5483587475527558, 1.5483587475527558]\n",
      "Train Time: 0.025326967239379883\n",
      "Test Time: 0.002566099166870117\n"
     ]
    }
   ],
   "source": [
    "import joblib\n",
    "\n",
    "# Specify the path to your .pkl file\n",
    "file_path = 'variables_sklearn.pkl'\n",
    "\n",
    "# Load the data from the file\n",
    "data = joblib.load(file_path)\n",
    "\n",
    "# Now `data` contains all the variables that were stored in the .pkl file\n",
    "# You can unpack them into their respective variables\n",
    "weights_unenc_sklearn, bias_unenc, accuracy, y_pred_sklearn, cpu_seconds, cpu_usages, ram_usages, train_time, test_time = data\n",
    "\n",
    "# Print the variables to verify\n",
    "print(\"Weights (Unencrypted):\", weights_unenc_sklearn)\n",
    "print(\"Bias (Unencrypted):\", bias_unenc)\n",
    "print(\"Accuracy:\", accuracy)\n",
    "print(\"CPU Seconds:\", cpu_seconds)\n",
    "print(\"CPU Usages:\", cpu_usages)\n",
    "print(\"RAM Usages:\", ram_usages)\n",
    "print(\"Train Time:\", train_time)\n",
    "print(\"Test Time:\", test_time)"
   ]
  },
  {
   "cell_type": "code",
   "execution_count": 4,
   "id": "cca30af5-a735-4fa4-99b7-21dfcb3b3fe1",
   "metadata": {},
   "outputs": [
    {
     "data": {
      "text/plain": [
       "array([ 1, -1, -1,  1,  1, -1,  1, -1, -1,  1,  1,  1,  1, -1, -1, -1,  1,\n",
       "        1,  1, -1, -1,  1,  1, -1,  1, -1, -1, -1,  1,  1, -1,  1, -1, -1,\n",
       "       -1,  1, -1, -1, -1,  1, -1,  1,  1,  1,  1,  1, -1, -1, -1, -1, -1,\n",
       "        1,  1,  1,  1, -1,  1, -1,  1, -1, -1,  1, -1,  1, -1, -1, -1, -1,\n",
       "       -1,  1, -1, -1,  1,  1,  1, -1,  1, -1, -1, -1,  1, -1,  1, -1, -1,\n",
       "        1,  1,  1, -1, -1], dtype=int64)"
      ]
     },
     "execution_count": 4,
     "metadata": {},
     "output_type": "execute_result"
    }
   ],
   "source": [
    "y_pred_sklearn"
   ]
  },
  {
   "cell_type": "code",
   "execution_count": 5,
   "id": "2178f5a4-b4ae-40c8-a65e-6bd0db3830a8",
   "metadata": {},
   "outputs": [
    {
     "name": "stdout",
     "output_type": "stream",
     "text": [
      "Percentage of matching order: 9.090909090909092%\n",
      "Sorted manual weights: [-0.22893875 -0.15040752 -0.04916696 -0.04617184 -0.04414414 -0.04374489\n",
      " -0.04358273 -0.0342225  -0.00166049  0.00639412  0.01876537  0.02414909\n",
      "  0.02738419  0.04097558  0.05683794  0.06266346  0.07805985  0.09941744\n",
      "  0.12660748  0.13607229  0.1841061   0.228898  ]\n",
      "Sorted sklearn weights: [-2.69151176 -2.03739763 -1.43249257 -1.39401786 -1.29599413 -1.25412054\n",
      " -0.67565674 -0.23129674  0.32660229  0.48838156  0.60082693  0.70400055\n",
      "  0.71098283  0.85471714  0.871186    0.95997124  1.01865048  1.05520837\n",
      "  1.09371142  1.28176692  2.20536391  2.76950047]\n"
     ]
    }
   ],
   "source": [
    "import numpy as np\n",
    "\n",
    "# Example weights (replace with actual weights)\n",
    "weights_manual = np.array(weights_unenc_sgd)\n",
    "weights_sklearn = np.array(weights_unenc_sklearn)\n",
    "\n",
    "# Sort the weights and keep track of the original indices\n",
    "sorted_manual_indices = np.argsort(weights_manual)\n",
    "sorted_sklearn_indices = np.argsort(weights_sklearn)\n",
    "\n",
    "# Calculate the percentage of matching order\n",
    "matching_order = np.sum(sorted_manual_indices == sorted_sklearn_indices) / len(weights_manual) * 100\n",
    "\n",
    "print(f\"Percentage of matching order: {matching_order}%\")\n",
    "\n",
    "# For detailed comparison\n",
    "print(f\"Sorted manual weights: {weights_manual[sorted_manual_indices]}\")\n",
    "print(f\"Sorted sklearn weights: {weights_sklearn[sorted_sklearn_indices]}\")\n"
   ]
  },
  {
   "cell_type": "code",
   "execution_count": 6,
   "id": "d67b4ded-5e40-4b3b-a05f-0ecd5fa162d7",
   "metadata": {},
   "outputs": [
    {
     "name": "stdout",
     "output_type": "stream",
     "text": [
      "Spearman's Rank Correlation: 0.3969508752117449\n"
     ]
    }
   ],
   "source": [
    "from scipy.stats import spearmanr\n",
    "\n",
    "spearman_corr, _ = spearmanr(weights_manual, weights_sklearn)\n",
    "print(f\"Spearman's Rank Correlation: {spearman_corr}\")"
   ]
  },
  {
   "cell_type": "code",
   "execution_count": 7,
   "id": "d2d74d67-d9cc-4cf6-8433-84f7cdd2af30",
   "metadata": {},
   "outputs": [
    {
     "name": "stdout",
     "output_type": "stream",
     "text": [
      "T-statistic: -0.5625317333371245, P-value: 0.5797099990173389\n"
     ]
    }
   ],
   "source": [
    "from scipy.stats import ttest_rel\n",
    "\n",
    "t_stat, p_value = ttest_rel(weights_manual, weights_sklearn)\n",
    "print(f\"T-statistic: {t_stat}, P-value: {p_value}\")"
   ]
  },
  {
   "cell_type": "code",
   "execution_count": 10,
   "id": "3c652514-2907-4b44-8b46-a76a1902d258",
   "metadata": {},
   "outputs": [
    {
     "name": "stdout",
     "output_type": "stream",
     "text": [
      "Kendall's Tau: 0.29004329004329005\n"
     ]
    }
   ],
   "source": [
    "from scipy.stats import kendalltau\n",
    "kendall_tau, _ = kendalltau(weights_manual, weights_sklearn)\n",
    "print(f\"Kendall's Tau: {kendall_tau}\")"
   ]
  },
  {
   "cell_type": "code",
   "execution_count": null,
   "id": "cc02c932-8790-4d74-a008-5a7ff471a206",
   "metadata": {},
   "outputs": [],
   "source": []
  },
  {
   "cell_type": "code",
   "execution_count": null,
   "id": "4ac7899b-1e47-41fe-89b1-a10096d519a9",
   "metadata": {},
   "outputs": [],
   "source": []
  }
 ],
 "metadata": {
  "kernelspec": {
   "display_name": "Python 3 (ipykernel)",
   "language": "python",
   "name": "python3"
  },
  "language_info": {
   "codemirror_mode": {
    "name": "ipython",
    "version": 3
   },
   "file_extension": ".py",
   "mimetype": "text/x-python",
   "name": "python",
   "nbconvert_exporter": "python",
   "pygments_lexer": "ipython3",
   "version": "3.12.3"
  }
 },
 "nbformat": 4,
 "nbformat_minor": 5
}
