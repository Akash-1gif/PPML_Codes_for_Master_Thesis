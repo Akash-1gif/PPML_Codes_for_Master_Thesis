{
 "cells": [
  {
   "cell_type": "code",
   "execution_count": 1,
   "id": "cc769f88-6aec-4d28-811b-6b15ceab1430",
   "metadata": {},
   "outputs": [
    {
     "name": "stdout",
     "output_type": "stream",
     "text": [
      "Weights (Unencrypted): [-0.09627680836878198, 0.35018178567302505, -0.0962626336191576, 0.4365646907589986, -0.33684286706995215, -0.22628390366081805, 0.18308541875275464, -0.12206331053162373, 0.8048122066823182, 0.08703283056831237, 0.30089451145099344, 0.43183954921487344, 0.2569345940927129, 0.10100812456377867, 0.29640600259769023, 0.2625252882283463, 0.338598433755652, -0.10743485387095206, -0.15345319886363967, -0.5788914936631132, -0.8078200811722123, -0.28721905313165874]\n",
      "Bias (Unencrypted): [0.21177940806691198]\n",
      "Accuracy: 0.8148148148148148\n"
     ]
    }
   ],
   "source": [
    "import joblib\n",
    "\n",
    "# Specify the path to your .pkl file\n",
    "file_path = 'variables_ckks (10).pkl'\n",
    "\n",
    "# Load the data from the file\n",
    "data = joblib.load(file_path)\n",
    "\n",
    "# Now `data` contains all the variables that were stored in the .pkl file\n",
    "# You can unpack them into their respective variables\n",
    "weights_unenc, bias_unenc, accuracy, y_pred_unenc, cpu_seconds, cpu_usages, ram_usages, train_time, testing_time = data\n",
    "\n",
    "# Print the variables to verify\n",
    "print(\"Weights (Unencrypted):\", weights_unenc)\n",
    "print(\"Bias (Unencrypted):\", bias_unenc)\n",
    "print(\"Accuracy:\", accuracy)\n",
    "# print(\"CPU Seconds:\", cpu_seconds)\n",
    "# print(\"CPU Usages:\", cpu_usages)\n",
    "# print(\"RAM Usages:\", ram_usages)\n",
    "# print(\"Train Time:\", train_time)\n",
    "# print(\"Test Time:\", test_time)"
   ]
  },
  {
   "cell_type": "code",
   "execution_count": 2,
   "id": "8ff10bc2-c698-4ea2-b137-3436cf210326",
   "metadata": {},
   "outputs": [
    {
     "name": "stdout",
     "output_type": "stream",
     "text": [
      "Weights (Unencrypted): [-0.0936769   0.34033607 -0.04856493  0.37888777 -0.36980232 -0.26757251\n",
      "  0.1708511  -0.14161527  0.73701251  0.05940652  0.24075966  0.38822561\n",
      "  0.19920886  0.02216238  0.25251665  0.18872289  0.30112508 -0.08220005\n",
      " -0.12651565 -0.56706589 -0.83891929 -0.28031641]\n",
      "Bias (Unencrypted): 0.2914582590592099\n",
      "Accuracy: 0.8037037037037037\n"
     ]
    }
   ],
   "source": [
    "import joblib\n",
    "\n",
    "# Specify the path to your .pkl file\n",
    "file_path = 'variables_manual_sgd.pkl'\n",
    "\n",
    "# Load the data from the file\n",
    "data = joblib.load(file_path)\n",
    "\n",
    "# Now `data` contains all the variables that were stored in the .pkl file\n",
    "# You can unpack them into their respective variables\n",
    "weights_unenc, bias_unenc, accuracy, y_pred_unenc2, cpu_seconds, cpu_usages, ram_usages, train_time, testing_time = data\n",
    "\n",
    "# Print the variables to verify\n",
    "print(\"Weights (Unencrypted):\", weights_unenc)\n",
    "print(\"Bias (Unencrypted):\", bias_unenc)\n",
    "print(\"Accuracy:\", accuracy)\n",
    "# print(\"CPU Seconds:\", cpu_seconds)\n",
    "# print(\"CPU Usages:\", cpu_usages)\n",
    "# print(\"RAM Usages:\", ram_usages)\n",
    "# print(\"Train Time:\", train_time)\n",
    "# print(\"Test Time:\", test_time)"
   ]
  },
  {
   "cell_type": "code",
   "execution_count": 3,
   "id": "9cfd6230-0c55-4813-aa3f-3e2910dfd6df",
   "metadata": {},
   "outputs": [
    {
     "data": {
      "text/plain": [
       "0.9666666666666667"
      ]
     },
     "execution_count": 3,
     "metadata": {},
     "output_type": "execute_result"
    }
   ],
   "source": [
    "from sklearn.metrics import accuracy_score\n",
    "accuracy_score(y_pred_unenc,y_pred_unenc2)"
   ]
  }
 ],
 "metadata": {
  "kernelspec": {
   "display_name": "Python 3 (ipykernel)",
   "language": "python",
   "name": "python3"
  },
  "language_info": {
   "codemirror_mode": {
    "name": "ipython",
    "version": 3
   },
   "file_extension": ".py",
   "mimetype": "text/x-python",
   "name": "python",
   "nbconvert_exporter": "python",
   "pygments_lexer": "ipython3",
   "version": "3.12.3"
  }
 },
 "nbformat": 4,
 "nbformat_minor": 5
}
