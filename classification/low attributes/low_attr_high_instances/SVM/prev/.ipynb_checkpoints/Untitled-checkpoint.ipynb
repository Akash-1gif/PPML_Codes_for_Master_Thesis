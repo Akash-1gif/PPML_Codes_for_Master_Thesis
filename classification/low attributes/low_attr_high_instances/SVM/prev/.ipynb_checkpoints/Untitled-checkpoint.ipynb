{
 "cells": [
  {
   "cell_type": "code",
   "execution_count": 1,
   "id": "c07897fe-cc90-4ed3-8107-47cb86ed6dba",
   "metadata": {},
   "outputs": [
    {
     "name": "stdout",
     "output_type": "stream",
     "text": [
      "Weights (Unencrypted): [-0.0006539001786661584, 0.00100260074770107, 0.0019089006874694295, -0.000998799667932613, 0.0006883997862730527, -0.0034243009271801503, 0.00028439904720210064, 0.000683999688506352]\n"
     ]
    }
   ],
   "source": [
    "import joblib\n",
    "\n",
    "# Specify the path to your .pkl file\n",
    "file_path = 'variables_ckks.pkl'\n",
    "\n",
    "# Load the data from the file\n",
    "data = joblib.load(file_path)\n",
    "\n",
    "# Now `data` contains all the variables that were stored in the .pkl file\n",
    "# You can unpack them into their respective variables\n",
    "weights_unenc_ckks, bias_unenc, accuracy, y_pred_ckks, cpu_seconds, cpu_usages, ram_usages, train_time, test_time = data\n",
    "\n",
    "# Print the variables to verify\n",
    "print(\"Weights (Unencrypted):\", weights_unenc_ckks)\n",
    "# print(\"Bias (Unencrypted):\", bias_unenc)\n",
    "# print(\"Accuracy:\", accuracy)\n",
    "# print(\"CPU Seconds:\", cpu_seconds)\n",
    "# print(\"CPU Usages:\", cpu_usages)\n",
    "# print(\"RAM Usages:\", ram_usages)\n",
    "# print(\"Train Time:\", train_time)\n",
    "# print(\"Test Time:\", test_time)\n"
   ]
  },
  {
   "cell_type": "code",
   "execution_count": 2,
   "id": "55ea7ad0-d4bd-4bcc-b8e6-a247a39ab32a",
   "metadata": {},
   "outputs": [
    {
     "name": "stdout",
     "output_type": "stream",
     "text": [
      "Weights (Unencrypted): [-0.00065378  0.00100262  0.00190931 -0.00099869  0.00068835 -0.00342449\n",
      "  0.00028407  0.00068409]\n"
     ]
    }
   ],
   "source": [
    "import joblib\n",
    "\n",
    "# Specify the path to your .pkl file\n",
    "file_path = 'variables_manual_sgd.pkl'\n",
    "\n",
    "# Load the data from the file\n",
    "data = joblib.load(file_path)\n",
    "\n",
    "# Now `data` contains all the variables that were stored in the .pkl file\n",
    "# You can unpack them into their respective variables\n",
    "weights_unenc_manual, bias_unenc, accuracy_manual, y_pred_manual, cpu_seconds, cpu_usages, ram_usages, train_time, test_time = data\n",
    "\n",
    "# Print the variables to verify\n",
    "print(\"Weights (Unencrypted):\", weights_unenc_manual)\n",
    "# print(\"Bias (Unencrypted):\", bias_unenc)\n",
    "# print(\"Accuracy:\", accuracy)\n",
    "# print(\"CPU Seconds:\", cpu_seconds)\n",
    "# print(\"CPU Usages:\", cpu_usages)\n",
    "# print(\"RAM Usages:\", ram_usages)\n",
    "# print(\"Train Time:\", train_time)\n",
    "# print(\"Test Time:\", test_time)\n"
   ]
  },
  {
   "cell_type": "code",
   "execution_count": 3,
   "id": "f4246ad2-0f7c-4f8c-a886-6af25e668bfc",
   "metadata": {},
   "outputs": [
    {
     "name": "stdout",
     "output_type": "stream",
     "text": [
      "Weights (Unencrypted): [ 0.04133219  0.08524757  0.11481662 -0.09445297 -0.04037969 -0.04788451\n",
      "  0.07567143 -0.04800219]\n"
     ]
    }
   ],
   "source": [
    "import joblib\n",
    "\n",
    "# Specify the path to your .pkl file\n",
    "file_path = 'variables_sklearn.pkl'\n",
    "\n",
    "# Load the data from the file\n",
    "data = joblib.load(file_path)\n",
    "\n",
    "# Now `data` contains all the variables that were stored in the .pkl file\n",
    "# You can unpack them into their respective variables\n",
    "weights_unenc_sk, bias_unenc, accuracy_sk, y_pred_sk, cpu_seconds, cpu_usages, ram_usages, train_time, test_time = data\n",
    "\n",
    "# Print the variables to verify\n",
    "print(\"Weights (Unencrypted):\", weights_unenc_sk)\n",
    "# print(\"Bias (Unencrypted):\", bias_unenc)\n",
    "# print(\"Accuracy:\", accuracy)\n",
    "# print(\"CPU Seconds:\", cpu_seconds)\n",
    "# print(\"CPU Usages:\", cpu_usages)\n",
    "# print(\"RAM Usages:\", ram_usages)\n",
    "# print(\"Train Time:\", train_time)\n",
    "# print(\"Test Time:\", test_time)\n"
   ]
  },
  {
   "cell_type": "code",
   "execution_count": 4,
   "id": "88e454ed-ebb2-482d-9b0e-eb31be6b68ed",
   "metadata": {},
   "outputs": [
    {
     "data": {
      "text/plain": [
       "(ShapiroResult(statistic=0.9022935536467127, pvalue=0.3029636620136221),\n",
       " ShapiroResult(statistic=0.9033535565577447, pvalue=0.3096203277394572))"
      ]
     },
     "execution_count": 4,
     "metadata": {},
     "output_type": "execute_result"
    }
   ],
   "source": [
    "import numpy as np\n",
    "from scipy import stats\n",
    "\n",
    "# Data sets\n",
    "ckks_w = weights_unenc_ckks\n",
    "skl_w = weights_unenc_sk\n",
    "\n",
    "# Perform Shapiro-Wilk test\n",
    "shapiro_ckks_w = stats.shapiro(ckks_w)\n",
    "shapiro_skl_w = stats.shapiro(skl_w)\n",
    "\n",
    "shapiro_ckks_w, shapiro_skl_w\n"
   ]
  },
  {
   "cell_type": "code",
   "execution_count": 5,
   "id": "10e9e9d9-c828-4823-8963-ab10c3971b01",
   "metadata": {},
   "outputs": [
    {
     "data": {
      "text/plain": [
       "(ShapiroResult(statistic=0.9022935536467127, pvalue=0.3029636620136221),\n",
       " ShapiroResult(statistic=0.9033535565577447, pvalue=0.3096203277394572),\n",
       " 'Paired t-test',\n",
       " TtestResult(statistic=-0.40068744171057974, pvalue=0.7005981740697189, df=7))"
      ]
     },
     "execution_count": 5,
     "metadata": {},
     "output_type": "execute_result"
    }
   ],
   "source": [
    "# Perform the appropriate test based on normality results\n",
    "if shapiro_ckks_w.pvalue > 0.05 and shapiro_skl_w.pvalue > 0.05:\n",
    "    # Perform paired t-test\n",
    "    t_test_result = stats.ttest_rel(ckks_w, skl_w)\n",
    "    test_result = t_test_result\n",
    "    test_name = \"Paired t-test\"\n",
    "else:\n",
    "    # Perform Wilcoxon signed-rank test\n",
    "    wilcoxon_result = stats.wilcoxon(ckks_w, skl_w)\n",
    "    test_result = wilcoxon_result\n",
    "    test_name = \"Wilcoxon signed-rank test\"\n",
    "\n",
    "shapiro_ckks_w, shapiro_skl_w, test_name, test_result\n"
   ]
  },
  {
   "cell_type": "code",
   "execution_count": null,
   "id": "564743b4-5610-4a38-bcc9-fec6269ee22c",
   "metadata": {},
   "outputs": [],
   "source": []
  }
 ],
 "metadata": {
  "kernelspec": {
   "display_name": "Python 3 (ipykernel)",
   "language": "python",
   "name": "python3"
  },
  "language_info": {
   "codemirror_mode": {
    "name": "ipython",
    "version": 3
   },
   "file_extension": ".py",
   "mimetype": "text/x-python",
   "name": "python",
   "nbconvert_exporter": "python",
   "pygments_lexer": "ipython3",
   "version": "3.12.3"
  }
 },
 "nbformat": 4,
 "nbformat_minor": 5
}
