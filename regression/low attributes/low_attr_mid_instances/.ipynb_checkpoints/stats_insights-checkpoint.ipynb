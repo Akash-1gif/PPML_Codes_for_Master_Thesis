{
 "cells": [
  {
   "cell_type": "code",
   "execution_count": 1,
   "id": "eda35c9b-91e8-4762-a74f-a804b5613800",
   "metadata": {},
   "outputs": [],
   "source": [
    "import numpy as np\n",
    "import pandas as pd\n",
    "from scipy import stats\n",
    "import matplotlib.pyplot as plt\n",
    "import joblib\n",
    "import scipy.stats as stats\n",
    "import statsmodels.api as sm\n",
    "from statsmodels.formula.api import ols\n",
    "%matplotlib inline\n",
    "plt.style.use('dark_background')"
   ]
  },
  {
   "cell_type": "code",
   "execution_count": 2,
   "id": "8a5a89f5-13e8-4969-9c4a-d6847e5b5da6",
   "metadata": {},
   "outputs": [],
   "source": [
    "weights_paillier,bias_paillier,unenc_preds_paillier,cpu_seconds_paillier,cpu_usages_paillier,train_time_paillier,test_time_paillier=joblib.load('variables_paillier (1).pkl')"
   ]
  },
  {
   "cell_type": "code",
   "execution_count": 3,
   "id": "49d6c314-a5ff-4a1d-8cdc-2718d69eea8a",
   "metadata": {},
   "outputs": [],
   "source": [
    "weights_ckks,bias_ckks,unenc_preds_ckks,cpu_seconds_ckks,cpu_usages_ckks,train_time_ckks,test_time_ckks=joblib.load('variables.pkl')"
   ]
  },
  {
   "cell_type": "code",
   "execution_count": 4,
   "id": "896829ff-a0d2-4b44-8135-bbe01bb43351",
   "metadata": {},
   "outputs": [],
   "source": [
    "weights_sklearn,bias_sklearn,unenc_preds_sklearn=joblib.load('variables_sklearn.pkl')"
   ]
  },
  {
   "cell_type": "code",
   "execution_count": 5,
   "id": "f053038d-147e-4889-8a0e-a37d6d788287",
   "metadata": {},
   "outputs": [],
   "source": [
    "y_test=pd.read_csv('y_test2.csv')\n",
    "y_test=y_test.to_numpy()"
   ]
  },
  {
   "cell_type": "code",
   "execution_count": 6,
   "id": "939595e1-03cf-422c-8f67-3ea6377d5491",
   "metadata": {},
   "outputs": [
    {
     "data": {
      "text/plain": [
       "array([211.  ,  55.  , 125.  , 130.  ,  85.  , 125.  ,  55.  , 190.  ,\n",
       "        54.  ,  65.  , 146.  ,  78.57,  50.  ,  22.  , 400.  , 130.  ,\n",
       "       143.  , 126.  , 135.  , 100.  ,  75.  ,  71.  , 115.  ,  74.03,\n",
       "        40.54,  91.  ,  78.  , 360.  ,  69.5 , 138.  , 110.  ,  52.7 ,\n",
       "        57.  , 250.  ,  58.  ,  60.  ,  95.05, 300.  ,  96.17,  65.  ,\n",
       "        63.43,  88.  , 107.  , 188.  ,  58.  , 130.  ,  68.  ,  47.  ,\n",
       "       160.  ,  55.  ,  43.  ,  45.  ,  38.55,  66.  ,  35.  ,  88.  ,\n",
       "       185.  ,  48.  ,  40.  ,  70.93,  96.9 ,  46.  ,  46.  ,  66.  ,\n",
       "       163.  ,  90.  ,  54.1 ,  53.76, 116.  ,  41.  ,  50.  ,  45.  ,\n",
       "        40.  ,  93.  ,  65.  ,  65.75, 140.  ,  70.  ,  46.  ,  89.  ,\n",
       "        56.1 ,  46.  ,  79.  ,  78.  ,  64.86,  57.6 ,  55.  , 175.  ,\n",
       "       200.  ,  90.  ,  44.17,  95.  ,  98.  ,  77.5 , 130.  ,  61.  ,\n",
       "        45.  , 104.  ,  44.  , 140.  , 116.  , 100.  , 270.  , 105.  ,\n",
       "       115.  ,  40.17, 190.  ,  62.  ,  45.  ,  88.  , 128.  , 180.  ,\n",
       "       183.  ,  59.32,  22.  , 147.  ,  53.76, 120.  , 175.  ,  64.5 ,\n",
       "       120.  ,  46.  , 113.  , 103.  , 101.  ,  95.  ,  40.54,  78.  ,\n",
       "        28.  ,  75.  ,  55.  ,  50.  ,  99.  ,  74.  ,  40.14, 290.  ,\n",
       "        70.  ,  71.38, 105.  , 331.  ,  39.5 , 310.  ,  65.  ,  70.  ,\n",
       "       110.  ,  47.  ,  95.  ,  85.  ,  40.  ,  48.  ,  65.  ,  47.  ,\n",
       "       140.  ,  49.  , 250.  ,  12.  , 275.  ,  29.  ])"
      ]
     },
     "execution_count": 6,
     "metadata": {},
     "output_type": "execute_result"
    }
   ],
   "source": [
    "y_test=y_test.reshape(-1,)\n",
    "y_test"
   ]
  },
  {
   "cell_type": "code",
   "execution_count": 7,
   "id": "8869d052-f56f-4c6b-9ea6-b0c125052fcc",
   "metadata": {},
   "outputs": [
    {
     "data": {
      "text/plain": [
       "(158,)"
      ]
     },
     "execution_count": 7,
     "metadata": {},
     "output_type": "execute_result"
    }
   ],
   "source": [
    "unenc_preds_paillier=np.array(unenc_preds_paillier)\n",
    "unenc_preds_paillier.shape"
   ]
  },
  {
   "cell_type": "code",
   "execution_count": 8,
   "id": "4a5a7e75-5611-4e09-823a-b8ee7b27c785",
   "metadata": {},
   "outputs": [
    {
     "data": {
      "text/plain": [
       "(158,)"
      ]
     },
     "execution_count": 8,
     "metadata": {},
     "output_type": "execute_result"
    }
   ],
   "source": [
    "y_test.shape"
   ]
  },
  {
   "cell_type": "code",
   "execution_count": 9,
   "id": "bfa771ee-aa6b-4757-8b87-14866d71629a",
   "metadata": {},
   "outputs": [
    {
     "data": {
      "text/plain": [
       "(158,)"
      ]
     },
     "execution_count": 9,
     "metadata": {},
     "output_type": "execute_result"
    }
   ],
   "source": [
    "unenc_preds_ckks=np.array(unenc_preds_ckks)\n",
    "unenc_preds_ckks=unenc_preds_ckks.reshape(-1,)\n",
    "unenc_preds_ckks.shape"
   ]
  },
  {
   "cell_type": "code",
   "execution_count": 10,
   "id": "cf3149b6-83f1-44d0-a045-d90e5a65988f",
   "metadata": {
    "scrolled": true
   },
   "outputs": [
    {
     "data": {
      "text/plain": [
       "(158,)"
      ]
     },
     "execution_count": 10,
     "metadata": {},
     "output_type": "execute_result"
    }
   ],
   "source": [
    "unenc_preds_sklearn=unenc_preds_sklearn.reshape(-1,)\n",
    "unenc_preds_sklearn.shape"
   ]
  },
  {
   "cell_type": "markdown",
   "id": "d2456f11-11db-4b7e-acec-356d4bbbd1ce",
   "metadata": {},
   "source": [
    "### Mean Squared Error:"
   ]
  },
  {
   "cell_type": "code",
   "execution_count": 11,
   "id": "a8186515-08b6-485c-afe9-3bffa24fd15c",
   "metadata": {},
   "outputs": [],
   "source": [
    "from sklearn.metrics import mean_squared_error"
   ]
  },
  {
   "cell_type": "code",
   "execution_count": 12,
   "id": "3f139c27-8415-4091-a173-2dbd2813cd89",
   "metadata": {},
   "outputs": [],
   "source": [
    "mse_sklearn=mean_squared_error(unenc_preds_sklearn,y_test)"
   ]
  },
  {
   "cell_type": "code",
   "execution_count": 13,
   "id": "065b91fb-8af2-434c-a926-4c63f60c36f5",
   "metadata": {
    "scrolled": true
   },
   "outputs": [
    {
     "data": {
      "text/plain": [
       "361.2599630692902"
      ]
     },
     "execution_count": 13,
     "metadata": {},
     "output_type": "execute_result"
    }
   ],
   "source": [
    "mse_sklearn"
   ]
  },
  {
   "cell_type": "code",
   "execution_count": 14,
   "id": "5a73739b-7d45-4254-84cd-a9562908223c",
   "metadata": {},
   "outputs": [
    {
     "data": {
      "text/plain": [
       "361.2597424815084"
      ]
     },
     "execution_count": 14,
     "metadata": {},
     "output_type": "execute_result"
    }
   ],
   "source": [
    "mse_ckks=mean_squared_error(unenc_preds_ckks,y_test)\n",
    "mse_ckks"
   ]
  },
  {
   "cell_type": "code",
   "execution_count": 15,
   "id": "9629b78e-1cf7-4952-a301-f3af3855b80d",
   "metadata": {},
   "outputs": [
    {
     "data": {
      "text/plain": [
       "361.2599630692942"
      ]
     },
     "execution_count": 15,
     "metadata": {},
     "output_type": "execute_result"
    }
   ],
   "source": [
    "mse_paillier=mean_squared_error(unenc_preds_paillier,y_test)\n",
    "mse_paillier"
   ]
  },
  {
   "cell_type": "code",
   "execution_count": 16,
   "id": "2fed378b-b092-4b1e-8a2b-b767eab582a4",
   "metadata": {},
   "outputs": [
    {
     "name": "stdout",
     "output_type": "stream",
     "text": [
      "Variance: 3448.8267346938233\n",
      "Variance: 3448.827904422402\n",
      "Variance: 3448.826734693775\n"
     ]
    }
   ],
   "source": [
    "def calculate_variance(numbers):\n",
    "    \n",
    "    if len(numbers) < 2:\n",
    "        raise ValueError(\"Variance requires at least two data points.\")\n",
    "    \n",
    "    mean = sum(numbers) / len(numbers)\n",
    "    squared_diffs = [(x - mean) ** 2 for x in numbers]\n",
    "    variance = sum(squared_diffs) / (len(numbers) - 1)\n",
    "    \n",
    "    return variance\n",
    "\n",
    "\n",
    "print(\"Variance:\", calculate_variance(unenc_preds_sklearn))\n",
    "print(\"Variance:\", calculate_variance(unenc_preds_ckks))\n",
    "print(\"Variance:\", calculate_variance(unenc_preds_paillier))"
   ]
  },
  {
   "cell_type": "code",
   "execution_count": 17,
   "id": "f4eb536f-2f57-4c29-b35b-032202e7e2cc",
   "metadata": {},
   "outputs": [],
   "source": [
    "f_statistic,p_value=stats.f_oneway(unenc_preds_sklearn,unenc_preds_ckks,unenc_preds_paillier)"
   ]
  },
  {
   "cell_type": "code",
   "execution_count": 18,
   "id": "2ac92c96-306c-475f-b7e0-f7d589fe629f",
   "metadata": {},
   "outputs": [
    {
     "data": {
      "text/plain": [
       "(3.574427945034589e-12, 0.9999999999964181)"
      ]
     },
     "execution_count": 18,
     "metadata": {},
     "output_type": "execute_result"
    }
   ],
   "source": [
    "f_statistic,p_value"
   ]
  },
  {
   "cell_type": "code",
   "execution_count": 19,
   "id": "3ec96b9e-7e8a-43c7-8a27-9602204083fc",
   "metadata": {},
   "outputs": [
    {
     "name": "stdout",
     "output_type": "stream",
     "text": [
      "There is no significant difference between the values\n"
     ]
    }
   ],
   "source": [
    "alpha = 0.05\n",
    "if p_value < alpha:\n",
    "    print(\"There is a significant difference between the values\")\n",
    "else:\n",
    "    print(\"There is no significant difference between the values\")"
   ]
  },
  {
   "cell_type": "code",
   "execution_count": 20,
   "id": "55a1933e-c867-4c91-a13c-d0d86c8ebf58",
   "metadata": {},
   "outputs": [],
   "source": [
    "diff_between_ckks_and_sklearn=abs(unenc_preds_ckks-unenc_preds_sklearn)"
   ]
  },
  {
   "cell_type": "code",
   "execution_count": 21,
   "id": "2f10d3d8-cce6-41d2-a15f-33d7f4cb7682",
   "metadata": {},
   "outputs": [
    {
     "data": {
      "text/plain": [
       "array([3.18698982e-05, 1.07947681e-05, 2.48714944e-05, 1.92645674e-05,\n",
       "       1.31505434e-05])"
      ]
     },
     "execution_count": 21,
     "metadata": {},
     "output_type": "execute_result"
    }
   ],
   "source": [
    "diff_between_ckks_and_sklearn[:5]"
   ]
  },
  {
   "cell_type": "code",
   "execution_count": 22,
   "id": "e94f1e5b-4896-406e-aa71-1d93bd9d5f2e",
   "metadata": {},
   "outputs": [],
   "source": [
    "diff_between_paillier_and_sklearn=abs(unenc_preds_paillier-unenc_preds_sklearn)"
   ]
  },
  {
   "cell_type": "code",
   "execution_count": 23,
   "id": "d89e770f-ce05-4ada-af28-a993d53a56a7",
   "metadata": {},
   "outputs": [
    {
     "data": {
      "text/plain": [
       "array([3.12638804e-13, 5.54223334e-13, 2.55795385e-13, 2.84217094e-14,\n",
       "       8.52651283e-14, 2.27373675e-13, 5.89750471e-13, 3.41060513e-13,\n",
       "       4.26325641e-13, 4.40536496e-13, 1.70530257e-13, 1.42108547e-13,\n",
       "       9.94759830e-13, 1.01252340e-12, 9.09494702e-13, 2.84217094e-14,\n",
       "       4.26325641e-13, 2.55795385e-13, 0.00000000e+00, 1.42108547e-14,\n",
       "       3.55271368e-13, 1.84741111e-13, 7.10542736e-14, 5.25801624e-13,\n",
       "       5.11590770e-13, 1.27897692e-13, 1.56319402e-13, 7.38964445e-13,\n",
       "       4.68958206e-13, 1.42108547e-14, 2.98427949e-13, 6.53699317e-13,\n",
       "       5.54223334e-13, 8.24229573e-13, 1.84741111e-13, 3.90798505e-13,\n",
       "       5.68434189e-13, 7.38964445e-13, 5.54223334e-13, 3.55271368e-13,\n",
       "       5.68434189e-14, 7.10542736e-14, 9.94759830e-14, 1.42108547e-13,\n",
       "       3.97903932e-13, 2.84217094e-14, 5.18696197e-13, 3.90798505e-13,\n",
       "       7.10542736e-13, 0.00000000e+00, 4.12114787e-13, 5.40012479e-13,\n",
       "       5.11590770e-13, 5.40012479e-13, 8.77520279e-13, 7.10542736e-14,\n",
       "       2.27373675e-13, 4.26325641e-13, 4.54747351e-13, 4.05009359e-13,\n",
       "       1.56319402e-13, 3.83693077e-13, 3.83693077e-13, 4.26325641e-14,\n",
       "       2.27373675e-13, 4.97379915e-13, 4.26325641e-13, 3.26849658e-13,\n",
       "       2.41584530e-13, 4.40536496e-13, 5.47117907e-13, 4.83169060e-13,\n",
       "       1.05870868e-12, 5.25801624e-13, 3.12638804e-13, 4.05009359e-13,\n",
       "       2.84217094e-14, 5.11590770e-13, 3.83693077e-13, 2.84217094e-13,\n",
       "       4.12114787e-13, 3.83693077e-13, 3.69482223e-13, 5.25801624e-13,\n",
       "       2.84217094e-14, 1.02318154e-12, 5.40012479e-13, 2.27373675e-13,\n",
       "       6.82121026e-13, 7.10542736e-14, 4.97379915e-13, 1.42108547e-13,\n",
       "       1.42108547e-14, 1.56319402e-13, 1.98951966e-13, 5.40012479e-13,\n",
       "       1.03028697e-12, 8.52651283e-14, 4.40536496e-13, 1.13686838e-13,\n",
       "       1.42108547e-14, 1.42108547e-14, 8.24229573e-13, 8.52651283e-14,\n",
       "       5.68434189e-14, 5.11590770e-13, 7.10542736e-13, 5.54223334e-13,\n",
       "       3.83693077e-13, 5.68434189e-14, 2.84217094e-14, 2.27373675e-13,\n",
       "       1.70530257e-13, 3.97903932e-13, 8.89954777e-13, 4.83169060e-13,\n",
       "       3.26849658e-13, 1.13686838e-13, 5.96855898e-13, 4.05009359e-13,\n",
       "       8.52651283e-14, 3.83693077e-13, 8.52651283e-14, 1.42108547e-13,\n",
       "       9.94759830e-14, 5.40012479e-13, 5.11590770e-13, 4.05009359e-13,\n",
       "       8.84625706e-13, 9.94759830e-14, 4.12114787e-13, 4.83169060e-13,\n",
       "       5.11590770e-13, 3.55271368e-13, 4.97379915e-13, 1.08002496e-12,\n",
       "       5.54223334e-13, 5.68434189e-14, 1.13686838e-13, 1.02318154e-12,\n",
       "       4.54747351e-13, 7.95807864e-13, 3.55271368e-13, 9.94759830e-14,\n",
       "       1.27897692e-13, 3.90798505e-13, 8.52651283e-14, 4.83169060e-13,\n",
       "       4.54747351e-13, 1.05160325e-12, 5.40012479e-13, 2.41584530e-13,\n",
       "       2.84217094e-14, 4.26325641e-13, 7.38964445e-13, 9.00612918e-13,\n",
       "       2.84217094e-13, 9.80548975e-13])"
      ]
     },
     "execution_count": 23,
     "metadata": {},
     "output_type": "execute_result"
    }
   ],
   "source": [
    "diff_between_paillier_and_sklearn"
   ]
  },
  {
   "cell_type": "code",
   "execution_count": 24,
   "id": "305493e7-252f-45ca-bd0d-11f715d5719c",
   "metadata": {},
   "outputs": [
    {
     "data": {
      "text/plain": [
       "(-19.122339235304864, 1.3624867568445717e-54)"
      ]
     },
     "execution_count": 24,
     "metadata": {},
     "output_type": "execute_result"
    }
   ],
   "source": [
    "t_statistic,p_value=stats.ttest_ind(diff_between_paillier_and_sklearn,diff_between_ckks_and_sklearn)\n",
    "t_statistic,p_value"
   ]
  },
  {
   "cell_type": "code",
   "execution_count": 25,
   "id": "af9e696a-311a-4c84-8092-170b956b0820",
   "metadata": {},
   "outputs": [
    {
     "name": "stdout",
     "output_type": "stream",
     "text": [
      "There is a significant difference between the ckks-sklearn preds and paillier-sklearn preds\n"
     ]
    }
   ],
   "source": [
    "alpha = 0.05\n",
    "if p_value < alpha:\n",
    "    print(\"There is a significant difference between the ckks-sklearn preds and paillier-sklearn preds\")\n",
    "else:\n",
    "    print(\"There is no significant difference between the ckks-sklearn preds and paillier-sklearn preds\")"
   ]
  },
  {
   "cell_type": "code",
   "execution_count": 26,
   "id": "d486df68-a18a-4c45-aa0a-42e4079a830a",
   "metadata": {},
   "outputs": [],
   "source": [
    "l=len(diff_between_paillier_and_sklearn)"
   ]
  },
  {
   "cell_type": "code",
   "execution_count": 27,
   "id": "f219c165-4d2a-4c4f-b8a0-32f77ec6ff4a",
   "metadata": {},
   "outputs": [
    {
     "data": {
      "text/plain": [
       "3.362528493788875e-10"
      ]
     },
     "execution_count": 27,
     "metadata": {},
     "output_type": "execute_result"
    }
   ],
   "source": [
    "mse_ckks_with_sklearn=sum(diff_between_ckks_and_sklearn**2)/l\n",
    "mse_ckks_with_sklearn"
   ]
  },
  {
   "cell_type": "code",
   "execution_count": 28,
   "id": "5d712025-6a8f-45f3-a70e-23b7289f17a5",
   "metadata": {},
   "outputs": [
    {
     "data": {
      "text/plain": [
       "2.2526572211356113e-25"
      ]
     },
     "execution_count": 28,
     "metadata": {},
     "output_type": "execute_result"
    }
   ],
   "source": [
    "mse_paillier_with_sklearn=sum(diff_between_paillier_and_sklearn**2)/l\n",
    "mse_paillier_with_sklearn"
   ]
  },
  {
   "cell_type": "markdown",
   "id": "0720ce03-91b4-4526-b4d6-8770d6eaeb81",
   "metadata": {},
   "source": [
    "### training time:"
   ]
  },
  {
   "cell_type": "code",
   "execution_count": 29,
   "id": "30c5e221-0307-4faf-b489-2f702a3d9987",
   "metadata": {},
   "outputs": [
    {
     "name": "stdout",
     "output_type": "stream",
     "text": [
      "ckks encryption takes less time to train the model\n"
     ]
    }
   ],
   "source": [
    "if train_time_ckks<train_time_paillier:\n",
    "    print(\"ckks encryption takes less time to train the model\")\n",
    "else:\n",
    "    print(\"paillier encryption takes less time to train the model\")"
   ]
  },
  {
   "cell_type": "code",
   "execution_count": 30,
   "id": "003aee86-6800-4e0f-bb81-355d5b62b903",
   "metadata": {},
   "outputs": [
    {
     "name": "stdout",
     "output_type": "stream",
     "text": [
      "ckks encrypted data takes less time to test the model\n"
     ]
    }
   ],
   "source": [
    "if test_time_ckks<test_time_paillier:\n",
    "    print(\"ckks encrypted data takes less time to test the model\")\n",
    "else:\n",
    "    print(\"paillier encrypted data takes less time to train the model\")"
   ]
  },
  {
   "cell_type": "code",
   "execution_count": 31,
   "id": "e35699b9-f39e-4b25-bbfa-bbaccefca3be",
   "metadata": {},
   "outputs": [
    {
     "data": {
      "text/plain": [
       "4.0029613971710205"
      ]
     },
     "execution_count": 31,
     "metadata": {},
     "output_type": "execute_result"
    }
   ],
   "source": [
    "train_time_ckks"
   ]
  },
  {
   "cell_type": "code",
   "execution_count": 32,
   "id": "4dc2ce95-4df0-417e-ae69-3019ece35365",
   "metadata": {},
   "outputs": [
    {
     "data": {
      "text/plain": [
       "184.30677795410156"
      ]
     },
     "execution_count": 32,
     "metadata": {},
     "output_type": "execute_result"
    }
   ],
   "source": [
    "train_time_paillier"
   ]
  },
  {
   "cell_type": "code",
   "execution_count": 33,
   "id": "927e7fd9-8c82-4553-b7a6-894f883379fc",
   "metadata": {},
   "outputs": [
    {
     "data": {
      "text/plain": [
       "2.109273910522461"
      ]
     },
     "execution_count": 33,
     "metadata": {},
     "output_type": "execute_result"
    }
   ],
   "source": [
    "test_time_ckks"
   ]
  },
  {
   "cell_type": "code",
   "execution_count": 34,
   "id": "dbc4c1e4-03e9-4e16-a575-38df3d5b0de4",
   "metadata": {},
   "outputs": [
    {
     "data": {
      "text/plain": [
       "9.071547269821167"
      ]
     },
     "execution_count": 34,
     "metadata": {},
     "output_type": "execute_result"
    }
   ],
   "source": [
    "test_time_paillier"
   ]
  },
  {
   "cell_type": "code",
   "execution_count": 35,
   "id": "34e033bc-d9b6-45dd-b97f-aabace04b894",
   "metadata": {},
   "outputs": [
    {
     "data": {
      "text/plain": [
       "['test_time_paillier_631_5.pkl']"
      ]
     },
     "execution_count": 35,
     "metadata": {},
     "output_type": "execute_result"
    }
   ],
   "source": [
    "joblib.dump(train_time_ckks,'train_time_ckks_631_5.pkl')\n",
    "joblib.dump(train_time_paillier,'train_time_paillier_631_5.pkl')\n",
    "joblib.dump(test_time_ckks,'test_time_ckks_631_5.pkl')\n",
    "joblib.dump(test_time_paillier,'test_time_paillier_631_5.pkl')"
   ]
  },
  {
   "cell_type": "markdown",
   "id": "f3de5898-2831-41d7-9a7b-8575dc805b03",
   "metadata": {},
   "source": [
    "### CPU % utilization:"
   ]
  },
  {
   "cell_type": "code",
   "execution_count": 36,
   "id": "969ad115-ac97-49e5-afa4-97709c43b1a8",
   "metadata": {},
   "outputs": [],
   "source": [
    "def shortlist_cpu_usage(cpu):\n",
    "    cpu_use=[]\n",
    "    for i in cpu:\n",
    "        if i>80:\n",
    "            cpu_use.append(i)\n",
    "\n",
    "    return cpu_use"
   ]
  },
  {
   "cell_type": "code",
   "execution_count": 37,
   "id": "d309f379-51dc-4b1f-996b-fb07f1ab53bd",
   "metadata": {},
   "outputs": [
    {
     "data": {
      "text/plain": [
       "[99.1,\n",
       " 99.7,\n",
       " 98.1,\n",
       " 96.4,\n",
       " 96.7,\n",
       " 97.0,\n",
       " 102.0,\n",
       " 100.2,\n",
       " 101.5,\n",
       " 101.0,\n",
       " 99.8,\n",
       " 100.0,\n",
       " 101.7,\n",
       " 99.5,\n",
       " 100.1,\n",
       " 97.3,\n",
       " 97.9,\n",
       " 95.4,\n",
       " 96.3,\n",
       " 103.4,\n",
       " 101.4,\n",
       " 98.1,\n",
       " 99.8,\n",
       " 97.1,\n",
       " 100.9,\n",
       " 100.9,\n",
       " 103.1,\n",
       " 101.3,\n",
       " 98.9,\n",
       " 95.8,\n",
       " 97.3,\n",
       " 95.4,\n",
       " 99.0,\n",
       " 98.6,\n",
       " 99.7,\n",
       " 100.3,\n",
       " 103.2,\n",
       " 99.4,\n",
       " 99.7,\n",
       " 98.1,\n",
       " 96.9,\n",
       " 99.5,\n",
       " 97.4,\n",
       " 96.4,\n",
       " 97.9,\n",
       " 99.6,\n",
       " 99.6,\n",
       " 99.1,\n",
       " 99.6,\n",
       " 100.7,\n",
       " 96.6,\n",
       " 101.3,\n",
       " 104.3,\n",
       " 99.4,\n",
       " 96.7,\n",
       " 94.7,\n",
       " 96.6,\n",
       " 98.9,\n",
       " 99.5,\n",
       " 101.9,\n",
       " 100.8,\n",
       " 102.3,\n",
       " 100.3,\n",
       " 102.4,\n",
       " 100.2,\n",
       " 102.8,\n",
       " 99.6,\n",
       " 99.3,\n",
       " 96.7,\n",
       " 95.9,\n",
       " 99.4,\n",
       " 99.4,\n",
       " 99.7,\n",
       " 100.1,\n",
       " 101.9,\n",
       " 100.4,\n",
       " 101.4,\n",
       " 102.6,\n",
       " 100.0,\n",
       " 101.1,\n",
       " 97.5,\n",
       " 98.3,\n",
       " 97.0,\n",
       " 100.0,\n",
       " 99.0,\n",
       " 100.5,\n",
       " 101.1,\n",
       " 101.9,\n",
       " 101.0,\n",
       " 101.4,\n",
       " 103.2,\n",
       " 100.3,\n",
       " 100.9,\n",
       " 97.3,\n",
       " 95.8,\n",
       " 95.8,\n",
       " 101.3,\n",
       " 98.6,\n",
       " 99.9,\n",
       " 99.4,\n",
       " 100.1,\n",
       " 101.5,\n",
       " 101.6,\n",
       " 102.8,\n",
       " 101.4,\n",
       " 99.1,\n",
       " 96.1,\n",
       " 96.9,\n",
       " 96.3,\n",
       " 98.3,\n",
       " 104.0,\n",
       " 100.5,\n",
       " 100.7,\n",
       " 103.3,\n",
       " 100.4,\n",
       " 100.2,\n",
       " 102.3,\n",
       " 101.0,\n",
       " 100.1,\n",
       " 95.4,\n",
       " 96.4,\n",
       " 96.3,\n",
       " 101.0,\n",
       " 98.6,\n",
       " 97.2,\n",
       " 101.8,\n",
       " 102.2,\n",
       " 99.3,\n",
       " 102.0,\n",
       " 101.1,\n",
       " 99.8,\n",
       " 98.8,\n",
       " 97.2,\n",
       " 96.4,\n",
       " 98.2,\n",
       " 101.0,\n",
       " 100.3,\n",
       " 102.1,\n",
       " 98.6,\n",
       " 98.3,\n",
       " 101.5,\n",
       " 102.0,\n",
       " 101.4,\n",
       " 103.0,\n",
       " 98.1,\n",
       " 99.2,\n",
       " 95.1,\n",
       " 97.3,\n",
       " 101.6,\n",
       " 103.9,\n",
       " 98.5,\n",
       " 100.3,\n",
       " 100.0,\n",
       " 100.6,\n",
       " 102.9,\n",
       " 99.5,\n",
       " 101.2,\n",
       " 97.4,\n",
       " 97.8,\n",
       " 97.9,\n",
       " 99.0,\n",
       " 99.2,\n",
       " 101.0,\n",
       " 97.9,\n",
       " 101.0,\n",
       " 101.8,\n",
       " 102.1,\n",
       " 100.9,\n",
       " 103.3,\n",
       " 100.0,\n",
       " 98.3,\n",
       " 98.0,\n",
       " 95.4,\n",
       " 102.0,\n",
       " 99.1,\n",
       " 114.4,\n",
       " 98.3]"
      ]
     },
     "execution_count": 37,
     "metadata": {},
     "output_type": "execute_result"
    }
   ],
   "source": [
    "paillier_cpu_use_short=shortlist_cpu_usage(cpu_usages_paillier)\n",
    "paillier_cpu_use_short"
   ]
  },
  {
   "cell_type": "code",
   "execution_count": 38,
   "id": "b08b1906-e12f-4881-a936-ea6199871af8",
   "metadata": {},
   "outputs": [],
   "source": [
    "paillier_cpu_use_short=np.array(paillier_cpu_use_short)"
   ]
  },
  {
   "cell_type": "code",
   "execution_count": 39,
   "id": "23d85184-511e-4cd3-a471-ab1e79da4ed0",
   "metadata": {},
   "outputs": [
    {
     "data": {
      "text/plain": [
       "99.68192090395479"
      ]
     },
     "execution_count": 39,
     "metadata": {},
     "output_type": "execute_result"
    }
   ],
   "source": [
    "paillier_cpu_use_short.mean()"
   ]
  },
  {
   "cell_type": "code",
   "execution_count": 40,
   "id": "b203da10-7b96-4cc0-a7c8-d232bb589873",
   "metadata": {},
   "outputs": [
    {
     "data": {
      "text/plain": [
       "17643.699999999997"
      ]
     },
     "execution_count": 40,
     "metadata": {},
     "output_type": "execute_result"
    }
   ],
   "source": [
    "paillier_cpu_use_short.sum()"
   ]
  },
  {
   "cell_type": "code",
   "execution_count": 41,
   "id": "9c445644-8561-4c09-b11d-ef4e410b99d6",
   "metadata": {},
   "outputs": [
    {
     "data": {
      "text/plain": [
       "176.43699999999998"
      ]
     },
     "execution_count": 41,
     "metadata": {},
     "output_type": "execute_result"
    }
   ],
   "source": [
    "cpu_seconds_for_paillier=paillier_cpu_use_short.sum()/100\n",
    "cpu_seconds_for_paillier"
   ]
  },
  {
   "cell_type": "code",
   "execution_count": 42,
   "id": "e3d13a63-5d5d-4ff4-b4ab-5588cd9bcdc8",
   "metadata": {},
   "outputs": [
    {
     "data": {
      "text/plain": [
       "114.4"
      ]
     },
     "execution_count": 42,
     "metadata": {},
     "output_type": "execute_result"
    }
   ],
   "source": [
    "paillier_cpu_use_short.max()"
   ]
  },
  {
   "cell_type": "code",
   "execution_count": 43,
   "id": "bd6288fc-44db-4a62-a4be-73d7f9775b36",
   "metadata": {},
   "outputs": [
    {
     "data": {
      "text/plain": [
       "94.7"
      ]
     },
     "execution_count": 43,
     "metadata": {},
     "output_type": "execute_result"
    }
   ],
   "source": [
    "paillier_cpu_use_short.min()"
   ]
  },
  {
   "cell_type": "code",
   "execution_count": 44,
   "id": "8019c7fa-7447-47ab-acb4-753b8c4852c0",
   "metadata": {},
   "outputs": [
    {
     "data": {
      "text/plain": [
       "177"
      ]
     },
     "execution_count": 44,
     "metadata": {},
     "output_type": "execute_result"
    }
   ],
   "source": [
    "len(paillier_cpu_use_short)"
   ]
  },
  {
   "cell_type": "code",
   "execution_count": 45,
   "id": "73273bab-0732-4764-bf12-cceb3a768558",
   "metadata": {},
   "outputs": [],
   "source": [
    "cpu_percent_consumption_paillier=(paillier_cpu_use_short.sum()/(len(paillier_cpu_use_short)*200))*100"
   ]
  },
  {
   "cell_type": "code",
   "execution_count": 46,
   "id": "9cd56901-4016-4586-a50f-cf3b440e66c5",
   "metadata": {},
   "outputs": [
    {
     "data": {
      "text/plain": [
       "49.840960451977395"
      ]
     },
     "execution_count": 46,
     "metadata": {},
     "output_type": "execute_result"
    }
   ],
   "source": [
    "cpu_percent_consumption_paillier"
   ]
  },
  {
   "cell_type": "code",
   "execution_count": 47,
   "id": "70343caa-80ce-4735-9dfb-0055666876a0",
   "metadata": {},
   "outputs": [
    {
     "data": {
      "text/plain": [
       "[99.7, 99.4, 94.9]"
      ]
     },
     "execution_count": 47,
     "metadata": {},
     "output_type": "execute_result"
    }
   ],
   "source": [
    "ckks_cpu_use_short=shortlist_cpu_usage(cpu_usages_ckks)\n",
    "ckks_cpu_use_short"
   ]
  },
  {
   "cell_type": "code",
   "execution_count": 48,
   "id": "d8c91d68-0f4b-4e31-b109-cb6eae6335e6",
   "metadata": {},
   "outputs": [],
   "source": [
    "ckks_cpu_use_short=np.array(ckks_cpu_use_short)"
   ]
  },
  {
   "cell_type": "code",
   "execution_count": 49,
   "id": "71971821-8163-43f7-9b65-139a6a6f3cd7",
   "metadata": {},
   "outputs": [
    {
     "data": {
      "text/plain": [
       "98.0"
      ]
     },
     "execution_count": 49,
     "metadata": {},
     "output_type": "execute_result"
    }
   ],
   "source": [
    "ckks_cpu_use_short.mean()"
   ]
  },
  {
   "cell_type": "code",
   "execution_count": 50,
   "id": "687db669-cafe-47d4-97d8-9e7e40f3e716",
   "metadata": {},
   "outputs": [
    {
     "data": {
      "text/plain": [
       "294.0"
      ]
     },
     "execution_count": 50,
     "metadata": {},
     "output_type": "execute_result"
    }
   ],
   "source": [
    "ckks_cpu_use_short.sum()"
   ]
  },
  {
   "cell_type": "code",
   "execution_count": 51,
   "id": "d82a9236-d0d7-4e10-bf46-fed948ff8dac",
   "metadata": {},
   "outputs": [
    {
     "data": {
      "text/plain": [
       "2.94"
      ]
     },
     "execution_count": 51,
     "metadata": {},
     "output_type": "execute_result"
    }
   ],
   "source": [
    "cpu_seconds_for_ckks=ckks_cpu_use_short.sum()/100\n",
    "cpu_seconds_for_ckks"
   ]
  },
  {
   "cell_type": "code",
   "execution_count": 52,
   "id": "fd87bc08-edbb-4e73-aa46-4cb631b99b17",
   "metadata": {},
   "outputs": [
    {
     "data": {
      "text/plain": [
       "99.7"
      ]
     },
     "execution_count": 52,
     "metadata": {},
     "output_type": "execute_result"
    }
   ],
   "source": [
    "ckks_cpu_use_short.max()"
   ]
  },
  {
   "cell_type": "code",
   "execution_count": 53,
   "id": "353cd72a-d316-446b-a48c-7777b5c27bcd",
   "metadata": {},
   "outputs": [
    {
     "data": {
      "text/plain": [
       "94.9"
      ]
     },
     "execution_count": 53,
     "metadata": {},
     "output_type": "execute_result"
    }
   ],
   "source": [
    "ckks_cpu_use_short.min()"
   ]
  },
  {
   "cell_type": "code",
   "execution_count": 54,
   "id": "3849453f-a4ce-4f5e-a542-89df109235a2",
   "metadata": {},
   "outputs": [
    {
     "data": {
      "text/plain": [
       "3"
      ]
     },
     "execution_count": 54,
     "metadata": {},
     "output_type": "execute_result"
    }
   ],
   "source": [
    "len(ckks_cpu_use_short)"
   ]
  },
  {
   "cell_type": "code",
   "execution_count": 55,
   "id": "440523d9-19c4-406e-a164-bdd8d996f078",
   "metadata": {},
   "outputs": [
    {
     "data": {
      "text/plain": [
       "49.0"
      ]
     },
     "execution_count": 55,
     "metadata": {},
     "output_type": "execute_result"
    }
   ],
   "source": [
    "cpu_percent_consumption_ckks=(ckks_cpu_use_short.sum()/(len(ckks_cpu_use_short)*200))*100\n",
    "cpu_percent_consumption_ckks"
   ]
  },
  {
   "cell_type": "code",
   "execution_count": 56,
   "id": "9f0a6aa0-a1d5-4478-b84e-26c53182d9f3",
   "metadata": {},
   "outputs": [
    {
     "data": {
      "text/plain": [
       "['cpu_util_insights_ckks_631_5.pkl']"
      ]
     },
     "execution_count": 56,
     "metadata": {},
     "output_type": "execute_result"
    }
   ],
   "source": [
    "joblib.dump((ckks_cpu_use_short.mean(),ckks_cpu_use_short.sum(),cpu_seconds_for_ckks,ckks_cpu_use_short.max(),ckks_cpu_use_short.min(),len(ckks_cpu_use_short),cpu_percent_consumption_ckks),'cpu_util_insights_ckks_631_5.pkl')"
   ]
  },
  {
   "cell_type": "code",
   "execution_count": 57,
   "id": "86617836-0d9d-44be-83d2-c58990a2415d",
   "metadata": {},
   "outputs": [
    {
     "data": {
      "text/plain": [
       "['cpu_util_insights_paillier_631_5.pkl']"
      ]
     },
     "execution_count": 57,
     "metadata": {},
     "output_type": "execute_result"
    }
   ],
   "source": [
    "joblib.dump((paillier_cpu_use_short.mean(),paillier_cpu_use_short.sum(),cpu_seconds_for_paillier,paillier_cpu_use_short.max(),paillier_cpu_use_short.min(),len(paillier_cpu_use_short),cpu_percent_consumption_paillier),'cpu_util_insights_paillier_631_5.pkl')"
   ]
  },
  {
   "cell_type": "code",
   "execution_count": null,
   "id": "dcb8e9d1-deb8-4af7-ac5a-00fc535deed9",
   "metadata": {},
   "outputs": [],
   "source": []
  }
 ],
 "metadata": {
  "kernelspec": {
   "display_name": "Python 3 (ipykernel)",
   "language": "python",
   "name": "python3"
  },
  "language_info": {
   "codemirror_mode": {
    "name": "ipython",
    "version": 3
   },
   "file_extension": ".py",
   "mimetype": "text/x-python",
   "name": "python",
   "nbconvert_exporter": "python",
   "pygments_lexer": "ipython3",
   "version": "3.12.3"
  }
 },
 "nbformat": 4,
 "nbformat_minor": 5
}
