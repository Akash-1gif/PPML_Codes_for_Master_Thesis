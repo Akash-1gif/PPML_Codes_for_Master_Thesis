{
 "cells": [
  {
   "cell_type": "code",
   "execution_count": 1,
   "id": "298cc62b-c96b-4091-b1fb-28720d23b9c2",
   "metadata": {},
   "outputs": [],
   "source": [
    "import psutil\n",
    "import time\n",
    "import threading"
   ]
  },
  {
   "cell_type": "code",
   "execution_count": 2,
   "id": "d5a5ec3b-c075-47ee-a281-d60edff7bc4e",
   "metadata": {},
   "outputs": [],
   "source": [
    "# # Function to measure CPU usage over time\n",
    "# def measure_cpu_usage(interval, duration, results):\n",
    "#     for _ in range(int(duration / interval)):\n",
    "#         cpu_usage = psutil.cpu_percent(interval=interval)\n",
    "#         results.append(cpu_usage)\n",
    "\n",
    "\n",
    "# # Function to train the model and measure CPU usage\n",
    "# def train_and_measure(model, data, target, interval=1.0, duration=10.0):\n",
    "#     # List to store CPU usage results\n",
    "#     cpu_results = []\n",
    "\n",
    "#     # Start a thread to measure CPU usage\n",
    "#     cpu_thread = threading.Thread(target=measure_cpu_usage, args=(interval, duration, cpu_results))\n",
    "#     cpu_thread.start()\n",
    "\n",
    "#     # Train the model\n",
    "#     model.fit(data, target)\n",
    "\n",
    "#     # Wait for the CPU measurement thread to finish\n",
    "#     cpu_thread.join()\n",
    "\n",
    "#     # Calculate average CPU usage\n",
    "#     avg_cpu_usage = sum(cpu_results) / len(cpu_results)\n",
    "#     print(f\"Average CPU Usage: {avg_cpu_usage}%\")"
   ]
  },
  {
   "cell_type": "code",
   "execution_count": 3,
   "id": "100cdea5-1199-459a-993c-5465615a09f4",
   "metadata": {},
   "outputs": [],
   "source": [
    "# # Example usage with a Linear Regression model and encrypted data\n",
    "# from sklearn.linear_model import LinearRegression\n",
    "# import pandas as pd\n",
    "\n",
    "# X_train=pd.read_csv('X_train1.csv')\n",
    "# y_train=pd.read_csv('y_train1.csv')\n",
    "\n",
    "# # Create the model\n",
    "# model = LinearRegression()\n",
    "\n",
    "# # Measure and train with CKKS encrypted data\n",
    "# print(\"Training with CKKS encrypted data...\")\n",
    "# train_and_measure(model, X_train, y_train, interval=1.0, duration=10.0)"
   ]
  },
  {
   "cell_type": "code",
   "execution_count": 4,
   "id": "c0f48895-7292-4dc6-9566-98bc6d1dba60",
   "metadata": {},
   "outputs": [
    {
     "name": "stdout",
     "output_type": "stream",
     "text": [
      "CPU Usage: -1.8%\n",
      "Memory Usage: 0.43359375 MB\n"
     ]
    }
   ],
   "source": [
    "from sklearn.linear_model import LinearRegression\n",
    "import pandas as pd\n",
    "\n",
    "X_train=pd.read_csv('X_train1.csv')\n",
    "y_train=pd.read_csv('y_train1.csv')\n",
    "\n",
    "model2=LinearRegression()\n",
    "start_cpu = psutil.cpu_percent(interval=None)\n",
    "start_memory = psutil.virtual_memory().used\n",
    "\n",
    "model2.fit(X_train,y_train)\n",
    "\n",
    "end_cpu = psutil.cpu_percent(interval=None)\n",
    "end_memory = psutil.virtual_memory().used\n",
    "\n",
    "cpu_usage = end_cpu - start_cpu\n",
    "memory_usage = end_memory - start_memory\n",
    "\n",
    "print(f\"CPU Usage: {cpu_usage}%\")\n",
    "print(f\"Memory Usage: {memory_usage / (1024 ** 2)} MB\")"
   ]
  },
  {
   "cell_type": "code",
   "execution_count": null,
   "id": "ceb9fb07-f946-4970-9198-6e35252d6a24",
   "metadata": {},
   "outputs": [],
   "source": []
  }
 ],
 "metadata": {
  "kernelspec": {
   "display_name": "Python 3 (ipykernel)",
   "language": "python",
   "name": "python3"
  },
  "language_info": {
   "codemirror_mode": {
    "name": "ipython",
    "version": 3
   },
   "file_extension": ".py",
   "mimetype": "text/x-python",
   "name": "python",
   "nbconvert_exporter": "python",
   "pygments_lexer": "ipython3",
   "version": "3.12.3"
  }
 },
 "nbformat": 4,
 "nbformat_minor": 5
}
