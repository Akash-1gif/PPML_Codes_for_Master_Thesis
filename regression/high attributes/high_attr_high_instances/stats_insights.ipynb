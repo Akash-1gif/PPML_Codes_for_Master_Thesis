{
 "cells": [
  {
   "cell_type": "code",
   "execution_count": null,
   "id": "01ebce61-1db5-46cb-a2a2-295401380d5a",
   "metadata": {},
   "outputs": [],
   "source": []
  },
  {
   "cell_type": "code",
   "execution_count": 1,
   "id": "eda35c9b-91e8-4762-a74f-a804b5613800",
   "metadata": {},
   "outputs": [],
   "source": [
    "import numpy as np\n",
    "import pandas as pd\n",
    "from scipy import stats\n",
    "import matplotlib.pyplot as plt\n",
    "import joblib\n",
    "import scipy.stats as stats\n",
    "import statsmodels.api as sm\n",
    "from statsmodels.formula.api import ols\n",
    "%matplotlib inline\n",
    "plt.style.use('dark_background')"
   ]
  },
  {
   "cell_type": "code",
   "execution_count": 2,
   "id": "8a5a89f5-13e8-4969-9c4a-d6847e5b5da6",
   "metadata": {},
   "outputs": [],
   "source": [
    "weights_paillier,bias_paillier,unenc_preds_paillier,cpu_seconds_paillier,cpu_usages_paillier,train_time_paillier,test_time_paillier=joblib.load('variables_paillier.pkl')"
   ]
  },
  {
   "cell_type": "code",
   "execution_count": 3,
   "id": "49d6c314-a5ff-4a1d-8cdc-2718d69eea8a",
   "metadata": {},
   "outputs": [],
   "source": [
    "weights_ckks,bias_ckks,unenc_preds_ckks,cpu_seconds_ckks,cpu_usages_ckks,train_time_ckks,test_time_ckks=joblib.load('variables.pkl')"
   ]
  },
  {
   "cell_type": "code",
   "execution_count": 4,
   "id": "896829ff-a0d2-4b44-8135-bbe01bb43351",
   "metadata": {},
   "outputs": [],
   "source": [
    "weights_sklearn,bias_sklearn,unenc_preds_sklearn=joblib.load('variables_sklearn.pkl')"
   ]
  },
  {
   "cell_type": "code",
   "execution_count": 5,
   "id": "f053038d-147e-4889-8a0e-a37d6d788287",
   "metadata": {},
   "outputs": [],
   "source": [
    "y_test=pd.read_csv('y_test3.csv')\n",
    "y_test=y_test.to_numpy()"
   ]
  },
  {
   "cell_type": "code",
   "execution_count": 6,
   "id": "939595e1-03cf-422c-8f67-3ea6377d5491",
   "metadata": {},
   "outputs": [
    {
     "data": {
      "text/plain": [
       "array([71. , 69.9, 69.3, 74.5, 57.4, 64.2, 74.1, 57.9, 56.7, 74.2, 77.3,\n",
       "       72.9, 71. , 75.5, 65.9, 72. , 72.4, 73. , 72. , 65.9, 59.2, 58.1,\n",
       "       72.1, 58.5, 59.1, 75.4, 65.6, 71.3, 73.2, 58.8, 72.3, 72.4, 73.3,\n",
       "       73.5, 69.6, 81.7, 72. , 66.1, 59.7, 52.8, 78.7, 58.4, 73.5, 84. ,\n",
       "       71. , 55.8, 89. , 73.9, 59.7, 88. , 73. , 72.4, 69.3, 45.4, 58.9,\n",
       "       69.4, 77.6, 65.3, 53.6, 61.4, 68.3, 71.6, 75. , 71.8, 68. , 82. ,\n",
       "       81.7, 74. , 69.2, 69.6, 68.4, 66.8, 62.1, 54.3, 58.4, 65.3, 75.5,\n",
       "       62.5, 61.2, 46.2, 69.1, 75.4, 81.5, 51.6, 72.8, 69.5, 66. , 74.5,\n",
       "       76.2, 65.8, 69. , 75.6, 78. , 76.5, 76. , 52.6, 74.6, 78.9, 62.2,\n",
       "       76.7, 76. , 62.2, 72.9, 62.5, 71.7, 63. , 65.4, 69.3, 79. , 50. ,\n",
       "       71. , 73.7, 69.7, 78.6, 48.2, 73.5, 74.1, 62.7, 72.5, 81.4, 71.4,\n",
       "       59.5, 55. , 67.6, 67. , 46.7, 75.2, 83. , 73. , 67.5, 72.6, 67.7,\n",
       "       65.9, 75. , 89. , 73. , 75.8, 44.5, 69.5, 47.1, 59. , 58.2, 69.2,\n",
       "       77.8, 69.9, 74. , 71.7, 56.8, 57.5, 53.4, 87. , 56.8, 72.8, 57. ,\n",
       "       74.9, 67.2, 74.7, 66.5, 79.8, 67.4, 79.1, 66.9, 61.8, 69.5, 69.1,\n",
       "       82.7, 75. , 78. , 75. , 75.4, 58.3, 88. , 65.2, 69.4, 73.6, 63.5,\n",
       "       71.4, 75.7, 68. , 64.3, 67.9, 58.4, 73.3, 67.2, 57.3, 67.8, 69.5,\n",
       "       78.9, 45.1, 63.7, 72.6, 63. , 53.2, 61.1, 68.5, 82. , 86. , 66. ,\n",
       "       74.4, 68.9, 68.3, 53.6, 56.8, 68.8, 66.3, 74.2, 66.4, 62.8, 74.2,\n",
       "       58.6, 65.9, 67.1, 77. , 67.3, 71.4, 79.7, 56.9, 75.4, 79.4, 75.7,\n",
       "       73.2, 67. , 76.6, 78.5, 69.8, 81.8, 71.9, 58. , 61.2, 72.6, 68.9,\n",
       "       74.4, 64. , 71.2, 63.3, 72.3, 52.9, 68.7, 46. , 75.4, 44.8, 74. ,\n",
       "       72. , 67.2, 49.5, 64.7, 71.2, 56. , 58. , 62.7, 54. , 68.8, 67.7,\n",
       "       56.7, 64.6, 64.3, 63.5, 74.5, 74.1, 73.1, 51.7, 54.1, 73. , 68.5])"
      ]
     },
     "execution_count": 6,
     "metadata": {},
     "output_type": "execute_result"
    }
   ],
   "source": [
    "y_test=y_test.reshape(-1,)\n",
    "y_test"
   ]
  },
  {
   "cell_type": "code",
   "execution_count": 7,
   "id": "8869d052-f56f-4c6b-9ea6-b0c125052fcc",
   "metadata": {},
   "outputs": [
    {
     "data": {
      "text/plain": [
       "(264,)"
      ]
     },
     "execution_count": 7,
     "metadata": {},
     "output_type": "execute_result"
    }
   ],
   "source": [
    "unenc_preds_paillier=np.array(unenc_preds_paillier)\n",
    "unenc_preds_paillier.shape"
   ]
  },
  {
   "cell_type": "code",
   "execution_count": 8,
   "id": "4a5a7e75-5611-4e09-823a-b8ee7b27c785",
   "metadata": {},
   "outputs": [
    {
     "data": {
      "text/plain": [
       "(264,)"
      ]
     },
     "execution_count": 8,
     "metadata": {},
     "output_type": "execute_result"
    }
   ],
   "source": [
    "y_test.shape"
   ]
  },
  {
   "cell_type": "code",
   "execution_count": 9,
   "id": "bfa771ee-aa6b-4757-8b87-14866d71629a",
   "metadata": {},
   "outputs": [
    {
     "data": {
      "text/plain": [
       "(264,)"
      ]
     },
     "execution_count": 9,
     "metadata": {},
     "output_type": "execute_result"
    }
   ],
   "source": [
    "unenc_preds_ckks=np.array(unenc_preds_ckks)\n",
    "unenc_preds_ckks=unenc_preds_ckks.reshape(-1,)\n",
    "unenc_preds_ckks.shape"
   ]
  },
  {
   "cell_type": "code",
   "execution_count": 10,
   "id": "cf3149b6-83f1-44d0-a045-d90e5a65988f",
   "metadata": {
    "scrolled": true
   },
   "outputs": [
    {
     "data": {
      "text/plain": [
       "(264,)"
      ]
     },
     "execution_count": 10,
     "metadata": {},
     "output_type": "execute_result"
    }
   ],
   "source": [
    "unenc_preds_sklearn=unenc_preds_sklearn.reshape(-1,)\n",
    "unenc_preds_sklearn.shape"
   ]
  },
  {
   "cell_type": "markdown",
   "id": "d2456f11-11db-4b7e-acec-356d4bbbd1ce",
   "metadata": {},
   "source": [
    "### Mean Squared Error:"
   ]
  },
  {
   "cell_type": "code",
   "execution_count": 11,
   "id": "a8186515-08b6-485c-afe9-3bffa24fd15c",
   "metadata": {},
   "outputs": [],
   "source": [
    "from sklearn.metrics import mean_squared_error"
   ]
  },
  {
   "cell_type": "code",
   "execution_count": 12,
   "id": "3f139c27-8415-4091-a173-2dbd2813cd89",
   "metadata": {},
   "outputs": [],
   "source": [
    "mse_sklearn=mean_squared_error(unenc_preds_sklearn,y_test)"
   ]
  },
  {
   "cell_type": "code",
   "execution_count": 13,
   "id": "065b91fb-8af2-434c-a926-4c63f60c36f5",
   "metadata": {
    "scrolled": true
   },
   "outputs": [
    {
     "data": {
      "text/plain": [
       "13.725901006918571"
      ]
     },
     "execution_count": 13,
     "metadata": {},
     "output_type": "execute_result"
    }
   ],
   "source": [
    "mse_sklearn"
   ]
  },
  {
   "cell_type": "code",
   "execution_count": 14,
   "id": "5a73739b-7d45-4254-84cd-a9562908223c",
   "metadata": {},
   "outputs": [
    {
     "data": {
      "text/plain": [
       "13.725916472004684"
      ]
     },
     "execution_count": 14,
     "metadata": {},
     "output_type": "execute_result"
    }
   ],
   "source": [
    "mse_ckks=mean_squared_error(unenc_preds_ckks,y_test)\n",
    "mse_ckks"
   ]
  },
  {
   "cell_type": "code",
   "execution_count": 15,
   "id": "9629b78e-1cf7-4952-a301-f3af3855b80d",
   "metadata": {},
   "outputs": [
    {
     "data": {
      "text/plain": [
       "13.725901008411283"
      ]
     },
     "execution_count": 15,
     "metadata": {},
     "output_type": "execute_result"
    }
   ],
   "source": [
    "mse_paillier=mean_squared_error(unenc_preds_paillier,y_test)\n",
    "mse_paillier"
   ]
  },
  {
   "cell_type": "code",
   "execution_count": 16,
   "id": "2fed378b-b092-4b1e-8a2b-b767eab582a4",
   "metadata": {},
   "outputs": [
    {
     "name": "stdout",
     "output_type": "stream",
     "text": [
      "Variance: 70.71505975489042\n",
      "Variance: 70.71512294809148\n",
      "Variance: 70.71505975470016\n"
     ]
    }
   ],
   "source": [
    "def calculate_variance(numbers):\n",
    "    \n",
    "    if len(numbers) < 2:\n",
    "        raise ValueError(\"Variance requires at least two data points.\")\n",
    "    \n",
    "    mean = sum(numbers) / len(numbers)\n",
    "    squared_diffs = [(x - mean) ** 2 for x in numbers]\n",
    "    variance = sum(squared_diffs) / (len(numbers) - 1)\n",
    "    \n",
    "    return variance\n",
    "\n",
    "\n",
    "print(\"Variance:\", calculate_variance(unenc_preds_sklearn))\n",
    "print(\"Variance:\", calculate_variance(unenc_preds_ckks))\n",
    "print(\"Variance:\", calculate_variance(unenc_preds_paillier))"
   ]
  },
  {
   "cell_type": "code",
   "execution_count": 17,
   "id": "f4eb536f-2f57-4c29-b35b-032202e7e2cc",
   "metadata": {},
   "outputs": [],
   "source": [
    "f_statistic,p_value=stats.f_oneway(unenc_preds_sklearn,unenc_preds_ckks,unenc_preds_paillier)"
   ]
  },
  {
   "cell_type": "code",
   "execution_count": 18,
   "id": "2ac92c96-306c-475f-b7e0-f7d589fe629f",
   "metadata": {},
   "outputs": [
    {
     "data": {
      "text/plain": [
       "(1.076358483273022e-09, 0.9999999989236569)"
      ]
     },
     "execution_count": 18,
     "metadata": {},
     "output_type": "execute_result"
    }
   ],
   "source": [
    "f_statistic,p_value"
   ]
  },
  {
   "cell_type": "code",
   "execution_count": 19,
   "id": "3ec96b9e-7e8a-43c7-8a27-9602204083fc",
   "metadata": {},
   "outputs": [
    {
     "name": "stdout",
     "output_type": "stream",
     "text": [
      "There is no significant difference between the values\n"
     ]
    }
   ],
   "source": [
    "alpha = 0.05\n",
    "if p_value < alpha:\n",
    "    print(\"There is a significant difference between the values\")\n",
    "else:\n",
    "    print(\"There is no significant difference between the values\")"
   ]
  },
  {
   "cell_type": "code",
   "execution_count": 20,
   "id": "55a1933e-c867-4c91-a13c-d0d86c8ebf58",
   "metadata": {},
   "outputs": [],
   "source": [
    "diff_between_ckks_and_sklearn=abs(unenc_preds_ckks-unenc_preds_sklearn)"
   ]
  },
  {
   "cell_type": "code",
   "execution_count": 21,
   "id": "2f10d3d8-cce6-41d2-a15f-33d7f4cb7682",
   "metadata": {},
   "outputs": [
    {
     "data": {
      "text/plain": [
       "array([1.50867876e-04, 1.11441597e-04, 1.07775314e-04, 3.32576252e-05,\n",
       "       3.32202717e-07])"
      ]
     },
     "execution_count": 21,
     "metadata": {},
     "output_type": "execute_result"
    }
   ],
   "source": [
    "diff_between_ckks_and_sklearn[:5]"
   ]
  },
  {
   "cell_type": "code",
   "execution_count": 22,
   "id": "e94f1e5b-4896-406e-aa71-1d93bd9d5f2e",
   "metadata": {},
   "outputs": [],
   "source": [
    "diff_between_paillier_and_sklearn=abs(unenc_preds_paillier-unenc_preds_sklearn)"
   ]
  },
  {
   "cell_type": "code",
   "execution_count": 23,
   "id": "d89e770f-ce05-4ada-af28-a993d53a56a7",
   "metadata": {},
   "outputs": [
    {
     "data": {
      "text/plain": [
       "array([2.87703017e-09, 2.94511437e-09, 3.07191783e-09, 3.08641290e-09,\n",
       "       3.14203419e-09, 3.01423597e-09, 2.91446156e-09, 2.96144265e-09,\n",
       "       3.11847259e-09, 3.04012815e-09, 3.19612070e-09, 2.94912184e-09,\n",
       "       3.11261772e-09, 2.97606562e-09, 3.11352721e-09, 3.16704529e-09,\n",
       "       3.08617132e-09, 3.14818749e-09, 2.91002777e-09, 3.13889359e-09,\n",
       "       3.07580450e-09, 2.91456104e-09, 3.08979509e-09, 2.91501578e-09,\n",
       "       2.95892022e-09, 3.28751071e-09, 3.18792104e-09, 3.21379900e-09,\n",
       "       3.12618909e-09, 3.08789083e-09, 2.88976310e-09, 3.00326519e-09,\n",
       "       2.98322789e-09, 2.94924973e-09, 3.20477511e-09, 3.02306091e-09,\n",
       "       3.03951708e-09, 3.09434256e-09, 2.96913072e-09, 2.99178993e-09,\n",
       "       2.96519431e-09, 3.17442783e-09, 3.02745207e-09, 3.12873283e-09,\n",
       "       2.94680547e-09, 2.87723623e-09, 3.10875237e-09, 3.11358406e-09,\n",
       "       3.04534353e-09, 3.15372972e-09, 2.90994251e-09, 3.06231129e-09,\n",
       "       3.02294723e-09, 3.18176063e-09, 2.95144531e-09, 3.03421643e-09,\n",
       "       3.22977201e-09, 2.97653457e-09, 3.15876747e-09, 3.05769277e-09,\n",
       "       3.05705328e-09, 3.09293569e-09, 3.01946557e-09, 2.93300673e-09,\n",
       "       3.16394733e-09, 3.17643867e-09, 3.18259197e-09, 3.00994429e-09,\n",
       "       3.20228821e-09, 3.21907123e-09, 3.22206972e-09, 3.02605230e-09,\n",
       "       3.03686676e-09, 3.00588709e-09, 3.07180414e-09, 3.00454417e-09,\n",
       "       3.22567928e-09, 3.14666693e-09, 3.03997183e-09, 3.11727888e-09,\n",
       "       3.11860049e-09, 3.07467474e-09, 3.01480441e-09, 3.12629567e-09,\n",
       "       3.08511972e-09, 3.04109449e-09, 3.05242054e-09, 3.17756133e-09,\n",
       "       3.02385672e-09, 2.98076941e-09, 2.97676195e-09, 3.15529292e-09,\n",
       "       2.98628322e-09, 3.23326788e-09, 3.19636229e-09, 3.10645021e-09,\n",
       "       3.09185566e-09, 3.00140357e-09, 3.14305737e-09, 3.13568194e-09,\n",
       "       3.13016812e-09, 3.05702486e-09, 2.98948066e-09, 3.03407433e-09,\n",
       "       2.96647329e-09, 3.10667758e-09, 3.12714121e-09, 3.18969740e-09,\n",
       "       2.98099678e-09, 3.15887405e-09, 3.25027827e-09, 3.03197112e-09,\n",
       "       3.10322434e-09, 2.87170110e-09, 2.96507352e-09, 3.00805425e-09,\n",
       "       3.01872660e-09, 3.15385051e-09, 3.11167980e-09, 3.17697868e-09,\n",
       "       3.05313108e-09, 2.98109626e-09, 3.08789083e-09, 3.06188497e-09,\n",
       "       3.11793258e-09, 2.83903745e-09, 3.10956239e-09, 3.09213988e-09,\n",
       "       3.14248894e-09, 3.07326786e-09, 2.87096213e-09, 2.84559576e-09,\n",
       "       3.16579474e-09, 2.99698399e-09, 3.12093107e-09, 3.08816084e-09,\n",
       "       3.07160519e-09, 3.04841308e-09, 3.02439673e-09, 3.03823811e-09,\n",
       "       3.12243031e-09, 3.11618464e-09, 3.02861736e-09, 3.09482573e-09,\n",
       "       3.15375814e-09, 3.08790504e-09, 3.12564907e-09, 2.92348545e-09,\n",
       "       3.02629388e-09, 2.95892733e-09, 3.07620951e-09, 3.01298542e-09,\n",
       "       2.98399527e-09, 2.83361601e-09, 3.19266746e-09, 3.16005355e-09,\n",
       "       2.99526448e-09, 2.91477420e-09, 2.96013525e-09, 3.07463210e-09,\n",
       "       3.06296499e-09, 3.13836779e-09, 3.04073211e-09, 3.17906768e-09,\n",
       "       3.05881542e-09, 3.05772119e-09, 3.00209990e-09, 2.97977465e-09,\n",
       "       3.08914139e-09, 3.15819193e-09, 2.98803826e-09, 3.04352454e-09,\n",
       "       3.15479554e-09, 3.05759329e-09, 3.10760129e-09, 3.01568548e-09,\n",
       "       2.88824253e-09, 3.11499093e-09, 3.04672199e-09, 3.16899929e-09,\n",
       "       3.14615534e-09, 2.96652303e-09, 3.00177305e-09, 3.03508330e-09,\n",
       "       2.86381407e-09, 3.10696180e-09, 3.10188852e-09, 3.01203329e-09,\n",
       "       2.94578939e-09, 3.14372528e-09, 2.85123747e-09, 3.15387894e-09,\n",
       "       3.13159632e-09, 3.06847880e-09, 2.96338953e-09, 3.07622372e-09,\n",
       "       3.16148885e-09, 2.95125346e-09, 2.98301472e-09, 3.11653992e-09,\n",
       "       3.15739612e-09, 2.98869907e-09, 3.03946734e-09, 3.19302274e-09,\n",
       "       3.06819459e-09, 2.94966185e-09, 3.18000559e-09, 3.12202530e-09,\n",
       "       3.13112025e-09, 3.06566506e-09, 3.00251202e-09, 3.06872039e-09,\n",
       "       3.06215497e-09, 3.17398019e-09, 2.95236191e-09, 2.93115932e-09,\n",
       "       2.96627434e-09, 3.12034842e-09, 3.08951087e-09, 3.01034220e-09,\n",
       "       3.04228820e-09, 3.10983239e-09, 2.98798852e-09, 3.09118775e-09,\n",
       "       3.21843174e-09, 3.07191783e-09, 3.02453884e-09, 3.00913428e-09,\n",
       "       3.05584535e-09, 2.95599989e-09, 2.88989099e-09, 2.93486835e-09,\n",
       "       2.95956681e-09, 2.95372615e-09, 3.12073212e-09, 2.93269409e-09,\n",
       "       3.09847792e-09, 3.01984926e-09, 2.97357872e-09, 3.09225356e-09,\n",
       "       3.11957393e-09, 3.04881098e-09, 3.03360537e-09, 2.98165048e-09,\n",
       "       3.02186720e-09, 3.13106341e-09, 3.19666071e-09, 3.06545189e-09,\n",
       "       3.16698134e-09, 3.16300941e-09, 3.00588709e-09, 3.20959259e-09,\n",
       "       3.15336024e-09, 3.07247916e-09, 3.14237525e-09, 2.94872393e-09,\n",
       "       3.11759152e-09, 3.13264081e-09, 3.10932080e-09, 3.00809688e-09,\n",
       "       2.92035196e-09, 2.96245872e-09, 3.03795389e-09, 3.19876392e-09])"
      ]
     },
     "execution_count": 23,
     "metadata": {},
     "output_type": "execute_result"
    }
   ],
   "source": [
    "diff_between_paillier_and_sklearn"
   ]
  },
  {
   "cell_type": "code",
   "execution_count": 24,
   "id": "305493e7-252f-45ca-bd0d-11f715d5719c",
   "metadata": {},
   "outputs": [
    {
     "data": {
      "text/plain": [
       "(-22.69889720342139, 4.9723513455630665e-80)"
      ]
     },
     "execution_count": 24,
     "metadata": {},
     "output_type": "execute_result"
    }
   ],
   "source": [
    "t_statistic,p_value=stats.ttest_ind(diff_between_paillier_and_sklearn,diff_between_ckks_and_sklearn)\n",
    "t_statistic,p_value"
   ]
  },
  {
   "cell_type": "code",
   "execution_count": 25,
   "id": "af9e696a-311a-4c84-8092-170b956b0820",
   "metadata": {},
   "outputs": [
    {
     "name": "stdout",
     "output_type": "stream",
     "text": [
      "There is a significant difference between the ckks-sklearn preds and paillier-sklearn preds\n"
     ]
    }
   ],
   "source": [
    "alpha = 0.05\n",
    "if p_value < alpha:\n",
    "    print(\"There is a significant difference between the ckks-sklearn preds and paillier-sklearn preds\")\n",
    "else:\n",
    "    print(\"There is no significant difference between the ckks-sklearn preds and paillier-sklearn preds\")"
   ]
  },
  {
   "cell_type": "code",
   "execution_count": 58,
   "id": "8fc3a454-6c91-41e0-8bde-5cc5c3a0cf1f",
   "metadata": {},
   "outputs": [
    {
     "data": {
      "text/plain": [
       "(4.017921727497884e-05, 0.9999679568561215)"
      ]
     },
     "execution_count": 58,
     "metadata": {},
     "output_type": "execute_result"
    }
   ],
   "source": [
    "t_statistic,p_value=stats.ttest_ind(unenc_preds_paillier,unenc_preds_ckks)\n",
    "t_statistic,p_value"
   ]
  },
  {
   "cell_type": "code",
   "execution_count": 60,
   "id": "dfbadc1e-7166-4647-9be7-e5ebf9eeb86c",
   "metadata": {},
   "outputs": [
    {
     "name": "stdout",
     "output_type": "stream",
     "text": [
      "There is no significant difference between\n"
     ]
    }
   ],
   "source": [
    "alpha = 0.05\n",
    "if p_value < alpha:\n",
    "    print(\"There is a significant difference\")\n",
    "else:\n",
    "    print(\"There is no significant difference between\")"
   ]
  },
  {
   "cell_type": "code",
   "execution_count": 26,
   "id": "d486df68-a18a-4c45-aa0a-42e4079a830a",
   "metadata": {},
   "outputs": [],
   "source": [
    "l=len(diff_between_paillier_and_sklearn)"
   ]
  },
  {
   "cell_type": "code",
   "execution_count": 27,
   "id": "f219c165-4d2a-4c4f-b8a0-32f77ec6ff4a",
   "metadata": {},
   "outputs": [
    {
     "data": {
      "text/plain": [
       "5.386691567473854e-09"
      ]
     },
     "execution_count": 27,
     "metadata": {},
     "output_type": "execute_result"
    }
   ],
   "source": [
    "mse_ckks_with_sklearn=sum(diff_between_ckks_and_sklearn**2)/l\n",
    "mse_ckks_with_sklearn"
   ]
  },
  {
   "cell_type": "code",
   "execution_count": 28,
   "id": "5d712025-6a8f-45f3-a70e-23b7289f17a5",
   "metadata": {},
   "outputs": [
    {
     "data": {
      "text/plain": [
       "9.370359458199681e-18"
      ]
     },
     "execution_count": 28,
     "metadata": {},
     "output_type": "execute_result"
    }
   ],
   "source": [
    "mse_paillier_with_sklearn=sum(diff_between_paillier_and_sklearn**2)/l\n",
    "mse_paillier_with_sklearn"
   ]
  },
  {
   "cell_type": "markdown",
   "id": "0720ce03-91b4-4526-b4d6-8770d6eaeb81",
   "metadata": {},
   "source": [
    "### training time:"
   ]
  },
  {
   "cell_type": "code",
   "execution_count": 29,
   "id": "30c5e221-0307-4faf-b489-2f702a3d9987",
   "metadata": {},
   "outputs": [
    {
     "name": "stdout",
     "output_type": "stream",
     "text": [
      "ckks encryption takes less time to train the model\n"
     ]
    }
   ],
   "source": [
    "if train_time_ckks<train_time_paillier:\n",
    "    print(\"ckks encryption takes less time to train the model\")\n",
    "else:\n",
    "    print(\"paillier encryption takes less time to train the model\")"
   ]
  },
  {
   "cell_type": "code",
   "execution_count": 30,
   "id": "003aee86-6800-4e0f-bb81-355d5b62b903",
   "metadata": {},
   "outputs": [
    {
     "name": "stdout",
     "output_type": "stream",
     "text": [
      "ckks encrypted data takes less time to test the model\n"
     ]
    }
   ],
   "source": [
    "if test_time_ckks<test_time_paillier:\n",
    "    print(\"ckks encrypted data takes less time to test the model\")\n",
    "else:\n",
    "    print(\"paillier encrypted data takes less time to train the model\")"
   ]
  },
  {
   "cell_type": "code",
   "execution_count": 31,
   "id": "0098213a-7ffc-4659-ac52-66958d0b7cab",
   "metadata": {},
   "outputs": [
    {
     "data": {
      "text/plain": [
       "32.76336717605591"
      ]
     },
     "execution_count": 31,
     "metadata": {},
     "output_type": "execute_result"
    }
   ],
   "source": [
    "train_time_ckks"
   ]
  },
  {
   "cell_type": "code",
   "execution_count": 32,
   "id": "2f985708-fdd9-49c6-a4b3-823b4a0dc0e7",
   "metadata": {},
   "outputs": [
    {
     "data": {
      "text/plain": [
       "4395.700360059738"
      ]
     },
     "execution_count": 32,
     "metadata": {},
     "output_type": "execute_result"
    }
   ],
   "source": [
    "train_time_paillier"
   ]
  },
  {
   "cell_type": "code",
   "execution_count": 33,
   "id": "927e7fd9-8c82-4553-b7a6-894f883379fc",
   "metadata": {},
   "outputs": [
    {
     "data": {
      "text/plain": [
       "5.7867302894592285"
      ]
     },
     "execution_count": 33,
     "metadata": {},
     "output_type": "execute_result"
    }
   ],
   "source": [
    "test_time_ckks"
   ]
  },
  {
   "cell_type": "code",
   "execution_count": 34,
   "id": "dbc4c1e4-03e9-4e16-a575-38df3d5b0de4",
   "metadata": {},
   "outputs": [
    {
     "data": {
      "text/plain": [
       "72.91429567337036"
      ]
     },
     "execution_count": 34,
     "metadata": {},
     "output_type": "execute_result"
    }
   ],
   "source": [
    "test_time_paillier"
   ]
  },
  {
   "cell_type": "code",
   "execution_count": 35,
   "id": "34e033bc-d9b6-45dd-b97f-aabace04b894",
   "metadata": {},
   "outputs": [
    {
     "data": {
      "text/plain": [
       "['test_time_paillier_1055_21.pkl']"
      ]
     },
     "execution_count": 35,
     "metadata": {},
     "output_type": "execute_result"
    }
   ],
   "source": [
    "joblib.dump(train_time_ckks,'train_time_ckks_1055_21.pkl')\n",
    "joblib.dump(train_time_paillier,'train_time_paillier_1055_21.pkl')\n",
    "joblib.dump(test_time_ckks,'test_time_ckks_1055_21.pkl')\n",
    "joblib.dump(test_time_paillier,'test_time_paillier_1055_21.pkl')"
   ]
  },
  {
   "cell_type": "markdown",
   "id": "f3de5898-2831-41d7-9a7b-8575dc805b03",
   "metadata": {},
   "source": [
    "### CPU % utilization:"
   ]
  },
  {
   "cell_type": "code",
   "execution_count": 36,
   "id": "969ad115-ac97-49e5-afa4-97709c43b1a8",
   "metadata": {},
   "outputs": [],
   "source": [
    "def shortlist_cpu_usage(cpu):\n",
    "    cpu_use=[]\n",
    "    for i in cpu:\n",
    "        if i>80:\n",
    "            cpu_use.append(i)\n",
    "\n",
    "    return cpu_use"
   ]
  },
  {
   "cell_type": "code",
   "execution_count": 37,
   "id": "d309f379-51dc-4b1f-996b-fb07f1ab53bd",
   "metadata": {},
   "outputs": [
    {
     "data": {
      "text/plain": [
       "[98.3,\n",
       " 100.1,\n",
       " 100.5,\n",
       " 101.2,\n",
       " 96.8,\n",
       " 98.3,\n",
       " 97.2,\n",
       " 101.3,\n",
       " 101.5,\n",
       " 101.7,\n",
       " 104.0,\n",
       " 101.8,\n",
       " 97.4,\n",
       " 101.3,\n",
       " 98.2,\n",
       " 99.9,\n",
       " 98.1,\n",
       " 94.4,\n",
       " 95.9,\n",
       " 93.9,\n",
       " 102.1,\n",
       " 97.1,\n",
       " 99.5,\n",
       " 101.5,\n",
       " 99.2,\n",
       " 99.6,\n",
       " 99.1,\n",
       " 103.2,\n",
       " 97.6,\n",
       " 97.1,\n",
       " 97.8,\n",
       " 95.1,\n",
       " 102.2,\n",
       " 97.8,\n",
       " 101.8,\n",
       " 97.5,\n",
       " 102.8,\n",
       " 101.6,\n",
       " 102.2,\n",
       " 100.9,\n",
       " 104.4,\n",
       " 97.3,\n",
       " 97.9,\n",
       " 95.3,\n",
       " 99.3,\n",
       " 98.7,\n",
       " 101.1,\n",
       " 101.0,\n",
       " 101.2,\n",
       " 103.5,\n",
       " 99.2,\n",
       " 101.5,\n",
       " 101.3,\n",
       " 102.7,\n",
       " 98.3,\n",
       " 97.8,\n",
       " 96.3,\n",
       " 97.6,\n",
       " 100.8,\n",
       " 102.2,\n",
       " 100.7,\n",
       " 101.7,\n",
       " 99.8,\n",
       " 100.6,\n",
       " 100.0,\n",
       " 99.5,\n",
       " 97.8,\n",
       " 96.8,\n",
       " 97.8,\n",
       " 98.4,\n",
       " 99.2,\n",
       " 102.2,\n",
       " 99.0,\n",
       " 100.9,\n",
       " 100.0,\n",
       " 100.7,\n",
       " 101.0,\n",
       " 99.7,\n",
       " 94.0,\n",
       " 97.5,\n",
       " 96.3,\n",
       " 97.1,\n",
       " 102.8,\n",
       " 99.7,\n",
       " 101.3,\n",
       " 101.9,\n",
       " 101.1,\n",
       " 100.3,\n",
       " 101.3,\n",
       " 100.3,\n",
       " 101.5,\n",
       " 97.1,\n",
       " 93.3,\n",
       " 97.1,\n",
       " 97.4,\n",
       " 103.2,\n",
       " 100.6,\n",
       " 102.2,\n",
       " 101.0,\n",
       " 96.8,\n",
       " 100.8,\n",
       " 99.9,\n",
       " 101.3,\n",
       " 94.9,\n",
       " 97.1,\n",
       " 94.4,\n",
       " 97.2,\n",
       " 100.9,\n",
       " 100.2,\n",
       " 99.1,\n",
       " 100.8,\n",
       " 99.7,\n",
       " 98.9,\n",
       " 99.9,\n",
       " 101.3,\n",
       " 99.6,\n",
       " 96.5,\n",
       " 97.9,\n",
       " 94.1,\n",
       " 101.5,\n",
       " 99.6,\n",
       " 98.5,\n",
       " 103.3,\n",
       " 103.3,\n",
       " 100.2,\n",
       " 100.7,\n",
       " 102.2,\n",
       " 101.1,\n",
       " 99.4,\n",
       " 97.4,\n",
       " 95.2,\n",
       " 97.5,\n",
       " 100.3,\n",
       " 102.6,\n",
       " 101.6,\n",
       " 100.4,\n",
       " 108.0,\n",
       " 101.6,\n",
       " 100.3,\n",
       " 100.5,\n",
       " 102.7,\n",
       " 96.1,\n",
       " 96.9,\n",
       " 95.4,\n",
       " 98.9,\n",
       " 100.9,\n",
       " 100.9,\n",
       " 100.5,\n",
       " 98.9,\n",
       " 101.3,\n",
       " 96.8,\n",
       " 99.6,\n",
       " 102.8,\n",
       " 96.3,\n",
       " 96.9,\n",
       " 96.4,\n",
       " 97.7,\n",
       " 98.8,\n",
       " 100.0,\n",
       " 100.5,\n",
       " 103.9,\n",
       " 99.6,\n",
       " 100.7,\n",
       " 98.9,\n",
       " 100.6,\n",
       " 102.3,\n",
       " 100.1,\n",
       " 97.0,\n",
       " 97.1,\n",
       " 100.4,\n",
       " 100.1,\n",
       " 101.9,\n",
       " 101.0,\n",
       " 99.4,\n",
       " 101.8,\n",
       " 97.7,\n",
       " 101.7,\n",
       " 102.1,\n",
       " 101.2,\n",
       " 96.8,\n",
       " 96.2,\n",
       " 94.5,\n",
       " 100.1,\n",
       " 102.0,\n",
       " 99.4,\n",
       " 100.1,\n",
       " 101.3,\n",
       " 102.0,\n",
       " 101.4,\n",
       " 99.5,\n",
       " 103.6,\n",
       " 100.2,\n",
       " 95.9,\n",
       " 95.9,\n",
       " 98.8,\n",
       " 101.0,\n",
       " 99.8,\n",
       " 102.4,\n",
       " 102.2,\n",
       " 101.3,\n",
       " 101.0,\n",
       " 101.2,\n",
       " 101.4,\n",
       " 100.1,\n",
       " 97.0,\n",
       " 97.3,\n",
       " 94.9,\n",
       " 97.1,\n",
       " 103.1,\n",
       " 101.2,\n",
       " 98.9,\n",
       " 101.1,\n",
       " 101.1,\n",
       " 102.3,\n",
       " 99.2,\n",
       " 100.5,\n",
       " 105.7,\n",
       " 95.9,\n",
       " 96.6,\n",
       " 97.9,\n",
       " 98.6,\n",
       " 100.0,\n",
       " 98.3,\n",
       " 101.0,\n",
       " 100.4,\n",
       " 103.4,\n",
       " 99.9,\n",
       " 103.4,\n",
       " 98.7,\n",
       " 99.8,\n",
       " 96.7,\n",
       " 95.3,\n",
       " 95.6,\n",
       " 101.6,\n",
       " 101.7,\n",
       " 99.3,\n",
       " 101.8,\n",
       " 101.3,\n",
       " 101.5,\n",
       " 99.2,\n",
       " 100.4,\n",
       " 99.3,\n",
       " 97.0,\n",
       " 98.2,\n",
       " 96.0,\n",
       " 100.1,\n",
       " 100.3,\n",
       " 99.6,\n",
       " 101.6,\n",
       " 101.4,\n",
       " 100.4,\n",
       " 100.5,\n",
       " 101.1,\n",
       " 99.9,\n",
       " 98.0,\n",
       " 96.2,\n",
       " 95.5,\n",
       " 100.3,\n",
       " 100.0,\n",
       " 100.8,\n",
       " 99.9,\n",
       " 100.3,\n",
       " 101.8,\n",
       " 99.9,\n",
       " 104.4,\n",
       " 98.6,\n",
       " 101.7,\n",
       " 98.7,\n",
       " 97.3,\n",
       " 93.4,\n",
       " 100.9,\n",
       " 99.7,\n",
       " 101.4,\n",
       " 102.2,\n",
       " 101.6,\n",
       " 100.7,\n",
       " 100.2,\n",
       " 101.8,\n",
       " 101.3,\n",
       " 102.0,\n",
       " 100.0,\n",
       " 95.9,\n",
       " 95.3,\n",
       " 101.2,\n",
       " 99.2,\n",
       " 100.7,\n",
       " 99.7,\n",
       " 98.2,\n",
       " 101.7,\n",
       " 100.8,\n",
       " 98.8,\n",
       " 102.8,\n",
       " 98.4,\n",
       " 97.7,\n",
       " 96.0,\n",
       " 95.9,\n",
       " 103.3,\n",
       " 100.7,\n",
       " 100.9,\n",
       " 101.8,\n",
       " 99.5,\n",
       " 102.4,\n",
       " 100.6,\n",
       " 100.4,\n",
       " 101.2,\n",
       " 98.4,\n",
       " 95.9,\n",
       " 95.7,\n",
       " 97.9,\n",
       " 103.8,\n",
       " 102.2,\n",
       " 101.9,\n",
       " 102.2,\n",
       " 100.7,\n",
       " 100.1,\n",
       " 103.4,\n",
       " 100.3,\n",
       " 99.7,\n",
       " 98.2,\n",
       " 98.1,\n",
       " 92.9,\n",
       " 96.8,\n",
       " 102.5,\n",
       " 104.8,\n",
       " 99.9,\n",
       " 100.8,\n",
       " 100.4,\n",
       " 102.7,\n",
       " 101.4,\n",
       " 100.9,\n",
       " 101.2,\n",
       " 93.2,\n",
       " 98.0,\n",
       " 94.3,\n",
       " 98.3,\n",
       " 104.8,\n",
       " 99.4,\n",
       " 100.1,\n",
       " 102.9,\n",
       " 101.0,\n",
       " 100.5,\n",
       " 101.1,\n",
       " 99.6,\n",
       " 100.8,\n",
       " 98.3,\n",
       " 96.9,\n",
       " 97.2,\n",
       " 100.7,\n",
       " 102.1,\n",
       " 102.0,\n",
       " 100.3,\n",
       " 99.4,\n",
       " 100.6,\n",
       " 100.5,\n",
       " 101.7,\n",
       " 101.4,\n",
       " 98.9,\n",
       " 96.3,\n",
       " 96.2,\n",
       " 96.1,\n",
       " 101.2,\n",
       " 100.7,\n",
       " 97.5,\n",
       " 102.6,\n",
       " 101.6,\n",
       " 99.7,\n",
       " 100.3,\n",
       " 101.1,\n",
       " 102.0,\n",
       " 98.3,\n",
       " 96.9,\n",
       " 94.9,\n",
       " 95.5,\n",
       " 103.1,\n",
       " 98.9,\n",
       " 99.6,\n",
       " 101.1,\n",
       " 99.0,\n",
       " 102.3,\n",
       " 100.1,\n",
       " 102.2,\n",
       " 100.4,\n",
       " 99.3,\n",
       " 98.0,\n",
       " 96.4,\n",
       " 99.4,\n",
       " 100.9,\n",
       " 99.1,\n",
       " 100.5,\n",
       " 101.0,\n",
       " 101.0,\n",
       " 102.0,\n",
       " 102.4,\n",
       " 99.1,\n",
       " 100.6,\n",
       " 99.4,\n",
       " 97.0,\n",
       " 96.4,\n",
       " 96.8,\n",
       " 99.5,\n",
       " 103.2,\n",
       " 98.2,\n",
       " 101.0,\n",
       " 99.6,\n",
       " 102.6,\n",
       " 99.4,\n",
       " 101.7,\n",
       " 101.4,\n",
       " 97.7,\n",
       " 98.8,\n",
       " 96.1,\n",
       " 98.8,\n",
       " 100.7,\n",
       " 103.9,\n",
       " 100.0,\n",
       " 102.9,\n",
       " 101.8,\n",
       " 100.7,\n",
       " 101.7,\n",
       " 100.4,\n",
       " 99.4,\n",
       " 98.2,\n",
       " 97.3,\n",
       " 95.2,\n",
       " 100.1,\n",
       " 101.1,\n",
       " 100.9,\n",
       " 99.2,\n",
       " 102.1,\n",
       " 101.4,\n",
       " 101.9,\n",
       " 103.3,\n",
       " 101.4,\n",
       " 99.9,\n",
       " 99.1,\n",
       " 94.6,\n",
       " 96.4,\n",
       " 96.9,\n",
       " 102.2,\n",
       " 102.0,\n",
       " 102.0,\n",
       " 101.2,\n",
       " 105.4,\n",
       " 99.4,\n",
       " 100.3,\n",
       " 100.3,\n",
       " 94.5,\n",
       " 95.9,\n",
       " 94.0,\n",
       " 101.1,\n",
       " 99.6,\n",
       " 99.3,\n",
       " 97.9,\n",
       " 98.3,\n",
       " 101.0,\n",
       " 100.0,\n",
       " 100.2,\n",
       " 99.9,\n",
       " 95.5,\n",
       " 95.9,\n",
       " 94.1,\n",
       " 101.4,\n",
       " 97.3,\n",
       " 100.1,\n",
       " 99.1,\n",
       " 100.9,\n",
       " 99.3,\n",
       " 102.1,\n",
       " 101.6,\n",
       " 100.1,\n",
       " 100.6,\n",
       " 96.0,\n",
       " 97.2,\n",
       " 96.1,\n",
       " 101.1,\n",
       " 99.5,\n",
       " 98.5,\n",
       " 101.2,\n",
       " 103.0,\n",
       " 101.1,\n",
       " 100.8,\n",
       " 99.4,\n",
       " 99.3,\n",
       " 98.9,\n",
       " 96.7,\n",
       " 96.8,\n",
       " 97.1,\n",
       " 102.8,\n",
       " 100.2,\n",
       " 103.3,\n",
       " 102.3,\n",
       " 99.6,\n",
       " 100.5,\n",
       " 99.0,\n",
       " 102.3,\n",
       " 100.1,\n",
       " 98.4,\n",
       " 96.7,\n",
       " 96.9,\n",
       " 98.4,\n",
       " 101.8,\n",
       " 101.0,\n",
       " 103.7,\n",
       " 102.0,\n",
       " 99.9,\n",
       " 102.1,\n",
       " 101.9,\n",
       " 102.2,\n",
       " 98.4,\n",
       " 96.4,\n",
       " 97.8,\n",
       " 97.0,\n",
       " 100.8,\n",
       " 100.1,\n",
       " 101.9,\n",
       " 101.3,\n",
       " 100.1,\n",
       " 100.1,\n",
       " 101.8,\n",
       " 102.2,\n",
       " 99.7,\n",
       " 98.1,\n",
       " 95.5,\n",
       " 92.7,\n",
       " 98.3,\n",
       " 100.2,\n",
       " 97.0,\n",
       " 102.2,\n",
       " 100.5,\n",
       " 102.8,\n",
       " 100.6,\n",
       " 99.7,\n",
       " 98.5,\n",
       " 101.2,\n",
       " 97.0,\n",
       " 96.8,\n",
       " 95.5,\n",
       " 97.9,\n",
       " 102.3,\n",
       " 103.1,\n",
       " 101.3,\n",
       " 101.3,\n",
       " 101.2,\n",
       " 101.1,\n",
       " 101.3,\n",
       " 103.1,\n",
       " 100.5,\n",
       " 97.8,\n",
       " 96.4,\n",
       " 97.0,\n",
       " 101.4,\n",
       " 99.9,\n",
       " 97.7,\n",
       " 101.0,\n",
       " 100.5,\n",
       " 100.4,\n",
       " 101.1,\n",
       " 99.4,\n",
       " 101.9,\n",
       " 102.3,\n",
       " 97.3,\n",
       " 95.7,\n",
       " 98.0,\n",
       " 100.2,\n",
       " 99.6,\n",
       " 101.5,\n",
       " 101.5,\n",
       " 101.8,\n",
       " 100.8,\n",
       " 102.0,\n",
       " 100.1,\n",
       " 102.9,\n",
       " 99.9,\n",
       " 96.9,\n",
       " 98.4,\n",
       " 95.4,\n",
       " 103.4,\n",
       " 101.3,\n",
       " 101.7,\n",
       " 99.6,\n",
       " 99.1,\n",
       " 101.2,\n",
       " 102.6,\n",
       " 101.4,\n",
       " 101.4,\n",
       " 97.5,\n",
       " 96.8,\n",
       " 95.6,\n",
       " 98.4,\n",
       " 101.0,\n",
       " 100.1,\n",
       " 103.4,\n",
       " 98.8,\n",
       " 102.2,\n",
       " 101.9,\n",
       " 100.9,\n",
       " 99.9,\n",
       " 102.1,\n",
       " 98.0,\n",
       " 94.4,\n",
       " 93.9,\n",
       " 99.6,\n",
       " 101.9,\n",
       " 100.5,\n",
       " 101.3,\n",
       " 102.1,\n",
       " 102.3,\n",
       " 101.2,\n",
       " 102.0,\n",
       " 101.2,\n",
       " 101.5,\n",
       " 96.6,\n",
       " 95.2,\n",
       " 97.6,\n",
       " 98.7,\n",
       " 103.4,\n",
       " 100.5,\n",
       " 98.4,\n",
       " 100.9,\n",
       " 102.2,\n",
       " 101.2,\n",
       " 102.4,\n",
       " 99.5,\n",
       " 99.8,\n",
       " 97.0,\n",
       " 95.2,\n",
       " 95.8,\n",
       " 103.2,\n",
       " 100.8,\n",
       " 98.7,\n",
       " 102.0,\n",
       " 102.3,\n",
       " 102.3,\n",
       " 101.5,\n",
       " 101.2,\n",
       " 101.2,\n",
       " 100.0,\n",
       " 97.7,\n",
       " 95.9,\n",
       " 96.0,\n",
       " 96.4,\n",
       " 101.1,\n",
       " 99.8,\n",
       " 97.8,\n",
       " 100.2,\n",
       " 100.5,\n",
       " 101.9,\n",
       " 101.7,\n",
       " 101.7,\n",
       " 99.4,\n",
       " 97.3,\n",
       " 97.8,\n",
       " 98.1,\n",
       " 98.8,\n",
       " 101.9,\n",
       " 100.1,\n",
       " 100.8,\n",
       " 102.9,\n",
       " 101.1,\n",
       " 102.2,\n",
       " 102.2,\n",
       " 99.6,\n",
       " 99.1,\n",
       " 96.2,\n",
       " 96.9,\n",
       " 102.2,\n",
       " 100.6,\n",
       " 99.2,\n",
       " 100.2,\n",
       " 102.7,\n",
       " 103.3,\n",
       " 102.6,\n",
       " 102.9,\n",
       " 100.1,\n",
       " 99.5,\n",
       " 96.0,\n",
       " 96.6,\n",
       " 100.4,\n",
       " 98.4,\n",
       " 99.8,\n",
       " 100.6,\n",
       " 102.1,\n",
       " 100.9,\n",
       " 100.7,\n",
       " 102.5,\n",
       " 100.0,\n",
       " 102.5,\n",
       " 97.0,\n",
       " 98.4,\n",
       " 96.3,\n",
       " 102.1,\n",
       " 101.5,\n",
       " 98.4,\n",
       " 103.1,\n",
       " 99.4,\n",
       " 100.1,\n",
       " 101.9,\n",
       " 99.8,\n",
       " 101.3,\n",
       " 99.2,\n",
       " 97.7,\n",
       " 95.4,\n",
       " 97.7,\n",
       " 102.7,\n",
       " 100.5,\n",
       " 102.9,\n",
       " 101.3,\n",
       " 102.3,\n",
       " 99.8,\n",
       " 102.6,\n",
       " 100.6,\n",
       " 100.3,\n",
       " 96.9,\n",
       " 96.2,\n",
       " 95.9,\n",
       " 99.0,\n",
       " 99.1,\n",
       " 100.2,\n",
       " 98.5,\n",
       " 97.5,\n",
       " 100.4,\n",
       " 97.1,\n",
       " 98.8,\n",
       " 101.0,\n",
       " 99.2,\n",
       " 92.3,\n",
       " 95.3,\n",
       " 97.2,\n",
       " 102.4,\n",
       " 98.7,\n",
       " 99.6,\n",
       " 100.8,\n",
       " 103.8,\n",
       " 100.9,\n",
       " 99.5,\n",
       " 101.1,\n",
       " 100.7,\n",
       " 96.3,\n",
       " 97.3,\n",
       " 95.2,\n",
       " 97.5,\n",
       " 98.7,\n",
       " 100.9,\n",
       " 98.9,\n",
       " 98.1,\n",
       " 100.5,\n",
       " 100.4,\n",
       " 100.8,\n",
       " 101.8,\n",
       " 99.7,\n",
       " 97.1,\n",
       " 96.4,\n",
       " 94.6,\n",
       " 101.7,\n",
       " 98.5,\n",
       " 102.4,\n",
       " 100.7,\n",
       " 101.1,\n",
       " 100.2,\n",
       " 101.3,\n",
       " 102.9,\n",
       " 101.0,\n",
       " 98.2,\n",
       " 96.7,\n",
       " 95.0,\n",
       " 99.4,\n",
       " 102.3,\n",
       " 100.9,\n",
       " 100.9,\n",
       " 102.6,\n",
       " 102.2,\n",
       " 103.2,\n",
       " 101.7,\n",
       " 97.8,\n",
       " 96.1,\n",
       " 99.1,\n",
       " 96.2,\n",
       " 96.2,\n",
       " 101.1,\n",
       " 101.2,\n",
       " 100.9,\n",
       " 101.3,\n",
       " 103.0,\n",
       " 102.3,\n",
       " 99.8,\n",
       " 102.3,\n",
       " 98.9,\n",
       " 96.2,\n",
       " 97.8,\n",
       " 98.0,\n",
       " 100.6,\n",
       " 103.8,\n",
       " 100.9,\n",
       " 100.8,\n",
       " 101.6,\n",
       " 101.1,\n",
       " 103.4,\n",
       " 102.1,\n",
       " 100.9,\n",
       " 99.9,\n",
       " 95.0,\n",
       " 96.2,\n",
       " 97.2,\n",
       " 99.9,\n",
       " 102.1,\n",
       " 98.3,\n",
       " 102.6,\n",
       " 103.6,\n",
       " 103.0,\n",
       " 99.7,\n",
       " 100.3,\n",
       " 102.5,\n",
       " 99.7,\n",
       " 97.3,\n",
       " 96.3,\n",
       " 100.6,\n",
       " 101.3,\n",
       " 100.2,\n",
       " 100.9,\n",
       " 100.8,\n",
       " 98.5,\n",
       " 102.5,\n",
       " 99.6,\n",
       " 100.2,\n",
       " 101.3,\n",
       " 98.4,\n",
       " 97.6,\n",
       " 96.7,\n",
       " 96.3,\n",
       " 103.0,\n",
       " 100.1,\n",
       " 100.1,\n",
       " 101.4,\n",
       " 101.7,\n",
       " 103.4,\n",
       " 102.2,\n",
       " 98.9,\n",
       " 100.8,\n",
       " 97.2,\n",
       " 97.5,\n",
       " 95.7,\n",
       " 102.3,\n",
       " 98.1,\n",
       " 99.3,\n",
       " 101.0,\n",
       " 97.5,\n",
       " 102.1,\n",
       " 99.3,\n",
       " 100.2,\n",
       " 98.6,\n",
       " 97.4,\n",
       " 97.0,\n",
       " 97.0,\n",
       " 96.7,\n",
       " 103.4,\n",
       " 99.4,\n",
       " 96.0,\n",
       " 100.6,\n",
       " 102.1,\n",
       " 101.3,\n",
       " 99.1,\n",
       " 101.1,\n",
       " 100.6,\n",
       " 98.1,\n",
       " 96.6,\n",
       " 96.7,\n",
       " 101.8,\n",
       " 101.8,\n",
       " 102.9,\n",
       " 101.2,\n",
       " 100.7,\n",
       " 101.9,\n",
       " 101.1,\n",
       " 103.3,\n",
       " 103.7,\n",
       " 95.9,\n",
       " 95.9,\n",
       " 95.7,\n",
       " 96.0,\n",
       " 101.2,\n",
       " 101.7,\n",
       " 104.5,\n",
       " 99.6,\n",
       " 99.6,\n",
       " 101.3,\n",
       " 99.6,\n",
       " 103.5,\n",
       " 99.8,\n",
       " 98.3,\n",
       " 98.2,\n",
       " 97.3,\n",
       " 95.8,\n",
       " 102.1,\n",
       " 99.9,\n",
       " 101.2,\n",
       " 100.6,\n",
       " 101.0,\n",
       " 101.0,\n",
       " 100.0,\n",
       " 99.3,\n",
       " 102.8,\n",
       " 98.5,\n",
       " 97.0,\n",
       " 95.9,\n",
       " 99.0,\n",
       " 102.8,\n",
       " 102.8,\n",
       " 100.2,\n",
       " 98.1,\n",
       " 99.2,\n",
       " 99.0,\n",
       " 98.6,\n",
       " 100.0,\n",
       " 95.9,\n",
       " 96.0,\n",
       " 96.4,\n",
       " 95.9,\n",
       " 102.8,\n",
       " 98.2,\n",
       " 101.0,\n",
       " 101.6,\n",
       " 100.2,\n",
       " 99.1,\n",
       " 99.6,\n",
       " 101.3,\n",
       " 98.9,\n",
       " 97.1,\n",
       " 97.4,\n",
       " 95.6,\n",
       " 97.5,\n",
       " 98.0,\n",
       " 101.4,\n",
       " 100.9,\n",
       " 97.7,\n",
       " 101.7,\n",
       " 98.6,\n",
       " 102.3,\n",
       " 101.0,\n",
       " 97.8,\n",
       " 96.4,\n",
       " 95.9,\n",
       " 95.0,\n",
       " 101.0,\n",
       " 99.8,\n",
       " 100.4,\n",
       " 102.8,\n",
       " 98.3,\n",
       " 101.7,\n",
       " 102.0,\n",
       " 101.2,\n",
       " 102.0,\n",
       " 93.9,\n",
       " 98.3,\n",
       " 97.3,\n",
       " 99.5,\n",
       " 101.9,\n",
       " 99.2,\n",
       " 99.9,\n",
       " 99.5,\n",
       " 101.2,\n",
       " 101.4,\n",
       " 99.9,\n",
       " 100.7,\n",
       " 98.2,\n",
       " 99.3,\n",
       " 94.9,\n",
       " 96.4,\n",
       " 101.9,\n",
       " 103.1,\n",
       " 102.0,\n",
       " 100.3,\n",
       " 100.9,\n",
       " 99.9,\n",
       " 100.3,\n",
       " 101.1,\n",
       " 103.3,\n",
       " 96.9,\n",
       " 95.4,\n",
       " 98.5,\n",
       " 101.0,\n",
       " 101.9,\n",
       " 100.5,\n",
       " 97.0,\n",
       " 101.4,\n",
       " 99.5,\n",
       " 101.7,\n",
       " 98.2,\n",
       " 98.6,\n",
       " 98.0,\n",
       " 98.3,\n",
       " 95.1,\n",
       " 97.9,\n",
       " 103.3,\n",
       " 100.7,\n",
       " 100.1,\n",
       " 98.0,\n",
       " 99.6,\n",
       " 101.7,\n",
       " 98.7,\n",
       " 102.2,\n",
       " ...]"
      ]
     },
     "execution_count": 37,
     "metadata": {},
     "output_type": "execute_result"
    }
   ],
   "source": [
    "paillier_cpu_use_short=shortlist_cpu_usage(cpu_usages_paillier)\n",
    "paillier_cpu_use_short"
   ]
  },
  {
   "cell_type": "code",
   "execution_count": 38,
   "id": "b08b1906-e12f-4881-a936-ea6199871af8",
   "metadata": {},
   "outputs": [],
   "source": [
    "paillier_cpu_use_short=np.array(paillier_cpu_use_short)"
   ]
  },
  {
   "cell_type": "code",
   "execution_count": 39,
   "id": "23d85184-511e-4cd3-a471-ab1e79da4ed0",
   "metadata": {},
   "outputs": [
    {
     "data": {
      "text/plain": [
       "99.61529073941134"
      ]
     },
     "execution_count": 39,
     "metadata": {},
     "output_type": "execute_result"
    }
   ],
   "source": [
    "paillier_cpu_use_short.mean()"
   ]
  },
  {
   "cell_type": "code",
   "execution_count": 40,
   "id": "b203da10-7b96-4cc0-a7c8-d232bb589873",
   "metadata": {},
   "outputs": [
    {
     "data": {
      "text/plain": [
       "416292.3"
      ]
     },
     "execution_count": 40,
     "metadata": {},
     "output_type": "execute_result"
    }
   ],
   "source": [
    "paillier_cpu_use_short.sum()"
   ]
  },
  {
   "cell_type": "code",
   "execution_count": 41,
   "id": "9c445644-8561-4c09-b11d-ef4e410b99d6",
   "metadata": {},
   "outputs": [
    {
     "data": {
      "text/plain": [
       "4162.923"
      ]
     },
     "execution_count": 41,
     "metadata": {},
     "output_type": "execute_result"
    }
   ],
   "source": [
    "cpu_seconds_for_paillier=paillier_cpu_use_short.sum()/100\n",
    "cpu_seconds_for_paillier"
   ]
  },
  {
   "cell_type": "code",
   "execution_count": 42,
   "id": "e3d13a63-5d5d-4ff4-b4ab-5588cd9bcdc8",
   "metadata": {},
   "outputs": [
    {
     "data": {
      "text/plain": [
       "120.6"
      ]
     },
     "execution_count": 42,
     "metadata": {},
     "output_type": "execute_result"
    }
   ],
   "source": [
    "paillier_cpu_use_short.max()"
   ]
  },
  {
   "cell_type": "code",
   "execution_count": 43,
   "id": "bd6288fc-44db-4a62-a4be-73d7f9775b36",
   "metadata": {},
   "outputs": [
    {
     "data": {
      "text/plain": [
       "91.0"
      ]
     },
     "execution_count": 43,
     "metadata": {},
     "output_type": "execute_result"
    }
   ],
   "source": [
    "paillier_cpu_use_short.min()"
   ]
  },
  {
   "cell_type": "code",
   "execution_count": 44,
   "id": "8019c7fa-7447-47ab-acb4-753b8c4852c0",
   "metadata": {},
   "outputs": [
    {
     "data": {
      "text/plain": [
       "4179"
      ]
     },
     "execution_count": 44,
     "metadata": {},
     "output_type": "execute_result"
    }
   ],
   "source": [
    "len(paillier_cpu_use_short)"
   ]
  },
  {
   "cell_type": "code",
   "execution_count": 45,
   "id": "73273bab-0732-4764-bf12-cceb3a768558",
   "metadata": {},
   "outputs": [],
   "source": [
    "cpu_percent_consumption_paillier=(paillier_cpu_use_short.sum()/(len(paillier_cpu_use_short)*200))*100"
   ]
  },
  {
   "cell_type": "code",
   "execution_count": 46,
   "id": "9cd56901-4016-4586-a50f-cf3b440e66c5",
   "metadata": {},
   "outputs": [
    {
     "data": {
      "text/plain": [
       "49.807645369705675"
      ]
     },
     "execution_count": 46,
     "metadata": {},
     "output_type": "execute_result"
    }
   ],
   "source": [
    "cpu_percent_consumption_paillier"
   ]
  },
  {
   "cell_type": "code",
   "execution_count": 47,
   "id": "70343caa-80ce-4735-9dfb-0055666876a0",
   "metadata": {},
   "outputs": [
    {
     "data": {
      "text/plain": [
       "[103.4,\n",
       " 100.3,\n",
       " 97.9,\n",
       " 98.6,\n",
       " 95.2,\n",
       " 103.6,\n",
       " 118.3,\n",
       " 111.4,\n",
       " 115.3,\n",
       " 95.4,\n",
       " 110.6,\n",
       " 100.5,\n",
       " 89.3,\n",
       " 96.4,\n",
       " 103.8,\n",
       " 96.8,\n",
       " 118.6,\n",
       " 110.0,\n",
       " 110.2,\n",
       " 105.0,\n",
       " 105.5,\n",
       " 89.4,\n",
       " 96.7,\n",
       " 99.4]"
      ]
     },
     "execution_count": 47,
     "metadata": {},
     "output_type": "execute_result"
    }
   ],
   "source": [
    "ckks_cpu_use_short=shortlist_cpu_usage(cpu_usages_ckks)\n",
    "ckks_cpu_use_short"
   ]
  },
  {
   "cell_type": "code",
   "execution_count": 48,
   "id": "d8c91d68-0f4b-4e31-b109-cb6eae6335e6",
   "metadata": {},
   "outputs": [],
   "source": [
    "ckks_cpu_use_short=np.array(ckks_cpu_use_short)"
   ]
  },
  {
   "cell_type": "code",
   "execution_count": 49,
   "id": "71971821-8163-43f7-9b65-139a6a6f3cd7",
   "metadata": {},
   "outputs": [
    {
     "data": {
      "text/plain": [
       "102.98333333333335"
      ]
     },
     "execution_count": 49,
     "metadata": {},
     "output_type": "execute_result"
    }
   ],
   "source": [
    "ckks_cpu_use_short.mean()"
   ]
  },
  {
   "cell_type": "code",
   "execution_count": 50,
   "id": "687db669-cafe-47d4-97d8-9e7e40f3e716",
   "metadata": {},
   "outputs": [
    {
     "data": {
      "text/plain": [
       "2471.6000000000004"
      ]
     },
     "execution_count": 50,
     "metadata": {},
     "output_type": "execute_result"
    }
   ],
   "source": [
    "ckks_cpu_use_short.sum()"
   ]
  },
  {
   "cell_type": "code",
   "execution_count": 51,
   "id": "d82a9236-d0d7-4e10-bf46-fed948ff8dac",
   "metadata": {},
   "outputs": [
    {
     "data": {
      "text/plain": [
       "24.716000000000005"
      ]
     },
     "execution_count": 51,
     "metadata": {},
     "output_type": "execute_result"
    }
   ],
   "source": [
    "cpu_seconds_for_ckks=ckks_cpu_use_short.sum()/100\n",
    "cpu_seconds_for_ckks"
   ]
  },
  {
   "cell_type": "code",
   "execution_count": 52,
   "id": "fd87bc08-edbb-4e73-aa46-4cb631b99b17",
   "metadata": {},
   "outputs": [
    {
     "data": {
      "text/plain": [
       "118.6"
      ]
     },
     "execution_count": 52,
     "metadata": {},
     "output_type": "execute_result"
    }
   ],
   "source": [
    "ckks_cpu_use_short.max()"
   ]
  },
  {
   "cell_type": "code",
   "execution_count": 53,
   "id": "353cd72a-d316-446b-a48c-7777b5c27bcd",
   "metadata": {},
   "outputs": [
    {
     "data": {
      "text/plain": [
       "89.3"
      ]
     },
     "execution_count": 53,
     "metadata": {},
     "output_type": "execute_result"
    }
   ],
   "source": [
    "ckks_cpu_use_short.min()"
   ]
  },
  {
   "cell_type": "code",
   "execution_count": 54,
   "id": "3849453f-a4ce-4f5e-a542-89df109235a2",
   "metadata": {},
   "outputs": [
    {
     "data": {
      "text/plain": [
       "24"
      ]
     },
     "execution_count": 54,
     "metadata": {},
     "output_type": "execute_result"
    }
   ],
   "source": [
    "len(ckks_cpu_use_short)"
   ]
  },
  {
   "cell_type": "code",
   "execution_count": 55,
   "id": "440523d9-19c4-406e-a164-bdd8d996f078",
   "metadata": {},
   "outputs": [
    {
     "data": {
      "text/plain": [
       "51.49166666666667"
      ]
     },
     "execution_count": 55,
     "metadata": {},
     "output_type": "execute_result"
    }
   ],
   "source": [
    "cpu_percent_consumption_ckks=(ckks_cpu_use_short.sum()/(len(ckks_cpu_use_short)*200))*100\n",
    "cpu_percent_consumption_ckks"
   ]
  },
  {
   "cell_type": "code",
   "execution_count": 56,
   "id": "9f0a6aa0-a1d5-4478-b84e-26c53182d9f3",
   "metadata": {},
   "outputs": [
    {
     "data": {
      "text/plain": [
       "['cpu_util_insights_ckks_1055_21.pkl']"
      ]
     },
     "execution_count": 56,
     "metadata": {},
     "output_type": "execute_result"
    }
   ],
   "source": [
    "joblib.dump((ckks_cpu_use_short.mean(),ckks_cpu_use_short.sum(),cpu_seconds_for_ckks,ckks_cpu_use_short.max(),ckks_cpu_use_short.min(),len(ckks_cpu_use_short),cpu_percent_consumption_ckks),'cpu_util_insights_ckks_1055_21.pkl')"
   ]
  },
  {
   "cell_type": "code",
   "execution_count": 57,
   "id": "86617836-0d9d-44be-83d2-c58990a2415d",
   "metadata": {},
   "outputs": [
    {
     "data": {
      "text/plain": [
       "['cpu_util_insights_paillier_1055_21.pkl']"
      ]
     },
     "execution_count": 57,
     "metadata": {},
     "output_type": "execute_result"
    }
   ],
   "source": [
    "joblib.dump((paillier_cpu_use_short.mean(),paillier_cpu_use_short.sum(),cpu_seconds_for_paillier,paillier_cpu_use_short.max(),paillier_cpu_use_short.min(),len(paillier_cpu_use_short),cpu_percent_consumption_paillier),'cpu_util_insights_paillier_1055_21.pkl')"
   ]
  }
 ],
 "metadata": {
  "kernelspec": {
   "display_name": "Python 3 (ipykernel)",
   "language": "python",
   "name": "python3"
  },
  "language_info": {
   "codemirror_mode": {
    "name": "ipython",
    "version": 3
   },
   "file_extension": ".py",
   "mimetype": "text/x-python",
   "name": "python",
   "nbconvert_exporter": "python",
   "pygments_lexer": "ipython3",
   "version": "3.12.3"
  }
 },
 "nbformat": 4,
 "nbformat_minor": 5
}
