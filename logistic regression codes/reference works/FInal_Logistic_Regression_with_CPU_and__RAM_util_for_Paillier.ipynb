{
  "nbformat": 4,
  "nbformat_minor": 0,
  "metadata": {
    "colab": {
      "provenance": []
    },
    "kernelspec": {
      "name": "python3",
      "display_name": "Python 3"
    },
    "language_info": {
      "name": "python"
    }
  },
  "cells": [
    {
      "cell_type": "code",
      "source": [
        "!pip install phe"
      ],
      "metadata": {
        "colab": {
          "base_uri": "https://localhost:8080/"
        },
        "id": "GKQVMVVN-XVq",
        "outputId": "5a48df3f-1d64-47d4-8c8f-4dfa9eb24f61"
      },
      "execution_count": 1,
      "outputs": [
        {
          "output_type": "stream",
          "name": "stdout",
          "text": [
            "Collecting phe\n",
            "  Downloading phe-1.5.0-py2.py3-none-any.whl (53 kB)\n",
            "\u001b[?25l     \u001b[90m━━━━━━━━━━━━━━━━━━━━━━━━━━━━━━━━━━━━━━━━\u001b[0m \u001b[32m0.0/53.7 kB\u001b[0m \u001b[31m?\u001b[0m eta \u001b[36m-:--:--\u001b[0m\r\u001b[2K     \u001b[90m━━━━━━━━━━━━━━━━━━━━━━━━━━━━━━━━━━━━━━━━\u001b[0m \u001b[32m53.7/53.7 kB\u001b[0m \u001b[31m2.6 MB/s\u001b[0m eta \u001b[36m0:00:00\u001b[0m\n",
            "\u001b[?25hInstalling collected packages: phe\n",
            "Successfully installed phe-1.5.0\n"
          ]
        }
      ]
    },
    {
      "cell_type": "code",
      "execution_count": 2,
      "metadata": {
        "id": "xb3DYKOp6bAK"
      },
      "outputs": [],
      "source": [
        "import numpy as np\n",
        "import pandas as pd\n",
        "from sklearn.datasets import make_classification\n",
        "from scipy.special import expit\n",
        "from sklearn.model_selection import train_test_split\n",
        "from sklearn.preprocessing import StandardScaler"
      ]
    },
    {
      "cell_type": "code",
      "source": [
        "# X, y = make_classification(n_samples=1000, n_features=10, n_classes=2, random_state=42)\n",
        "# X_train, X_test, y_train, y_test = train_test_split(X, y, test_size=0.2, random_state=42)\n",
        "\n",
        "X_train=pd.read_csv('X_train_classification.csv')\n",
        "X_train=X_train.to_numpy()\n",
        "X_test=pd.read_csv('X_test_classification.csv')\n",
        "X_test=X_test.to_numpy()\n",
        "y_train=pd.read_csv('y_train_classification.csv')\n",
        "y_train=y_train.to_numpy()\n",
        "y_train=y_train.reshape(-1)\n",
        "y_test=pd.read_csv('y_test_classification.csv')\n",
        "y_test=y_test.to_numpy().reshape(-1)"
      ],
      "metadata": {
        "id": "yUout16V-iUL"
      },
      "execution_count": 3,
      "outputs": []
    },
    {
      "cell_type": "code",
      "source": [
        "from phe import paillier\n",
        "public_key,private_key=paillier.generate_paillier_keypair()"
      ],
      "metadata": {
        "id": "8sl-sVTp-teg"
      },
      "execution_count": 4,
      "outputs": []
    },
    {
      "cell_type": "code",
      "source": [
        "scaler = StandardScaler()\n",
        "X_train = scaler.fit_transform(X_train)\n",
        "X_test = scaler.transform(X_test)"
      ],
      "metadata": {
        "id": "sCqPmhtb-wpr"
      },
      "execution_count": 5,
      "outputs": []
    },
    {
      "cell_type": "code",
      "source": [
        "def paillier_multiplication_edge(a,b):\n",
        "    a=private_key.decrypt(a)\n",
        "    a=a*b\n",
        "    return a"
      ],
      "metadata": {
        "id": "kN-ACrs--yqV"
      },
      "execution_count": 6,
      "outputs": []
    },
    {
      "cell_type": "code",
      "source": [
        "def paillier_multiplication_cloud(a,b):\n",
        "    noise1=10\n",
        "    noise2=20\n",
        "    a=a+noise1\n",
        "    sub_mass=(b*noise1)*(-1)\n",
        "    sol=paillier_multiplication_edge(a,b)\n",
        "    sol=sol+sub_mass\n",
        "    return sol"
      ],
      "metadata": {
        "id": "bxT8ZleZ-1Dq"
      },
      "execution_count": 7,
      "outputs": []
    },
    {
      "cell_type": "code",
      "source": [
        "def sigmoid(z):\n",
        "    z=private_key.decrypt(z)\n",
        "    z=expit(z)\n",
        "    z=public_key.encrypt(z)\n",
        "    return z"
      ],
      "metadata": {
        "id": "47UcW5SD-3EN"
      },
      "execution_count": 8,
      "outputs": []
    },
    {
      "cell_type": "code",
      "source": [
        "m, n = X_train.shape\n",
        "weights = np.zeros(n)\n",
        "bias = 0\n",
        "learning_rate=0.01"
      ],
      "metadata": {
        "id": "hGPtBnzY-46C"
      },
      "execution_count": 9,
      "outputs": []
    },
    {
      "cell_type": "code",
      "source": [
        "enc_X_train=[]\n",
        "for i in X_train:\n",
        "    row_in=[]\n",
        "    for j in i:\n",
        "        p=public_key.encrypt(j)\n",
        "        row_in.append(p)\n",
        "    enc_X_train.append(row_in)"
      ],
      "metadata": {
        "id": "tqONqPli-7tl"
      },
      "execution_count": 10,
      "outputs": []
    },
    {
      "cell_type": "code",
      "source": [
        "enc_y_train=[]\n",
        "for i in y_train:\n",
        "    p=public_key.encrypt(int(i))\n",
        "    enc_y_train.append(p)"
      ],
      "metadata": {
        "id": "CegVoZXgB2st"
      },
      "execution_count": 11,
      "outputs": []
    },
    {
      "cell_type": "code",
      "source": [
        "import time\n",
        "import psutil\n",
        "import os\n",
        "from threading import Thread"
      ],
      "metadata": {
        "id": "NO63UAW5CHPh"
      },
      "execution_count": 12,
      "outputs": []
    },
    {
      "cell_type": "code",
      "source": [
        "def get_cpu_and_ram_utilization(pid, duration):\n",
        "    process = psutil.Process(pid)\n",
        "    cpu_usages = []\n",
        "    ram_usages = []\n",
        "    start_time = time.time()\n",
        "    while time.time() - start_time < duration:\n",
        "        cpu_usage = process.cpu_percent(interval=1)\n",
        "        ram_usage = process.memory_percent()\n",
        "        cpu_usages.append(cpu_usage)\n",
        "        ram_usages.append(ram_usage)\n",
        "        print(f\"CPU utilization: {cpu_usage}% | RAM utilization: {ram_usage}%\")\n",
        "    total_cpu_usage = sum(cpu_usages)\n",
        "    return total_cpu_usage, cpu_usages, ram_usages"
      ],
      "metadata": {
        "id": "dx1eVI57Cc64"
      },
      "execution_count": 13,
      "outputs": []
    },
    {
      "cell_type": "code",
      "source": [
        "pid = os.getpid()\n",
        "\n",
        "# Duration to monitor CPU usage\n",
        "monitor_duration = 320"
      ],
      "metadata": {
        "id": "F9yvift3Cfmt"
      },
      "execution_count": 14,
      "outputs": []
    },
    {
      "cell_type": "code",
      "source": [
        "time.sleep(15)"
      ],
      "metadata": {
        "id": "PNwcRo3PClUR"
      },
      "execution_count": 15,
      "outputs": []
    },
    {
      "cell_type": "code",
      "source": [
        "results={}\n",
        "def logistic_regression_sgd(X, y, n, learning_rate=0.01, epochs=3):\n",
        "    train_time_start=time.time()\n",
        "    weights = np.zeros(n)\n",
        "\n",
        "    weights_enc=[]\n",
        "    for i in weights:\n",
        "        p=public_key.encrypt(i)\n",
        "        weights_enc.append(p)\n",
        "\n",
        "    bias=0\n",
        "    bias_enc=public_key.encrypt(bias)\n",
        "\n",
        "    for epoch in range(epochs):\n",
        "        indices = np.random.permutation(m)\n",
        "        for i in indices:\n",
        "            xi=enc_X_train[i]\n",
        "            yi=enc_y_train[i]\n",
        "\n",
        "            linear_output=0\n",
        "            for i,j in zip(xi,weights_enc):\n",
        "                p=paillier_multiplication_cloud(i,j)\n",
        "                linear_output=linear_output+p\n",
        "\n",
        "            linear_output=linear_output+bias_enc\n",
        "            y_pred=sigmoid(linear_output)\n",
        "            db=y_pred + (yi * (-1))\n",
        "            dw=[]\n",
        "            for i in xi:\n",
        "                p=paillier_multiplication_cloud(i,db)\n",
        "                dw.append(p)\n",
        "\n",
        "            for i in range(len(weights_enc)):\n",
        "                p=dw[i]*(-1)*learning_rate\n",
        "                weights_enc[i]=weights_enc[i]+p\n",
        "\n",
        "            bias_enc=bias_enc+(db*-1)*learning_rate\n",
        "\n",
        "    train_time_end=time.time()\n",
        "    train_time=train_time_end-train_time_start\n",
        "\n",
        "    results['train_time']=train_time\n",
        "    results['weights']=weights_enc\n",
        "    results['bias']=bias_enc\n",
        "    print(results['train_time'])"
      ],
      "metadata": {
        "id": "JSnVG4_rCohR"
      },
      "execution_count": 16,
      "outputs": []
    },
    {
      "cell_type": "code",
      "source": [
        "train_thread = Thread(target=logistic_regression_sgd, args=(enc_X_train, enc_y_train, n, learning_rate))\n",
        "train_thread.start()\n",
        "\n",
        "total_cpu_usage, cpu_usages, ram_usages = get_cpu_and_ram_utilization(pid, monitor_duration)\n",
        "train_thread.join()\n",
        "\n",
        "print(f\"Total CPU utilization over {monitor_duration} seconds: {total_cpu_usage}%\")\n",
        "\n",
        "# Print the CPU and RAM usage per second\n",
        "print(\"CPU usage per second:\", cpu_usages)\n",
        "print(\"RAM usage per second:\", ram_usages)\n",
        "\n",
        "# Calculate total CPU resource consumption in 'CPU-seconds'\n",
        "cpu_seconds = sum(cpu_usages) / 100\n",
        "print(f\"Total CPU resource consumption: {cpu_seconds} CPU-seconds\")"
      ],
      "metadata": {
        "colab": {
          "base_uri": "https://localhost:8080/"
        },
        "id": "JBqxbf2PDgMQ",
        "outputId": "f0136039-9146-4875-e5a0-63349febd5a0"
      },
      "execution_count": 17,
      "outputs": [
        {
          "output_type": "stream",
          "name": "stdout",
          "text": [
            "CPU utilization: 108.7% | RAM utilization: 1.5146804550030624%\n",
            "CPU utilization: 99.7% | RAM utilization: 1.5146804550030624%\n",
            "CPU utilization: 91.6% | RAM utilization: 1.5146804550030624%\n",
            "CPU utilization: 96.6% | RAM utilization: 1.5146804550030624%\n",
            "CPU utilization: 100.8% | RAM utilization: 1.5146804550030624%\n",
            "CPU utilization: 93.0% | RAM utilization: 1.5146804550030624%\n",
            "CPU utilization: 101.8% | RAM utilization: 1.5146804550030624%\n",
            "CPU utilization: 99.3% | RAM utilization: 1.5146804550030624%\n",
            "CPU utilization: 100.6% | RAM utilization: 1.5146804550030624%\n",
            "CPU utilization: 99.2% | RAM utilization: 1.5146804550030624%\n",
            "CPU utilization: 100.0% | RAM utilization: 1.5146804550030624%\n",
            "CPU utilization: 98.7% | RAM utilization: 1.5146804550030624%\n",
            "CPU utilization: 98.4% | RAM utilization: 1.5146804550030624%\n",
            "CPU utilization: 97.3% | RAM utilization: 1.5146804550030624%\n",
            "CPU utilization: 98.6% | RAM utilization: 1.5146804550030624%\n",
            "CPU utilization: 99.2% | RAM utilization: 1.5146804550030624%\n",
            "CPU utilization: 105.3% | RAM utilization: 1.5146804550030624%\n",
            "CPU utilization: 91.9% | RAM utilization: 1.5146804550030624%\n",
            "CPU utilization: 100.9% | RAM utilization: 1.5146804550030624%\n",
            "CPU utilization: 135.5% | RAM utilization: 1.5146804550030624%\n",
            "CPU utilization: 112.9% | RAM utilization: 1.5146804550030624%\n",
            "CPU utilization: 95.3% | RAM utilization: 1.5146804550030624%\n",
            "CPU utilization: 98.5% | RAM utilization: 1.5146804550030624%\n",
            "CPU utilization: 96.4% | RAM utilization: 1.5146804550030624%\n",
            "CPU utilization: 95.7% | RAM utilization: 1.5146804550030624%\n",
            "CPU utilization: 101.5% | RAM utilization: 1.5146804550030624%\n",
            "CPU utilization: 95.6% | RAM utilization: 1.5146804550030624%\n",
            "CPU utilization: 100.4% | RAM utilization: 1.5146804550030624%\n",
            "CPU utilization: 102.3% | RAM utilization: 1.5146804550030624%\n",
            "CPU utilization: 85.5% | RAM utilization: 1.5146804550030624%\n",
            "CPU utilization: 86.3% | RAM utilization: 1.5146804550030624%\n",
            "CPU utilization: 101.6% | RAM utilization: 1.5146804550030624%\n",
            "CPU utilization: 95.6% | RAM utilization: 1.5146804550030624%\n",
            "CPU utilization: 98.5% | RAM utilization: 1.5146804550030624%\n",
            "CPU utilization: 96.1% | RAM utilization: 1.5146804550030624%\n",
            "CPU utilization: 106.0% | RAM utilization: 1.5146804550030624%\n",
            "CPU utilization: 95.7% | RAM utilization: 1.5146804550030624%\n",
            "CPU utilization: 96.1% | RAM utilization: 1.5146804550030624%\n",
            "CPU utilization: 98.2% | RAM utilization: 1.5146804550030624%\n",
            "CPU utilization: 103.0% | RAM utilization: 1.5146804550030624%\n",
            "CPU utilization: 101.9% | RAM utilization: 1.5146804550030624%\n",
            "CPU utilization: 98.3% | RAM utilization: 1.5146804550030624%\n",
            "CPU utilization: 99.8% | RAM utilization: 1.5146804550030624%\n",
            "CPU utilization: 96.5% | RAM utilization: 1.5146804550030624%\n",
            "CPU utilization: 97.2% | RAM utilization: 1.5146804550030624%\n",
            "CPU utilization: 100.2% | RAM utilization: 1.5146804550030624%\n",
            "CPU utilization: 100.7% | RAM utilization: 1.5146804550030624%\n",
            "CPU utilization: 105.8% | RAM utilization: 1.5146804550030624%\n",
            "CPU utilization: 102.1% | RAM utilization: 1.5146804550030624%\n",
            "CPU utilization: 101.9% | RAM utilization: 1.5146804550030624%\n",
            "CPU utilization: 99.4% | RAM utilization: 1.5146804550030624%\n",
            "CPU utilization: 106.9% | RAM utilization: 1.5146804550030624%\n",
            "CPU utilization: 142.6% | RAM utilization: 1.5146804550030624%\n",
            "CPU utilization: 91.9% | RAM utilization: 1.5146804550030624%\n",
            "CPU utilization: 98.2% | RAM utilization: 1.5146804550030624%\n",
            "CPU utilization: 102.8% | RAM utilization: 1.5146804550030624%\n",
            "CPU utilization: 99.5% | RAM utilization: 1.5146804550030624%\n",
            "CPU utilization: 100.7% | RAM utilization: 1.5146804550030624%\n",
            "CPU utilization: 99.3% | RAM utilization: 1.5146804550030624%\n",
            "CPU utilization: 101.7% | RAM utilization: 1.5146804550030624%\n",
            "CPU utilization: 100.3% | RAM utilization: 1.5146804550030624%\n",
            "CPU utilization: 99.6% | RAM utilization: 1.5146804550030624%\n",
            "CPU utilization: 101.5% | RAM utilization: 1.5146804550030624%\n",
            "CPU utilization: 97.7% | RAM utilization: 1.5146804550030624%\n",
            "CPU utilization: 97.7% | RAM utilization: 1.5146804550030624%\n",
            "CPU utilization: 97.4% | RAM utilization: 1.5146804550030624%\n",
            "CPU utilization: 98.4% | RAM utilization: 1.5146804550030624%\n",
            "CPU utilization: 100.5% | RAM utilization: 1.5146804550030624%\n",
            "CPU utilization: 101.7% | RAM utilization: 1.5146804550030624%\n",
            "CPU utilization: 100.1% | RAM utilization: 1.5146804550030624%\n",
            "CPU utilization: 104.2% | RAM utilization: 1.5146804550030624%\n",
            "CPU utilization: 103.9% | RAM utilization: 1.5146804550030624%\n",
            "CPU utilization: 99.7% | RAM utilization: 1.5146804550030624%\n",
            "CPU utilization: 101.8% | RAM utilization: 1.5146804550030624%\n",
            "CPU utilization: 98.1% | RAM utilization: 1.5146804550030624%\n",
            "CPU utilization: 97.4% | RAM utilization: 1.5146804550030624%\n",
            "CPU utilization: 96.3% | RAM utilization: 1.5146804550030624%\n",
            "CPU utilization: 99.9% | RAM utilization: 1.5146804550030624%\n",
            "CPU utilization: 95.8% | RAM utilization: 1.5146804550030624%\n",
            "CPU utilization: 102.5% | RAM utilization: 1.5146804550030624%\n",
            "CPU utilization: 95.4% | RAM utilization: 1.5146804550030624%\n",
            "CPU utilization: 104.4% | RAM utilization: 1.5146804550030624%\n",
            "CPU utilization: 100.0% | RAM utilization: 1.5146804550030624%\n",
            "CPU utilization: 101.4% | RAM utilization: 1.5146804550030624%\n",
            "CPU utilization: 112.2% | RAM utilization: 1.5146804550030624%\n",
            "CPU utilization: 100.2% | RAM utilization: 1.5146804550030624%\n",
            "CPU utilization: 104.3% | RAM utilization: 1.5146804550030624%\n",
            "CPU utilization: 97.5% | RAM utilization: 1.5146804550030624%\n",
            "CPU utilization: 100.2% | RAM utilization: 1.5146804550030624%\n",
            "CPU utilization: 93.2% | RAM utilization: 1.5146804550030624%\n",
            "CPU utilization: 100.2% | RAM utilization: 1.5146804550030624%\n",
            "CPU utilization: 102.6% | RAM utilization: 1.5146804550030624%\n",
            "CPU utilization: 97.5% | RAM utilization: 1.5146804550030624%\n",
            "CPU utilization: 133.3% | RAM utilization: 1.5146804550030624%\n",
            "CPU utilization: 101.0% | RAM utilization: 1.5146804550030624%\n",
            "CPU utilization: 99.5% | RAM utilization: 1.5146804550030624%\n",
            "CPU utilization: 91.6% | RAM utilization: 1.5146804550030624%\n",
            "CPU utilization: 98.4% | RAM utilization: 1.5146804550030624%\n",
            "CPU utilization: 97.1% | RAM utilization: 1.5146804550030624%\n",
            "CPU utilization: 99.3% | RAM utilization: 1.5146804550030624%\n",
            "CPU utilization: 97.8% | RAM utilization: 1.5146804550030624%\n",
            "CPU utilization: 93.2% | RAM utilization: 1.5146804550030624%\n",
            "CPU utilization: 108.3% | RAM utilization: 1.5146804550030624%\n",
            "CPU utilization: 99.9% | RAM utilization: 1.5146804550030624%\n",
            "CPU utilization: 92.2% | RAM utilization: 1.5146804550030624%\n",
            "CPU utilization: 94.5% | RAM utilization: 1.5146804550030624%\n",
            "CPU utilization: 98.0% | RAM utilization: 1.5146804550030624%\n",
            "CPU utilization: 97.4% | RAM utilization: 1.5146804550030624%\n",
            "CPU utilization: 95.3% | RAM utilization: 1.5146804550030624%\n",
            "CPU utilization: 97.9% | RAM utilization: 1.5146804550030624%\n",
            "CPU utilization: 102.3% | RAM utilization: 1.5146804550030624%\n",
            "CPU utilization: 102.6% | RAM utilization: 1.5146804550030624%\n",
            "CPU utilization: 102.9% | RAM utilization: 1.5146804550030624%\n",
            "CPU utilization: 105.4% | RAM utilization: 1.5146804550030624%\n",
            "CPU utilization: 101.8% | RAM utilization: 1.5146804550030624%\n",
            "CPU utilization: 102.1% | RAM utilization: 1.5146804550030624%\n",
            "CPU utilization: 94.1% | RAM utilization: 1.5146804550030624%\n",
            "CPU utilization: 96.1% | RAM utilization: 1.5146804550030624%\n",
            "CPU utilization: 96.3% | RAM utilization: 1.5146804550030624%\n",
            "CPU utilization: 100.0% | RAM utilization: 1.5146804550030624%\n",
            "CPU utilization: 100.8% | RAM utilization: 1.5146804550030624%\n",
            "CPU utilization: 96.0% | RAM utilization: 1.5146804550030624%\n",
            "CPU utilization: 100.7% | RAM utilization: 1.5146804550030624%\n",
            "CPU utilization: 100.9% | RAM utilization: 1.5146804550030624%\n",
            "CPU utilization: 100.9% | RAM utilization: 1.5146804550030624%\n",
            "CPU utilization: 100.0% | RAM utilization: 1.5146804550030624%\n",
            "CPU utilization: 99.8% | RAM utilization: 1.5146804550030624%\n",
            "CPU utilization: 97.6% | RAM utilization: 1.5146804550030624%\n",
            "CPU utilization: 96.9% | RAM utilization: 1.5146804550030624%\n",
            "CPU utilization: 99.2% | RAM utilization: 1.5146804550030624%\n",
            "CPU utilization: 96.2% | RAM utilization: 1.5146804550030624%\n",
            "CPU utilization: 99.4% | RAM utilization: 1.5146804550030624%\n",
            "CPU utilization: 94.7% | RAM utilization: 1.5146804550030624%\n",
            "CPU utilization: 104.5% | RAM utilization: 1.5146804550030624%\n",
            "CPU utilization: 105.3% | RAM utilization: 1.5146804550030624%\n",
            "CPU utilization: 101.1% | RAM utilization: 1.5146804550030624%\n",
            "CPU utilization: 100.2% | RAM utilization: 1.5146804550030624%\n",
            "CPU utilization: 87.1% | RAM utilization: 1.5146804550030624%\n",
            "CPU utilization: 96.3% | RAM utilization: 1.5146804550030624%\n",
            "CPU utilization: 96.0% | RAM utilization: 1.5146804550030624%\n",
            "CPU utilization: 101.8% | RAM utilization: 1.5146804550030624%\n",
            "CPU utilization: 102.1% | RAM utilization: 1.5146804550030624%\n",
            "CPU utilization: 90.4% | RAM utilization: 1.5146804550030624%\n",
            "CPU utilization: 99.6% | RAM utilization: 1.5146804550030624%\n",
            "CPU utilization: 101.6% | RAM utilization: 1.5146804550030624%\n",
            "CPU utilization: 137.0% | RAM utilization: 1.5146804550030624%\n",
            "CPU utilization: 95.5% | RAM utilization: 1.5146804550030624%\n",
            "CPU utilization: 99.1% | RAM utilization: 1.5146804550030624%\n",
            "CPU utilization: 97.3% | RAM utilization: 1.5146804550030624%\n",
            "CPU utilization: 96.5% | RAM utilization: 1.5146804550030624%\n",
            "CPU utilization: 98.6% | RAM utilization: 1.5146804550030624%\n",
            "CPU utilization: 102.0% | RAM utilization: 1.5146804550030624%\n",
            "CPU utilization: 105.5% | RAM utilization: 1.5146804550030624%\n",
            "CPU utilization: 74.6% | RAM utilization: 1.5146804550030624%\n",
            "CPU utilization: 95.7% | RAM utilization: 1.5146804550030624%\n",
            "CPU utilization: 98.9% | RAM utilization: 1.5146804550030624%\n",
            "CPU utilization: 92.6% | RAM utilization: 1.5146804550030624%\n",
            "CPU utilization: 101.6% | RAM utilization: 1.5146804550030624%\n",
            "CPU utilization: 95.5% | RAM utilization: 1.5146804550030624%\n",
            "CPU utilization: 97.3% | RAM utilization: 1.5146804550030624%\n",
            "CPU utilization: 98.2% | RAM utilization: 1.5146804550030624%\n",
            "CPU utilization: 100.0% | RAM utilization: 1.5146804550030624%\n",
            "CPU utilization: 101.3% | RAM utilization: 1.5146804550030624%\n",
            "CPU utilization: 102.7% | RAM utilization: 1.5146804550030624%\n",
            "CPU utilization: 99.7% | RAM utilization: 1.5146804550030624%\n",
            "CPU utilization: 99.5% | RAM utilization: 1.5146804550030624%\n",
            "CPU utilization: 99.5% | RAM utilization: 1.5146804550030624%\n",
            "CPU utilization: 101.1% | RAM utilization: 1.5146804550030624%\n",
            "CPU utilization: 100.0% | RAM utilization: 1.5146804550030624%\n",
            "CPU utilization: 95.8% | RAM utilization: 1.5146804550030624%\n",
            "CPU utilization: 97.2% | RAM utilization: 1.5146804550030624%\n",
            "CPU utilization: 97.2% | RAM utilization: 1.5146804550030624%\n",
            "CPU utilization: 98.7% | RAM utilization: 1.5146804550030624%\n",
            "CPU utilization: 98.2% | RAM utilization: 1.5146804550030624%\n",
            "CPU utilization: 105.9% | RAM utilization: 1.5146804550030624%\n",
            "CPU utilization: 69.6% | RAM utilization: 1.5146804550030624%\n",
            "CPU utilization: 100.1% | RAM utilization: 1.5146804550030624%\n",
            "CPU utilization: 101.7% | RAM utilization: 1.5146804550030624%\n",
            "CPU utilization: 101.4% | RAM utilization: 1.5146804550030624%\n",
            "CPU utilization: 99.4% | RAM utilization: 1.5146804550030624%\n",
            "CPU utilization: 98.5% | RAM utilization: 1.5146804550030624%\n",
            "CPU utilization: 96.7% | RAM utilization: 1.5146804550030624%\n",
            "CPU utilization: 95.9% | RAM utilization: 1.5146804550030624%\n",
            "CPU utilization: 99.5% | RAM utilization: 1.5146804550030624%\n",
            "CPU utilization: 95.2% | RAM utilization: 1.5146804550030624%\n",
            "CPU utilization: 100.2% | RAM utilization: 1.5146804550030624%\n",
            "CPU utilization: 101.4% | RAM utilization: 1.5146804550030624%\n",
            "CPU utilization: 96.3% | RAM utilization: 1.5146804550030624%\n",
            "CPU utilization: 88.2% | RAM utilization: 1.5146804550030624%\n",
            "CPU utilization: 100.2% | RAM utilization: 1.5146804550030624%\n",
            "CPU utilization: 100.9% | RAM utilization: 1.5146804550030624%\n",
            "CPU utilization: 98.3% | RAM utilization: 1.5146804550030624%\n",
            "CPU utilization: 97.8% | RAM utilization: 1.5146804550030624%\n",
            "CPU utilization: 95.3% | RAM utilization: 1.5146804550030624%\n",
            "CPU utilization: 99.4% | RAM utilization: 1.5146804550030624%\n",
            "CPU utilization: 99.5% | RAM utilization: 1.5146804550030624%\n",
            "CPU utilization: 100.0% | RAM utilization: 1.5146804550030624%\n",
            "CPU utilization: 112.9% | RAM utilization: 1.5146804550030624%\n",
            "CPU utilization: 99.7% | RAM utilization: 1.5146804550030624%\n",
            "CPU utilization: 102.4% | RAM utilization: 1.5146804550030624%\n",
            "CPU utilization: 99.2% | RAM utilization: 1.5146804550030624%\n",
            "CPU utilization: 107.4% | RAM utilization: 1.5146804550030624%\n",
            "CPU utilization: 140.7% | RAM utilization: 1.5146804550030624%\n",
            "CPU utilization: 97.7% | RAM utilization: 1.5146804550030624%\n",
            "CPU utilization: 96.6% | RAM utilization: 1.5146804550030624%\n",
            "CPU utilization: 103.9% | RAM utilization: 1.5146804550030624%\n",
            "CPU utilization: 100.5% | RAM utilization: 1.5146804550030624%\n",
            "CPU utilization: 99.1% | RAM utilization: 1.5146804550030624%\n",
            "CPU utilization: 100.2% | RAM utilization: 1.5146804550030624%\n",
            "CPU utilization: 100.9% | RAM utilization: 1.5146804550030624%\n",
            "CPU utilization: 99.8% | RAM utilization: 1.5146804550030624%\n",
            "CPU utilization: 103.9% | RAM utilization: 1.5146804550030624%\n",
            "CPU utilization: 98.6% | RAM utilization: 1.5146804550030624%\n",
            "CPU utilization: 96.5% | RAM utilization: 1.5146804550030624%\n",
            "CPU utilization: 96.3% | RAM utilization: 1.5146804550030624%\n",
            "266.33267998695374\n",
            "CPU utilization: 41.0% | RAM utilization: 1.5163357776931725%\n",
            "CPU utilization: 0.0% | RAM utilization: 1.5163357776931725%\n",
            "CPU utilization: 1.0% | RAM utilization: 1.5163357776931725%\n",
            "CPU utilization: 0.0% | RAM utilization: 1.5163357776931725%\n",
            "CPU utilization: 0.0% | RAM utilization: 1.5163357776931725%\n",
            "CPU utilization: 1.0% | RAM utilization: 1.5163357776931725%\n",
            "CPU utilization: 2.0% | RAM utilization: 1.5163357776931725%\n",
            "CPU utilization: 1.0% | RAM utilization: 1.5163357776931725%\n",
            "CPU utilization: 0.0% | RAM utilization: 1.5163357776931725%\n",
            "CPU utilization: 1.0% | RAM utilization: 1.5163357776931725%\n",
            "CPU utilization: 0.0% | RAM utilization: 1.5163357776931725%\n",
            "CPU utilization: 0.0% | RAM utilization: 1.5163357776931725%\n",
            "CPU utilization: 1.0% | RAM utilization: 1.5163357776931725%\n",
            "CPU utilization: 1.0% | RAM utilization: 1.5163357776931725%\n",
            "CPU utilization: 1.0% | RAM utilization: 1.5163357776931725%\n",
            "CPU utilization: 1.0% | RAM utilization: 1.5163357776931725%\n",
            "CPU utilization: 1.0% | RAM utilization: 1.5163357776931725%\n",
            "CPU utilization: 0.0% | RAM utilization: 1.5163357776931725%\n",
            "CPU utilization: 1.0% | RAM utilization: 1.5163357776931725%\n",
            "CPU utilization: 2.0% | RAM utilization: 1.5163357776931725%\n",
            "CPU utilization: 1.0% | RAM utilization: 1.5163357776931725%\n",
            "CPU utilization: 1.0% | RAM utilization: 1.5163357776931725%\n",
            "CPU utilization: 1.0% | RAM utilization: 1.5163357776931725%\n",
            "CPU utilization: 0.0% | RAM utilization: 1.5163357776931725%\n",
            "CPU utilization: 0.0% | RAM utilization: 1.5163357776931725%\n",
            "CPU utilization: 1.0% | RAM utilization: 1.5163357776931725%\n",
            "CPU utilization: 1.0% | RAM utilization: 1.5163357776931725%\n",
            "CPU utilization: 1.0% | RAM utilization: 1.5163357776931725%\n",
            "CPU utilization: 1.0% | RAM utilization: 1.5163357776931725%\n",
            "CPU utilization: 1.0% | RAM utilization: 1.5163357776931725%\n",
            "CPU utilization: 0.0% | RAM utilization: 1.5163357776931725%\n",
            "CPU utilization: 1.0% | RAM utilization: 1.5163357776931725%\n",
            "CPU utilization: 2.0% | RAM utilization: 1.5163357776931725%\n",
            "CPU utilization: 0.0% | RAM utilization: 1.5163357776931725%\n",
            "CPU utilization: 1.0% | RAM utilization: 1.5163357776931725%\n",
            "CPU utilization: 0.0% | RAM utilization: 1.5163357776931725%\n",
            "CPU utilization: 1.0% | RAM utilization: 1.5163357776931725%\n",
            "CPU utilization: 1.0% | RAM utilization: 1.5163357776931725%\n",
            "CPU utilization: 1.0% | RAM utilization: 1.5163357776931725%\n",
            "CPU utilization: 0.0% | RAM utilization: 1.5163357776931725%\n",
            "CPU utilization: 1.0% | RAM utilization: 1.5163357776931725%\n",
            "CPU utilization: 2.0% | RAM utilization: 1.5163357776931725%\n",
            "CPU utilization: 1.0% | RAM utilization: 1.5163357776931725%\n",
            "CPU utilization: 0.0% | RAM utilization: 1.5163357776931725%\n",
            "CPU utilization: 0.0% | RAM utilization: 1.5163357776931725%\n",
            "CPU utilization: 1.0% | RAM utilization: 1.5163357776931725%\n",
            "CPU utilization: 1.0% | RAM utilization: 1.5163357776931725%\n",
            "CPU utilization: 0.0% | RAM utilization: 1.5163357776931725%\n",
            "CPU utilization: 1.0% | RAM utilization: 1.5163357776931725%\n",
            "CPU utilization: 1.0% | RAM utilization: 1.5163357776931725%\n",
            "CPU utilization: 0.0% | RAM utilization: 1.5163357776931725%\n",
            "CPU utilization: 1.0% | RAM utilization: 1.5163357776931725%\n",
            "CPU utilization: 2.0% | RAM utilization: 1.5163357776931725%\n",
            "CPU utilization: 1.0% | RAM utilization: 1.5163357776931725%\n",
            "Total CPU utilization over 320 seconds: 21553.200000000015%\n",
            "CPU usage per second: [108.7, 99.7, 91.6, 96.6, 100.8, 93.0, 101.8, 99.3, 100.6, 99.2, 100.0, 98.7, 98.4, 97.3, 98.6, 99.2, 105.3, 91.9, 100.9, 135.5, 112.9, 95.3, 98.5, 96.4, 95.7, 101.5, 95.6, 100.4, 102.3, 85.5, 86.3, 101.6, 95.6, 98.5, 96.1, 106.0, 95.7, 96.1, 98.2, 103.0, 101.9, 98.3, 99.8, 96.5, 97.2, 100.2, 100.7, 105.8, 102.1, 101.9, 99.4, 106.9, 142.6, 91.9, 98.2, 102.8, 99.5, 100.7, 99.3, 101.7, 100.3, 99.6, 101.5, 97.7, 97.7, 97.4, 98.4, 100.5, 101.7, 100.1, 104.2, 103.9, 99.7, 101.8, 98.1, 97.4, 96.3, 99.9, 95.8, 102.5, 95.4, 104.4, 100.0, 101.4, 112.2, 100.2, 104.3, 97.5, 100.2, 93.2, 100.2, 102.6, 97.5, 133.3, 101.0, 99.5, 91.6, 98.4, 97.1, 99.3, 97.8, 93.2, 108.3, 99.9, 92.2, 94.5, 98.0, 97.4, 95.3, 97.9, 102.3, 102.6, 102.9, 105.4, 101.8, 102.1, 94.1, 96.1, 96.3, 100.0, 100.8, 96.0, 100.7, 100.9, 100.9, 100.0, 99.8, 97.6, 96.9, 99.2, 96.2, 99.4, 94.7, 104.5, 105.3, 101.1, 100.2, 87.1, 96.3, 96.0, 101.8, 102.1, 90.4, 99.6, 101.6, 137.0, 95.5, 99.1, 97.3, 96.5, 98.6, 102.0, 105.5, 74.6, 95.7, 98.9, 92.6, 101.6, 95.5, 97.3, 98.2, 100.0, 101.3, 102.7, 99.7, 99.5, 99.5, 101.1, 100.0, 95.8, 97.2, 97.2, 98.7, 98.2, 105.9, 69.6, 100.1, 101.7, 101.4, 99.4, 98.5, 96.7, 95.9, 99.5, 95.2, 100.2, 101.4, 96.3, 88.2, 100.2, 100.9, 98.3, 97.8, 95.3, 99.4, 99.5, 100.0, 112.9, 99.7, 102.4, 99.2, 107.4, 140.7, 97.7, 96.6, 103.9, 100.5, 99.1, 100.2, 100.9, 99.8, 103.9, 98.6, 96.5, 96.3, 41.0, 0.0, 1.0, 0.0, 0.0, 1.0, 2.0, 1.0, 0.0, 1.0, 0.0, 0.0, 1.0, 1.0, 1.0, 1.0, 1.0, 0.0, 1.0, 2.0, 1.0, 1.0, 1.0, 0.0, 0.0, 1.0, 1.0, 1.0, 1.0, 1.0, 0.0, 1.0, 2.0, 0.0, 1.0, 0.0, 1.0, 1.0, 1.0, 0.0, 1.0, 2.0, 1.0, 0.0, 0.0, 1.0, 1.0, 0.0, 1.0, 1.0, 0.0, 1.0, 2.0, 1.0]\n",
            "RAM usage per second: [1.5146804550030624, 1.5146804550030624, 1.5146804550030624, 1.5146804550030624, 1.5146804550030624, 1.5146804550030624, 1.5146804550030624, 1.5146804550030624, 1.5146804550030624, 1.5146804550030624, 1.5146804550030624, 1.5146804550030624, 1.5146804550030624, 1.5146804550030624, 1.5146804550030624, 1.5146804550030624, 1.5146804550030624, 1.5146804550030624, 1.5146804550030624, 1.5146804550030624, 1.5146804550030624, 1.5146804550030624, 1.5146804550030624, 1.5146804550030624, 1.5146804550030624, 1.5146804550030624, 1.5146804550030624, 1.5146804550030624, 1.5146804550030624, 1.5146804550030624, 1.5146804550030624, 1.5146804550030624, 1.5146804550030624, 1.5146804550030624, 1.5146804550030624, 1.5146804550030624, 1.5146804550030624, 1.5146804550030624, 1.5146804550030624, 1.5146804550030624, 1.5146804550030624, 1.5146804550030624, 1.5146804550030624, 1.5146804550030624, 1.5146804550030624, 1.5146804550030624, 1.5146804550030624, 1.5146804550030624, 1.5146804550030624, 1.5146804550030624, 1.5146804550030624, 1.5146804550030624, 1.5146804550030624, 1.5146804550030624, 1.5146804550030624, 1.5146804550030624, 1.5146804550030624, 1.5146804550030624, 1.5146804550030624, 1.5146804550030624, 1.5146804550030624, 1.5146804550030624, 1.5146804550030624, 1.5146804550030624, 1.5146804550030624, 1.5146804550030624, 1.5146804550030624, 1.5146804550030624, 1.5146804550030624, 1.5146804550030624, 1.5146804550030624, 1.5146804550030624, 1.5146804550030624, 1.5146804550030624, 1.5146804550030624, 1.5146804550030624, 1.5146804550030624, 1.5146804550030624, 1.5146804550030624, 1.5146804550030624, 1.5146804550030624, 1.5146804550030624, 1.5146804550030624, 1.5146804550030624, 1.5146804550030624, 1.5146804550030624, 1.5146804550030624, 1.5146804550030624, 1.5146804550030624, 1.5146804550030624, 1.5146804550030624, 1.5146804550030624, 1.5146804550030624, 1.5146804550030624, 1.5146804550030624, 1.5146804550030624, 1.5146804550030624, 1.5146804550030624, 1.5146804550030624, 1.5146804550030624, 1.5146804550030624, 1.5146804550030624, 1.5146804550030624, 1.5146804550030624, 1.5146804550030624, 1.5146804550030624, 1.5146804550030624, 1.5146804550030624, 1.5146804550030624, 1.5146804550030624, 1.5146804550030624, 1.5146804550030624, 1.5146804550030624, 1.5146804550030624, 1.5146804550030624, 1.5146804550030624, 1.5146804550030624, 1.5146804550030624, 1.5146804550030624, 1.5146804550030624, 1.5146804550030624, 1.5146804550030624, 1.5146804550030624, 1.5146804550030624, 1.5146804550030624, 1.5146804550030624, 1.5146804550030624, 1.5146804550030624, 1.5146804550030624, 1.5146804550030624, 1.5146804550030624, 1.5146804550030624, 1.5146804550030624, 1.5146804550030624, 1.5146804550030624, 1.5146804550030624, 1.5146804550030624, 1.5146804550030624, 1.5146804550030624, 1.5146804550030624, 1.5146804550030624, 1.5146804550030624, 1.5146804550030624, 1.5146804550030624, 1.5146804550030624, 1.5146804550030624, 1.5146804550030624, 1.5146804550030624, 1.5146804550030624, 1.5146804550030624, 1.5146804550030624, 1.5146804550030624, 1.5146804550030624, 1.5146804550030624, 1.5146804550030624, 1.5146804550030624, 1.5146804550030624, 1.5146804550030624, 1.5146804550030624, 1.5146804550030624, 1.5146804550030624, 1.5146804550030624, 1.5146804550030624, 1.5146804550030624, 1.5146804550030624, 1.5146804550030624, 1.5146804550030624, 1.5146804550030624, 1.5146804550030624, 1.5146804550030624, 1.5146804550030624, 1.5146804550030624, 1.5146804550030624, 1.5146804550030624, 1.5146804550030624, 1.5146804550030624, 1.5146804550030624, 1.5146804550030624, 1.5146804550030624, 1.5146804550030624, 1.5146804550030624, 1.5146804550030624, 1.5146804550030624, 1.5146804550030624, 1.5146804550030624, 1.5146804550030624, 1.5146804550030624, 1.5146804550030624, 1.5146804550030624, 1.5146804550030624, 1.5146804550030624, 1.5146804550030624, 1.5146804550030624, 1.5146804550030624, 1.5146804550030624, 1.5146804550030624, 1.5146804550030624, 1.5146804550030624, 1.5146804550030624, 1.5146804550030624, 1.5146804550030624, 1.5146804550030624, 1.5146804550030624, 1.5146804550030624, 1.5146804550030624, 1.5146804550030624, 1.5146804550030624, 1.5146804550030624, 1.5146804550030624, 1.5146804550030624, 1.5146804550030624, 1.5146804550030624, 1.5146804550030624, 1.5146804550030624, 1.5146804550030624, 1.5163357776931725, 1.5163357776931725, 1.5163357776931725, 1.5163357776931725, 1.5163357776931725, 1.5163357776931725, 1.5163357776931725, 1.5163357776931725, 1.5163357776931725, 1.5163357776931725, 1.5163357776931725, 1.5163357776931725, 1.5163357776931725, 1.5163357776931725, 1.5163357776931725, 1.5163357776931725, 1.5163357776931725, 1.5163357776931725, 1.5163357776931725, 1.5163357776931725, 1.5163357776931725, 1.5163357776931725, 1.5163357776931725, 1.5163357776931725, 1.5163357776931725, 1.5163357776931725, 1.5163357776931725, 1.5163357776931725, 1.5163357776931725, 1.5163357776931725, 1.5163357776931725, 1.5163357776931725, 1.5163357776931725, 1.5163357776931725, 1.5163357776931725, 1.5163357776931725, 1.5163357776931725, 1.5163357776931725, 1.5163357776931725, 1.5163357776931725, 1.5163357776931725, 1.5163357776931725, 1.5163357776931725, 1.5163357776931725, 1.5163357776931725, 1.5163357776931725, 1.5163357776931725, 1.5163357776931725, 1.5163357776931725, 1.5163357776931725, 1.5163357776931725, 1.5163357776931725, 1.5163357776931725, 1.5163357776931725]\n",
            "Total CPU resource consumption: 215.53200000000015 CPU-seconds\n"
          ]
        }
      ]
    },
    {
      "cell_type": "code",
      "source": [
        "private_key.decrypt(results['bias'])"
      ],
      "metadata": {
        "colab": {
          "base_uri": "https://localhost:8080/"
        },
        "id": "m2izcw0XDyDW",
        "outputId": "35f2439f-0999-4157-c41b-0be79eb9e898"
      },
      "execution_count": 18,
      "outputs": [
        {
          "output_type": "execute_result",
          "data": {
            "text/plain": [
              "0.0016347815812693446"
            ]
          },
          "metadata": {},
          "execution_count": 18
        }
      ]
    },
    {
      "cell_type": "code",
      "source": [
        "for i in results['weights']:\n",
        "  print(private_key.decrypt(i))"
      ],
      "metadata": {
        "colab": {
          "base_uri": "https://localhost:8080/"
        },
        "id": "j35g0fvYFx2q",
        "outputId": "82c0cb4d-b855-4f5b-a9c9-c9f02a7f5cd1"
      },
      "execution_count": 19,
      "outputs": [
        {
          "output_type": "stream",
          "name": "stdout",
          "text": [
            "0.12596141476070313\n",
            "0.7054294238278394\n"
          ]
        }
      ]
    },
    {
      "cell_type": "code",
      "source": [
        "enc_X_test=[]\n",
        "for i in X_test:\n",
        "    row_in=[]\n",
        "    for j in i:\n",
        "        p=public_key.encrypt(j)\n",
        "        row_in.append(p)\n",
        "    enc_X_test.append(row_in)"
      ],
      "metadata": {
        "id": "FWLqrCdMIywn"
      },
      "execution_count": 20,
      "outputs": []
    },
    {
      "cell_type": "code",
      "source": [
        "weights_enc=results['weights']\n",
        "bias_enc=results['bias']"
      ],
      "metadata": {
        "id": "kGJvnkzjI-ch"
      },
      "execution_count": 21,
      "outputs": []
    },
    {
      "cell_type": "code",
      "source": [
        "y_pred_enc=[]\n",
        "y_pred_unenc=[]\n",
        "\n",
        "test_time_start=time.time()\n",
        "\n",
        "for i in enc_X_test:\n",
        "  summ=0\n",
        "  for p,q in zip(i,weights_enc):\n",
        "    summ=summ+paillier_multiplication_cloud(p,q)\n",
        "  summ=summ+bias_enc\n",
        "  y_pred=sigmoid(summ)\n",
        "  y_pred_enc.append(y_pred)\n",
        "\n",
        "for i in y_pred_enc:\n",
        "  d=private_key.decrypt(i)\n",
        "  if d>=0.5:\n",
        "    y_pred_unenc.append(1)\n",
        "  else:\n",
        "    y_pred_unenc.append(0)\n",
        "\n",
        "test_time_end=time.time()\n",
        "test_time=test_time_end-test_time_start\n",
        "print(test_time)"
      ],
      "metadata": {
        "colab": {
          "base_uri": "https://localhost:8080/"
        },
        "id": "W7nztAEDzOCB",
        "outputId": "2c0fd512-f54b-46a5-a62b-0f14586db2ea"
      },
      "execution_count": 22,
      "outputs": [
        {
          "output_type": "stream",
          "name": "stdout",
          "text": [
            "19.11967921257019\n"
          ]
        }
      ]
    },
    {
      "cell_type": "code",
      "source": [
        "from sklearn.metrics import accuracy_score\n",
        "accuracy = accuracy_score(y_test, y_pred_unenc)\n",
        "print(f'Accuracy: {accuracy}')"
      ],
      "metadata": {
        "colab": {
          "base_uri": "https://localhost:8080/"
        },
        "id": "y7MWk1W511-X",
        "outputId": "3f8a22f1-7443-449a-920d-15a7989fc225"
      },
      "execution_count": 23,
      "outputs": [
        {
          "output_type": "stream",
          "name": "stdout",
          "text": [
            "Accuracy: 0.9\n"
          ]
        }
      ]
    },
    {
      "cell_type": "code",
      "source": [
        "weights_unenc=[]\n",
        "for i in weights_enc:\n",
        "  p=private_key.decrypt(i)\n",
        "  weights_unenc.append(p)\n",
        "\n",
        "print(weights_unenc)"
      ],
      "metadata": {
        "colab": {
          "base_uri": "https://localhost:8080/"
        },
        "id": "PfbUJEEB1_Vn",
        "outputId": "72882b1a-9853-45da-d601-e066b1ecbb02"
      },
      "execution_count": 24,
      "outputs": [
        {
          "output_type": "stream",
          "name": "stdout",
          "text": [
            "[0.12596141476070313, 0.7054294238278394]\n"
          ]
        }
      ]
    },
    {
      "cell_type": "code",
      "source": [
        "bias_unenc=private_key.decrypt(bias_enc)\n",
        "print(bias_unenc)"
      ],
      "metadata": {
        "colab": {
          "base_uri": "https://localhost:8080/"
        },
        "id": "Lnhj0t_D2KbV",
        "outputId": "31e88570-7c47-4daf-a72c-d45e18db7695"
      },
      "execution_count": 25,
      "outputs": [
        {
          "output_type": "stream",
          "name": "stdout",
          "text": [
            "0.0016347815812693446\n"
          ]
        }
      ]
    },
    {
      "cell_type": "code",
      "source": [
        "import joblib\n",
        "joblib.dump((weights_unenc, bias_unenc, accuracy, cpu_seconds, cpu_usages, ram_usages, results['train_time'], test_time), 'variables_paillier.pkl')"
      ],
      "metadata": {
        "colab": {
          "base_uri": "https://localhost:8080/"
        },
        "id": "AZfT1T5k2M5b",
        "outputId": "03d59495-a4ef-4f65-b55c-10abf4d059f7"
      },
      "execution_count": 26,
      "outputs": [
        {
          "output_type": "execute_result",
          "data": {
            "text/plain": [
              "['variables_paillier.pkl']"
            ]
          },
          "metadata": {},
          "execution_count": 26
        }
      ]
    },
    {
      "cell_type": "code",
      "source": [],
      "metadata": {
        "id": "IyguIVmP2Sl1"
      },
      "execution_count": null,
      "outputs": []
    }
  ]
}