{
 "cells": [
  {
   "cell_type": "code",
   "execution_count": 1,
   "id": "eda35c9b-91e8-4762-a74f-a804b5613800",
   "metadata": {},
   "outputs": [],
   "source": [
    "import numpy as np\n",
    "import pandas as pd\n",
    "from scipy import stats\n",
    "import matplotlib.pyplot as plt\n",
    "import joblib\n",
    "import scipy.stats as stats\n",
    "import statsmodels.api as sm\n",
    "from statsmodels.formula.api import ols\n",
    "%matplotlib inline\n",
    "plt.style.use('dark_background')"
   ]
  },
  {
   "cell_type": "code",
   "execution_count": 2,
   "id": "8a5a89f5-13e8-4969-9c4a-d6847e5b5da6",
   "metadata": {},
   "outputs": [],
   "source": [
    "weights_paillier,bias_paillier,unenc_preds_paillier,cpu_seconds_paillier,cpu_usages_paillier,train_time_paillier,test_time_paillier=joblib.load('variables_paillier.pkl')"
   ]
  },
  {
   "cell_type": "code",
   "execution_count": 3,
   "id": "49d6c314-a5ff-4a1d-8cdc-2718d69eea8a",
   "metadata": {},
   "outputs": [],
   "source": [
    "weights_ckks,bias_ckks,unenc_preds_ckks,cpu_seconds_ckks,cpu_usages_ckks,train_time_ckks,test_time_ckks=joblib.load('variables.pkl')"
   ]
  },
  {
   "cell_type": "code",
   "execution_count": 4,
   "id": "896829ff-a0d2-4b44-8135-bbe01bb43351",
   "metadata": {},
   "outputs": [],
   "source": [
    "weights_sklearn,bias_sklearn,unenc_preds_sklearn=joblib.load('variables_sklearn.pkl')"
   ]
  },
  {
   "cell_type": "code",
   "execution_count": 5,
   "id": "f053038d-147e-4889-8a0e-a37d6d788287",
   "metadata": {},
   "outputs": [],
   "source": [
    "y_test=pd.read_csv('y_test2.csv')\n",
    "y_test=y_test.to_numpy()"
   ]
  },
  {
   "cell_type": "code",
   "execution_count": 6,
   "id": "939595e1-03cf-422c-8f67-3ea6377d5491",
   "metadata": {},
   "outputs": [
    {
     "data": {
      "text/plain": [
       "array([65.8, 76.6, 65.7, 72.6, 72.1, 59.3, 74.7, 72.1, 73.9, 75.5, 77.8,\n",
       "       74.4, 67.3, 44.6, 72.6, 88. , 73. , 72.3, 72. , 81. , 73. , 69.5,\n",
       "       66.5, 64.5, 68.3, 57.8, 73.2, 72. , 54.1, 73.8, 65. , 64. , 70. ,\n",
       "       54.3, 68.1, 73.9, 63. , 72.1, 58.4, 50. , 75.5, 44.5, 48.2, 82. ,\n",
       "       74.6, 71.1, 53.6, 45.1, 78.9, 55. , 73.6, 77.3, 69.6, 73. , 54.9,\n",
       "       75.8, 57.9, 74.4, 67.6, 58. , 69.5, 57.3, 76.5, 72.3, 51.7, 76. ,\n",
       "       66.1, 57.5, 69.1, 74.6, 74.3, 68.1, 59.5, 74.5, 71. , 67.8, 51.4,\n",
       "       78.5, 59.9, 44.8, 75. , 71.2, 73.7, 66.7, 74.5, 58. , 68. , 65.4,\n",
       "       64.4, 76. , 63.4, 68.2, 74. , 68.1, 73.6, 88. , 62.4, 68.8, 64.1,\n",
       "       71. , 76.1, 71.2, 71.9, 75.3, 76.2, 73.6, 62.8, 74.1, 72.9, 77.6,\n",
       "       71. , 81.2, 50. , 75.4, 45.9, 75.5, 72. , 72.6, 78.3, 78.7, 52. ,\n",
       "       53.4, 56.7, 78.8, 72.5, 81.4, 72.8, 74.3, 56.5, 83. , 76.8, 73.7,\n",
       "       59.2, 46.6, 45.4, 47.8, 78. , 56.5, 65.8, 74.6, 52.9, 72.4, 74.8,\n",
       "       64.7, 68.7, 79.4, 71.7, 71.6, 81.3, 75.7, 71.1, 69.6, 73. , 61.4,\n",
       "       81.3, 79.2, 74. , 74.5, 68.3, 73.3])"
      ]
     },
     "execution_count": 6,
     "metadata": {},
     "output_type": "execute_result"
    }
   ],
   "source": [
    "y_test=y_test.reshape(-1,)\n",
    "y_test"
   ]
  },
  {
   "cell_type": "code",
   "execution_count": 7,
   "id": "8869d052-f56f-4c6b-9ea6-b0c125052fcc",
   "metadata": {},
   "outputs": [
    {
     "data": {
      "text/plain": [
       "(160,)"
      ]
     },
     "execution_count": 7,
     "metadata": {},
     "output_type": "execute_result"
    }
   ],
   "source": [
    "unenc_preds_paillier=np.array(unenc_preds_paillier)\n",
    "unenc_preds_paillier.shape"
   ]
  },
  {
   "cell_type": "code",
   "execution_count": 8,
   "id": "4a5a7e75-5611-4e09-823a-b8ee7b27c785",
   "metadata": {},
   "outputs": [
    {
     "data": {
      "text/plain": [
       "(160,)"
      ]
     },
     "execution_count": 8,
     "metadata": {},
     "output_type": "execute_result"
    }
   ],
   "source": [
    "y_test.shape"
   ]
  },
  {
   "cell_type": "code",
   "execution_count": 9,
   "id": "bfa771ee-aa6b-4757-8b87-14866d71629a",
   "metadata": {},
   "outputs": [
    {
     "data": {
      "text/plain": [
       "(160,)"
      ]
     },
     "execution_count": 9,
     "metadata": {},
     "output_type": "execute_result"
    }
   ],
   "source": [
    "unenc_preds_ckks=np.array(unenc_preds_ckks)\n",
    "unenc_preds_ckks=unenc_preds_ckks.reshape(-1,)\n",
    "unenc_preds_ckks.shape"
   ]
  },
  {
   "cell_type": "code",
   "execution_count": 10,
   "id": "cf3149b6-83f1-44d0-a045-d90e5a65988f",
   "metadata": {
    "scrolled": true
   },
   "outputs": [
    {
     "data": {
      "text/plain": [
       "(160,)"
      ]
     },
     "execution_count": 10,
     "metadata": {},
     "output_type": "execute_result"
    }
   ],
   "source": [
    "unenc_preds_sklearn=unenc_preds_sklearn.reshape(-1,)\n",
    "unenc_preds_sklearn.shape"
   ]
  },
  {
   "cell_type": "markdown",
   "id": "d2456f11-11db-4b7e-acec-356d4bbbd1ce",
   "metadata": {},
   "source": [
    "### Mean Squared Error:"
   ]
  },
  {
   "cell_type": "code",
   "execution_count": 11,
   "id": "a8186515-08b6-485c-afe9-3bffa24fd15c",
   "metadata": {},
   "outputs": [],
   "source": [
    "from sklearn.metrics import mean_squared_error"
   ]
  },
  {
   "cell_type": "code",
   "execution_count": 12,
   "id": "3f139c27-8415-4091-a173-2dbd2813cd89",
   "metadata": {},
   "outputs": [],
   "source": [
    "mse_sklearn=mean_squared_error(unenc_preds_sklearn,y_test)"
   ]
  },
  {
   "cell_type": "code",
   "execution_count": 13,
   "id": "065b91fb-8af2-434c-a926-4c63f60c36f5",
   "metadata": {
    "scrolled": true
   },
   "outputs": [
    {
     "data": {
      "text/plain": [
       "10.549915956551716"
      ]
     },
     "execution_count": 13,
     "metadata": {},
     "output_type": "execute_result"
    }
   ],
   "source": [
    "mse_sklearn"
   ]
  },
  {
   "cell_type": "code",
   "execution_count": 14,
   "id": "5a73739b-7d45-4254-84cd-a9562908223c",
   "metadata": {},
   "outputs": [
    {
     "data": {
      "text/plain": [
       "10.549850429000896"
      ]
     },
     "execution_count": 14,
     "metadata": {},
     "output_type": "execute_result"
    }
   ],
   "source": [
    "mse_ckks=mean_squared_error(unenc_preds_ckks,y_test)\n",
    "mse_ckks"
   ]
  },
  {
   "cell_type": "code",
   "execution_count": 15,
   "id": "9629b78e-1cf7-4952-a301-f3af3855b80d",
   "metadata": {},
   "outputs": [
    {
     "data": {
      "text/plain": [
       "10.549915956509903"
      ]
     },
     "execution_count": 15,
     "metadata": {},
     "output_type": "execute_result"
    }
   ],
   "source": [
    "mse_paillier=mean_squared_error(unenc_preds_paillier,y_test)\n",
    "mse_paillier"
   ]
  },
  {
   "cell_type": "code",
   "execution_count": 16,
   "id": "2fed378b-b092-4b1e-8a2b-b767eab582a4",
   "metadata": {},
   "outputs": [
    {
     "name": "stdout",
     "output_type": "stream",
     "text": [
      "Variance: 79.96704340535386\n",
      "Variance: 79.96653458602908\n",
      "Variance: 79.96704340549988\n"
     ]
    }
   ],
   "source": [
    "def calculate_variance(numbers):\n",
    "    \n",
    "    if len(numbers) < 2:\n",
    "        raise ValueError(\"Variance requires at least two data points.\")\n",
    "    \n",
    "    mean = sum(numbers) / len(numbers)\n",
    "    squared_diffs = [(x - mean) ** 2 for x in numbers]\n",
    "    variance = sum(squared_diffs) / (len(numbers) - 1)\n",
    "    \n",
    "    return variance\n",
    "\n",
    "\n",
    "print(\"Variance:\", calculate_variance(unenc_preds_sklearn))\n",
    "print(\"Variance:\", calculate_variance(unenc_preds_ckks))\n",
    "print(\"Variance:\", calculate_variance(unenc_preds_paillier))"
   ]
  },
  {
   "cell_type": "code",
   "execution_count": 17,
   "id": "f4eb536f-2f57-4c29-b35b-032202e7e2cc",
   "metadata": {},
   "outputs": [],
   "source": [
    "f_statistic,p_value=stats.f_oneway(unenc_preds_sklearn,unenc_preds_ckks,unenc_preds_paillier)"
   ]
  },
  {
   "cell_type": "code",
   "execution_count": 18,
   "id": "2ac92c96-306c-475f-b7e0-f7d589fe629f",
   "metadata": {},
   "outputs": [
    {
     "data": {
      "text/plain": [
       "(6.823239294145828e-12, 0.9999999999931685)"
      ]
     },
     "execution_count": 18,
     "metadata": {},
     "output_type": "execute_result"
    }
   ],
   "source": [
    "f_statistic,p_value"
   ]
  },
  {
   "cell_type": "code",
   "execution_count": 19,
   "id": "3ec96b9e-7e8a-43c7-8a27-9602204083fc",
   "metadata": {},
   "outputs": [
    {
     "name": "stdout",
     "output_type": "stream",
     "text": [
      "There is no significant difference between the values\n"
     ]
    }
   ],
   "source": [
    "alpha = 0.05\n",
    "if p_value < alpha:\n",
    "    print(\"There is a significant difference between the values\")\n",
    "else:\n",
    "    print(\"There is no significant difference between the values\")"
   ]
  },
  {
   "cell_type": "code",
   "execution_count": 20,
   "id": "55a1933e-c867-4c91-a13c-d0d86c8ebf58",
   "metadata": {},
   "outputs": [],
   "source": [
    "diff_between_ckks_and_sklearn=abs(unenc_preds_ckks-unenc_preds_sklearn)"
   ]
  },
  {
   "cell_type": "code",
   "execution_count": 21,
   "id": "2f10d3d8-cce6-41d2-a15f-33d7f4cb7682",
   "metadata": {},
   "outputs": [
    {
     "data": {
      "text/plain": [
       "array([2.66795391e-04, 3.11355909e-04, 2.50234433e-05, 2.57842389e-04,\n",
       "       1.88435981e-04])"
      ]
     },
     "execution_count": 21,
     "metadata": {},
     "output_type": "execute_result"
    }
   ],
   "source": [
    "diff_between_ckks_and_sklearn[:5]"
   ]
  },
  {
   "cell_type": "code",
   "execution_count": 22,
   "id": "e94f1e5b-4896-406e-aa71-1d93bd9d5f2e",
   "metadata": {},
   "outputs": [],
   "source": [
    "diff_between_paillier_and_sklearn=abs(unenc_preds_paillier-unenc_preds_sklearn)"
   ]
  },
  {
   "cell_type": "code",
   "execution_count": 23,
   "id": "d89e770f-ce05-4ada-af28-a993d53a56a7",
   "metadata": {},
   "outputs": [
    {
     "data": {
      "text/plain": [
       "array([3.03333536e-09, 3.09722736e-09, 3.01126590e-09, 2.90037860e-09,\n",
       "       3.08571657e-09, 3.05081471e-09, 2.99310443e-09, 3.09482573e-09,\n",
       "       3.05254844e-09, 3.02107139e-09, 2.96653013e-09, 2.97346503e-09,\n",
       "       3.17561444e-09, 3.17756133e-09, 2.87816704e-09, 3.01447756e-09,\n",
       "       3.07211678e-09, 2.97413294e-09, 2.98135205e-09, 3.17524496e-09,\n",
       "       3.11099768e-09, 2.94942026e-09, 3.11912629e-09, 3.08845927e-09,\n",
       "       3.19963078e-09, 3.14693693e-09, 3.01820080e-09, 3.02595993e-09,\n",
       "       3.11711545e-09, 3.12341797e-09, 3.09474046e-09, 3.09935899e-09,\n",
       "       2.90832247e-09, 3.10259907e-09, 3.01764658e-09, 2.95359825e-09,\n",
       "       3.03501224e-09, 3.09300674e-09, 3.22113181e-09, 3.19682414e-09,\n",
       "       3.09213988e-09, 3.16035198e-09, 3.20208215e-09, 3.20241611e-09,\n",
       "       3.13761461e-09, 3.12431325e-09, 3.10038217e-09, 3.07939274e-09,\n",
       "       2.98840064e-09, 3.16889270e-09, 3.11618464e-09, 3.12090265e-09,\n",
       "       3.07824166e-09, 2.94632230e-09, 3.20319060e-09, 3.09495363e-09,\n",
       "       2.99183256e-09, 2.97141867e-09, 3.18078719e-09, 3.20917337e-09,\n",
       "       3.16376259e-09, 2.91034752e-09, 3.10947712e-09, 3.10423331e-09,\n",
       "       2.92929769e-09, 3.03090530e-09, 3.02294723e-09, 2.95256797e-09,\n",
       "       3.04234504e-09, 3.00524050e-09, 3.12371640e-09, 3.20073923e-09,\n",
       "       2.94943447e-09, 3.05824699e-09, 3.05165315e-09, 2.91070990e-09,\n",
       "       3.13653459e-09, 3.16615001e-09, 3.00951797e-09, 3.13380610e-09,\n",
       "       3.00018144e-09, 3.00272518e-09, 3.04805781e-09, 3.18995319e-09,\n",
       "       3.08415338e-09, 3.06617665e-09, 3.12474668e-09, 3.21490745e-09,\n",
       "       3.01842817e-09, 3.11183612e-09, 3.14800985e-09, 2.90641822e-09,\n",
       "       3.04498826e-09, 3.15637294e-09, 3.12741122e-09, 3.16707371e-09,\n",
       "       3.15785087e-09, 3.20723359e-09, 3.17528759e-09, 2.99522185e-09,\n",
       "       3.08006065e-09, 3.08932613e-09, 3.13008286e-09, 3.14598481e-09,\n",
       "       2.92912716e-09, 3.01454861e-09, 3.11396775e-09, 3.12344639e-09,\n",
       "       3.10224380e-09, 2.93805158e-09, 3.19840865e-09, 3.00154568e-09,\n",
       "       3.11753467e-09, 3.16885007e-09, 3.08096304e-09, 3.07485948e-09,\n",
       "       3.11077031e-09, 2.90592084e-09, 2.95622726e-09, 3.03667491e-09,\n",
       "       3.09152171e-09, 2.93025693e-09, 2.89855961e-09, 3.10143378e-09,\n",
       "       3.00161673e-09, 3.17709237e-09, 2.95217717e-09, 3.21085736e-09,\n",
       "       3.12310533e-09, 3.12854809e-09, 3.11395354e-09, 3.11021608e-09,\n",
       "       2.94512859e-09, 3.17714921e-09, 3.16781978e-09, 2.90742719e-09,\n",
       "       2.97602298e-09, 3.20748939e-09, 3.19009530e-09, 3.19957394e-09,\n",
       "       3.00398995e-09, 3.13508508e-09, 3.21945492e-09, 3.01693603e-09,\n",
       "       3.03377590e-09, 3.12189741e-09, 3.01609759e-09, 2.97123393e-09,\n",
       "       2.99679925e-09, 3.17186277e-09, 3.16731530e-09, 2.93307778e-09,\n",
       "       2.91565527e-09, 3.08227044e-09, 3.00661895e-09, 2.99220915e-09,\n",
       "       3.11096926e-09, 3.07503001e-09, 3.02199510e-09, 3.04680725e-09])"
      ]
     },
     "execution_count": 23,
     "metadata": {},
     "output_type": "execute_result"
    }
   ],
   "source": [
    "diff_between_paillier_and_sklearn"
   ]
  },
  {
   "cell_type": "code",
   "execution_count": 24,
   "id": "305493e7-252f-45ca-bd0d-11f715d5719c",
   "metadata": {},
   "outputs": [
    {
     "data": {
      "text/plain": [
       "(-18.003171056769364, 1.8753594353010618e-50)"
      ]
     },
     "execution_count": 24,
     "metadata": {},
     "output_type": "execute_result"
    }
   ],
   "source": [
    "t_statistic,p_value=stats.ttest_ind(diff_between_paillier_and_sklearn,diff_between_ckks_and_sklearn)\n",
    "t_statistic,p_value"
   ]
  },
  {
   "cell_type": "code",
   "execution_count": 25,
   "id": "af9e696a-311a-4c84-8092-170b956b0820",
   "metadata": {},
   "outputs": [
    {
     "name": "stdout",
     "output_type": "stream",
     "text": [
      "There is a significant difference between the ckks-sklearn preds and paillier-sklearn preds\n"
     ]
    }
   ],
   "source": [
    "alpha = 0.05\n",
    "if p_value < alpha:\n",
    "    print(\"There is a significant difference between the ckks-sklearn preds and paillier-sklearn preds\")\n",
    "else:\n",
    "    print(\"There is no significant difference between the ckks-sklearn preds and paillier-sklearn preds\")"
   ]
  },
  {
   "cell_type": "code",
   "execution_count": 26,
   "id": "d486df68-a18a-4c45-aa0a-42e4079a830a",
   "metadata": {},
   "outputs": [],
   "source": [
    "l=len(diff_between_paillier_and_sklearn)"
   ]
  },
  {
   "cell_type": "code",
   "execution_count": 27,
   "id": "f219c165-4d2a-4c4f-b8a0-32f77ec6ff4a",
   "metadata": {},
   "outputs": [
    {
     "data": {
      "text/plain": [
       "3.2446481775136085e-08"
      ]
     },
     "execution_count": 27,
     "metadata": {},
     "output_type": "execute_result"
    }
   ],
   "source": [
    "mse_ckks_with_sklearn=sum(diff_between_ckks_and_sklearn**2)/l\n",
    "mse_ckks_with_sklearn"
   ]
  },
  {
   "cell_type": "code",
   "execution_count": 28,
   "id": "5d712025-6a8f-45f3-a70e-23b7289f17a5",
   "metadata": {},
   "outputs": [
    {
     "data": {
      "text/plain": [
       "9.442173575245906e-18"
      ]
     },
     "execution_count": 28,
     "metadata": {},
     "output_type": "execute_result"
    }
   ],
   "source": [
    "mse_paillier_with_sklearn=sum(diff_between_paillier_and_sklearn**2)/l\n",
    "mse_paillier_with_sklearn"
   ]
  },
  {
   "cell_type": "markdown",
   "id": "0720ce03-91b4-4526-b4d6-8770d6eaeb81",
   "metadata": {},
   "source": [
    "### training time:"
   ]
  },
  {
   "cell_type": "code",
   "execution_count": 29,
   "id": "30c5e221-0307-4faf-b489-2f702a3d9987",
   "metadata": {},
   "outputs": [
    {
     "name": "stdout",
     "output_type": "stream",
     "text": [
      "ckks encryption takes less time to train the model\n"
     ]
    }
   ],
   "source": [
    "if train_time_ckks<train_time_paillier:\n",
    "    print(\"ckks encryption takes less time to train the model\")\n",
    "else:\n",
    "    print(\"paillier encryption takes less time to train the model\")"
   ]
  },
  {
   "cell_type": "code",
   "execution_count": 30,
   "id": "003aee86-6800-4e0f-bb81-355d5b62b903",
   "metadata": {},
   "outputs": [
    {
     "name": "stdout",
     "output_type": "stream",
     "text": [
      "ckks encrypted data takes less time to test the model\n"
     ]
    }
   ],
   "source": [
    "if test_time_ckks<test_time_paillier:\n",
    "    print(\"ckks encrypted data takes less time to test the model\")\n",
    "else:\n",
    "    print(\"paillier encrypted data takes less time to train the model\")"
   ]
  },
  {
   "cell_type": "code",
   "execution_count": 31,
   "id": "90d05f47-d4fd-4649-b528-bcd2ce993738",
   "metadata": {},
   "outputs": [
    {
     "data": {
      "text/plain": [
       "25.35484480857849"
      ]
     },
     "execution_count": 31,
     "metadata": {},
     "output_type": "execute_result"
    }
   ],
   "source": [
    "train_time_ckks"
   ]
  },
  {
   "cell_type": "code",
   "execution_count": 32,
   "id": "4cb89c41-f68b-46b7-b554-109a3e28dd78",
   "metadata": {},
   "outputs": [
    {
     "data": {
      "text/plain": [
       "2674.7212731838226"
      ]
     },
     "execution_count": 32,
     "metadata": {},
     "output_type": "execute_result"
    }
   ],
   "source": [
    "train_time_paillier"
   ]
  },
  {
   "cell_type": "code",
   "execution_count": 33,
   "id": "927e7fd9-8c82-4553-b7a6-894f883379fc",
   "metadata": {
    "scrolled": true
   },
   "outputs": [
    {
     "data": {
      "text/plain": [
       "3.3370614051818848"
      ]
     },
     "execution_count": 33,
     "metadata": {},
     "output_type": "execute_result"
    }
   ],
   "source": [
    "test_time_ckks"
   ]
  },
  {
   "cell_type": "code",
   "execution_count": 34,
   "id": "dbc4c1e4-03e9-4e16-a575-38df3d5b0de4",
   "metadata": {},
   "outputs": [
    {
     "data": {
      "text/plain": [
       "44.56397771835327"
      ]
     },
     "execution_count": 34,
     "metadata": {},
     "output_type": "execute_result"
    }
   ],
   "source": [
    "test_time_paillier"
   ]
  },
  {
   "cell_type": "code",
   "execution_count": 35,
   "id": "34e033bc-d9b6-45dd-b97f-aabace04b894",
   "metadata": {},
   "outputs": [
    {
     "data": {
      "text/plain": [
       "['test_time_paillier_640_21.pkl']"
      ]
     },
     "execution_count": 35,
     "metadata": {},
     "output_type": "execute_result"
    }
   ],
   "source": [
    "joblib.dump(train_time_ckks,'train_time_ckks_640_21.pkl')\n",
    "joblib.dump(train_time_paillier,'train_time_paillier_640_21.pkl')\n",
    "joblib.dump(test_time_ckks,'test_time_ckks_640_21.pkl')\n",
    "joblib.dump(test_time_paillier,'test_time_paillier_640_21.pkl')"
   ]
  },
  {
   "cell_type": "markdown",
   "id": "f3de5898-2831-41d7-9a7b-8575dc805b03",
   "metadata": {},
   "source": [
    "### CPU % utilization:"
   ]
  },
  {
   "cell_type": "code",
   "execution_count": 36,
   "id": "969ad115-ac97-49e5-afa4-97709c43b1a8",
   "metadata": {},
   "outputs": [],
   "source": [
    "def shortlist_cpu_usage(cpu):\n",
    "    cpu_use=[]\n",
    "    for i in cpu:\n",
    "        if i>80:\n",
    "            cpu_use.append(i)\n",
    "\n",
    "    return cpu_use"
   ]
  },
  {
   "cell_type": "code",
   "execution_count": 37,
   "id": "d309f379-51dc-4b1f-996b-fb07f1ab53bd",
   "metadata": {},
   "outputs": [
    {
     "data": {
      "text/plain": [
       "[81.2,\n",
       " 90.3,\n",
       " 88.3,\n",
       " 94.9,\n",
       " 98.3,\n",
       " 99.8,\n",
       " 101.1,\n",
       " 102.2,\n",
       " 96.9,\n",
       " 97.9,\n",
       " 101.4,\n",
       " 101.4,\n",
       " 98.7,\n",
       " 95.9,\n",
       " 95.4,\n",
       " 97.3,\n",
       " 100.4,\n",
       " 100.1,\n",
       " 99.4,\n",
       " 101.5,\n",
       " 102.6,\n",
       " 102.7,\n",
       " 99.9,\n",
       " 101.1,\n",
       " 102.0,\n",
       " 99.1,\n",
       " 97.1,\n",
       " 96.3,\n",
       " 97.7,\n",
       " 100.0,\n",
       " 100.1,\n",
       " 98.3,\n",
       " 101.3,\n",
       " 100.8,\n",
       " 102.6,\n",
       " 99.3,\n",
       " 102.6,\n",
       " 102.8,\n",
       " 97.9,\n",
       " 97.4,\n",
       " 94.4,\n",
       " 98.4,\n",
       " 98.6,\n",
       " 101.3,\n",
       " 99.0,\n",
       " 103.6,\n",
       " 103.7,\n",
       " 100.2,\n",
       " 103.1,\n",
       " 100.1,\n",
       " 98.3,\n",
       " 95.1,\n",
       " 93.6,\n",
       " 101.5,\n",
       " 102.1,\n",
       " 99.9,\n",
       " 101.9,\n",
       " 99.1,\n",
       " 100.8,\n",
       " 101.4,\n",
       " 100.7,\n",
       " 101.7,\n",
       " 100.2,\n",
       " 98.4,\n",
       " 96.9,\n",
       " 94.4,\n",
       " 101.9,\n",
       " 98.8,\n",
       " 102.0,\n",
       " 100.1,\n",
       " 102.8,\n",
       " 101.6,\n",
       " 101.7,\n",
       " 101.7,\n",
       " 102.9,\n",
       " 98.5,\n",
       " 97.9,\n",
       " 96.4,\n",
       " 97.6,\n",
       " 99.3,\n",
       " 103.8,\n",
       " 100.1,\n",
       " 99.8,\n",
       " 102.3,\n",
       " 99.1,\n",
       " 103.0,\n",
       " 101.2,\n",
       " 101.9,\n",
       " 99.2,\n",
       " 95.7,\n",
       " 95.8,\n",
       " 100.3,\n",
       " 98.8,\n",
       " 97.8,\n",
       " 100.6,\n",
       " 99.7,\n",
       " 99.3,\n",
       " 99.7,\n",
       " 103.0,\n",
       " 101.0,\n",
       " 102.9,\n",
       " 98.2,\n",
       " 96.2,\n",
       " 97.2,\n",
       " 99.8,\n",
       " 100.2,\n",
       " 101.1,\n",
       " 101.4,\n",
       " 101.1,\n",
       " 100.6,\n",
       " 100.9,\n",
       " 102.9,\n",
       " 100.0,\n",
       " 103.3,\n",
       " 98.4,\n",
       " 96.4,\n",
       " 97.2,\n",
       " 99.0,\n",
       " 99.3,\n",
       " 102.9,\n",
       " 100.4,\n",
       " 98.0,\n",
       " 100.2,\n",
       " 102.3,\n",
       " 101.9,\n",
       " 100.7,\n",
       " 100.2,\n",
       " 98.4,\n",
       " 95.6,\n",
       " 95.8,\n",
       " 100.2,\n",
       " 101.0,\n",
       " 101.9,\n",
       " 103.0,\n",
       " 101.0,\n",
       " 97.4,\n",
       " 96.6,\n",
       " 97.2,\n",
       " 98.7,\n",
       " 98.6,\n",
       " 96.4,\n",
       " 96.1,\n",
       " 101.3,\n",
       " 99.1,\n",
       " 100.4,\n",
       " 103.0,\n",
       " 99.8,\n",
       " 102.4,\n",
       " 100.4,\n",
       " 102.1,\n",
       " 101.2,\n",
       " 101.3,\n",
       " 96.9,\n",
       " 97.3,\n",
       " 95.4,\n",
       " 99.3,\n",
       " 102.1,\n",
       " 99.2,\n",
       " 98.0,\n",
       " 100.7,\n",
       " 99.7,\n",
       " 100.6,\n",
       " 101.7,\n",
       " 102.3,\n",
       " 99.8,\n",
       " 96.0,\n",
       " 95.5,\n",
       " 98.0,\n",
       " 101.3,\n",
       " 99.4,\n",
       " 101.7,\n",
       " 101.4,\n",
       " 100.1,\n",
       " 99.7,\n",
       " 102.9,\n",
       " 100.1,\n",
       " 100.4,\n",
       " 98.3,\n",
       " 97.4,\n",
       " 94.6,\n",
       " 101.3,\n",
       " 98.8,\n",
       " 101.5,\n",
       " 99.7,\n",
       " 102.0,\n",
       " 102.5,\n",
       " 96.7,\n",
       " 101.2,\n",
       " 100.5,\n",
       " 95.5,\n",
       " 97.5,\n",
       " 92.0,\n",
       " 103.7,\n",
       " 102.4,\n",
       " 99.8,\n",
       " 100.1,\n",
       " 102.6,\n",
       " 101.6,\n",
       " 101.4,\n",
       " 101.6,\n",
       " 103.1,\n",
       " 94.8,\n",
       " 96.8,\n",
       " 94.7,\n",
       " 99.0,\n",
       " 100.3,\n",
       " 97.8,\n",
       " 100.1,\n",
       " 102.7,\n",
       " 101.5,\n",
       " 103.5,\n",
       " 101.2,\n",
       " 100.3,\n",
       " 101.3,\n",
       " 97.4,\n",
       " 95.3,\n",
       " 98.0,\n",
       " 101.3,\n",
       " 97.7,\n",
       " 101.9,\n",
       " 99.2,\n",
       " 99.8,\n",
       " 100.3,\n",
       " 99.7,\n",
       " 100.9,\n",
       " 102.2,\n",
       " 98.8,\n",
       " 97.3,\n",
       " 95.4,\n",
       " 97.1,\n",
       " 100.1,\n",
       " 98.5,\n",
       " 99.8,\n",
       " 98.1,\n",
       " 100.2,\n",
       " 101.8,\n",
       " 99.9,\n",
       " 101.9,\n",
       " 100.8,\n",
       " 98.8,\n",
       " 94.0,\n",
       " 95.9,\n",
       " 97.5,\n",
       " 102.2,\n",
       " 101.5,\n",
       " 99.6,\n",
       " 103.8,\n",
       " 100.7,\n",
       " 103.9,\n",
       " 99.4,\n",
       " 100.3,\n",
       " 100.4,\n",
       " 97.2,\n",
       " 96.4,\n",
       " 96.4,\n",
       " 97.9,\n",
       " 100.3,\n",
       " 100.8,\n",
       " 99.3,\n",
       " 102.8,\n",
       " 99.3,\n",
       " 100.2,\n",
       " 101.9,\n",
       " 100.2,\n",
       " 101.1,\n",
       " 97.4,\n",
       " 95.0,\n",
       " 95.4,\n",
       " 103.2,\n",
       " 95.8,\n",
       " 95.4,\n",
       " 95.2,\n",
       " 102.1,\n",
       " 99.6,\n",
       " 99.8,\n",
       " 102.3,\n",
       " 102.3,\n",
       " 98.5,\n",
       " 96.4,\n",
       " 96.4,\n",
       " 100.2,\n",
       " 100.5,\n",
       " 103.2,\n",
       " 99.5,\n",
       " 98.0,\n",
       " 102.0,\n",
       " 101.2,\n",
       " 101.8,\n",
       " 100.3,\n",
       " 101.1,\n",
       " 95.3,\n",
       " 98.4,\n",
       " 95.6,\n",
       " 101.4,\n",
       " 98.8,\n",
       " 102.8,\n",
       " 100.7,\n",
       " 104.1,\n",
       " 100.5,\n",
       " 100.7,\n",
       " 103.0,\n",
       " 102.2,\n",
       " 99.2,\n",
       " 95.4,\n",
       " 95.6,\n",
       " 97.6,\n",
       " 102.6,\n",
       " 97.6,\n",
       " 103.8,\n",
       " 99.9,\n",
       " 100.2,\n",
       " 101.9,\n",
       " 104.0,\n",
       " 101.2,\n",
       " 99.4,\n",
       " 95.3,\n",
       " 98.3,\n",
       " 95.0,\n",
       " 99.5,\n",
       " 100.3,\n",
       " 97.3,\n",
       " 100.6,\n",
       " 102.7,\n",
       " 97.5,\n",
       " 98.1,\n",
       " 101.0,\n",
       " 98.9,\n",
       " 99.0,\n",
       " 93.0,\n",
       " 96.6,\n",
       " 94.4,\n",
       " 100.3,\n",
       " 100.3,\n",
       " 101.1,\n",
       " 98.8,\n",
       " 99.3,\n",
       " 100.6,\n",
       " 100.6,\n",
       " 100.2,\n",
       " 100.6,\n",
       " 95.5,\n",
       " 96.4,\n",
       " 96.4,\n",
       " 95.4,\n",
       " 99.0,\n",
       " 101.4,\n",
       " 103.2,\n",
       " 98.2,\n",
       " 101.1,\n",
       " 98.7,\n",
       " 99.9,\n",
       " 98.2,\n",
       " 99.5,\n",
       " 97.3,\n",
       " 94.4,\n",
       " 96.0,\n",
       " 100.5,\n",
       " 102.4,\n",
       " 101.2,\n",
       " 100.7,\n",
       " 97.7,\n",
       " 102.1,\n",
       " 100.9,\n",
       " 97.9,\n",
       " 101.3,\n",
       " 98.4,\n",
       " 96.4,\n",
       " 96.2,\n",
       " 99.9,\n",
       " 100.6,\n",
       " 101.3,\n",
       " 101.5,\n",
       " 101.7,\n",
       " 101.3,\n",
       " 101.4,\n",
       " 99.9,\n",
       " 97.8,\n",
       " 98.7,\n",
       " 97.3,\n",
       " 96.6,\n",
       " 96.3,\n",
       " 99.5,\n",
       " 100.5,\n",
       " 99.5,\n",
       " 98.8,\n",
       " 99.6,\n",
       " 96.6,\n",
       " 101.5,\n",
       " 103.3,\n",
       " 100.0,\n",
       " 96.6,\n",
       " 98.3,\n",
       " 95.7,\n",
       " 96.9,\n",
       " 102.1,\n",
       " 99.4,\n",
       " 100.7,\n",
       " 102.8,\n",
       " 101.3,\n",
       " 101.4,\n",
       " 99.1,\n",
       " 97.3,\n",
       " 96.5,\n",
       " 92.8,\n",
       " 89.6,\n",
       " 96.1,\n",
       " 95.4,\n",
       " 102.3,\n",
       " 105.3,\n",
       " 99.0,\n",
       " 98.9,\n",
       " 97.8,\n",
       " 96.8,\n",
       " 100.7,\n",
       " 101.8,\n",
       " 99.5,\n",
       " 98.3,\n",
       " 97.0,\n",
       " 96.2,\n",
       " 99.3,\n",
       " 100.6,\n",
       " 99.7,\n",
       " 99.2,\n",
       " 97.3,\n",
       " 101.1,\n",
       " 101.4,\n",
       " 99.3,\n",
       " 97.9,\n",
       " 103.0,\n",
       " 97.8,\n",
       " 97.6,\n",
       " 95.0,\n",
       " 100.1,\n",
       " 98.6,\n",
       " 100.8,\n",
       " 99.5,\n",
       " 102.4,\n",
       " 100.6,\n",
       " 101.5,\n",
       " 100.4,\n",
       " 101.2,\n",
       " 99.4,\n",
       " 95.8,\n",
       " 96.8,\n",
       " 96.1,\n",
       " 100.9,\n",
       " 100.3,\n",
       " 103.4,\n",
       " 97.3,\n",
       " 101.4,\n",
       " 102.5,\n",
       " 100.2,\n",
       " 101.5,\n",
       " 100.4,\n",
       " 99.1,\n",
       " 96.9,\n",
       " 95.0,\n",
       " 97.4,\n",
       " 100.8,\n",
       " 101.1,\n",
       " 103.0,\n",
       " 97.1,\n",
       " 101.8,\n",
       " 101.8,\n",
       " 103.2,\n",
       " 102.0,\n",
       " 99.8,\n",
       " 98.0,\n",
       " 97.9,\n",
       " 96.4,\n",
       " 95.9,\n",
       " 102.4,\n",
       " 101.6,\n",
       " 99.5,\n",
       " 102.3,\n",
       " 100.7,\n",
       " 102.2,\n",
       " 99.3,\n",
       " 101.9,\n",
       " 99.6,\n",
       " 99.1,\n",
       " 96.4,\n",
       " 95.4,\n",
       " 100.7,\n",
       " 99.7,\n",
       " 100.2,\n",
       " 101.2,\n",
       " 103.3,\n",
       " 101.9,\n",
       " 101.3,\n",
       " 101.9,\n",
       " 100.6,\n",
       " 100.4,\n",
       " 95.5,\n",
       " 95.5,\n",
       " 97.1,\n",
       " 97.3,\n",
       " 100.0,\n",
       " 98.7,\n",
       " 100.9,\n",
       " 100.9,\n",
       " 101.9,\n",
       " 100.2,\n",
       " 101.7,\n",
       " 101.1,\n",
       " 100.3,\n",
       " 96.7,\n",
       " 96.2,\n",
       " 96.6,\n",
       " 102.2,\n",
       " 99.9,\n",
       " 103.2,\n",
       " 100.1,\n",
       " 101.4,\n",
       " 99.9,\n",
       " 100.6,\n",
       " 102.0,\n",
       " 105.0,\n",
       " 98.5,\n",
       " 97.7,\n",
       " 96.1,\n",
       " 99.9,\n",
       " 102.0,\n",
       " 101.1,\n",
       " 99.8,\n",
       " 103.9,\n",
       " 99.9,\n",
       " 101.4,\n",
       " 101.7,\n",
       " 96.4,\n",
       " 97.5,\n",
       " 95.1,\n",
       " 92.2,\n",
       " 81.5,\n",
       " 93.5,\n",
       " 98.8,\n",
       " 101.8,\n",
       " 99.3,\n",
       " 103.0,\n",
       " 101.2,\n",
       " 102.3,\n",
       " 103.9,\n",
       " 100.8,\n",
       " 98.8,\n",
       " 96.4,\n",
       " 95.1,\n",
       " 96.8,\n",
       " 101.3,\n",
       " 100.0,\n",
       " 100.9,\n",
       " 100.3,\n",
       " 101.4,\n",
       " 104.0,\n",
       " 99.7,\n",
       " 99.8,\n",
       " 102.3,\n",
       " 98.3,\n",
       " 97.2,\n",
       " 97.7,\n",
       " 97.4,\n",
       " 99.4,\n",
       " 99.1,\n",
       " 97.4,\n",
       " 100.3,\n",
       " 101.2,\n",
       " 99.0,\n",
       " 99.7,\n",
       " 101.2,\n",
       " 103.6,\n",
       " 96.9,\n",
       " 95.4,\n",
       " 96.4,\n",
       " 103.0,\n",
       " 97.8,\n",
       " 100.0,\n",
       " 102.7,\n",
       " 101.8,\n",
       " 102.7,\n",
       " 101.0,\n",
       " 101.2,\n",
       " 99.9,\n",
       " 99.0,\n",
       " 96.6,\n",
       " 95.3,\n",
       " 96.0,\n",
       " 97.4,\n",
       " 100.2,\n",
       " 101.4,\n",
       " 101.5,\n",
       " 101.9,\n",
       " 101.4,\n",
       " 104.6,\n",
       " 101.9,\n",
       " 99.8,\n",
       " 97.9,\n",
       " 96.2,\n",
       " 96.0,\n",
       " 101.2,\n",
       " 99.7,\n",
       " 100.4,\n",
       " 101.1,\n",
       " 102.0,\n",
       " 101.8,\n",
       " 102.1,\n",
       " 99.2,\n",
       " 102.6,\n",
       " 101.8,\n",
       " 98.1,\n",
       " 97.2,\n",
       " 96.8,\n",
       " 102.7,\n",
       " 100.8,\n",
       " 102.0,\n",
       " 101.8,\n",
       " 100.3,\n",
       " 102.4,\n",
       " 102.9,\n",
       " 100.7,\n",
       " 98.2,\n",
       " 93.7,\n",
       " 97.3,\n",
       " 96.2,\n",
       " 100.8,\n",
       " 99.4,\n",
       " 100.9,\n",
       " 102.5,\n",
       " 98.9,\n",
       " 101.4,\n",
       " 99.4,\n",
       " 100.6,\n",
       " 102.7,\n",
       " 99.2,\n",
       " 97.7,\n",
       " 96.2,\n",
       " 99.4,\n",
       " 98.3,\n",
       " 98.7,\n",
       " 98.5,\n",
       " 98.1,\n",
       " 99.9,\n",
       " 101.8,\n",
       " 97.5,\n",
       " 102.9,\n",
       " 97.3,\n",
       " 92.6,\n",
       " 95.7,\n",
       " 99.8,\n",
       " 99.6,\n",
       " 101.1,\n",
       " 98.5,\n",
       " 100.5,\n",
       " 100.6,\n",
       " 102.5,\n",
       " 101.8,\n",
       " 98.6,\n",
       " 101.3,\n",
       " 96.1,\n",
       " 95.1,\n",
       " 97.0,\n",
       " 101.5,\n",
       " 97.6,\n",
       " 98.0,\n",
       " 96.8,\n",
       " 95.3,\n",
       " 94.2,\n",
       " 100.8,\n",
       " 98.1,\n",
       " 98.6,\n",
       " 97.3,\n",
       " 96.4,\n",
       " 96.0,\n",
       " 97.1,\n",
       " 98.0,\n",
       " 98.4,\n",
       " 102.4,\n",
       " 97.9,\n",
       " 99.1,\n",
       " 98.4,\n",
       " 100.0,\n",
       " 98.4,\n",
       " 102.1,\n",
       " 97.2,\n",
       " 97.1,\n",
       " 96.5,\n",
       " 97.6,\n",
       " 100.5,\n",
       " 100.9,\n",
       " 101.9,\n",
       " 100.9,\n",
       " 99.5,\n",
       " 101.5,\n",
       " 100.1,\n",
       " 101.2,\n",
       " 99.8,\n",
       " 98.1,\n",
       " 96.8,\n",
       " 96.9,\n",
       " 100.1,\n",
       " 98.9,\n",
       " 98.9,\n",
       " 101.5,\n",
       " 101.0,\n",
       " 101.9,\n",
       " 104.3,\n",
       " 99.9,\n",
       " 101.7,\n",
       " 100.7,\n",
       " 97.0,\n",
       " 95.4,\n",
       " 95.9,\n",
       " 101.0,\n",
       " 100.1,\n",
       " 100.0,\n",
       " 103.2,\n",
       " 102.4,\n",
       " 98.4,\n",
       " 99.1,\n",
       " 97.5,\n",
       " 101.4,\n",
       " 97.6,\n",
       " 97.4,\n",
       " 93.2,\n",
       " 100.5,\n",
       " 99.7,\n",
       " 103.3,\n",
       " 101.6,\n",
       " 99.5,\n",
       " 99.2,\n",
       " 101.4,\n",
       " 99.6,\n",
       " 102.4,\n",
       " 100.8,\n",
       " 97.6,\n",
       " 95.4,\n",
       " 95.1,\n",
       " 100.9,\n",
       " 99.1,\n",
       " 100.6,\n",
       " 100.2,\n",
       " 97.8,\n",
       " 101.4,\n",
       " 99.9,\n",
       " 101.0,\n",
       " 101.0,\n",
       " 97.5,\n",
       " 97.0,\n",
       " 95.0,\n",
       " 100.8,\n",
       " 100.9,\n",
       " 101.2,\n",
       " 102.2,\n",
       " 101.9,\n",
       " 102.0,\n",
       " 100.7,\n",
       " 101.2,\n",
       " 101.1,\n",
       " 99.2,\n",
       " 96.2,\n",
       " 96.7,\n",
       " 99.3,\n",
       " 99.8,\n",
       " 101.9,\n",
       " 100.5,\n",
       " 99.6,\n",
       " 96.5,\n",
       " 100.8,\n",
       " 101.2,\n",
       " 101.1,\n",
       " 103.4,\n",
       " 98.4,\n",
       " 96.2,\n",
       " 100.0,\n",
       " 101.1,\n",
       " 101.5,\n",
       " 101.3,\n",
       " 101.0,\n",
       " 102.7,\n",
       " 101.8,\n",
       " 99.7,\n",
       " 100.8,\n",
       " 102.0,\n",
       " 98.4,\n",
       " 97.4,\n",
       " 93.4,\n",
       " 102.7,\n",
       " 100.3,\n",
       " 100.0,\n",
       " 101.2,\n",
       " 101.2,\n",
       " 100.2,\n",
       " 100.6,\n",
       " 98.4,\n",
       " 95.0,\n",
       " 87.3,\n",
       " 94.4,\n",
       " 96.7,\n",
       " 98.2,\n",
       " 102.4,\n",
       " 98.6,\n",
       " 101.5,\n",
       " 97.2,\n",
       " 104.6,\n",
       " 98.7,\n",
       " 98.6,\n",
       " 96.9,\n",
       " 98.1,\n",
       " 96.4,\n",
       " 94.2,\n",
       " 100.3,\n",
       " 100.0,\n",
       " 99.0,\n",
       " 100.6,\n",
       " 102.7,\n",
       " 103.0,\n",
       " 99.1,\n",
       " 101.3,\n",
       " 104.2,\n",
       " 100.2,\n",
       " 94.8,\n",
       " 96.9,\n",
       " 96.5,\n",
       " 100.2,\n",
       " 99.9,\n",
       " 98.4,\n",
       " 100.4,\n",
       " 103.2,\n",
       " 101.7,\n",
       " 99.3,\n",
       " 101.5,\n",
       " 100.6,\n",
       " 98.0,\n",
       " 97.1,\n",
       " 94.2,\n",
       " 101.9,\n",
       " 100.9,\n",
       " 99.3,\n",
       " 101.1,\n",
       " 99.9,\n",
       " 102.0,\n",
       " 102.4,\n",
       " 103.3,\n",
       " 97.1,\n",
       " 99.4,\n",
       " 96.5,\n",
       " 95.1,\n",
       " 98.9,\n",
       " 101.2,\n",
       " 101.9,\n",
       " 102.7,\n",
       " 101.3,\n",
       " 102.2,\n",
       " 100.5,\n",
       " 102.0,\n",
       " 101.6,\n",
       " 104.5,\n",
       " 97.4,\n",
       " 97.1,\n",
       " 96.8,\n",
       " 98.9,\n",
       " 101.6,\n",
       " 103.0,\n",
       " 100.6,\n",
       " 102.0,\n",
       " 102.6,\n",
       " 99.3,\n",
       " 98.1,\n",
       " 102.4,\n",
       " 98.8,\n",
       " 95.3,\n",
       " 96.2,\n",
       " 100.3,\n",
       " 102.0,\n",
       " 100.9,\n",
       " 100.6,\n",
       " 102.1,\n",
       " 103.3,\n",
       " 100.4,\n",
       " 102.3,\n",
       " 101.3,\n",
       " 102.1,\n",
       " 98.3,\n",
       " 95.4,\n",
       " 97.2,\n",
       " 101.1,\n",
       " 98.2,\n",
       " 99.4,\n",
       " 102.1,\n",
       " 102.8,\n",
       " 100.6,\n",
       " 100.4,\n",
       " 100.5,\n",
       " 104.3,\n",
       " 98.0,\n",
       " 97.4,\n",
       " 95.3,\n",
       " 99.2,\n",
       " 100.0,\n",
       " 98.3,\n",
       " 99.7,\n",
       " 100.6,\n",
       " 102.1,\n",
       " 102.3,\n",
       " 99.8,\n",
       " 101.3,\n",
       " 99.4,\n",
       " 96.9,\n",
       " 94.8,\n",
       " 99.9,\n",
       " 96.5,\n",
       " 99.5,\n",
       " 99.5,\n",
       " 100.7,\n",
       " 102.6,\n",
       " 101.0,\n",
       " 102.9,\n",
       " 97.7,\n",
       " 101.3,\n",
       " 97.2,\n",
       " 96.5,\n",
       " 96.2,\n",
       " 99.5,\n",
       " 101.3,\n",
       " 102.1,\n",
       " 102.3,\n",
       " 101.0,\n",
       " 101.8,\n",
       " 101.2,\n",
       " 100.0,\n",
       " 102.4,\n",
       " 99.0,\n",
       " 94.3,\n",
       " 87.7,\n",
       " 82.9,\n",
       " 93.5,\n",
       " 101.8,\n",
       " 99.5,\n",
       " 103.0,\n",
       " 99.8,\n",
       " 102.3,\n",
       " 103.7,\n",
       " 100.0,\n",
       " 99.9,\n",
       " 99.2,\n",
       " 94.9,\n",
       " 98.1,\n",
       " 98.8,\n",
       " 101.9,\n",
       " 99.5,\n",
       " 98.7,\n",
       " 101.3,\n",
       " 101.6,\n",
       " 100.1,\n",
       " 98.6,\n",
       " 101.9,\n",
       " 98.8,\n",
       " 95.7,\n",
       " 93.4,\n",
       " 97.0,\n",
       " 101.6,\n",
       " 101.1,\n",
       " 101.8,\n",
       " 101.5,\n",
       " 100.9,\n",
       " 101.8,\n",
       " 100.5,\n",
       " 100.6,\n",
       " 98.3,\n",
       " 98.4,\n",
       " 96.6,\n",
       " 97.3,\n",
       " 101.3,\n",
       " 102.3,\n",
       " 102.8,\n",
       " 99.7,\n",
       " 100.0,\n",
       " 102.6,\n",
       " 101.4,\n",
       " 102.2,\n",
       " 101.9,\n",
       " 97.6,\n",
       " 97.0,\n",
       " 96.2,\n",
       " 97.2,\n",
       " 98.2,\n",
       " 100.7,\n",
       " 103.1,\n",
       " 101.5,\n",
       " 98.8,\n",
       " 98.8,\n",
       " 101.2,\n",
       " 101.2,\n",
       " 97.4,\n",
       " 96.3,\n",
       " 95.3,\n",
       " 98.3,\n",
       " 100.3,\n",
       " 100.3,\n",
       " 97.9,\n",
       " 102.8,\n",
       " 99.5,\n",
       " ...]"
      ]
     },
     "execution_count": 37,
     "metadata": {},
     "output_type": "execute_result"
    }
   ],
   "source": [
    "paillier_cpu_use_short=shortlist_cpu_usage(cpu_usages_paillier)\n",
    "paillier_cpu_use_short"
   ]
  },
  {
   "cell_type": "code",
   "execution_count": 38,
   "id": "b08b1906-e12f-4881-a936-ea6199871af8",
   "metadata": {},
   "outputs": [],
   "source": [
    "paillier_cpu_use_short=np.array(paillier_cpu_use_short)"
   ]
  },
  {
   "cell_type": "code",
   "execution_count": 39,
   "id": "23d85184-511e-4cd3-a471-ab1e79da4ed0",
   "metadata": {},
   "outputs": [
    {
     "data": {
      "text/plain": [
       "99.47836349331236"
      ]
     },
     "execution_count": 39,
     "metadata": {},
     "output_type": "execute_result"
    }
   ],
   "source": [
    "paillier_cpu_use_short.mean()"
   ]
  },
  {
   "cell_type": "code",
   "execution_count": 40,
   "id": "b203da10-7b96-4cc0-a7c8-d232bb589873",
   "metadata": {},
   "outputs": [
    {
     "data": {
      "text/plain": [
       "252874.0"
      ]
     },
     "execution_count": 40,
     "metadata": {},
     "output_type": "execute_result"
    }
   ],
   "source": [
    "paillier_cpu_use_short.sum()"
   ]
  },
  {
   "cell_type": "code",
   "execution_count": 41,
   "id": "9c445644-8561-4c09-b11d-ef4e410b99d6",
   "metadata": {},
   "outputs": [
    {
     "data": {
      "text/plain": [
       "2528.74"
      ]
     },
     "execution_count": 41,
     "metadata": {},
     "output_type": "execute_result"
    }
   ],
   "source": [
    "cpu_seconds_for_paillier=paillier_cpu_use_short.sum()/100\n",
    "cpu_seconds_for_paillier"
   ]
  },
  {
   "cell_type": "code",
   "execution_count": 42,
   "id": "e3d13a63-5d5d-4ff4-b4ab-5588cd9bcdc8",
   "metadata": {},
   "outputs": [
    {
     "data": {
      "text/plain": [
       "115.2"
      ]
     },
     "execution_count": 42,
     "metadata": {},
     "output_type": "execute_result"
    }
   ],
   "source": [
    "paillier_cpu_use_short.max()"
   ]
  },
  {
   "cell_type": "code",
   "execution_count": 43,
   "id": "bd6288fc-44db-4a62-a4be-73d7f9775b36",
   "metadata": {},
   "outputs": [
    {
     "data": {
      "text/plain": [
       "81.2"
      ]
     },
     "execution_count": 43,
     "metadata": {},
     "output_type": "execute_result"
    }
   ],
   "source": [
    "paillier_cpu_use_short.min()"
   ]
  },
  {
   "cell_type": "code",
   "execution_count": 44,
   "id": "8019c7fa-7447-47ab-acb4-753b8c4852c0",
   "metadata": {},
   "outputs": [
    {
     "data": {
      "text/plain": [
       "2542"
      ]
     },
     "execution_count": 44,
     "metadata": {},
     "output_type": "execute_result"
    }
   ],
   "source": [
    "len(paillier_cpu_use_short)"
   ]
  },
  {
   "cell_type": "code",
   "execution_count": 45,
   "id": "73273bab-0732-4764-bf12-cceb3a768558",
   "metadata": {},
   "outputs": [],
   "source": [
    "cpu_percent_consumption_paillier=(paillier_cpu_use_short.sum()/(len(paillier_cpu_use_short)*200))*100"
   ]
  },
  {
   "cell_type": "code",
   "execution_count": 46,
   "id": "9cd56901-4016-4586-a50f-cf3b440e66c5",
   "metadata": {},
   "outputs": [
    {
     "data": {
      "text/plain": [
       "49.73918174665617"
      ]
     },
     "execution_count": 46,
     "metadata": {},
     "output_type": "execute_result"
    }
   ],
   "source": [
    "cpu_percent_consumption_paillier"
   ]
  },
  {
   "cell_type": "code",
   "execution_count": 47,
   "id": "70343caa-80ce-4735-9dfb-0055666876a0",
   "metadata": {},
   "outputs": [
    {
     "data": {
      "text/plain": [
       "[111.8,\n",
       " 104.3,\n",
       " 100.2,\n",
       " 113.2,\n",
       " 84.2,\n",
       " 95.5,\n",
       " 95.2,\n",
       " 107.4,\n",
       " 96.7,\n",
       " 100.3,\n",
       " 100.1,\n",
       " 108.1,\n",
       " 112.6,\n",
       " 103.8,\n",
       " 112.9,\n",
       " 96.4,\n",
       " 97.6,\n",
       " 97.5,\n",
       " 98.2,\n",
       " 104.8,\n",
       " 94.8]"
      ]
     },
     "execution_count": 47,
     "metadata": {},
     "output_type": "execute_result"
    }
   ],
   "source": [
    "ckks_cpu_use_short=shortlist_cpu_usage(cpu_usages_ckks)\n",
    "ckks_cpu_use_short"
   ]
  },
  {
   "cell_type": "code",
   "execution_count": 48,
   "id": "d8c91d68-0f4b-4e31-b109-cb6eae6335e6",
   "metadata": {},
   "outputs": [],
   "source": [
    "ckks_cpu_use_short=np.array(ckks_cpu_use_short)"
   ]
  },
  {
   "cell_type": "code",
   "execution_count": 49,
   "id": "71971821-8163-43f7-9b65-139a6a6f3cd7",
   "metadata": {},
   "outputs": [
    {
     "data": {
      "text/plain": [
       "101.6952380952381"
      ]
     },
     "execution_count": 49,
     "metadata": {},
     "output_type": "execute_result"
    }
   ],
   "source": [
    "ckks_cpu_use_short.mean()"
   ]
  },
  {
   "cell_type": "code",
   "execution_count": 50,
   "id": "687db669-cafe-47d4-97d8-9e7e40f3e716",
   "metadata": {},
   "outputs": [
    {
     "data": {
      "text/plain": [
       "2135.6"
      ]
     },
     "execution_count": 50,
     "metadata": {},
     "output_type": "execute_result"
    }
   ],
   "source": [
    "ckks_cpu_use_short.sum()"
   ]
  },
  {
   "cell_type": "code",
   "execution_count": 51,
   "id": "d82a9236-d0d7-4e10-bf46-fed948ff8dac",
   "metadata": {},
   "outputs": [
    {
     "data": {
      "text/plain": [
       "21.355999999999998"
      ]
     },
     "execution_count": 51,
     "metadata": {},
     "output_type": "execute_result"
    }
   ],
   "source": [
    "cpu_seconds_for_ckks=ckks_cpu_use_short.sum()/100\n",
    "cpu_seconds_for_ckks"
   ]
  },
  {
   "cell_type": "code",
   "execution_count": 52,
   "id": "fd87bc08-edbb-4e73-aa46-4cb631b99b17",
   "metadata": {},
   "outputs": [
    {
     "data": {
      "text/plain": [
       "113.2"
      ]
     },
     "execution_count": 52,
     "metadata": {},
     "output_type": "execute_result"
    }
   ],
   "source": [
    "ckks_cpu_use_short.max()"
   ]
  },
  {
   "cell_type": "code",
   "execution_count": 53,
   "id": "353cd72a-d316-446b-a48c-7777b5c27bcd",
   "metadata": {},
   "outputs": [
    {
     "data": {
      "text/plain": [
       "84.2"
      ]
     },
     "execution_count": 53,
     "metadata": {},
     "output_type": "execute_result"
    }
   ],
   "source": [
    "ckks_cpu_use_short.min()"
   ]
  },
  {
   "cell_type": "code",
   "execution_count": 54,
   "id": "3849453f-a4ce-4f5e-a542-89df109235a2",
   "metadata": {},
   "outputs": [
    {
     "data": {
      "text/plain": [
       "21"
      ]
     },
     "execution_count": 54,
     "metadata": {},
     "output_type": "execute_result"
    }
   ],
   "source": [
    "len(ckks_cpu_use_short)"
   ]
  },
  {
   "cell_type": "code",
   "execution_count": 55,
   "id": "440523d9-19c4-406e-a164-bdd8d996f078",
   "metadata": {},
   "outputs": [
    {
     "data": {
      "text/plain": [
       "50.84761904761904"
      ]
     },
     "execution_count": 55,
     "metadata": {},
     "output_type": "execute_result"
    }
   ],
   "source": [
    "cpu_percent_consumption_ckks=(ckks_cpu_use_short.sum()/(len(ckks_cpu_use_short)*200))*100\n",
    "cpu_percent_consumption_ckks"
   ]
  },
  {
   "cell_type": "code",
   "execution_count": 56,
   "id": "9f0a6aa0-a1d5-4478-b84e-26c53182d9f3",
   "metadata": {},
   "outputs": [
    {
     "data": {
      "text/plain": [
       "['cpu_util_insights_ckks_640_21.pkl']"
      ]
     },
     "execution_count": 56,
     "metadata": {},
     "output_type": "execute_result"
    }
   ],
   "source": [
    "joblib.dump((ckks_cpu_use_short.mean(),ckks_cpu_use_short.sum(),cpu_seconds_for_ckks,ckks_cpu_use_short.max(),ckks_cpu_use_short.min(),len(ckks_cpu_use_short),cpu_percent_consumption_ckks),'cpu_util_insights_ckks_640_21.pkl')"
   ]
  },
  {
   "cell_type": "code",
   "execution_count": 57,
   "id": "86617836-0d9d-44be-83d2-c58990a2415d",
   "metadata": {},
   "outputs": [
    {
     "data": {
      "text/plain": [
       "['cpu_util_insights_paillier_640_21.pkl']"
      ]
     },
     "execution_count": 57,
     "metadata": {},
     "output_type": "execute_result"
    }
   ],
   "source": [
    "joblib.dump((paillier_cpu_use_short.mean(),paillier_cpu_use_short.sum(),cpu_seconds_for_paillier,paillier_cpu_use_short.max(),paillier_cpu_use_short.min(),len(paillier_cpu_use_short),cpu_percent_consumption_paillier),'cpu_util_insights_paillier_640_21.pkl')"
   ]
  }
 ],
 "metadata": {
  "kernelspec": {
   "display_name": "Python 3 (ipykernel)",
   "language": "python",
   "name": "python3"
  },
  "language_info": {
   "codemirror_mode": {
    "name": "ipython",
    "version": 3
   },
   "file_extension": ".py",
   "mimetype": "text/x-python",
   "name": "python",
   "nbconvert_exporter": "python",
   "pygments_lexer": "ipython3",
   "version": "3.12.3"
  }
 },
 "nbformat": 4,
 "nbformat_minor": 5
}
