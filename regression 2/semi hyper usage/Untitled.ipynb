{
 "cells": [
  {
   "cell_type": "code",
   "execution_count": 1,
   "id": "6f6e2747-3a12-4d5a-be7d-37c1abc0399c",
   "metadata": {},
   "outputs": [
    {
     "name": "stdout",
     "output_type": "stream",
     "text": [
      "Datasets have been generated and saved to CSV files.\n"
     ]
    }
   ],
   "source": [
    "import numpy as np\n",
    "import pandas as pd\n",
    "from sklearn.model_selection import train_test_split\n",
    "\n",
    "# Set the random seed for reproducibility\n",
    "np.random.seed(42)\n",
    "\n",
    "# Generate the dataset\n",
    "n_samples = 7500\n",
    "n_features = 21\n",
    "\n",
    "# Features\n",
    "X = np.random.rand(n_samples, n_features)\n",
    "\n",
    "# Target variable, assuming a simple linear relation with some noise\n",
    "weights = np.random.rand(n_features)\n",
    "y = X.dot(weights) + np.random.randn(n_samples) * 0.1\n",
    "\n",
    "# Split the dataset into training and testing sets\n",
    "X_train, X_test, y_train, y_test = train_test_split(X, y, test_size=0.2, random_state=21)\n",
    "\n",
    "# Convert to DataFrame for saving to CSV\n",
    "X_train_df = pd.DataFrame(X_train, columns=[f'feature_{i+1}' for i in range(n_features)])\n",
    "X_test_df = pd.DataFrame(X_test, columns=[f'feature_{i+1}' for i in range(n_features)])\n",
    "y_train_df = pd.DataFrame(y_train, columns=['target'])\n",
    "y_test_df = pd.DataFrame(y_test, columns=['target'])\n",
    "\n",
    "# Save the datasets to CSV files\n",
    "X_train_df.to_csv('X_train.csv', index=False)\n",
    "X_test_df.to_csv('X_test.csv', index=False)\n",
    "y_train_df.to_csv('y_train.csv', index=False)\n",
    "y_test_df.to_csv('y_test.csv', index=False)\n",
    "\n",
    "print(\"Datasets have been generated and saved to CSV files.\")\n"
   ]
  },
  {
   "cell_type": "code",
   "execution_count": null,
   "id": "36a9bba0-59a3-428b-86c2-32ef03bf14f9",
   "metadata": {},
   "outputs": [],
   "source": []
  }
 ],
 "metadata": {
  "kernelspec": {
   "display_name": "Python 3 (ipykernel)",
   "language": "python",
   "name": "python3"
  },
  "language_info": {
   "codemirror_mode": {
    "name": "ipython",
    "version": 3
   },
   "file_extension": ".py",
   "mimetype": "text/x-python",
   "name": "python",
   "nbconvert_exporter": "python",
   "pygments_lexer": "ipython3",
   "version": "3.12.3"
  }
 },
 "nbformat": 4,
 "nbformat_minor": 5
}
