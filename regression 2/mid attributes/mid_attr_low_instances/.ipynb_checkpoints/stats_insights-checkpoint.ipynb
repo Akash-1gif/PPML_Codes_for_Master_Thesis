{
 "cells": [
  {
   "cell_type": "code",
   "execution_count": 1,
   "id": "eda35c9b-91e8-4762-a74f-a804b5613800",
   "metadata": {},
   "outputs": [],
   "source": [
    "import numpy as np\n",
    "import pandas as pd\n",
    "from scipy import stats\n",
    "import matplotlib.pyplot as plt\n",
    "import joblib\n",
    "import scipy.stats as stats\n",
    "import statsmodels.api as sm\n",
    "from statsmodels.formula.api import ols\n",
    "%matplotlib inline\n",
    "plt.style.use('dark_background')"
   ]
  },
  {
   "cell_type": "code",
   "execution_count": 2,
   "id": "8a5a89f5-13e8-4969-9c4a-d6847e5b5da6",
   "metadata": {},
   "outputs": [],
   "source": [
    "weights_paillier,bias_paillier,unenc_preds_paillier,cpu_seconds_paillier,cpu_usages_paillier,train_time_paillier,test_time_paillier=joblib.load('variables_paillier.pkl')"
   ]
  },
  {
   "cell_type": "code",
   "execution_count": 3,
   "id": "49d6c314-a5ff-4a1d-8cdc-2718d69eea8a",
   "metadata": {},
   "outputs": [],
   "source": [
    "weights_ckks,bias_ckks,unenc_preds_ckks,cpu_seconds_ckks,cpu_usages_ckks,train_time_ckks,test_time_ckks=joblib.load('variables.pkl')"
   ]
  },
  {
   "cell_type": "code",
   "execution_count": 4,
   "id": "896829ff-a0d2-4b44-8135-bbe01bb43351",
   "metadata": {},
   "outputs": [],
   "source": [
    "weights_sklearn,bias_sklearn,unenc_preds_sklearn=joblib.load('variables_sklearn.pkl')"
   ]
  },
  {
   "cell_type": "code",
   "execution_count": 5,
   "id": "f053038d-147e-4889-8a0e-a37d6d788287",
   "metadata": {},
   "outputs": [],
   "source": [
    "y_test=pd.read_csv('y_test1.csv')\n",
    "y_test=y_test.to_numpy()"
   ]
  },
  {
   "cell_type": "code",
   "execution_count": 6,
   "id": "939595e1-03cf-422c-8f67-3ea6377d5491",
   "metadata": {},
   "outputs": [
    {
     "data": {
      "text/plain": [
       "array([71.2, 75.1, 67.7, 71.3, 73.1, 55.3, 61.4, 74.1, 78.1, 76.8, 56.7,\n",
       "       73. , 73.9, 69.1, 44.5, 68.9, 59.2, 58. , 72.5, 71.9, 69.4, 72.2,\n",
       "       72.8, 75. , 75.9, 61.8, 76.5, 59.2, 52.4, 71.9, 59.5, 62.7, 71.6,\n",
       "       62.2, 79.4, 74.5, 76. , 73.2, 51.2, 69. , 61.6, 69.9, 67.3, 83. ,\n",
       "       67.7, 68. , 71.1, 74.8, 77.5, 73. , 75.3, 44.3, 73.6, 74.7, 75.5,\n",
       "       77. , 57.5, 73.1, 74.8, 71. , 72.4, 67.1, 75. , 71.8, 45.4, 69.7,\n",
       "       69.8, 76.2, 77.7, 69.6, 72. , 73.9, 73.2, 75. , 54.8, 74.2, 51. ,\n",
       "       73.8, 68.1, 74.9, 61.1, 70. , 68.1, 64.2, 73.6, 71.9, 77. , 58.6])"
      ]
     },
     "execution_count": 6,
     "metadata": {},
     "output_type": "execute_result"
    }
   ],
   "source": [
    "y_test=y_test.reshape(-1,)\n",
    "y_test"
   ]
  },
  {
   "cell_type": "code",
   "execution_count": 7,
   "id": "8869d052-f56f-4c6b-9ea6-b0c125052fcc",
   "metadata": {},
   "outputs": [
    {
     "data": {
      "text/plain": [
       "(88,)"
      ]
     },
     "execution_count": 7,
     "metadata": {},
     "output_type": "execute_result"
    }
   ],
   "source": [
    "unenc_preds_paillier=np.array(unenc_preds_paillier)\n",
    "unenc_preds_paillier.shape"
   ]
  },
  {
   "cell_type": "code",
   "execution_count": 8,
   "id": "4a5a7e75-5611-4e09-823a-b8ee7b27c785",
   "metadata": {},
   "outputs": [
    {
     "data": {
      "text/plain": [
       "(88,)"
      ]
     },
     "execution_count": 8,
     "metadata": {},
     "output_type": "execute_result"
    }
   ],
   "source": [
    "y_test.shape"
   ]
  },
  {
   "cell_type": "code",
   "execution_count": 9,
   "id": "bfa771ee-aa6b-4757-8b87-14866d71629a",
   "metadata": {},
   "outputs": [
    {
     "data": {
      "text/plain": [
       "(88,)"
      ]
     },
     "execution_count": 9,
     "metadata": {},
     "output_type": "execute_result"
    }
   ],
   "source": [
    "unenc_preds_ckks=np.array(unenc_preds_ckks)\n",
    "unenc_preds_ckks=unenc_preds_ckks.reshape(-1,)\n",
    "unenc_preds_ckks.shape"
   ]
  },
  {
   "cell_type": "code",
   "execution_count": 10,
   "id": "cf3149b6-83f1-44d0-a045-d90e5a65988f",
   "metadata": {
    "scrolled": true
   },
   "outputs": [
    {
     "data": {
      "text/plain": [
       "(88,)"
      ]
     },
     "execution_count": 10,
     "metadata": {},
     "output_type": "execute_result"
    }
   ],
   "source": [
    "unenc_preds_sklearn=unenc_preds_sklearn.reshape(-1,)\n",
    "unenc_preds_sklearn.shape"
   ]
  },
  {
   "cell_type": "markdown",
   "id": "d2456f11-11db-4b7e-acec-356d4bbbd1ce",
   "metadata": {},
   "source": [
    "### Mean Squared Error:"
   ]
  },
  {
   "cell_type": "code",
   "execution_count": 11,
   "id": "a8186515-08b6-485c-afe9-3bffa24fd15c",
   "metadata": {},
   "outputs": [],
   "source": [
    "from sklearn.metrics import mean_squared_error"
   ]
  },
  {
   "cell_type": "code",
   "execution_count": 12,
   "id": "3f139c27-8415-4091-a173-2dbd2813cd89",
   "metadata": {},
   "outputs": [],
   "source": [
    "mse_sklearn=mean_squared_error(unenc_preds_sklearn,y_test)"
   ]
  },
  {
   "cell_type": "code",
   "execution_count": 13,
   "id": "065b91fb-8af2-434c-a926-4c63f60c36f5",
   "metadata": {
    "scrolled": true
   },
   "outputs": [
    {
     "data": {
      "text/plain": [
       "15.941730074749175"
      ]
     },
     "execution_count": 13,
     "metadata": {},
     "output_type": "execute_result"
    }
   ],
   "source": [
    "mse_sklearn"
   ]
  },
  {
   "cell_type": "code",
   "execution_count": 14,
   "id": "5a73739b-7d45-4254-84cd-a9562908223c",
   "metadata": {},
   "outputs": [
    {
     "data": {
      "text/plain": [
       "15.942085679000519"
      ]
     },
     "execution_count": 14,
     "metadata": {},
     "output_type": "execute_result"
    }
   ],
   "source": [
    "mse_ckks=mean_squared_error(unenc_preds_ckks,y_test)\n",
    "mse_ckks"
   ]
  },
  {
   "cell_type": "code",
   "execution_count": 15,
   "id": "9629b78e-1cf7-4952-a301-f3af3855b80d",
   "metadata": {},
   "outputs": [
    {
     "data": {
      "text/plain": [
       "15.941730077382886"
      ]
     },
     "execution_count": 15,
     "metadata": {},
     "output_type": "execute_result"
    }
   ],
   "source": [
    "mse_paillier=mean_squared_error(unenc_preds_paillier,y_test)\n",
    "mse_paillier"
   ]
  },
  {
   "cell_type": "code",
   "execution_count": 16,
   "id": "2fed378b-b092-4b1e-8a2b-b767eab582a4",
   "metadata": {},
   "outputs": [
    {
     "name": "stdout",
     "output_type": "stream",
     "text": [
      "Variance: 72.00983219540083\n",
      "Variance: 72.01003391651255\n",
      "Variance: 72.00983219533472\n"
     ]
    }
   ],
   "source": [
    "def calculate_variance(numbers):\n",
    "    \n",
    "    if len(numbers) < 2:\n",
    "        raise ValueError(\"Variance requires at least two data points.\")\n",
    "    \n",
    "    mean = sum(numbers) / len(numbers)\n",
    "    squared_diffs = [(x - mean) ** 2 for x in numbers]\n",
    "    variance = sum(squared_diffs) / (len(numbers) - 1)\n",
    "    \n",
    "    return variance\n",
    "\n",
    "\n",
    "print(\"Variance:\", calculate_variance(unenc_preds_sklearn))\n",
    "print(\"Variance:\", calculate_variance(unenc_preds_ckks))\n",
    "print(\"Variance:\", calculate_variance(unenc_preds_paillier))"
   ]
  },
  {
   "cell_type": "code",
   "execution_count": 17,
   "id": "f4eb536f-2f57-4c29-b35b-032202e7e2cc",
   "metadata": {},
   "outputs": [],
   "source": [
    "f_statistic,p_value=stats.f_oneway(unenc_preds_sklearn,unenc_preds_ckks,unenc_preds_paillier)"
   ]
  },
  {
   "cell_type": "code",
   "execution_count": 18,
   "id": "2ac92c96-306c-475f-b7e0-f7d589fe629f",
   "metadata": {},
   "outputs": [
    {
     "data": {
      "text/plain": [
       "(1.808309699282362e-09, 0.9999999981917015)"
      ]
     },
     "execution_count": 18,
     "metadata": {},
     "output_type": "execute_result"
    }
   ],
   "source": [
    "f_statistic,p_value"
   ]
  },
  {
   "cell_type": "code",
   "execution_count": 19,
   "id": "3ec96b9e-7e8a-43c7-8a27-9602204083fc",
   "metadata": {},
   "outputs": [
    {
     "name": "stdout",
     "output_type": "stream",
     "text": [
      "There is no significant difference between the values\n"
     ]
    }
   ],
   "source": [
    "alpha = 0.05\n",
    "if p_value < alpha:\n",
    "    print(\"There is a significant difference between the values\")\n",
    "else:\n",
    "    print(\"There is no significant difference between the values\")"
   ]
  },
  {
   "cell_type": "code",
   "execution_count": 20,
   "id": "55a1933e-c867-4c91-a13c-d0d86c8ebf58",
   "metadata": {},
   "outputs": [],
   "source": [
    "diff_between_ckks_and_sklearn=abs(unenc_preds_ckks-unenc_preds_sklearn)"
   ]
  },
  {
   "cell_type": "code",
   "execution_count": 21,
   "id": "2f10d3d8-cce6-41d2-a15f-33d7f4cb7682",
   "metadata": {},
   "outputs": [
    {
     "data": {
      "text/plain": [
       "array([4.73401784e-07, 3.01536189e-04, 1.78814123e-04, 2.10501110e-04,\n",
       "       3.46785742e-05])"
      ]
     },
     "execution_count": 21,
     "metadata": {},
     "output_type": "execute_result"
    }
   ],
   "source": [
    "diff_between_ckks_and_sklearn[:5]"
   ]
  },
  {
   "cell_type": "code",
   "execution_count": 22,
   "id": "e94f1e5b-4896-406e-aa71-1d93bd9d5f2e",
   "metadata": {},
   "outputs": [],
   "source": [
    "diff_between_paillier_and_sklearn=abs(unenc_preds_paillier-unenc_preds_sklearn)"
   ]
  },
  {
   "cell_type": "code",
   "execution_count": 23,
   "id": "d89e770f-ce05-4ada-af28-a993d53a56a7",
   "metadata": {},
   "outputs": [
    {
     "data": {
      "text/plain": [
       "array([5.38433653e-09, 5.32031663e-09, 5.34738831e-09, 5.41577094e-09,\n",
       "       5.39118616e-09, 5.42222978e-09, 5.36979883e-09, 5.38491918e-09,\n",
       "       5.36147127e-09, 5.31480282e-09, 5.41100320e-09, 5.35958122e-09,\n",
       "       5.32857314e-09, 5.36978462e-09, 5.36949329e-09, 5.42331691e-09,\n",
       "       5.27374766e-09, 5.36212497e-09, 5.41473355e-09, 5.38794609e-09,\n",
       "       5.33901812e-09, 5.43641931e-09, 5.40245537e-09, 5.36323341e-09,\n",
       "       5.37515632e-09, 5.37030331e-09, 5.30829425e-09, 5.37647793e-09,\n",
       "       5.31024824e-09, 5.40114797e-09, 5.36984857e-09, 5.35524691e-09,\n",
       "       5.41598411e-09, 5.35479217e-09, 5.41341194e-09, 5.34352296e-09,\n",
       "       5.33687228e-09, 5.35204947e-09, 5.35786882e-09, 5.42985390e-09,\n",
       "       5.37509948e-09, 5.48124035e-09, 5.37852429e-09, 5.38285860e-09,\n",
       "       5.36296341e-09, 5.37468736e-09, 5.47727552e-09, 5.45632872e-09,\n",
       "       5.34510036e-09, 5.41012923e-09, 5.35207789e-09, 5.36105205e-09,\n",
       "       5.36262235e-09, 5.35440847e-09, 5.34866729e-09, 5.43711565e-09,\n",
       "       5.39100853e-09, 5.38433653e-09, 5.34444666e-09, 5.40219958e-09,\n",
       "       5.40916290e-09, 5.38904033e-09, 5.39742473e-09, 5.46143042e-09,\n",
       "       5.31724709e-09, 5.37085043e-09, 5.32698152e-09, 5.34251399e-09,\n",
       "       5.39098721e-09, 5.36017808e-09, 5.37858114e-09, 5.39587575e-09,\n",
       "       5.39353096e-09, 5.35824540e-09, 5.31656497e-09, 5.39075984e-09,\n",
       "       5.36563505e-09, 5.38807399e-09, 5.36769562e-09, 5.33212585e-09,\n",
       "       5.38769740e-09, 5.28366684e-09, 5.33738387e-09, 5.39952794e-09,\n",
       "       5.42074474e-09, 5.24715915e-09, 5.43103340e-09, 5.38234701e-09])"
      ]
     },
     "execution_count": 23,
     "metadata": {},
     "output_type": "execute_result"
    }
   ],
   "source": [
    "diff_between_paillier_and_sklearn"
   ]
  },
  {
   "cell_type": "code",
   "execution_count": 24,
   "id": "305493e7-252f-45ca-bd0d-11f715d5719c",
   "metadata": {},
   "outputs": [
    {
     "data": {
      "text/plain": [
       "(-14.890035302501778, 7.254421040702902e-33)"
      ]
     },
     "execution_count": 24,
     "metadata": {},
     "output_type": "execute_result"
    }
   ],
   "source": [
    "t_statistic,p_value=stats.ttest_ind(diff_between_paillier_and_sklearn,diff_between_ckks_and_sklearn)\n",
    "t_statistic,p_value"
   ]
  },
  {
   "cell_type": "code",
   "execution_count": 25,
   "id": "af9e696a-311a-4c84-8092-170b956b0820",
   "metadata": {},
   "outputs": [
    {
     "name": "stdout",
     "output_type": "stream",
     "text": [
      "There is a significant difference between the ckks-sklearn preds and paillier-sklearn preds\n"
     ]
    }
   ],
   "source": [
    "alpha = 0.05\n",
    "if p_value < alpha:\n",
    "    print(\"There is a significant difference between the ckks-sklearn preds and paillier-sklearn preds\")\n",
    "else:\n",
    "    print(\"There is no significant difference between the ckks-sklearn preds and paillier-sklearn preds\")"
   ]
  },
  {
   "cell_type": "code",
   "execution_count": 26,
   "id": "d486df68-a18a-4c45-aa0a-42e4079a830a",
   "metadata": {},
   "outputs": [],
   "source": [
    "l=len(diff_between_paillier_and_sklearn)"
   ]
  },
  {
   "cell_type": "code",
   "execution_count": 27,
   "id": "f219c165-4d2a-4c4f-b8a0-32f77ec6ff4a",
   "metadata": {},
   "outputs": [
    {
     "data": {
      "text/plain": [
       "6.273710880063194e-08"
      ]
     },
     "execution_count": 27,
     "metadata": {},
     "output_type": "execute_result"
    }
   ],
   "source": [
    "mse_ckks_with_sklearn=sum(diff_between_ckks_and_sklearn**2)/l\n",
    "mse_ckks_with_sklearn"
   ]
  },
  {
   "cell_type": "code",
   "execution_count": 28,
   "id": "5d712025-6a8f-45f3-a70e-23b7289f17a5",
   "metadata": {},
   "outputs": [
    {
     "data": {
      "text/plain": [
       "2.888613931335859e-17"
      ]
     },
     "execution_count": 28,
     "metadata": {},
     "output_type": "execute_result"
    }
   ],
   "source": [
    "mse_paillier_with_sklearn=sum(diff_between_paillier_and_sklearn**2)/l\n",
    "mse_paillier_with_sklearn"
   ]
  },
  {
   "cell_type": "markdown",
   "id": "0720ce03-91b4-4526-b4d6-8770d6eaeb81",
   "metadata": {},
   "source": [
    "### training time:"
   ]
  },
  {
   "cell_type": "code",
   "execution_count": 29,
   "id": "30c5e221-0307-4faf-b489-2f702a3d9987",
   "metadata": {},
   "outputs": [
    {
     "name": "stdout",
     "output_type": "stream",
     "text": [
      "ckks encryption takes less time to train the model\n"
     ]
    }
   ],
   "source": [
    "if train_time_ckks<train_time_paillier:\n",
    "    print(\"ckks encryption takes less time to train the model\")\n",
    "else:\n",
    "    print(\"paillier encryption takes less time to train the model\")"
   ]
  },
  {
   "cell_type": "code",
   "execution_count": 30,
   "id": "003aee86-6800-4e0f-bb81-355d5b62b903",
   "metadata": {},
   "outputs": [
    {
     "name": "stdout",
     "output_type": "stream",
     "text": [
      "ckks encrypted data takes less time to test the model\n"
     ]
    }
   ],
   "source": [
    "if test_time_ckks<test_time_paillier:\n",
    "    print(\"ckks encrypted data takes less time to test the model\")\n",
    "else:\n",
    "    print(\"paillier encrypted data takes less time to train the model\")"
   ]
  },
  {
   "cell_type": "code",
   "execution_count": 31,
   "id": "5f487b96-6a39-44fd-b20d-ea9900e22307",
   "metadata": {},
   "outputs": [
    {
     "data": {
      "text/plain": [
       "14.660992860794067"
      ]
     },
     "execution_count": 31,
     "metadata": {},
     "output_type": "execute_result"
    }
   ],
   "source": [
    "train_time_ckks"
   ]
  },
  {
   "cell_type": "code",
   "execution_count": 32,
   "id": "d230d97f-1afd-42d8-a4df-0390b49e02f2",
   "metadata": {},
   "outputs": [
    {
     "data": {
      "text/plain": [
       "526.3637111186981"
      ]
     },
     "execution_count": 32,
     "metadata": {},
     "output_type": "execute_result"
    }
   ],
   "source": [
    "train_time_paillier"
   ]
  },
  {
   "cell_type": "code",
   "execution_count": 33,
   "id": "927e7fd9-8c82-4553-b7a6-894f883379fc",
   "metadata": {},
   "outputs": [
    {
     "data": {
      "text/plain": [
       "1.4419536590576172"
      ]
     },
     "execution_count": 33,
     "metadata": {},
     "output_type": "execute_result"
    }
   ],
   "source": [
    "test_time_ckks"
   ]
  },
  {
   "cell_type": "code",
   "execution_count": 34,
   "id": "dbc4c1e4-03e9-4e16-a575-38df3d5b0de4",
   "metadata": {},
   "outputs": [
    {
     "data": {
      "text/plain": [
       "12.408247947692871"
      ]
     },
     "execution_count": 34,
     "metadata": {},
     "output_type": "execute_result"
    }
   ],
   "source": [
    "test_time_paillier"
   ]
  },
  {
   "cell_type": "code",
   "execution_count": 35,
   "id": "34e033bc-d9b6-45dd-b97f-aabace04b894",
   "metadata": {},
   "outputs": [
    {
     "data": {
      "text/plain": [
       "['test_time_paillier_348_12.pkl']"
      ]
     },
     "execution_count": 35,
     "metadata": {},
     "output_type": "execute_result"
    }
   ],
   "source": [
    "joblib.dump(train_time_ckks,'train_time_ckks_348_12.pkl')\n",
    "joblib.dump(train_time_paillier,'train_time_paillier_348_12.pkl')\n",
    "joblib.dump(test_time_ckks,'test_time_ckks_348_12.pkl')\n",
    "joblib.dump(test_time_paillier,'test_time_paillier_348_12.pkl')"
   ]
  },
  {
   "cell_type": "markdown",
   "id": "f3de5898-2831-41d7-9a7b-8575dc805b03",
   "metadata": {},
   "source": [
    "### CPU % utilization:"
   ]
  },
  {
   "cell_type": "code",
   "execution_count": 36,
   "id": "969ad115-ac97-49e5-afa4-97709c43b1a8",
   "metadata": {},
   "outputs": [],
   "source": [
    "def shortlist_cpu_usage(cpu):\n",
    "    cpu_use=[]\n",
    "    for i in cpu:\n",
    "        if i>80:\n",
    "            cpu_use.append(i)\n",
    "\n",
    "    return cpu_use"
   ]
  },
  {
   "cell_type": "code",
   "execution_count": 37,
   "id": "d309f379-51dc-4b1f-996b-fb07f1ab53bd",
   "metadata": {},
   "outputs": [
    {
     "data": {
      "text/plain": [
       "[100.2,\n",
       " 91.4,\n",
       " 89.1,\n",
       " 83.4,\n",
       " 80.5,\n",
       " 83.4,\n",
       " 90.9,\n",
       " 97.9,\n",
       " 100.1,\n",
       " 100.5,\n",
       " 102.1,\n",
       " 100.5,\n",
       " 100.8,\n",
       " 102.0,\n",
       " 101.1,\n",
       " 98.3,\n",
       " 91.7,\n",
       " 97.0,\n",
       " 101.2,\n",
       " 102.5,\n",
       " 102.3,\n",
       " 101.8,\n",
       " 100.3,\n",
       " 100.3,\n",
       " 102.3,\n",
       " 100.1,\n",
       " 101.1,\n",
       " 99.1,\n",
       " 97.8,\n",
       " 97.1,\n",
       " 96.2,\n",
       " 103.0,\n",
       " 101.6,\n",
       " 99.5,\n",
       " 98.0,\n",
       " 99.7,\n",
       " 99.8,\n",
       " 100.6,\n",
       " 102.3,\n",
       " 99.7,\n",
       " 95.3,\n",
       " 97.4,\n",
       " 99.1,\n",
       " 99.9,\n",
       " 99.3,\n",
       " 100.8,\n",
       " 99.3,\n",
       " 101.8,\n",
       " 99.9,\n",
       " 103.1,\n",
       " 98.6,\n",
       " 100.2,\n",
       " 96.7,\n",
       " 96.6,\n",
       " 99.3,\n",
       " 101.4,\n",
       " 101.0,\n",
       " 100.0,\n",
       " 103.3,\n",
       " 100.4,\n",
       " 100.5,\n",
       " 99.1,\n",
       " 101.0,\n",
       " 101.3,\n",
       " 97.8,\n",
       " 95.8,\n",
       " 95.8,\n",
       " 103.4,\n",
       " 101.6,\n",
       " 101.2,\n",
       " 101.9,\n",
       " 101.5,\n",
       " 102.2,\n",
       " 102.5,\n",
       " 101.3,\n",
       " 99.4,\n",
       " 96.8,\n",
       " 97.0,\n",
       " 95.8,\n",
       " 98.9,\n",
       " 100.5,\n",
       " 100.4,\n",
       " 101.3,\n",
       " 105.3,\n",
       " 100.8,\n",
       " 101.3,\n",
       " 101.1,\n",
       " 98.5,\n",
       " 96.8,\n",
       " 97.9,\n",
       " 97.0,\n",
       " 100.1,\n",
       " 101.9,\n",
       " 102.0,\n",
       " 99.5,\n",
       " 94.5,\n",
       " 100.3,\n",
       " 98.8,\n",
       " 100.6,\n",
       " 99.2,\n",
       " 98.7,\n",
       " 97.8,\n",
       " 97.1,\n",
       " 99.0,\n",
       " 100.1,\n",
       " 101.3,\n",
       " 101.7,\n",
       " 99.0,\n",
       " 97.8,\n",
       " 102.7,\n",
       " 101.3,\n",
       " 100.6,\n",
       " 96.7,\n",
       " 97.0,\n",
       " 98.1,\n",
       " 100.6,\n",
       " 101.4,\n",
       " 100.3,\n",
       " 102.5,\n",
       " 99.2,\n",
       " 96.7,\n",
       " 103.8,\n",
       " 98.8,\n",
       " 99.8,\n",
       " 98.5,\n",
       " 99.0,\n",
       " 95.5,\n",
       " 98.9,\n",
       " 99.7,\n",
       " 100.5,\n",
       " 100.2,\n",
       " 103.7,\n",
       " 98.9,\n",
       " 101.9,\n",
       " 101.1,\n",
       " 102.2,\n",
       " 99.4,\n",
       " 96.8,\n",
       " 96.4,\n",
       " 98.4,\n",
       " 101.1,\n",
       " 101.6,\n",
       " 95.8,\n",
       " 102.0,\n",
       " 99.6,\n",
       " 102.2,\n",
       " 101.2,\n",
       " 99.5,\n",
       " 100.8,\n",
       " 98.0,\n",
       " 97.2,\n",
       " 96.3,\n",
       " 99.6,\n",
       " 100.7,\n",
       " 101.4,\n",
       " 100.7,\n",
       " 101.0,\n",
       " 101.4,\n",
       " 102.2,\n",
       " 102.4,\n",
       " 100.7,\n",
       " 98.9,\n",
       " 82.5,\n",
       " 80.5,\n",
       " 85.5,\n",
       " 93.8,\n",
       " 100.7,\n",
       " 100.5,\n",
       " 102.8,\n",
       " 102.0,\n",
       " 101.6,\n",
       " 101.4,\n",
       " 101.4,\n",
       " 101.4,\n",
       " 100.6,\n",
       " 97.2,\n",
       " 96.6,\n",
       " 97.4,\n",
       " 102.0,\n",
       " 101.2,\n",
       " 101.5,\n",
       " 103.5,\n",
       " 100.0,\n",
       " 100.7,\n",
       " 103.4,\n",
       " 98.6,\n",
       " 101.2,\n",
       " 98.3,\n",
       " 96.6,\n",
       " 94.5,\n",
       " 99.4,\n",
       " 99.8,\n",
       " 100.0,\n",
       " 100.5,\n",
       " 101.3,\n",
       " 104.1,\n",
       " 102.2,\n",
       " 99.9,\n",
       " 103.0,\n",
       " 98.7,\n",
       " 96.2,\n",
       " 96.3,\n",
       " 101.2,\n",
       " 100.6,\n",
       " 99.7,\n",
       " 100.2,\n",
       " 102.7,\n",
       " 99.2,\n",
       " 101.0,\n",
       " 100.7,\n",
       " 97.4,\n",
       " 99.0,\n",
       " 97.8,\n",
       " 97.1,\n",
       " 98.4,\n",
       " 101.4,\n",
       " 100.5,\n",
       " 100.9,\n",
       " 100.6,\n",
       " 99.9,\n",
       " 99.9,\n",
       " 100.6,\n",
       " 102.6,\n",
       " 98.7,\n",
       " 97.1,\n",
       " 97.7,\n",
       " 98.6,\n",
       " 102.1,\n",
       " 100.4,\n",
       " 102.0,\n",
       " 100.8,\n",
       " 101.0,\n",
       " 102.2,\n",
       " 99.5,\n",
       " 101.9,\n",
       " 99.4,\n",
       " 97.9,\n",
       " 96.5,\n",
       " 96.3,\n",
       " 101.2,\n",
       " 100.1,\n",
       " 100.3,\n",
       " 101.8,\n",
       " 101.9,\n",
       " 101.0,\n",
       " 101.8,\n",
       " 100.6,\n",
       " 100.9,\n",
       " 100.1,\n",
       " 95.9,\n",
       " 96.2,\n",
       " 100.0,\n",
       " 101.0,\n",
       " 99.5,\n",
       " 96.3,\n",
       " 101.7,\n",
       " 101.0,\n",
       " 101.8,\n",
       " 100.9,\n",
       " 103.8,\n",
       " 100.9,\n",
       " 98.6,\n",
       " 96.7,\n",
       " 94.5,\n",
       " 101.3,\n",
       " 102.8,\n",
       " 98.8,\n",
       " 103.1,\n",
       " 101.3,\n",
       " 100.2,\n",
       " 100.8,\n",
       " 101.2,\n",
       " 99.6,\n",
       " 99.7,\n",
       " 97.3,\n",
       " 96.1,\n",
       " 100.1,\n",
       " 101.9,\n",
       " 102.1,\n",
       " 102.4,\n",
       " 101.1,\n",
       " 101.7,\n",
       " 100.8,\n",
       " 101.2,\n",
       " 102.1,\n",
       " 101.1,\n",
       " 98.6,\n",
       " 97.5,\n",
       " 98.4,\n",
       " 99.1,\n",
       " 101.9,\n",
       " 102.7,\n",
       " 98.9,\n",
       " 100.8,\n",
       " 102.8,\n",
       " 101.3,\n",
       " 104.6,\n",
       " 103.0,\n",
       " 94.3,\n",
       " 95.6,\n",
       " 98.4,\n",
       " 103.1,\n",
       " 98.7,\n",
       " 97.9,\n",
       " 101.0,\n",
       " 101.0,\n",
       " 100.7,\n",
       " 102.4,\n",
       " 95.3,\n",
       " 99.4,\n",
       " 94.1,\n",
       " 96.9,\n",
       " 94.5,\n",
       " 98.3,\n",
       " 102.4,\n",
       " 102.9,\n",
       " 98.0,\n",
       " 101.2,\n",
       " 98.1,\n",
       " 100.3,\n",
       " 101.6,\n",
       " 97.1,\n",
       " 92.6,\n",
       " 83.1,\n",
       " 87.7,\n",
       " 86.6,\n",
       " 104.9,\n",
       " 101.2,\n",
       " 100.8,\n",
       " 99.8,\n",
       " 99.0,\n",
       " 99.5,\n",
       " 97.3,\n",
       " 103.3,\n",
       " 100.4,\n",
       " 98.3,\n",
       " 96.8,\n",
       " 97.4,\n",
       " 99.9,\n",
       " 99.6,\n",
       " 98.7,\n",
       " 102.0,\n",
       " 100.1,\n",
       " 101.2,\n",
       " 102.1,\n",
       " 101.9,\n",
       " 101.1,\n",
       " 98.8,\n",
       " 98.0,\n",
       " 96.4,\n",
       " 100.1,\n",
       " 101.0,\n",
       " 101.1,\n",
       " 100.4,\n",
       " 102.2,\n",
       " 102.3,\n",
       " 99.9,\n",
       " 100.5,\n",
       " 104.7,\n",
       " 94.6,\n",
       " 96.3,\n",
       " 97.3,\n",
       " 101.2,\n",
       " 99.6,\n",
       " 101.3,\n",
       " 99.4,\n",
       " 99.8,\n",
       " 101.1,\n",
       " 101.4,\n",
       " 98.6,\n",
       " 101.7,\n",
       " 101.4,\n",
       " 97.8,\n",
       " 95.9,\n",
       " 99.5,\n",
       " 98.7,\n",
       " 99.1,\n",
       " 101.4,\n",
       " 102.3,\n",
       " 103.0,\n",
       " 101.3,\n",
       " 97.6,\n",
       " 99.5,\n",
       " 99.5,\n",
       " 94.7,\n",
       " 97.2,\n",
       " 99.0,\n",
       " 102.5,\n",
       " 100.8,\n",
       " 102.9,\n",
       " 100.5,\n",
       " 100.2,\n",
       " 98.1,\n",
       " 103.5,\n",
       " 102.6,\n",
       " 97.0,\n",
       " 96.5,\n",
       " 95.0,\n",
       " 100.2,\n",
       " 102.2,\n",
       " 99.0,\n",
       " 100.3,\n",
       " 103.3,\n",
       " 100.1,\n",
       " 100.4,\n",
       " 101.2,\n",
       " 98.9,\n",
       " 100.0,\n",
       " 96.9,\n",
       " 96.4,\n",
       " 100.4,\n",
       " 101.0,\n",
       " 102.1,\n",
       " 99.6,\n",
       " 101.1,\n",
       " 99.5,\n",
       " 100.6,\n",
       " 101.4,\n",
       " 97.6,\n",
       " 101.7,\n",
       " 94.3,\n",
       " 97.8,\n",
       " 98.3,\n",
       " 102.2,\n",
       " 102.2,\n",
       " 100.7,\n",
       " 102.8,\n",
       " 99.4,\n",
       " 99.5,\n",
       " 99.1,\n",
       " 102.5,\n",
       " 99.0,\n",
       " 93.6,\n",
       " 97.0,\n",
       " 97.9,\n",
       " 101.7,\n",
       " 99.4,\n",
       " 101.8,\n",
       " 99.3,\n",
       " 100.0,\n",
       " 102.5,\n",
       " 101.5,\n",
       " 102.3,\n",
       " 99.2,\n",
       " 96.3,\n",
       " 96.4,\n",
       " 96.1,\n",
       " 99.6,\n",
       " 103.2,\n",
       " 102.0,\n",
       " 101.3,\n",
       " 101.9,\n",
       " 100.6,\n",
       " 102.1,\n",
       " 100.9,\n",
       " 99.7,\n",
       " 98.5,\n",
       " 96.4,\n",
       " 97.9,\n",
       " 100.7,\n",
       " 100.3,\n",
       " 99.7,\n",
       " 100.7,\n",
       " 99.8,\n",
       " 102.1,\n",
       " 99.5,\n",
       " 103.2,\n",
       " 99.7,\n",
       " 98.4,\n",
       " 96.7,\n",
       " 96.4,\n",
       " 100.0,\n",
       " 101.7,\n",
       " 99.4,\n",
       " 99.0,\n",
       " 99.5,\n",
       " 102.4,\n",
       " 109.2,\n",
       " 104.5,\n",
       " 97.7,\n",
       " 94.7,\n",
       " 84.1,\n",
       " 87.7,\n",
       " 89.4,\n",
       " 97.0,\n",
       " 103.7,\n",
       " 99.9,\n",
       " 100.2,\n",
       " 99.9,\n",
       " 126.2,\n",
       " 99.1,\n",
       " 99.1,\n",
       " 89.9,\n",
       " 97.4]"
      ]
     },
     "execution_count": 37,
     "metadata": {},
     "output_type": "execute_result"
    }
   ],
   "source": [
    "paillier_cpu_use_short=shortlist_cpu_usage(cpu_usages_paillier)\n",
    "paillier_cpu_use_short"
   ]
  },
  {
   "cell_type": "code",
   "execution_count": 38,
   "id": "b08b1906-e12f-4881-a936-ea6199871af8",
   "metadata": {},
   "outputs": [],
   "source": [
    "paillier_cpu_use_short=np.array(paillier_cpu_use_short)"
   ]
  },
  {
   "cell_type": "code",
   "execution_count": 39,
   "id": "23d85184-511e-4cd3-a471-ab1e79da4ed0",
   "metadata": {},
   "outputs": [
    {
     "data": {
      "text/plain": [
       "99.47591093117408"
      ]
     },
     "execution_count": 39,
     "metadata": {},
     "output_type": "execute_result"
    }
   ],
   "source": [
    "paillier_cpu_use_short.mean()"
   ]
  },
  {
   "cell_type": "code",
   "execution_count": 40,
   "id": "b203da10-7b96-4cc0-a7c8-d232bb589873",
   "metadata": {},
   "outputs": [
    {
     "data": {
      "text/plain": [
       "49141.1"
      ]
     },
     "execution_count": 40,
     "metadata": {},
     "output_type": "execute_result"
    }
   ],
   "source": [
    "paillier_cpu_use_short.sum()"
   ]
  },
  {
   "cell_type": "code",
   "execution_count": 41,
   "id": "9c445644-8561-4c09-b11d-ef4e410b99d6",
   "metadata": {},
   "outputs": [
    {
     "data": {
      "text/plain": [
       "491.411"
      ]
     },
     "execution_count": 41,
     "metadata": {},
     "output_type": "execute_result"
    }
   ],
   "source": [
    "cpu_seconds_for_paillier=paillier_cpu_use_short.sum()/100\n",
    "cpu_seconds_for_paillier"
   ]
  },
  {
   "cell_type": "code",
   "execution_count": 42,
   "id": "e3d13a63-5d5d-4ff4-b4ab-5588cd9bcdc8",
   "metadata": {},
   "outputs": [
    {
     "data": {
      "text/plain": [
       "126.2"
      ]
     },
     "execution_count": 42,
     "metadata": {},
     "output_type": "execute_result"
    }
   ],
   "source": [
    "paillier_cpu_use_short.max()"
   ]
  },
  {
   "cell_type": "code",
   "execution_count": 43,
   "id": "bd6288fc-44db-4a62-a4be-73d7f9775b36",
   "metadata": {},
   "outputs": [
    {
     "data": {
      "text/plain": [
       "80.5"
      ]
     },
     "execution_count": 43,
     "metadata": {},
     "output_type": "execute_result"
    }
   ],
   "source": [
    "paillier_cpu_use_short.min()"
   ]
  },
  {
   "cell_type": "code",
   "execution_count": 44,
   "id": "8019c7fa-7447-47ab-acb4-753b8c4852c0",
   "metadata": {},
   "outputs": [
    {
     "data": {
      "text/plain": [
       "494"
      ]
     },
     "execution_count": 44,
     "metadata": {},
     "output_type": "execute_result"
    }
   ],
   "source": [
    "len(paillier_cpu_use_short)"
   ]
  },
  {
   "cell_type": "code",
   "execution_count": 45,
   "id": "73273bab-0732-4764-bf12-cceb3a768558",
   "metadata": {},
   "outputs": [],
   "source": [
    "cpu_percent_consumption_paillier=(paillier_cpu_use_short.sum()/(len(paillier_cpu_use_short)*200))*100"
   ]
  },
  {
   "cell_type": "code",
   "execution_count": 46,
   "id": "9cd56901-4016-4586-a50f-cf3b440e66c5",
   "metadata": {},
   "outputs": [
    {
     "data": {
      "text/plain": [
       "49.73795546558704"
      ]
     },
     "execution_count": 46,
     "metadata": {},
     "output_type": "execute_result"
    }
   ],
   "source": [
    "cpu_percent_consumption_paillier"
   ]
  },
  {
   "cell_type": "code",
   "execution_count": 47,
   "id": "70343caa-80ce-4735-9dfb-0055666876a0",
   "metadata": {},
   "outputs": [
    {
     "data": {
      "text/plain": [
       "[99.6, 99.7, 91.5, 96.2, 96.4, 99.0, 95.7, 103.6, 99.3, 107.1, 109.5]"
      ]
     },
     "execution_count": 47,
     "metadata": {},
     "output_type": "execute_result"
    }
   ],
   "source": [
    "ckks_cpu_use_short=shortlist_cpu_usage(cpu_usages_ckks)\n",
    "ckks_cpu_use_short"
   ]
  },
  {
   "cell_type": "code",
   "execution_count": 48,
   "id": "d8c91d68-0f4b-4e31-b109-cb6eae6335e6",
   "metadata": {},
   "outputs": [],
   "source": [
    "ckks_cpu_use_short=np.array(ckks_cpu_use_short)"
   ]
  },
  {
   "cell_type": "code",
   "execution_count": 49,
   "id": "71971821-8163-43f7-9b65-139a6a6f3cd7",
   "metadata": {},
   "outputs": [
    {
     "data": {
      "text/plain": [
       "99.78181818181817"
      ]
     },
     "execution_count": 49,
     "metadata": {},
     "output_type": "execute_result"
    }
   ],
   "source": [
    "ckks_cpu_use_short.mean()"
   ]
  },
  {
   "cell_type": "code",
   "execution_count": 50,
   "id": "687db669-cafe-47d4-97d8-9e7e40f3e716",
   "metadata": {},
   "outputs": [
    {
     "data": {
      "text/plain": [
       "1097.6"
      ]
     },
     "execution_count": 50,
     "metadata": {},
     "output_type": "execute_result"
    }
   ],
   "source": [
    "ckks_cpu_use_short.sum()"
   ]
  },
  {
   "cell_type": "code",
   "execution_count": 51,
   "id": "d82a9236-d0d7-4e10-bf46-fed948ff8dac",
   "metadata": {},
   "outputs": [
    {
     "data": {
      "text/plain": [
       "10.975999999999999"
      ]
     },
     "execution_count": 51,
     "metadata": {},
     "output_type": "execute_result"
    }
   ],
   "source": [
    "cpu_seconds_for_ckks=ckks_cpu_use_short.sum()/100\n",
    "cpu_seconds_for_ckks"
   ]
  },
  {
   "cell_type": "code",
   "execution_count": 52,
   "id": "fd87bc08-edbb-4e73-aa46-4cb631b99b17",
   "metadata": {},
   "outputs": [
    {
     "data": {
      "text/plain": [
       "109.5"
      ]
     },
     "execution_count": 52,
     "metadata": {},
     "output_type": "execute_result"
    }
   ],
   "source": [
    "ckks_cpu_use_short.max()"
   ]
  },
  {
   "cell_type": "code",
   "execution_count": 53,
   "id": "353cd72a-d316-446b-a48c-7777b5c27bcd",
   "metadata": {},
   "outputs": [
    {
     "data": {
      "text/plain": [
       "91.5"
      ]
     },
     "execution_count": 53,
     "metadata": {},
     "output_type": "execute_result"
    }
   ],
   "source": [
    "ckks_cpu_use_short.min()"
   ]
  },
  {
   "cell_type": "code",
   "execution_count": 54,
   "id": "3849453f-a4ce-4f5e-a542-89df109235a2",
   "metadata": {},
   "outputs": [
    {
     "data": {
      "text/plain": [
       "11"
      ]
     },
     "execution_count": 54,
     "metadata": {},
     "output_type": "execute_result"
    }
   ],
   "source": [
    "len(ckks_cpu_use_short)"
   ]
  },
  {
   "cell_type": "code",
   "execution_count": 55,
   "id": "440523d9-19c4-406e-a164-bdd8d996f078",
   "metadata": {},
   "outputs": [
    {
     "data": {
      "text/plain": [
       "49.89090909090908"
      ]
     },
     "execution_count": 55,
     "metadata": {},
     "output_type": "execute_result"
    }
   ],
   "source": [
    "cpu_percent_consumption_ckks=(ckks_cpu_use_short.sum()/(len(ckks_cpu_use_short)*200))*100\n",
    "cpu_percent_consumption_ckks"
   ]
  },
  {
   "cell_type": "code",
   "execution_count": 56,
   "id": "9f0a6aa0-a1d5-4478-b84e-26c53182d9f3",
   "metadata": {},
   "outputs": [
    {
     "data": {
      "text/plain": [
       "['cpu_util_insights_ckks_348_12.pkl']"
      ]
     },
     "execution_count": 56,
     "metadata": {},
     "output_type": "execute_result"
    }
   ],
   "source": [
    "joblib.dump((ckks_cpu_use_short.mean(),ckks_cpu_use_short.sum(),cpu_seconds_for_ckks,ckks_cpu_use_short.max(),ckks_cpu_use_short.min(),len(ckks_cpu_use_short),cpu_percent_consumption_ckks),'cpu_util_insights_ckks_348_12.pkl')"
   ]
  },
  {
   "cell_type": "code",
   "execution_count": 57,
   "id": "86617836-0d9d-44be-83d2-c58990a2415d",
   "metadata": {},
   "outputs": [
    {
     "data": {
      "text/plain": [
       "['cpu_util_insights_paillier_348_12.pkl']"
      ]
     },
     "execution_count": 57,
     "metadata": {},
     "output_type": "execute_result"
    }
   ],
   "source": [
    "joblib.dump((paillier_cpu_use_short.mean(),paillier_cpu_use_short.sum(),cpu_seconds_for_paillier,paillier_cpu_use_short.max(),paillier_cpu_use_short.min(),len(paillier_cpu_use_short),cpu_percent_consumption_paillier),'cpu_util_insights_paillier_348_12.pkl')"
   ]
  },
  {
   "cell_type": "code",
   "execution_count": null,
   "id": "dcb8e9d1-deb8-4af7-ac5a-00fc535deed9",
   "metadata": {},
   "outputs": [],
   "source": []
  }
 ],
 "metadata": {
  "kernelspec": {
   "display_name": "Python 3 (ipykernel)",
   "language": "python",
   "name": "python3"
  },
  "language_info": {
   "codemirror_mode": {
    "name": "ipython",
    "version": 3
   },
   "file_extension": ".py",
   "mimetype": "text/x-python",
   "name": "python",
   "nbconvert_exporter": "python",
   "pygments_lexer": "ipython3",
   "version": "3.12.3"
  }
 },
 "nbformat": 4,
 "nbformat_minor": 5
}
