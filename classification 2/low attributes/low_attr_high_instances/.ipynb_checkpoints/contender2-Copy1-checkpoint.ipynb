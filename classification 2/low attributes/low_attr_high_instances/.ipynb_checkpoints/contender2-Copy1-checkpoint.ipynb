{
 "cells": [
  {
   "cell_type": "code",
   "execution_count": 1,
   "id": "cbecd4ac-c490-40fd-8ed4-934494d31011",
   "metadata": {},
   "outputs": [],
   "source": [
    "import numpy as np\n",
    "import pandas as pd\n",
    "from sklearn.preprocessing import StandardScaler\n",
    "from sklearn.metrics import accuracy_score, classification_report\n",
    "from sklearn.linear_model import SGDClassifier\n",
    "from sklearn.model_selection import GridSearchCV\n",
    "from scipy.stats import ttest_rel"
   ]
  },
  {
   "cell_type": "code",
   "execution_count": 2,
   "id": "45a1d1bb-c0b6-4dbe-b52d-c2794ae17c74",
   "metadata": {},
   "outputs": [],
   "source": [
    "X_train = pd.read_csv('X_train1.csv').values\n",
    "X_test = pd.read_csv('X_test1.csv').values\n",
    "y_train = pd.read_csv('y_train1.csv').values.flatten()\n",
    "y_test = pd.read_csv('y_test1.csv').values.flatten()"
   ]
  },
  {
   "cell_type": "code",
   "execution_count": 3,
   "id": "53905430-2ee8-46c1-ab16-7934fb83854c",
   "metadata": {},
   "outputs": [],
   "source": [
    "y_train = np.where(y_train == 0, -1, 1)\n",
    "y_test = np.where(y_test == 0, -1, 1)"
   ]
  },
  {
   "cell_type": "code",
   "execution_count": 4,
   "id": "e46a413e-2cce-4886-9135-ac6de2a7667f",
   "metadata": {},
   "outputs": [],
   "source": [
    "scaler = StandardScaler()\n",
    "X_train = scaler.fit_transform(X_train)\n",
    "X_test = scaler.transform(X_test)"
   ]
  },
  {
   "cell_type": "code",
   "execution_count": 5,
   "id": "3d7cbe80-416d-4a78-ab0b-3c3020dad9d7",
   "metadata": {},
   "outputs": [],
   "source": [
    "def initialize_parameters(n_features):\n",
    "    w = np.zeros(n_features)\n",
    "    b = 0\n",
    "    return w, b"
   ]
  },
  {
   "cell_type": "code",
   "execution_count": 6,
   "id": "de598093-1f8c-4704-93de-94d80bd0c031",
   "metadata": {},
   "outputs": [],
   "source": [
    "def predict(X, w, b):\n",
    "    return np.sign(np.dot(X, w) + b)"
   ]
  },
  {
   "cell_type": "code",
   "execution_count": 7,
   "id": "19264a43-0145-4288-9c08-7b93187d624e",
   "metadata": {},
   "outputs": [],
   "source": [
    "def sgd_svm(X, y, learning_rate=0.01, C=1.0, epochs=3):\n",
    "    n_samples, n_features = X.shape\n",
    "    w, b = initialize_parameters(n_features)\n",
    "        \n",
    "    for epoch in range(epochs):\n",
    "        for i in range(n_samples):\n",
    "            xi = X[i]\n",
    "            yi = y[i]\n",
    "            margins = 1 - yi * (np.dot(xi, w) + b)\n",
    "            if margins > 0:\n",
    "                w = w - learning_rate * (w - C * yi * xi)\n",
    "                b = b - learning_rate * (-C * yi)\n",
    "            else:\n",
    "                w = w - learning_rate * w\n",
    "        \n",
    "    return w, b"
   ]
  },
  {
   "cell_type": "code",
   "execution_count": 8,
   "id": "4f719bbf-3aab-4df5-a4bf-eb7d5ce0656a",
   "metadata": {},
   "outputs": [],
   "source": [
    "w_manual, b_manual = sgd_svm(X_train, y_train, learning_rate=0.01, C=1, epochs=3) #change C=10 when there are high attributes"
   ]
  },
  {
   "cell_type": "code",
   "execution_count": 9,
   "id": "dfe1ea4a-df9f-43a5-b758-e421032a47e4",
   "metadata": {},
   "outputs": [],
   "source": [
    "y_pred_manual = predict(X_test, w_manual, b_manual)\n",
    "accuracy_manual = accuracy_score(y_test, y_pred_manual)"
   ]
  },
  {
   "cell_type": "code",
   "execution_count": 10,
   "id": "98de2561-7c73-45c8-ba31-264c88168e0d",
   "metadata": {},
   "outputs": [],
   "source": [
    "C=1 #change C=10 when there are high attributes\n",
    "alpha = 1.0 / (X_train.shape[0] * C) \n",
    "sgd_clf = SGDClassifier(loss='hinge', alpha=alpha, max_iter=3, tol=None, random_state=42)\n",
    "sgd_clf.fit(X_train, y_train)\n",
    "y_pred_sklearn = sgd_clf.predict(X_test)\n",
    "accuracy_sklearn = accuracy_score(y_test, y_pred_sklearn)"
   ]
  },
  {
   "cell_type": "code",
   "execution_count": 11,
   "id": "b2ee7853-e0df-4d2d-ae67-aa8e5fa970b2",
   "metadata": {},
   "outputs": [
    {
     "data": {
      "text/plain": [
       "0.7888888888888889"
      ]
     },
     "execution_count": 11,
     "metadata": {},
     "output_type": "execute_result"
    }
   ],
   "source": [
    "accuracy_manual"
   ]
  },
  {
   "cell_type": "code",
   "execution_count": 12,
   "id": "b865018a-45d0-482a-b882-3fff585a6625",
   "metadata": {},
   "outputs": [
    {
     "data": {
      "text/plain": [
       "0.7555555555555555"
      ]
     },
     "execution_count": 12,
     "metadata": {},
     "output_type": "execute_result"
    }
   ],
   "source": [
    "accuracy_sklearn"
   ]
  },
  {
   "cell_type": "code",
   "execution_count": 13,
   "id": "65de6ac2-3150-4868-9560-6bb834a63cc8",
   "metadata": {},
   "outputs": [
    {
     "data": {
      "text/plain": [
       "array([ 0.02359832,  0.17292294, -0.00993769,  0.07209141, -0.0702677 ,\n",
       "       -0.01128185, -0.02426165, -0.00232784,  0.23595634,  0.10885654,\n",
       "        0.10165723,  0.18055084,  0.13675739,  0.04455185,  0.13649581,\n",
       "        0.09880037,  0.04349818, -0.02609455, -0.04539256, -0.20308784,\n",
       "       -0.05955048, -0.10677053])"
      ]
     },
     "execution_count": 13,
     "metadata": {},
     "output_type": "execute_result"
    }
   ],
   "source": [
    "w_manual"
   ]
  },
  {
   "cell_type": "code",
   "execution_count": 14,
   "id": "2083dd8e-e859-4438-a591-b5d482eb7f3c",
   "metadata": {},
   "outputs": [
    {
     "data": {
      "text/plain": [
       "array([[ 8.31736595e-02,  9.64745610e-01,  6.73919145e-01,\n",
       "         1.77396020e+00, -4.01326639e-01, -2.55946930e-15,\n",
       "         1.47433693e+00, -2.35970697e-01,  3.37408042e+00,\n",
       "        -1.68322890e+00,  1.66727259e+00,  2.42683355e-01,\n",
       "        -2.40160233e-01, -5.26282755e-01,  1.45893668e+00,\n",
       "         1.31616459e+00,  1.18990068e+00,  7.12714975e-01,\n",
       "        -3.60867048e+00, -2.47985100e+00, -3.95872163e+00,\n",
       "        -1.31210685e+00]])"
      ]
     },
     "execution_count": 14,
     "metadata": {},
     "output_type": "execute_result"
    }
   ],
   "source": [
    "sgd_clf.coef_"
   ]
  },
  {
   "cell_type": "code",
   "execution_count": 15,
   "id": "1ba1024f-e39e-4487-84f4-2669e7a7bc70",
   "metadata": {},
   "outputs": [],
   "source": [
    "w_sklearn=sgd_clf.coef_[0]"
   ]
  },
  {
   "cell_type": "code",
   "execution_count": 16,
   "id": "2c69a7f4-f0ba-40a6-9a40-1ebbd0711c45",
   "metadata": {},
   "outputs": [],
   "source": [
    "t_stat, p_value = ttest_rel(w_manual, w_sklearn)"
   ]
  },
  {
   "cell_type": "code",
   "execution_count": 17,
   "id": "3523e083-9e59-4c45-88d9-f492ce2616d0",
   "metadata": {},
   "outputs": [
    {
     "data": {
      "text/plain": [
       "0.03860986308006111"
      ]
     },
     "execution_count": 17,
     "metadata": {},
     "output_type": "execute_result"
    }
   ],
   "source": [
    "t_stat"
   ]
  },
  {
   "cell_type": "code",
   "execution_count": 18,
   "id": "c92f9a23-d85a-4c09-bf3b-dc3c9542aa1e",
   "metadata": {},
   "outputs": [
    {
     "data": {
      "text/plain": [
       "0.9695661375639474"
      ]
     },
     "execution_count": 18,
     "metadata": {},
     "output_type": "execute_result"
    }
   ],
   "source": [
    "p_value"
   ]
  },
  {
   "cell_type": "code",
   "execution_count": null,
   "id": "b2e3fe9a-2457-454b-91e4-6307a44f64d6",
   "metadata": {},
   "outputs": [],
   "source": []
  }
 ],
 "metadata": {
  "kernelspec": {
   "display_name": "Python 3 (ipykernel)",
   "language": "python",
   "name": "python3"
  },
  "language_info": {
   "codemirror_mode": {
    "name": "ipython",
    "version": 3
   },
   "file_extension": ".py",
   "mimetype": "text/x-python",
   "name": "python",
   "nbconvert_exporter": "python",
   "pygments_lexer": "ipython3",
   "version": "3.12.3"
  }
 },
 "nbformat": 4,
 "nbformat_minor": 5
}
