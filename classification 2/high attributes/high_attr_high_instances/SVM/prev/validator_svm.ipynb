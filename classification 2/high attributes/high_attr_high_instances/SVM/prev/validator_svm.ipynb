{
  "nbformat": 4,
  "nbformat_minor": 0,
  "metadata": {
    "colab": {
      "provenance": []
    },
    "kernelspec": {
      "name": "python3",
      "display_name": "Python 3"
    },
    "language_info": {
      "name": "python"
    }
  },
  "cells": [
    {
      "cell_type": "code",
      "execution_count": 1,
      "metadata": {
        "colab": {
          "base_uri": "https://localhost:8080/"
        },
        "id": "Ki2ryWhjOWO5",
        "outputId": "4470cf4d-805a-48fa-d7a2-a6394af35540"
      },
      "outputs": [
        {
          "output_type": "stream",
          "name": "stdout",
          "text": [
            "Accuracy Manual: 0.7555555555555555\n",
            "Accuracy Sklearn: 0.7296296296296296\n",
            "Precision Manual: 0.7587189542483661\n",
            "Precision Sklearn: 0.7288805776323308\n",
            "Recall Manual: 0.7555555555555555\n",
            "Recall Sklearn: 0.7296296296296296\n",
            "F1 Score Manual: 0.751899068880201\n",
            "F1 Score Sklearn: 0.7287599083396386\n",
            "Cohen's Kappa: 0.5917261055634807\n",
            "McNemar's Test Statistic: 19.0, p-value: 0.053438810537711046\n"
          ]
        }
      ],
      "source": [
        "from sklearn.metrics import accuracy_score, precision_score, recall_score, f1_score, cohen_kappa_score, confusion_matrix\n",
        "from statsmodels.stats.contingency_tables import mcnemar\n",
        "import numpy as np\n",
        "\n",
        "# Assuming you have predictions and true labels\n",
        "y_true = np.array([ 1,  1, -1, -1,  1,  1,  1,  1,  1, -1,  1,  1,  1,  1,  1,  1, -1,\n",
        "       -1,  1,  1, -1,  1,  1, -1,  1, -1, -1,  1,  1,  1,  1,  1, -1, -1,\n",
        "        1,  1,  1, -1,  1, -1, -1,  1, -1, -1, -1, -1,  1,  1,  1,  1, -1,\n",
        "        1,  1, -1, -1,  1, -1, -1, -1,  1, -1, -1, -1,  1,  1,  1,  1,  1,\n",
        "        1, -1,  1,  1,  1,  1, -1,  1,  1,  1, -1, -1, -1,  1, -1, -1, -1,\n",
        "        1, -1, -1, -1,  1,  1,  1, -1, -1,  1, -1,  1,  1,  1,  1,  1,  1,\n",
        "        1, -1, -1, -1, -1, -1, -1,  1,  1, -1,  1, -1,  1, -1,  1,  1,  1,\n",
        "       -1, -1,  1,  1,  1, -1,  1, -1, -1, -1, -1, -1,  1, -1, -1,  1,  1,\n",
        "       -1, -1,  1, -1,  1,  1,  1,  1, -1,  1,  1, -1,  1, -1, -1,  1, -1,\n",
        "       -1, -1,  1, -1,  1, -1, -1, -1, -1, -1, -1, -1,  1,  1, -1, -1, -1,\n",
        "       -1, -1,  1,  1,  1, -1,  1, -1,  1,  1,  1,  1,  1,  1, -1, -1,  1,\n",
        "       -1,  1, -1,  1, -1,  1,  1, -1, -1, -1,  1,  1,  1,  1, -1,  1,  1,\n",
        "        1,  1,  1, -1,  1, -1,  1,  1,  1,  1, -1, -1, -1, -1, -1, -1,  1,\n",
        "       -1,  1,  1, -1, -1,  1,  1, -1,  1, -1, -1,  1, -1,  1,  1,  1, -1,\n",
        "       -1,  1, -1,  1, -1,  1,  1,  1,  1,  1,  1,  1, -1, -1,  1,  1, -1,\n",
        "       -1, -1, -1,  1,  1,  1, -1,  1,  1,  1,  1, -1, -1,  1,  1]) # True labels\n",
        "y_pred_manual = np.array([-1.,  1., -1.,  1.,  1.,  1.,  1.,  1.,  1., -1.,  1.,  1.,  1.,\n",
        "        1.,  1.,  1.,  1., -1.,  1.,  1.,  1.,  1.,  1., -1.,  1.,  1.,\n",
        "        1.,  1.,  1.,  1.,  1.,  1.,  1., -1.,  1.,  1.,  1., -1., -1.,\n",
        "       -1., -1., -1., -1., -1.,  1., -1., -1., -1., -1.,  1.,  1.,  1.,\n",
        "        1.,  1., -1.,  1., -1., -1., -1.,  1.,  1., -1., -1.,  1.,  1.,\n",
        "        1.,  1.,  1.,  1.,  1., -1., -1.,  1.,  1.,  1.,  1.,  1.,  1.,\n",
        "       -1., -1., -1.,  1., -1.,  1., -1.,  1., -1., -1.,  1.,  1.,  1.,\n",
        "       -1., -1., -1.,  1.,  1.,  1.,  1., -1., -1.,  1.,  1.,  1., -1.,\n",
        "        1., -1., -1., -1., -1.,  1., -1., -1.,  1., -1., -1., -1., -1.,\n",
        "        1.,  1.,  1., -1., -1.,  1.,  1., -1.,  1.,  1.,  1., -1., -1.,\n",
        "       -1.,  1.,  1.,  1.,  1.,  1., -1., -1.,  1., -1.,  1.,  1.,  1.,\n",
        "       -1.,  1.,  1.,  1., -1., -1., -1.,  1.,  1., -1., -1.,  1.,  1.,\n",
        "        1.,  1., -1., -1., -1., -1.,  1.,  1.,  1.,  1.,  1.,  1.,  1.,\n",
        "       -1., -1., -1.,  1.,  1.,  1.,  1.,  1., -1.,  1.,  1.,  1.,  1.,\n",
        "        1.,  1.,  1., -1.,  1.,  1.,  1.,  1.,  1.,  1.,  1.,  1., -1.,\n",
        "        1., -1.,  1.,  1.,  1., -1., -1.,  1.,  1.,  1.,  1.,  1.,  1.,\n",
        "        1.,  1.,  1.,  1.,  1.,  1., -1., -1.,  1.,  1., -1., -1.,  1.,\n",
        "       -1.,  1.,  1., -1., -1., -1.,  1., -1.,  1.,  1., -1., -1.,  1.,\n",
        "        1.,  1.,  1., -1., -1.,  1.,  1.,  1., -1.,  1.,  1.,  1.,  1.,\n",
        "        1., -1., -1., -1.,  1.,  1.,  1., -1., -1., -1., -1.,  1.,  1.,\n",
        "        1., -1.,  1.,  1.,  1.,  1., -1., -1.,  1.,  1.]) # Predictions from manually trained model\n",
        "y_pred_sklearn = np.array([-1,  1, -1,  1,  1,  1,  1,  1, -1, -1,  1,  1,  1,  1,  1,  1,  1,\n",
        "       -1,  1,  1,  1, -1, -1,  1,  1,  1, -1,  1,  1,  1, -1,  1,  1,  1,\n",
        "       -1,  1,  1, -1, -1, -1, -1, -1, -1, -1, -1, -1, -1, -1, -1,  1,  1,\n",
        "        1, -1, -1, -1,  1, -1, -1, -1,  1, -1, -1, -1,  1,  1,  1,  1,  1,\n",
        "        1,  1, -1, -1,  1,  1,  1,  1,  1,  1, -1, -1,  1,  1, -1,  1, -1,\n",
        "        1, -1, -1, -1, -1,  1,  1, -1, -1,  1, -1,  1,  1,  1,  1,  1,  1,\n",
        "        1, -1,  1, -1, -1, -1, -1,  1,  1, -1,  1,  1, -1, -1,  1, -1,  1,\n",
        "        1, -1,  1,  1, -1,  1,  1, -1,  1,  1, -1, -1,  1,  1, -1,  1,  1,\n",
        "       -1, -1, -1, -1,  1,  1,  1, -1, -1,  1,  1, -1, -1,  1,  1, -1, -1,\n",
        "       -1,  1, -1, -1,  1, -1, -1, -1, -1,  1,  1, -1, -1,  1,  1, -1, -1,\n",
        "        1, -1,  1,  1,  1,  1,  1, -1,  1,  1,  1, -1,  1,  1, -1,  1,  1,\n",
        "        1,  1,  1,  1,  1,  1, -1, -1,  1, -1,  1,  1,  1,  1, -1,  1,  1,\n",
        "        1, -1,  1,  1,  1,  1,  1,  1,  1,  1, -1, -1,  1,  1, -1, -1,  1,\n",
        "       -1,  1,  1, -1,  1, -1,  1, -1,  1,  1, -1,  1, -1,  1,  1,  1, -1,\n",
        "       -1,  1, -1,  1, -1, -1, -1, -1,  1,  1, -1, -1, -1,  1,  1,  1, -1,\n",
        "       -1, -1,  1,  1,  1,  1, -1,  1,  1,  1,  1, -1, -1,  1,  1]) # Predictions from sklearn model\n",
        "\n",
        "# Calculate accuracy\n",
        "accuracy_manual = accuracy_score(y_true, y_pred_manual)\n",
        "accuracy_sklearn = accuracy_score(y_true, y_pred_sklearn)\n",
        "\n",
        "# Calculate other metrics\n",
        "precision_manual = precision_score(y_true, y_pred_manual, average='weighted')\n",
        "precision_sklearn = precision_score(y_true, y_pred_sklearn, average='weighted')\n",
        "\n",
        "recall_manual = recall_score(y_true, y_pred_manual, average='weighted')\n",
        "recall_sklearn = recall_score(y_true, y_pred_sklearn, average='weighted')\n",
        "\n",
        "f1_manual = f1_score(y_true, y_pred_manual, average='weighted')\n",
        "f1_sklearn = f1_score(y_true, y_pred_sklearn, average='weighted')\n",
        "\n",
        "# Calculate Cohen's Kappa\n",
        "kappa = cohen_kappa_score(y_pred_manual, y_pred_sklearn)\n",
        "\n",
        "# McNemar's Test\n",
        "contingency_table = confusion_matrix(y_pred_manual, y_pred_sklearn)\n",
        "result = mcnemar(contingency_table, exact=True)\n",
        "mcnemar_stat = result.statistic\n",
        "mcnemar_p_value = result.pvalue\n",
        "\n",
        "print(f\"Accuracy Manual: {accuracy_manual}\")\n",
        "print(f\"Accuracy Sklearn: {accuracy_sklearn}\")\n",
        "print(f\"Precision Manual: {precision_manual}\")\n",
        "print(f\"Precision Sklearn: {precision_sklearn}\")\n",
        "print(f\"Recall Manual: {recall_manual}\")\n",
        "print(f\"Recall Sklearn: {recall_sklearn}\")\n",
        "print(f\"F1 Score Manual: {f1_manual}\")\n",
        "print(f\"F1 Score Sklearn: {f1_sklearn}\")\n",
        "print(f\"Cohen's Kappa: {kappa}\")\n",
        "print(f\"McNemar's Test Statistic: {mcnemar_stat}, p-value: {mcnemar_p_value}\")\n",
        "\n",
        "# Paired t-test on accuracies (optional, needs accuracy on same samples)\n",
        "# paired_t_stat, paired_t_p_value = stats.ttest_rel(y_pred_manual == y_true, y_pred_sklearn == y_true)\n",
        "# print(f\"Paired t-test on accuracies: t-statistic: {paired_t_stat}, p-value: {paired_t_p_value}\")\n"
      ]
    },
    {
      "cell_type": "code",
      "source": [
        "\n",
        "from sklearn.metrics import accuracy_score\n",
        "accuracy_score(y_pred_sklearn,y_pred_manual)"
      ],
      "metadata": {
        "colab": {
          "base_uri": "https://localhost:8080/"
        },
        "id": "hwH9Q2JsOxqF",
        "outputId": "d1f70732-be65-4e99-f8e4-ee33f84b08f1"
      },
      "execution_count": 2,
      "outputs": [
        {
          "output_type": "execute_result",
          "data": {
            "text/plain": [
              "0.8037037037037037"
            ]
          },
          "metadata": {},
          "execution_count": 2
        }
      ]
    },
    {
      "cell_type": "code",
      "source": [],
      "metadata": {
        "id": "WxtHokIYoyhR"
      },
      "execution_count": 2,
      "outputs": []
    }
  ]
}