{
 "cells": [
  {
   "cell_type": "code",
   "execution_count": 1,
   "id": "e6de9a8e-2622-407f-9073-3fc4557f9332",
   "metadata": {},
   "outputs": [],
   "source": [
    "import numpy as np\n",
    "from scipy import stats"
   ]
  },
  {
   "cell_type": "code",
   "execution_count": 2,
   "id": "2d6873b4-c0df-4c03-b585-8e7060cea564",
   "metadata": {},
   "outputs": [],
   "source": [
    "def z_score_normalization(weights):\n",
    "    mean = np.mean(weights)\n",
    "    std_dev = np.std(weights)\n",
    "    normalized_weights = (weights - mean) / std_dev\n",
    "    return normalized_weights"
   ]
  },
  {
   "cell_type": "code",
   "execution_count": 3,
   "id": "934abc0a-c201-4d22-ba0c-f6e067f07ade",
   "metadata": {},
   "outputs": [],
   "source": [
    "def perform_tests(manual_weights, sklearn_weights):\n",
    "    # Normalize the weights\n",
    "    normalized_manual_weights = z_score_normalization(manual_weights)\n",
    "    normalized_sklearn_weights = z_score_normalization(sklearn_weights)\n",
    "\n",
    "        # Perform Shapiro-Wilk test on normalized weights\n",
    "    shapiro_manual_normalized = stats.shapiro(normalized_manual_weights)\n",
    "    shapiro_sklearn_normalized = stats.shapiro(normalized_sklearn_weights)\n",
    "\n",
    "    # Select and perform the appropriate test based on normality\n",
    "    if shapiro_manual_normalized.pvalue > 0.05 and shapiro_sklearn_normalized.pvalue > 0.05:\n",
    "        test_name = 'Paired T-Test'\n",
    "        stat, p_value = stats.ttest_rel(normalized_manual_weights, normalized_sklearn_weights)\n",
    "    else:\n",
    "        test_name = 'Wilcoxon Signed-Rank Test'\n",
    "        stat, p_value = stats.wilcoxon(normalized_manual_weights, normalized_sklearn_weights)\n",
    "    \n",
    "    # Determine if there is a significant difference\n",
    "    if p_value >= 0.05:\n",
    "        result = \"There is no significant difference between the normalized weights.\"\n",
    "    else:\n",
    "        result = \"There is a significant difference between the normalized weights.\"\n",
    "    \n",
    "    # Perform the same test on the original weights\n",
    "    shapiro_manual_original = stats.shapiro(manual_weights)\n",
    "    shapiro_sklearn_original = stats.shapiro(sklearn_weights)\n",
    "    \n",
    "    if shapiro_manual_original.pvalue > 0.05 and shapiro_sklearn_original.pvalue > 0.05:\n",
    "        original_test_name = 'Paired T-Test'\n",
    "        original_stat, original_p_value = stats.ttest_rel(manual_weights, sklearn_weights)\n",
    "    else:\n",
    "        original_test_name = 'Wilcoxon Signed-Rank Test'\n",
    "        original_stat, original_p_value = stats.wilcoxon(manual_weights, sklearn_weights)\n",
    "    \n",
    "    if original_p_value >= 0.05:\n",
    "        original_result = \"There is no significant difference between the original weights.\"\n",
    "    else:\n",
    "        original_result = \"There is a significant difference between the original weights.\"\n",
    "    \n",
    "    return {\n",
    "        \"normalized_test_name\": test_name,\n",
    "        \"normalized_stat\": stat,\n",
    "        \"normalized_p_value\": p_value,\n",
    "        \"normalized_result\": result,\n",
    "        \"original_test_name\": original_test_name,\n",
    "        \"original_stat\": original_stat,\n",
    "        \"original_p_value\": original_p_value,\n",
    "        \"original_result\": original_result\n",
    "    }"
   ]
  },
  {
   "cell_type": "code",
   "execution_count": 4,
   "id": "301806d9-6b85-446b-82bc-6a1eae9d24cb",
   "metadata": {},
   "outputs": [
    {
     "name": "stdout",
     "output_type": "stream",
     "text": [
      "Results for Normalized Weights:\n",
      "Test Used: Paired T-Test\n",
      "Test Statistic: -5.801361187006329e-16\n",
      "P-Value: 0.9999999999999996\n",
      "Result: There is no significant difference between the normalized weights.\n",
      "\n",
      "Results for Original Weights:\n",
      "Test Used: Paired T-Test\n",
      "Test Statistic: -0.20733167321103863\n",
      "P-Value: 0.8377481642291307\n",
      "Result: There is no significant difference between the original weights.\n"
     ]
    }
   ],
   "source": [
    "# Example weights\n",
    "# manual_weights = np.array([0.11165912, 0.04125405, 0.11522011, 0.13986772, -0.02246274, 0.07951921, -0.04974533, 0.00702302, 0.24097008, 0.05976391, 0.14263469, 0.15741762, 0.14418186, 0.06115388, 0.13723934, 0.08027136, 0.08987036, -0.01521186, -0.00854816, -0.16303513, -0.22655182, 0.00107501])\n",
    "# sklearn_weights = np.array([-0.7495746, 1.59118582, 0.38987463, 1.73851997, 0.20289004, -0.52757363, 0.71472442, -0.59219624, 3.36321757, 1.98838645, 1.45320013, -0.3059225, -0.01338573, 0.07823607, 1.40970358, 0.11194825, 0.18642881, -0.84894721, -1.9034196, -1.9120093, -3.0072081, -0.90231218])\n",
    "\n",
    "import joblib\n",
    "\n",
    "data1 = joblib.load('file_path')\n",
    "data2 = joblib.load('file_path')\n",
    "\n",
    "\n",
    "sklearn_weights, bias_unenc1, accuracy1, y_pred_sklearn, cpu_seconds1, cpu_usages1, ram_usages2, train_time, testing_time = data\n",
    "manual_weights, bias_unenc2, accuracy2, y_pred_manual, cpu_seconds2, cpu_usages2, ram_usages, train_time, testing_time = data\n",
    "\n",
    "\n",
    "# Perform the tests\n",
    "results = perform_tests(manual_weights, sklearn_weights)\n",
    "\n",
    "# Display the results\n",
    "print(\"Results for Normalized Weights:\")\n",
    "print(f\"Test Used: {results['normalized_test_name']}\")\n",
    "print(f\"Test Statistic: {results['normalized_stat']}\")\n",
    "print(f\"P-Value: {results['normalized_p_value']}\")\n",
    "print(f\"Result: {results['normalized_result']}\")\n",
    "\n",
    "print(\"\\nResults for Original Weights:\")\n",
    "print(f\"Test Used: {results['original_test_name']}\")\n",
    "print(f\"Test Statistic: {results['original_stat']}\")\n",
    "print(f\"P-Value: {results['original_p_value']}\")\n",
    "print(f\"Result: {results['original_result']}\")\n"
   ]
  }
 ],
 "metadata": {
  "kernelspec": {
   "display_name": "Python 3 (ipykernel)",
   "language": "python",
   "name": "python3"
  },
  "language_info": {
   "codemirror_mode": {
    "name": "ipython",
    "version": 3
   },
   "file_extension": ".py",
   "mimetype": "text/x-python",
   "name": "python",
   "nbconvert_exporter": "python",
   "pygments_lexer": "ipython3",
   "version": "3.12.3"
  }
 },
 "nbformat": 4,
 "nbformat_minor": 5
}
