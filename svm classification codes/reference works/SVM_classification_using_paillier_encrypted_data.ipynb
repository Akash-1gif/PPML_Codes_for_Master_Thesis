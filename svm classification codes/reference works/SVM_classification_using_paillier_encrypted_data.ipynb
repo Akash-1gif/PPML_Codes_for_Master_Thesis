{
  "nbformat": 4,
  "nbformat_minor": 0,
  "metadata": {
    "colab": {
      "provenance": []
    },
    "kernelspec": {
      "name": "python3",
      "display_name": "Python 3"
    },
    "language_info": {
      "name": "python"
    }
  },
  "cells": [
    {
      "cell_type": "code",
      "execution_count": 1,
      "metadata": {
        "colab": {
          "base_uri": "https://localhost:8080/"
        },
        "id": "4h7Qjos2XKqQ",
        "outputId": "ecf18303-afca-48e9-e585-329dd3070794"
      },
      "outputs": [
        {
          "output_type": "stream",
          "name": "stdout",
          "text": [
            "Collecting phe\n",
            "  Downloading phe-1.5.0-py2.py3-none-any.whl (53 kB)\n",
            "\u001b[2K     \u001b[90m━━━━━━━━━━━━━━━━━━━━━━━━━━━━━━━━━━━━━━━━\u001b[0m \u001b[32m53.7/53.7 kB\u001b[0m \u001b[31m1.1 MB/s\u001b[0m eta \u001b[36m0:00:00\u001b[0m\n",
            "\u001b[?25hInstalling collected packages: phe\n",
            "Successfully installed phe-1.5.0\n"
          ]
        }
      ],
      "source": [
        "!pip install phe"
      ]
    },
    {
      "cell_type": "code",
      "source": [
        "import numpy as np\n",
        "import pandas as pd\n",
        "from sklearn.datasets import make_classification\n",
        "from scipy.special import expit\n",
        "from sklearn.model_selection import train_test_split\n",
        "from sklearn.preprocessing import StandardScaler\n",
        "from phe import paillier\n",
        "import time\n",
        "import psutil\n",
        "import os\n",
        "from threading import Thread, Lock"
      ],
      "metadata": {
        "id": "7mU8Ox0tXMG2"
      },
      "execution_count": 2,
      "outputs": []
    },
    {
      "cell_type": "code",
      "source": [
        "X_train = pd.read_csv('X_train_classification.csv')\n",
        "X_train=X_train.to_numpy()\n",
        "y_train = pd.read_csv('y_train_classification.csv')\n",
        "y_train=y_train.to_numpy().reshape(-1)\n",
        "X_test = pd.read_csv('X_test_classification.csv')\n",
        "X_test=X_test.to_numpy()\n",
        "y_test = pd.read_csv('y_test_classification.csv')\n",
        "y_test=y_test.to_numpy().reshape(-1)\n",
        "\n",
        "y_train = np.where(y_train == 0, -1, 1)\n",
        "y_test = np.where(y_test == 0, -1, 1)\n",
        "\n",
        "n_samples,n_attributes=X_train.shape\n",
        "scaler = StandardScaler()\n",
        "X_train = scaler.fit_transform(X_train)\n",
        "X_test = scaler.transform(X_test)\n",
        "bias = 0\n",
        "lr = 0.01\n",
        "C = 0.01 # change C=10 or 1 if high attributes are involved"
      ],
      "metadata": {
        "id": "AWNPNHZyXr_m"
      },
      "execution_count": 3,
      "outputs": []
    },
    {
      "cell_type": "code",
      "source": [
        "# Paillier key generation\n",
        "public_key, private_key = paillier.generate_paillier_keypair()"
      ],
      "metadata": {
        "id": "kSHril5oX6Ut"
      },
      "execution_count": 4,
      "outputs": []
    },
    {
      "cell_type": "code",
      "source": [
        "# Lock for controlling CPU monitoring\n",
        "monitor_lock = Lock()"
      ],
      "metadata": {
        "id": "_r-zxte_YuUd"
      },
      "execution_count": 5,
      "outputs": []
    },
    {
      "cell_type": "code",
      "source": [
        "# Function to handle encrypted multiplication at the edge device\n",
        "def paillier_multiplication_edge(a, b):\n",
        "    with monitor_lock:  # Acquire lock to exclude this part from CPU and RAM monitoring\n",
        "        a = private_key.decrypt(a)\n",
        "        a=round(a,6)\n",
        "        a = a * b\n",
        "    return a"
      ],
      "metadata": {
        "id": "zZ_wzzHiZOtD"
      },
      "execution_count": 6,
      "outputs": []
    },
    {
      "cell_type": "code",
      "source": [
        "# Function to handle encrypted multiplication at the cloud\n",
        "def paillier_multiplication_cloud(a, b):\n",
        "    noise1 = 0.01\n",
        "    noise2 = 0.02\n",
        "    a = a + noise1\n",
        "    sub_mass = (b * noise1) * (-1)\n",
        "    sol = paillier_multiplication_edge(a, b)\n",
        "    sol = sol + sub_mass\n",
        "    return sol\n",
        "\n",
        "# Function to handle encrypted multiplication at the cloud\n",
        "# def paillier_multiplication_cloud(a, b):\n",
        "#     noise1 = 10\n",
        "#     noise2 = 20\n",
        "#     # Encrypt the noise before adding it to the encrypted number\n",
        "#     encrypted_noise1 = public_key.encrypt(noise1)\n",
        "#     a = a + encrypted_noise1  # Now you are adding two EncryptedNumber objects\n",
        "#     sub_mass = (b * noise1) * (-1)\n",
        "#     sol = paillier_multiplication_edge(a, b)\n",
        "#     sol = sol + sub_mass\n",
        "#     return sol"
      ],
      "metadata": {
        "id": "-vsWgPd6ZQkn"
      },
      "execution_count": 7,
      "outputs": []
    },
    {
      "cell_type": "code",
      "source": [
        "# enc_X_train = [[public_key.encrypt(j) for j in i] for i in X_train]\n",
        "# enc_y_train = [public_key.encrypt(int(i)) for i in y_train]\n",
        "enc_X_train=[]\n",
        "count=0\n",
        "for i in X_train:\n",
        "  row_in=[]\n",
        "  for j in i:\n",
        "    row_in.append(public_key.encrypt(j))\n",
        "  print(f\"row {count} encrypted\")\n",
        "  enc_X_train.append(row_in)\n",
        "  count+=1\n",
        "\n",
        "enc_y_train = [public_key.encrypt(int(i)) for i in y_train]"
      ],
      "metadata": {
        "colab": {
          "base_uri": "https://localhost:8080/"
        },
        "id": "qbydHZvpZTEH",
        "outputId": "9af834ea-2235-4f3a-a489-8a53e96c76b8"
      },
      "execution_count": 8,
      "outputs": [
        {
          "output_type": "stream",
          "name": "stdout",
          "text": [
            "row 0 encrypted\n",
            "row 1 encrypted\n",
            "row 2 encrypted\n",
            "row 3 encrypted\n",
            "row 4 encrypted\n",
            "row 5 encrypted\n",
            "row 6 encrypted\n",
            "row 7 encrypted\n",
            "row 8 encrypted\n",
            "row 9 encrypted\n",
            "row 10 encrypted\n",
            "row 11 encrypted\n",
            "row 12 encrypted\n",
            "row 13 encrypted\n",
            "row 14 encrypted\n",
            "row 15 encrypted\n",
            "row 16 encrypted\n",
            "row 17 encrypted\n",
            "row 18 encrypted\n",
            "row 19 encrypted\n",
            "row 20 encrypted\n",
            "row 21 encrypted\n",
            "row 22 encrypted\n",
            "row 23 encrypted\n",
            "row 24 encrypted\n",
            "row 25 encrypted\n",
            "row 26 encrypted\n",
            "row 27 encrypted\n",
            "row 28 encrypted\n",
            "row 29 encrypted\n",
            "row 30 encrypted\n",
            "row 31 encrypted\n",
            "row 32 encrypted\n",
            "row 33 encrypted\n",
            "row 34 encrypted\n",
            "row 35 encrypted\n",
            "row 36 encrypted\n",
            "row 37 encrypted\n",
            "row 38 encrypted\n",
            "row 39 encrypted\n",
            "row 40 encrypted\n",
            "row 41 encrypted\n",
            "row 42 encrypted\n",
            "row 43 encrypted\n",
            "row 44 encrypted\n",
            "row 45 encrypted\n",
            "row 46 encrypted\n",
            "row 47 encrypted\n",
            "row 48 encrypted\n",
            "row 49 encrypted\n",
            "row 50 encrypted\n",
            "row 51 encrypted\n",
            "row 52 encrypted\n",
            "row 53 encrypted\n",
            "row 54 encrypted\n",
            "row 55 encrypted\n",
            "row 56 encrypted\n",
            "row 57 encrypted\n",
            "row 58 encrypted\n",
            "row 59 encrypted\n",
            "row 60 encrypted\n",
            "row 61 encrypted\n",
            "row 62 encrypted\n",
            "row 63 encrypted\n",
            "row 64 encrypted\n",
            "row 65 encrypted\n",
            "row 66 encrypted\n",
            "row 67 encrypted\n",
            "row 68 encrypted\n",
            "row 69 encrypted\n",
            "row 70 encrypted\n",
            "row 71 encrypted\n",
            "row 72 encrypted\n",
            "row 73 encrypted\n",
            "row 74 encrypted\n",
            "row 75 encrypted\n",
            "row 76 encrypted\n",
            "row 77 encrypted\n",
            "row 78 encrypted\n",
            "row 79 encrypted\n"
          ]
        }
      ]
    },
    {
      "cell_type": "code",
      "source": [
        "len(enc_X_train)"
      ],
      "metadata": {
        "colab": {
          "base_uri": "https://localhost:8080/"
        },
        "id": "XY_xA0RYnTFH",
        "outputId": "c0290445-6da5-454a-94fb-6bbc64efdaad"
      },
      "execution_count": 9,
      "outputs": [
        {
          "output_type": "execute_result",
          "data": {
            "text/plain": [
              "80"
            ]
          },
          "metadata": {},
          "execution_count": 9
        }
      ]
    },
    {
      "cell_type": "code",
      "source": [
        "def paillier_scalar_rescaling(r):\n",
        "  r=private_key.decrypt(r)\n",
        "  r=round(r,7)\n",
        "  r=public_key.encrypt(r)\n",
        "  return r"
      ],
      "metadata": {
        "id": "79vxCDgH_-ys"
      },
      "execution_count": 10,
      "outputs": []
    },
    {
      "cell_type": "code",
      "source": [
        "# margin calculation:\n",
        "weights=[]\n",
        "for i in range(X_train.shape[1]):\n",
        "  weights.append(public_key.encrypt(0))\n",
        "\n",
        "weights"
      ],
      "metadata": {
        "colab": {
          "base_uri": "https://localhost:8080/"
        },
        "id": "1lKypmdFkupU",
        "outputId": "66ae67f6-8b8c-4b11-c0ae-b81cbbda53a3"
      },
      "execution_count": 11,
      "outputs": [
        {
          "output_type": "execute_result",
          "data": {
            "text/plain": [
              "[<phe.paillier.EncryptedNumber at 0x7e145b747e20>,\n",
              " <phe.paillier.EncryptedNumber at 0x7e1493011720>]"
            ]
          },
          "metadata": {},
          "execution_count": 11
        }
      ]
    },
    {
      "cell_type": "code",
      "source": [
        "for _ in range(3):\n",
        " for w in range(n_samples):\n",
        "    xi=enc_X_train[w]\n",
        "    yi=enc_y_train[w]\n",
        "\n",
        "    summ=0\n",
        "    for i,j in zip(weights,xi):\n",
        "      r=None\n",
        "      r=paillier_multiplication_cloud(j,i)\n",
        "      mm=summ+r\n",
        "\n",
        "    mm=paillier_scalar_rescaling(mm)\n",
        "    l2=mm+bias\n",
        "\n",
        "\n",
        "    lot=paillier_multiplication_cloud(yi,l2)\n",
        "    # margins=1-summ\n",
        "\n",
        "    if private_key.decrypt(lot) < 1:\n",
        "      s=C*yi\n",
        "      m2=[]\n",
        "      for m in xi:\n",
        "        m2.append(paillier_multiplication_cloud(m,s))\n",
        "\n",
        "      r3=[]\n",
        "      for i,j in zip(weights,m2):\n",
        "        r3.append(i-j)\n",
        "\n",
        "      r4=[]\n",
        "      for i in r3:\n",
        "        r4.append(lr*i)\n",
        "\n",
        "      r5=[]\n",
        "      for i,j in zip(weights,r4):\n",
        "        r5.append(i-j)\n",
        "\n",
        "      weights=r5\n",
        "      bias=bias-lr*(-C*yi)\n",
        "\n",
        "    else:\n",
        "      r6=[]\n",
        "      for i in weights:\n",
        "        m=i*lr\n",
        "        r6.append(i-m)\n",
        "\n",
        "      weights=r6\n",
        "\n",
        "    print(f\"epoch = {_} iter {w} executed\")\n",
        "\n",
        "\n",
        "    if w%5==0:\n",
        "      weights2=[]\n",
        "      for i in weights:\n",
        "        weights2.append(paillier_scalar_rescaling(i))\n",
        "      weights=weights2\n",
        "      bias=paillier_scalar_rescaling(bias)\n"
      ],
      "metadata": {
        "colab": {
          "base_uri": "https://localhost:8080/"
        },
        "id": "DBqb6oF0ouVc",
        "outputId": "4f431a6f-fadb-4a1d-dfd6-a41d69fe778f"
      },
      "execution_count": 12,
      "outputs": [
        {
          "output_type": "stream",
          "name": "stdout",
          "text": [
            "epoch = 0 iter 0 executed\n",
            "epoch = 0 iter 1 executed\n",
            "epoch = 0 iter 2 executed\n",
            "epoch = 0 iter 3 executed\n",
            "epoch = 0 iter 4 executed\n",
            "epoch = 0 iter 5 executed\n",
            "epoch = 0 iter 6 executed\n",
            "epoch = 0 iter 7 executed\n",
            "epoch = 0 iter 8 executed\n",
            "epoch = 0 iter 9 executed\n",
            "epoch = 0 iter 10 executed\n",
            "epoch = 0 iter 11 executed\n",
            "epoch = 0 iter 12 executed\n",
            "epoch = 0 iter 13 executed\n",
            "epoch = 0 iter 14 executed\n",
            "epoch = 0 iter 15 executed\n",
            "epoch = 0 iter 16 executed\n",
            "epoch = 0 iter 17 executed\n",
            "epoch = 0 iter 18 executed\n",
            "epoch = 0 iter 19 executed\n",
            "epoch = 0 iter 20 executed\n",
            "epoch = 0 iter 21 executed\n",
            "epoch = 0 iter 22 executed\n",
            "epoch = 0 iter 23 executed\n",
            "epoch = 0 iter 24 executed\n",
            "epoch = 0 iter 25 executed\n",
            "epoch = 0 iter 26 executed\n",
            "epoch = 0 iter 27 executed\n",
            "epoch = 0 iter 28 executed\n",
            "epoch = 0 iter 29 executed\n",
            "epoch = 0 iter 30 executed\n",
            "epoch = 0 iter 31 executed\n",
            "epoch = 0 iter 32 executed\n",
            "epoch = 0 iter 33 executed\n",
            "epoch = 0 iter 34 executed\n",
            "epoch = 0 iter 35 executed\n",
            "epoch = 0 iter 36 executed\n",
            "epoch = 0 iter 37 executed\n",
            "epoch = 0 iter 38 executed\n",
            "epoch = 0 iter 39 executed\n",
            "epoch = 0 iter 40 executed\n",
            "epoch = 0 iter 41 executed\n",
            "epoch = 0 iter 42 executed\n",
            "epoch = 0 iter 43 executed\n",
            "epoch = 0 iter 44 executed\n",
            "epoch = 0 iter 45 executed\n",
            "epoch = 0 iter 46 executed\n",
            "epoch = 0 iter 47 executed\n",
            "epoch = 0 iter 48 executed\n",
            "epoch = 0 iter 49 executed\n",
            "epoch = 0 iter 50 executed\n",
            "epoch = 0 iter 51 executed\n",
            "epoch = 0 iter 52 executed\n",
            "epoch = 0 iter 53 executed\n",
            "epoch = 0 iter 54 executed\n",
            "epoch = 0 iter 55 executed\n",
            "epoch = 0 iter 56 executed\n",
            "epoch = 0 iter 57 executed\n",
            "epoch = 0 iter 58 executed\n",
            "epoch = 0 iter 59 executed\n",
            "epoch = 0 iter 60 executed\n",
            "epoch = 0 iter 61 executed\n",
            "epoch = 0 iter 62 executed\n",
            "epoch = 0 iter 63 executed\n",
            "epoch = 0 iter 64 executed\n",
            "epoch = 0 iter 65 executed\n",
            "epoch = 0 iter 66 executed\n",
            "epoch = 0 iter 67 executed\n",
            "epoch = 0 iter 68 executed\n",
            "epoch = 0 iter 69 executed\n",
            "epoch = 0 iter 70 executed\n",
            "epoch = 0 iter 71 executed\n",
            "epoch = 0 iter 72 executed\n",
            "epoch = 0 iter 73 executed\n",
            "epoch = 0 iter 74 executed\n",
            "epoch = 0 iter 75 executed\n",
            "epoch = 0 iter 76 executed\n",
            "epoch = 0 iter 77 executed\n",
            "epoch = 0 iter 78 executed\n",
            "epoch = 0 iter 79 executed\n",
            "epoch = 1 iter 0 executed\n",
            "epoch = 1 iter 1 executed\n",
            "epoch = 1 iter 2 executed\n",
            "epoch = 1 iter 3 executed\n",
            "epoch = 1 iter 4 executed\n",
            "epoch = 1 iter 5 executed\n",
            "epoch = 1 iter 6 executed\n",
            "epoch = 1 iter 7 executed\n",
            "epoch = 1 iter 8 executed\n",
            "epoch = 1 iter 9 executed\n",
            "epoch = 1 iter 10 executed\n",
            "epoch = 1 iter 11 executed\n",
            "epoch = 1 iter 12 executed\n",
            "epoch = 1 iter 13 executed\n",
            "epoch = 1 iter 14 executed\n",
            "epoch = 1 iter 15 executed\n",
            "epoch = 1 iter 16 executed\n",
            "epoch = 1 iter 17 executed\n",
            "epoch = 1 iter 18 executed\n",
            "epoch = 1 iter 19 executed\n",
            "epoch = 1 iter 20 executed\n",
            "epoch = 1 iter 21 executed\n",
            "epoch = 1 iter 22 executed\n",
            "epoch = 1 iter 23 executed\n",
            "epoch = 1 iter 24 executed\n",
            "epoch = 1 iter 25 executed\n",
            "epoch = 1 iter 26 executed\n",
            "epoch = 1 iter 27 executed\n",
            "epoch = 1 iter 28 executed\n",
            "epoch = 1 iter 29 executed\n",
            "epoch = 1 iter 30 executed\n",
            "epoch = 1 iter 31 executed\n",
            "epoch = 1 iter 32 executed\n",
            "epoch = 1 iter 33 executed\n",
            "epoch = 1 iter 34 executed\n",
            "epoch = 1 iter 35 executed\n",
            "epoch = 1 iter 36 executed\n",
            "epoch = 1 iter 37 executed\n",
            "epoch = 1 iter 38 executed\n",
            "epoch = 1 iter 39 executed\n",
            "epoch = 1 iter 40 executed\n",
            "epoch = 1 iter 41 executed\n",
            "epoch = 1 iter 42 executed\n",
            "epoch = 1 iter 43 executed\n",
            "epoch = 1 iter 44 executed\n",
            "epoch = 1 iter 45 executed\n",
            "epoch = 1 iter 46 executed\n",
            "epoch = 1 iter 47 executed\n",
            "epoch = 1 iter 48 executed\n",
            "epoch = 1 iter 49 executed\n",
            "epoch = 1 iter 50 executed\n",
            "epoch = 1 iter 51 executed\n",
            "epoch = 1 iter 52 executed\n",
            "epoch = 1 iter 53 executed\n",
            "epoch = 1 iter 54 executed\n",
            "epoch = 1 iter 55 executed\n",
            "epoch = 1 iter 56 executed\n",
            "epoch = 1 iter 57 executed\n",
            "epoch = 1 iter 58 executed\n",
            "epoch = 1 iter 59 executed\n",
            "epoch = 1 iter 60 executed\n",
            "epoch = 1 iter 61 executed\n",
            "epoch = 1 iter 62 executed\n",
            "epoch = 1 iter 63 executed\n",
            "epoch = 1 iter 64 executed\n",
            "epoch = 1 iter 65 executed\n",
            "epoch = 1 iter 66 executed\n",
            "epoch = 1 iter 67 executed\n",
            "epoch = 1 iter 68 executed\n",
            "epoch = 1 iter 69 executed\n",
            "epoch = 1 iter 70 executed\n",
            "epoch = 1 iter 71 executed\n",
            "epoch = 1 iter 72 executed\n",
            "epoch = 1 iter 73 executed\n",
            "epoch = 1 iter 74 executed\n",
            "epoch = 1 iter 75 executed\n",
            "epoch = 1 iter 76 executed\n",
            "epoch = 1 iter 77 executed\n",
            "epoch = 1 iter 78 executed\n",
            "epoch = 1 iter 79 executed\n",
            "epoch = 2 iter 0 executed\n",
            "epoch = 2 iter 1 executed\n",
            "epoch = 2 iter 2 executed\n",
            "epoch = 2 iter 3 executed\n",
            "epoch = 2 iter 4 executed\n",
            "epoch = 2 iter 5 executed\n",
            "epoch = 2 iter 6 executed\n",
            "epoch = 2 iter 7 executed\n",
            "epoch = 2 iter 8 executed\n",
            "epoch = 2 iter 9 executed\n",
            "epoch = 2 iter 10 executed\n",
            "epoch = 2 iter 11 executed\n",
            "epoch = 2 iter 12 executed\n",
            "epoch = 2 iter 13 executed\n",
            "epoch = 2 iter 14 executed\n",
            "epoch = 2 iter 15 executed\n",
            "epoch = 2 iter 16 executed\n",
            "epoch = 2 iter 17 executed\n",
            "epoch = 2 iter 18 executed\n",
            "epoch = 2 iter 19 executed\n",
            "epoch = 2 iter 20 executed\n",
            "epoch = 2 iter 21 executed\n",
            "epoch = 2 iter 22 executed\n",
            "epoch = 2 iter 23 executed\n",
            "epoch = 2 iter 24 executed\n",
            "epoch = 2 iter 25 executed\n",
            "epoch = 2 iter 26 executed\n",
            "epoch = 2 iter 27 executed\n",
            "epoch = 2 iter 28 executed\n",
            "epoch = 2 iter 29 executed\n",
            "epoch = 2 iter 30 executed\n",
            "epoch = 2 iter 31 executed\n",
            "epoch = 2 iter 32 executed\n",
            "epoch = 2 iter 33 executed\n",
            "epoch = 2 iter 34 executed\n",
            "epoch = 2 iter 35 executed\n",
            "epoch = 2 iter 36 executed\n",
            "epoch = 2 iter 37 executed\n",
            "epoch = 2 iter 38 executed\n",
            "epoch = 2 iter 39 executed\n",
            "epoch = 2 iter 40 executed\n",
            "epoch = 2 iter 41 executed\n",
            "epoch = 2 iter 42 executed\n",
            "epoch = 2 iter 43 executed\n",
            "epoch = 2 iter 44 executed\n",
            "epoch = 2 iter 45 executed\n",
            "epoch = 2 iter 46 executed\n",
            "epoch = 2 iter 47 executed\n",
            "epoch = 2 iter 48 executed\n",
            "epoch = 2 iter 49 executed\n",
            "epoch = 2 iter 50 executed\n",
            "epoch = 2 iter 51 executed\n",
            "epoch = 2 iter 52 executed\n",
            "epoch = 2 iter 53 executed\n",
            "epoch = 2 iter 54 executed\n",
            "epoch = 2 iter 55 executed\n",
            "epoch = 2 iter 56 executed\n",
            "epoch = 2 iter 57 executed\n",
            "epoch = 2 iter 58 executed\n",
            "epoch = 2 iter 59 executed\n",
            "epoch = 2 iter 60 executed\n",
            "epoch = 2 iter 61 executed\n",
            "epoch = 2 iter 62 executed\n",
            "epoch = 2 iter 63 executed\n",
            "epoch = 2 iter 64 executed\n",
            "epoch = 2 iter 65 executed\n",
            "epoch = 2 iter 66 executed\n",
            "epoch = 2 iter 67 executed\n",
            "epoch = 2 iter 68 executed\n",
            "epoch = 2 iter 69 executed\n",
            "epoch = 2 iter 70 executed\n",
            "epoch = 2 iter 71 executed\n",
            "epoch = 2 iter 72 executed\n",
            "epoch = 2 iter 73 executed\n",
            "epoch = 2 iter 74 executed\n",
            "epoch = 2 iter 75 executed\n",
            "epoch = 2 iter 76 executed\n",
            "epoch = 2 iter 77 executed\n",
            "epoch = 2 iter 78 executed\n",
            "epoch = 2 iter 79 executed\n"
          ]
        }
      ]
    },
    {
      "cell_type": "code",
      "source": [
        "for i in weights:\n",
        "  print(private_key.decrypt(i))"
      ],
      "metadata": {
        "id": "P25iOxG6rR41",
        "colab": {
          "base_uri": "https://localhost:8080/"
        },
        "outputId": "209b0a04-441f-47b4-bbff-886865341820"
      },
      "execution_count": 13,
      "outputs": [
        {
          "output_type": "stream",
          "name": "stdout",
          "text": [
            "0.00020532118008260002\n",
            "0.0071579019786138\n"
          ]
        }
      ]
    },
    {
      "cell_type": "code",
      "source": [
        "summ"
      ],
      "metadata": {
        "id": "aMb25kMpegiS",
        "colab": {
          "base_uri": "https://localhost:8080/"
        },
        "outputId": "29d1a40e-8ff9-4a21-996d-cfb783c39153"
      },
      "execution_count": 14,
      "outputs": [
        {
          "output_type": "execute_result",
          "data": {
            "text/plain": [
              "0"
            ]
          },
          "metadata": {},
          "execution_count": 14
        }
      ]
    },
    {
      "cell_type": "code",
      "source": [
        "private_key.decrypt(bias)"
      ],
      "metadata": {
        "id": "xmYcRxXACH4m",
        "colab": {
          "base_uri": "https://localhost:8080/"
        },
        "outputId": "a86da0a0-7ae7-45f1-81e8-1af77fc07621"
      },
      "execution_count": 15,
      "outputs": [
        {
          "output_type": "execute_result",
          "data": {
            "text/plain": [
              "0.0"
            ]
          },
          "metadata": {},
          "execution_count": 15
        }
      ]
    },
    {
      "cell_type": "code",
      "source": [
        "enc_X_test=[]\n",
        "count=0\n",
        "for i in X_test:\n",
        "  row_in=[]\n",
        "  for j in i:\n",
        "    row_in.append(public_key.encrypt(j))\n",
        "  print(f\"row {count} encrypted\")\n",
        "  enc_X_test.append(row_in)\n",
        "  count+=1"
      ],
      "metadata": {
        "colab": {
          "base_uri": "https://localhost:8080/"
        },
        "id": "vQAV-bzmtNqB",
        "outputId": "8e401859-9df9-461c-e509-d588d4b31782"
      },
      "execution_count": 16,
      "outputs": [
        {
          "output_type": "stream",
          "name": "stdout",
          "text": [
            "row 0 encrypted\n",
            "row 1 encrypted\n",
            "row 2 encrypted\n",
            "row 3 encrypted\n",
            "row 4 encrypted\n",
            "row 5 encrypted\n",
            "row 6 encrypted\n",
            "row 7 encrypted\n",
            "row 8 encrypted\n",
            "row 9 encrypted\n",
            "row 10 encrypted\n",
            "row 11 encrypted\n",
            "row 12 encrypted\n",
            "row 13 encrypted\n",
            "row 14 encrypted\n",
            "row 15 encrypted\n",
            "row 16 encrypted\n",
            "row 17 encrypted\n",
            "row 18 encrypted\n",
            "row 19 encrypted\n"
          ]
        }
      ]
    },
    {
      "cell_type": "code",
      "source": [
        "def return_sign(x):\n",
        "  x1=private_key.decrypt(x)\n",
        "  return np.sign(x1)"
      ],
      "metadata": {
        "id": "dDOw0x5vv6H3"
      },
      "execution_count": 17,
      "outputs": []
    },
    {
      "cell_type": "code",
      "source": [
        "y_pred=[]\n",
        "count2=0\n",
        "for xi in enc_X_test:\n",
        "  for i,j in zip(xi,weights):\n",
        "    r=paillier_multiplication_cloud(i,j)\n",
        "  p=r+bias\n",
        "  y_pred.append(return_sign(p))\n",
        "  print(f\"item {count2} tested\")"
      ],
      "metadata": {
        "colab": {
          "base_uri": "https://localhost:8080/"
        },
        "id": "U6vxwWVUwHmi",
        "outputId": "76c296d1-e325-44f5-a34b-f7c8e13d87a6"
      },
      "execution_count": 18,
      "outputs": [
        {
          "output_type": "stream",
          "name": "stdout",
          "text": [
            "item 0 tested\n",
            "item 0 tested\n",
            "item 0 tested\n",
            "item 0 tested\n",
            "item 0 tested\n",
            "item 0 tested\n",
            "item 0 tested\n",
            "item 0 tested\n",
            "item 0 tested\n",
            "item 0 tested\n",
            "item 0 tested\n",
            "item 0 tested\n",
            "item 0 tested\n",
            "item 0 tested\n",
            "item 0 tested\n",
            "item 0 tested\n",
            "item 0 tested\n",
            "item 0 tested\n",
            "item 0 tested\n",
            "item 0 tested\n"
          ]
        }
      ]
    },
    {
      "cell_type": "code",
      "source": [
        "from sklearn.metrics import accuracy_score\n",
        "accuracy_score(y_test,y_pred)"
      ],
      "metadata": {
        "colab": {
          "base_uri": "https://localhost:8080/"
        },
        "id": "e4UYO6zRww74",
        "outputId": "3e0f3f9a-9e54-49c8-e85b-a05b19baa9b9"
      },
      "execution_count": 19,
      "outputs": [
        {
          "output_type": "execute_result",
          "data": {
            "text/plain": [
              "0.85"
            ]
          },
          "metadata": {},
          "execution_count": 19
        }
      ]
    },
    {
      "cell_type": "code",
      "source": [],
      "metadata": {
        "id": "hgRHys6hw3wY"
      },
      "execution_count": null,
      "outputs": []
    }
  ]
}