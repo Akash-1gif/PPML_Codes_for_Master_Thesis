{
 "cells": [
  {
   "cell_type": "code",
   "execution_count": 1,
   "id": "eda35c9b-91e8-4762-a74f-a804b5613800",
   "metadata": {},
   "outputs": [],
   "source": [
    "import numpy as np\n",
    "import pandas as pd\n",
    "from scipy import stats\n",
    "import matplotlib.pyplot as plt\n",
    "import joblib\n",
    "import scipy.stats as stats\n",
    "import statsmodels.api as sm\n",
    "from statsmodels.formula.api import ols\n",
    "%matplotlib inline\n",
    "plt.style.use('dark_background')"
   ]
  },
  {
   "cell_type": "code",
   "execution_count": 2,
   "id": "8a5a89f5-13e8-4969-9c4a-d6847e5b5da6",
   "metadata": {},
   "outputs": [],
   "source": [
    "weights_paillier,bias_paillier,unenc_preds_paillier,cpu_seconds_paillier,cpu_usages_paillier,train_time_paillier,test_time_paillier=joblib.load('variables_paillier.pkl')"
   ]
  },
  {
   "cell_type": "code",
   "execution_count": 3,
   "id": "49d6c314-a5ff-4a1d-8cdc-2718d69eea8a",
   "metadata": {},
   "outputs": [],
   "source": [
    "weights_ckks,bias_ckks,unenc_preds_ckks,cpu_seconds_ckks,cpu_usages_ckks,train_time_ckks,test_time_ckks=joblib.load('variables.pkl')"
   ]
  },
  {
   "cell_type": "code",
   "execution_count": 4,
   "id": "896829ff-a0d2-4b44-8135-bbe01bb43351",
   "metadata": {},
   "outputs": [],
   "source": [
    "weights_sklearn,bias_sklearn,unenc_preds_sklearn=joblib.load('variables_sklearn.pkl')"
   ]
  },
  {
   "cell_type": "code",
   "execution_count": 5,
   "id": "f053038d-147e-4889-8a0e-a37d6d788287",
   "metadata": {},
   "outputs": [],
   "source": [
    "y_test=pd.read_csv('y_test3.csv')\n",
    "y_test=y_test.to_numpy()"
   ]
  },
  {
   "cell_type": "code",
   "execution_count": 6,
   "id": "939595e1-03cf-422c-8f67-3ea6377d5491",
   "metadata": {},
   "outputs": [
    {
     "data": {
      "text/plain": [
       "array([71. , 69.9, 69.3, 74.5, 57.4, 64.2, 74.1, 57.9, 56.7, 74.2, 77.3,\n",
       "       72.9, 71. , 75.5, 65.9, 72. , 72.4, 73. , 72. , 65.9, 59.2, 58.1,\n",
       "       72.1, 58.5, 59.1, 75.4, 65.6, 71.3, 73.2, 58.8, 72.3, 72.4, 73.3,\n",
       "       73.5, 69.6, 81.7, 72. , 66.1, 59.7, 52.8, 78.7, 58.4, 73.5, 84. ,\n",
       "       71. , 55.8, 89. , 73.9, 59.7, 88. , 73. , 72.4, 69.3, 45.4, 58.9,\n",
       "       69.4, 77.6, 65.3, 53.6, 61.4, 68.3, 71.6, 75. , 71.8, 68. , 82. ,\n",
       "       81.7, 74. , 69.2, 69.6, 68.4, 66.8, 62.1, 54.3, 58.4, 65.3, 75.5,\n",
       "       62.5, 61.2, 46.2, 69.1, 75.4, 81.5, 51.6, 72.8, 69.5, 66. , 74.5,\n",
       "       76.2, 65.8, 69. , 75.6, 78. , 76.5, 76. , 52.6, 74.6, 78.9, 62.2,\n",
       "       76.7, 76. , 62.2, 72.9, 62.5, 71.7, 63. , 65.4, 69.3, 79. , 50. ,\n",
       "       71. , 73.7, 69.7, 78.6, 48.2, 73.5, 74.1, 62.7, 72.5, 81.4, 71.4,\n",
       "       59.5, 55. , 67.6, 67. , 46.7, 75.2, 83. , 73. , 67.5, 72.6, 67.7,\n",
       "       65.9, 75. , 89. , 73. , 75.8, 44.5, 69.5, 47.1, 59. , 58.2, 69.2,\n",
       "       77.8, 69.9, 74. , 71.7, 56.8, 57.5, 53.4, 87. , 56.8, 72.8, 57. ,\n",
       "       74.9, 67.2, 74.7, 66.5, 79.8, 67.4, 79.1, 66.9, 61.8, 69.5, 69.1,\n",
       "       82.7, 75. , 78. , 75. , 75.4, 58.3, 88. , 65.2, 69.4, 73.6, 63.5,\n",
       "       71.4, 75.7, 68. , 64.3, 67.9, 58.4, 73.3, 67.2, 57.3, 67.8, 69.5,\n",
       "       78.9, 45.1, 63.7, 72.6, 63. , 53.2, 61.1, 68.5, 82. , 86. , 66. ,\n",
       "       74.4, 68.9, 68.3, 53.6, 56.8, 68.8, 66.3, 74.2, 66.4, 62.8, 74.2,\n",
       "       58.6, 65.9, 67.1, 77. , 67.3, 71.4, 79.7, 56.9, 75.4, 79.4, 75.7,\n",
       "       73.2, 67. , 76.6, 78.5, 69.8, 81.8, 71.9, 58. , 61.2, 72.6, 68.9,\n",
       "       74.4, 64. , 71.2, 63.3, 72.3, 52.9, 68.7, 46. , 75.4, 44.8, 74. ,\n",
       "       72. , 67.2, 49.5, 64.7, 71.2, 56. , 58. , 62.7, 54. , 68.8, 67.7,\n",
       "       56.7, 64.6, 64.3, 63.5, 74.5, 74.1, 73.1, 51.7, 54.1, 73. , 68.5])"
      ]
     },
     "execution_count": 6,
     "metadata": {},
     "output_type": "execute_result"
    }
   ],
   "source": [
    "y_test=y_test.reshape(-1,)\n",
    "y_test"
   ]
  },
  {
   "cell_type": "code",
   "execution_count": 7,
   "id": "8869d052-f56f-4c6b-9ea6-b0c125052fcc",
   "metadata": {},
   "outputs": [
    {
     "data": {
      "text/plain": [
       "(264,)"
      ]
     },
     "execution_count": 7,
     "metadata": {},
     "output_type": "execute_result"
    }
   ],
   "source": [
    "unenc_preds_paillier=np.array(unenc_preds_paillier)\n",
    "unenc_preds_paillier.shape"
   ]
  },
  {
   "cell_type": "code",
   "execution_count": 8,
   "id": "4a5a7e75-5611-4e09-823a-b8ee7b27c785",
   "metadata": {},
   "outputs": [
    {
     "data": {
      "text/plain": [
       "(264,)"
      ]
     },
     "execution_count": 8,
     "metadata": {},
     "output_type": "execute_result"
    }
   ],
   "source": [
    "y_test.shape"
   ]
  },
  {
   "cell_type": "code",
   "execution_count": 9,
   "id": "bfa771ee-aa6b-4757-8b87-14866d71629a",
   "metadata": {},
   "outputs": [
    {
     "data": {
      "text/plain": [
       "(264,)"
      ]
     },
     "execution_count": 9,
     "metadata": {},
     "output_type": "execute_result"
    }
   ],
   "source": [
    "unenc_preds_ckks=np.array(unenc_preds_ckks)\n",
    "unenc_preds_ckks=unenc_preds_ckks.reshape(-1,)\n",
    "unenc_preds_ckks.shape"
   ]
  },
  {
   "cell_type": "code",
   "execution_count": 10,
   "id": "cf3149b6-83f1-44d0-a045-d90e5a65988f",
   "metadata": {
    "scrolled": true
   },
   "outputs": [
    {
     "data": {
      "text/plain": [
       "(264,)"
      ]
     },
     "execution_count": 10,
     "metadata": {},
     "output_type": "execute_result"
    }
   ],
   "source": [
    "unenc_preds_sklearn=unenc_preds_sklearn.reshape(-1,)\n",
    "unenc_preds_sklearn.shape"
   ]
  },
  {
   "cell_type": "markdown",
   "id": "d2456f11-11db-4b7e-acec-356d4bbbd1ce",
   "metadata": {},
   "source": [
    "### Mean Squared Error:"
   ]
  },
  {
   "cell_type": "code",
   "execution_count": 11,
   "id": "a8186515-08b6-485c-afe9-3bffa24fd15c",
   "metadata": {},
   "outputs": [],
   "source": [
    "from sklearn.metrics import mean_squared_error"
   ]
  },
  {
   "cell_type": "code",
   "execution_count": 12,
   "id": "3f139c27-8415-4091-a173-2dbd2813cd89",
   "metadata": {},
   "outputs": [],
   "source": [
    "mse_sklearn=mean_squared_error(unenc_preds_sklearn,y_test)"
   ]
  },
  {
   "cell_type": "code",
   "execution_count": 13,
   "id": "065b91fb-8af2-434c-a926-4c63f60c36f5",
   "metadata": {
    "scrolled": true
   },
   "outputs": [
    {
     "data": {
      "text/plain": [
       "20.668978790483855"
      ]
     },
     "execution_count": 13,
     "metadata": {},
     "output_type": "execute_result"
    }
   ],
   "source": [
    "mse_sklearn"
   ]
  },
  {
   "cell_type": "code",
   "execution_count": 14,
   "id": "5a73739b-7d45-4254-84cd-a9562908223c",
   "metadata": {},
   "outputs": [
    {
     "data": {
      "text/plain": [
       "20.66895989043567"
      ]
     },
     "execution_count": 14,
     "metadata": {},
     "output_type": "execute_result"
    }
   ],
   "source": [
    "mse_ckks=mean_squared_error(unenc_preds_ckks,y_test)\n",
    "mse_ckks"
   ]
  },
  {
   "cell_type": "code",
   "execution_count": 15,
   "id": "9629b78e-1cf7-4952-a301-f3af3855b80d",
   "metadata": {},
   "outputs": [
    {
     "data": {
      "text/plain": [
       "20.668978793951897"
      ]
     },
     "execution_count": 15,
     "metadata": {},
     "output_type": "execute_result"
    }
   ],
   "source": [
    "mse_paillier=mean_squared_error(unenc_preds_paillier,y_test)\n",
    "mse_paillier"
   ]
  },
  {
   "cell_type": "code",
   "execution_count": 16,
   "id": "2fed378b-b092-4b1e-8a2b-b767eab582a4",
   "metadata": {},
   "outputs": [
    {
     "name": "stdout",
     "output_type": "stream",
     "text": [
      "Variance: 60.33802322291691\n",
      "Variance: 60.33807735063418\n",
      "Variance: 60.33802322289444\n"
     ]
    }
   ],
   "source": [
    "def calculate_variance(numbers):\n",
    "    \n",
    "    if len(numbers) < 2:\n",
    "        raise ValueError(\"Variance requires at least two data points.\")\n",
    "    \n",
    "    mean = sum(numbers) / len(numbers)\n",
    "    squared_diffs = [(x - mean) ** 2 for x in numbers]\n",
    "    variance = sum(squared_diffs) / (len(numbers) - 1)\n",
    "    \n",
    "    return variance\n",
    "\n",
    "\n",
    "print(\"Variance:\", calculate_variance(unenc_preds_sklearn))\n",
    "print(\"Variance:\", calculate_variance(unenc_preds_ckks))\n",
    "print(\"Variance:\", calculate_variance(unenc_preds_paillier))"
   ]
  },
  {
   "cell_type": "code",
   "execution_count": 17,
   "id": "f4eb536f-2f57-4c29-b35b-032202e7e2cc",
   "metadata": {},
   "outputs": [],
   "source": [
    "f_statistic,p_value=stats.f_oneway(unenc_preds_sklearn,unenc_preds_ckks,unenc_preds_paillier)"
   ]
  },
  {
   "cell_type": "code",
   "execution_count": 18,
   "id": "2ac92c96-306c-475f-b7e0-f7d589fe629f",
   "metadata": {},
   "outputs": [
    {
     "data": {
      "text/plain": [
       "(6.166440487982126e-10, 0.9999999993833638)"
      ]
     },
     "execution_count": 18,
     "metadata": {},
     "output_type": "execute_result"
    }
   ],
   "source": [
    "f_statistic,p_value"
   ]
  },
  {
   "cell_type": "code",
   "execution_count": 19,
   "id": "3ec96b9e-7e8a-43c7-8a27-9602204083fc",
   "metadata": {},
   "outputs": [
    {
     "name": "stdout",
     "output_type": "stream",
     "text": [
      "There is no significant difference between the values\n"
     ]
    }
   ],
   "source": [
    "alpha = 0.05\n",
    "if p_value < alpha:\n",
    "    print(\"There is a significant difference between the values\")\n",
    "else:\n",
    "    print(\"There is no significant difference between the values\")"
   ]
  },
  {
   "cell_type": "code",
   "execution_count": 20,
   "id": "55a1933e-c867-4c91-a13c-d0d86c8ebf58",
   "metadata": {},
   "outputs": [],
   "source": [
    "diff_between_ckks_and_sklearn=abs(unenc_preds_ckks-unenc_preds_sklearn)"
   ]
  },
  {
   "cell_type": "code",
   "execution_count": 21,
   "id": "2f10d3d8-cce6-41d2-a15f-33d7f4cb7682",
   "metadata": {},
   "outputs": [
    {
     "data": {
      "text/plain": [
       "array([1.63843780e-04, 1.14941858e-04, 1.08474018e-04, 6.03753121e-05,\n",
       "       1.88092605e-05])"
      ]
     },
     "execution_count": 21,
     "metadata": {},
     "output_type": "execute_result"
    }
   ],
   "source": [
    "diff_between_ckks_and_sklearn[:5]"
   ]
  },
  {
   "cell_type": "code",
   "execution_count": 22,
   "id": "e94f1e5b-4896-406e-aa71-1d93bd9d5f2e",
   "metadata": {},
   "outputs": [],
   "source": [
    "diff_between_paillier_and_sklearn=abs(unenc_preds_paillier-unenc_preds_sklearn)"
   ]
  },
  {
   "cell_type": "code",
   "execution_count": 23,
   "id": "d89e770f-ce05-4ada-af28-a993d53a56a7",
   "metadata": {},
   "outputs": [
    {
     "data": {
      "text/plain": [
       "array([6.06380013e-09, 6.04954664e-09, 6.07519723e-09, 6.09242079e-09,\n",
       "       6.12128304e-09, 6.10700113e-09, 6.03414207e-09, 6.06031847e-09,\n",
       "       6.11544237e-09, 6.08142159e-09, 6.14433304e-09, 6.05632522e-09,\n",
       "       6.10118889e-09, 6.04177330e-09, 6.09030337e-09, 6.08579853e-09,\n",
       "       6.11026962e-09, 6.11763085e-09, 6.02859984e-09, 6.13282225e-09,\n",
       "       6.09562534e-09, 6.08150685e-09, 6.07265349e-09, 6.04809003e-09,\n",
       "       6.05948713e-09, 6.12834583e-09, 6.13067641e-09, 6.11983353e-09,\n",
       "       6.10748430e-09, 6.11947115e-09, 6.05047035e-09, 6.07094819e-09,\n",
       "       6.07316508e-09, 6.06156902e-09, 6.14605256e-09, 6.13981399e-09,\n",
       "       6.09674089e-09, 6.08343953e-09, 6.07415274e-09, 6.05909634e-09,\n",
       "       6.03003514e-09, 6.14240037e-09, 6.10896222e-09, 6.08908124e-09,\n",
       "       6.04359229e-09, 6.04771344e-09, 6.11304074e-09, 6.09757933e-09,\n",
       "       6.11217388e-09, 6.10160100e-09, 6.04289596e-09, 6.09477979e-09,\n",
       "       6.09320239e-09, 6.09719564e-09, 6.05773920e-09, 6.10641848e-09,\n",
       "       6.12268991e-09, 6.04401862e-09, 6.11369444e-09, 6.09850304e-09,\n",
       "       6.11532869e-09, 6.07988682e-09, 6.06679862e-09, 6.03079542e-09,\n",
       "       6.12121198e-09, 6.12179463e-09, 6.12519102e-09, 6.06883077e-09,\n",
       "       6.10599216e-09, 6.10796747e-09, 6.13876239e-09, 6.07708728e-09,\n",
       "       6.09725248e-09, 6.06164008e-09, 6.11382234e-09, 6.04909189e-09,\n",
       "       6.14139140e-09, 6.12081408e-09, 6.09303186e-09, 6.10450002e-09,\n",
       "       6.10114625e-09, 6.07550987e-09, 6.08172002e-09, 6.14201667e-09,\n",
       "       6.11338180e-09, 6.07631989e-09, 6.09161077e-09, 6.12537576e-09,\n",
       "       6.07650463e-09, 6.06117823e-09, 6.08062578e-09, 6.06870287e-09,\n",
       "       6.07847994e-09, 6.12720896e-09, 6.11467499e-09, 6.10829431e-09,\n",
       "       6.10113204e-09, 6.05444939e-09, 6.12704554e-09, 6.12752160e-09,\n",
       "       6.10725692e-09, 6.10604189e-09, 6.06296169e-09, 6.10437212e-09,\n",
       "       6.10141626e-09, 6.11851192e-09, 6.09917095e-09, 6.14059559e-09,\n",
       "       6.09144024e-09, 6.11738216e-09, 6.13077589e-09, 6.10427264e-09,\n",
       "       6.11915141e-09, 6.03328942e-09, 6.06541306e-09, 6.05288619e-09,\n",
       "       6.07762729e-09, 6.11202466e-09, 6.08848438e-09, 6.14654994e-09,\n",
       "       6.07649042e-09, 6.10312867e-09, 6.12964612e-09, 6.07211348e-09,\n",
       "       6.08532957e-09, 6.02870642e-09, 6.12145357e-09, 6.10803852e-09,\n",
       "       6.10604900e-09, 6.10870643e-09, 6.03523631e-09, 6.03675687e-09,\n",
       "       6.10609163e-09, 6.09061601e-09, 6.13174223e-09, 6.04423178e-09,\n",
       "       6.08211792e-09, 6.08288531e-09, 6.07032291e-09, 6.06003425e-09,\n",
       "       6.10260997e-09, 6.11466078e-09, 6.10081941e-09, 6.10415896e-09,\n",
       "       6.09421136e-09, 6.09020390e-09, 6.11969142e-09, 6.06482331e-09,\n",
       "       6.08634565e-09, 6.05572126e-09, 6.11271389e-09, 6.09094997e-09,\n",
       "       6.07948891e-09, 6.05898975e-09, 6.11757400e-09, 6.12682527e-09,\n",
       "       6.08787332e-09, 6.07580830e-09, 6.07249717e-09, 6.08868334e-09,\n",
       "       6.08018524e-09, 6.12133988e-09, 6.10117468e-09, 6.11194650e-09,\n",
       "       6.09153972e-09, 6.09438189e-09, 6.05989214e-09, 6.07877837e-09,\n",
       "       6.10569373e-09, 6.09784934e-09, 6.06637229e-09, 6.08007156e-09,\n",
       "       6.13464124e-09, 6.08216055e-09, 6.10678796e-09, 6.08461903e-09,\n",
       "       6.03093042e-09, 6.08646644e-09, 6.09185236e-09, 6.10670270e-09,\n",
       "       6.11414919e-09, 6.08212503e-09, 6.06812023e-09, 6.07754203e-09,\n",
       "       6.06493700e-09, 6.09530559e-09, 6.08102368e-09, 6.07374773e-09,\n",
       "       6.07453643e-09, 6.09253448e-09, 6.02085493e-09, 6.09923489e-09,\n",
       "       6.08964257e-09, 6.09712458e-09, 6.06951289e-09, 6.03007777e-09,\n",
       "       6.13670181e-09, 6.07584383e-09, 6.06844708e-09, 6.12371309e-09,\n",
       "       6.11701978e-09, 6.07145267e-09, 6.08976336e-09, 6.13638917e-09,\n",
       "       6.07826678e-09, 6.07862205e-09, 6.07812467e-09, 6.09090023e-09,\n",
       "       6.13175644e-09, 6.10789641e-09, 6.08885387e-09, 6.08228845e-09,\n",
       "       6.09767881e-09, 6.13962925e-09, 6.04836714e-09, 6.05125194e-09,\n",
       "       6.06095085e-09, 6.12503470e-09, 6.10577899e-09, 6.05837158e-09,\n",
       "       6.08486062e-09, 6.11808559e-09, 6.06779338e-09, 6.09284712e-09,\n",
       "       6.11194650e-09, 6.09075812e-09, 6.10199891e-09, 6.08920203e-09,\n",
       "       6.10541662e-09, 6.08187634e-09, 6.03959904e-09, 6.05079720e-09,\n",
       "       6.06846129e-09, 6.06709705e-09, 6.08731909e-09, 6.06266326e-09,\n",
       "       6.10911144e-09, 6.08034156e-09, 6.06850392e-09, 6.08022788e-09,\n",
       "       6.07494144e-09, 6.09928463e-09, 6.07943207e-09, 6.07113293e-09,\n",
       "       6.06438277e-09, 6.08558537e-09, 6.12897111e-09, 6.08947204e-09,\n",
       "       6.11095174e-09, 6.12701001e-09, 6.08321926e-09, 6.14221563e-09,\n",
       "       6.09061601e-09, 6.09546902e-09, 6.12909901e-09, 6.04737238e-09,\n",
       "       6.09395556e-09, 6.11971984e-09, 6.12224937e-09, 6.09068707e-09,\n",
       "       6.04954664e-09, 6.06295458e-09, 6.07946049e-09, 6.12978113e-09])"
      ]
     },
     "execution_count": 23,
     "metadata": {},
     "output_type": "execute_result"
    }
   ],
   "source": [
    "diff_between_paillier_and_sklearn"
   ]
  },
  {
   "cell_type": "code",
   "execution_count": 24,
   "id": "305493e7-252f-45ca-bd0d-11f715d5719c",
   "metadata": {},
   "outputs": [
    {
     "data": {
      "text/plain": [
       "(-24.486091044884883, 6.105285367217646e-89)"
      ]
     },
     "execution_count": 24,
     "metadata": {},
     "output_type": "execute_result"
    }
   ],
   "source": [
    "t_statistic,p_value=stats.ttest_ind(diff_between_paillier_and_sklearn,diff_between_ckks_and_sklearn)\n",
    "t_statistic,p_value"
   ]
  },
  {
   "cell_type": "code",
   "execution_count": 25,
   "id": "af9e696a-311a-4c84-8092-170b956b0820",
   "metadata": {},
   "outputs": [
    {
     "name": "stdout",
     "output_type": "stream",
     "text": [
      "There is a significant difference between the ckks-sklearn preds and paillier-sklearn preds\n"
     ]
    }
   ],
   "source": [
    "alpha = 0.05\n",
    "if p_value < alpha:\n",
    "    print(\"There is a significant difference between the ckks-sklearn preds and paillier-sklearn preds\")\n",
    "else:\n",
    "    print(\"There is no significant difference between the ckks-sklearn preds and paillier-sklearn preds\")"
   ]
  },
  {
   "cell_type": "code",
   "execution_count": 26,
   "id": "d486df68-a18a-4c45-aa0a-42e4079a830a",
   "metadata": {},
   "outputs": [],
   "source": [
    "l=len(diff_between_paillier_and_sklearn)"
   ]
  },
  {
   "cell_type": "code",
   "execution_count": 27,
   "id": "f219c165-4d2a-4c4f-b8a0-32f77ec6ff4a",
   "metadata": {},
   "outputs": [
    {
     "data": {
      "text/plain": [
       "6.5976789588556906e-09"
      ]
     },
     "execution_count": 27,
     "metadata": {},
     "output_type": "execute_result"
    }
   ],
   "source": [
    "mse_ckks_with_sklearn=sum(diff_between_ckks_and_sklearn**2)/l\n",
    "mse_ckks_with_sklearn"
   ]
  },
  {
   "cell_type": "code",
   "execution_count": 28,
   "id": "5d712025-6a8f-45f3-a70e-23b7289f17a5",
   "metadata": {},
   "outputs": [
    {
     "data": {
      "text/plain": [
       "3.7094263580514626e-17"
      ]
     },
     "execution_count": 28,
     "metadata": {},
     "output_type": "execute_result"
    }
   ],
   "source": [
    "mse_paillier_with_sklearn=sum(diff_between_paillier_and_sklearn**2)/l\n",
    "mse_paillier_with_sklearn"
   ]
  },
  {
   "cell_type": "markdown",
   "id": "0720ce03-91b4-4526-b4d6-8770d6eaeb81",
   "metadata": {},
   "source": [
    "### training time:"
   ]
  },
  {
   "cell_type": "code",
   "execution_count": 29,
   "id": "30c5e221-0307-4faf-b489-2f702a3d9987",
   "metadata": {},
   "outputs": [
    {
     "name": "stdout",
     "output_type": "stream",
     "text": [
      "ckks encryption takes less time to train the model\n"
     ]
    }
   ],
   "source": [
    "if train_time_ckks<train_time_paillier:\n",
    "    print(\"ckks encryption takes less time to train the model\")\n",
    "else:\n",
    "    print(\"paillier encryption takes less time to train the model\")"
   ]
  },
  {
   "cell_type": "code",
   "execution_count": 30,
   "id": "003aee86-6800-4e0f-bb81-355d5b62b903",
   "metadata": {},
   "outputs": [
    {
     "name": "stdout",
     "output_type": "stream",
     "text": [
      "ckks encrypted data takes less time to test the model\n"
     ]
    }
   ],
   "source": [
    "if test_time_ckks<test_time_paillier:\n",
    "    print(\"ckks encrypted data takes less time to test the model\")\n",
    "else:\n",
    "    print(\"paillier encrypted data takes less time to train the model\")"
   ]
  },
  {
   "cell_type": "code",
   "execution_count": 31,
   "id": "9cb505fa-12ce-48ea-89d6-5519ec439c71",
   "metadata": {},
   "outputs": [
    {
     "data": {
      "text/plain": [
       "13.23623514175415"
      ]
     },
     "execution_count": 31,
     "metadata": {},
     "output_type": "execute_result"
    }
   ],
   "source": [
    "train_time_ckks"
   ]
  },
  {
   "cell_type": "code",
   "execution_count": 32,
   "id": "74e198c5-5ed8-4a6a-9bd2-513348eb37bf",
   "metadata": {},
   "outputs": [
    {
     "data": {
      "text/plain": [
       "1589.2003769874573"
      ]
     },
     "execution_count": 32,
     "metadata": {},
     "output_type": "execute_result"
    }
   ],
   "source": [
    "train_time_paillier"
   ]
  },
  {
   "cell_type": "code",
   "execution_count": 33,
   "id": "927e7fd9-8c82-4553-b7a6-894f883379fc",
   "metadata": {},
   "outputs": [
    {
     "data": {
      "text/plain": [
       "5.555423021316528"
      ]
     },
     "execution_count": 33,
     "metadata": {},
     "output_type": "execute_result"
    }
   ],
   "source": [
    "test_time_ckks"
   ]
  },
  {
   "cell_type": "code",
   "execution_count": 34,
   "id": "dbc4c1e4-03e9-4e16-a575-38df3d5b0de4",
   "metadata": {},
   "outputs": [
    {
     "data": {
      "text/plain": [
       "42.180277585983276"
      ]
     },
     "execution_count": 34,
     "metadata": {},
     "output_type": "execute_result"
    }
   ],
   "source": [
    "test_time_paillier"
   ]
  },
  {
   "cell_type": "code",
   "execution_count": 35,
   "id": "34e033bc-d9b6-45dd-b97f-aabace04b894",
   "metadata": {},
   "outputs": [
    {
     "data": {
      "text/plain": [
       "['test_time_paillier_1055_12.pkl']"
      ]
     },
     "execution_count": 35,
     "metadata": {},
     "output_type": "execute_result"
    }
   ],
   "source": [
    "joblib.dump(train_time_ckks,'train_time_ckks_1055_12.pkl')\n",
    "joblib.dump(train_time_paillier,'train_time_paillier_1055_12.pkl')\n",
    "joblib.dump(test_time_ckks,'test_time_ckks_1055_12.pkl')\n",
    "joblib.dump(test_time_paillier,'test_time_paillier_1055_12.pkl')"
   ]
  },
  {
   "cell_type": "markdown",
   "id": "f3de5898-2831-41d7-9a7b-8575dc805b03",
   "metadata": {},
   "source": [
    "### CPU % utilization:"
   ]
  },
  {
   "cell_type": "code",
   "execution_count": 36,
   "id": "969ad115-ac97-49e5-afa4-97709c43b1a8",
   "metadata": {},
   "outputs": [],
   "source": [
    "def shortlist_cpu_usage(cpu):\n",
    "    cpu_use=[]\n",
    "    for i in cpu:\n",
    "        if i>80:\n",
    "            cpu_use.append(i)\n",
    "\n",
    "    return cpu_use"
   ]
  },
  {
   "cell_type": "code",
   "execution_count": 37,
   "id": "d309f379-51dc-4b1f-996b-fb07f1ab53bd",
   "metadata": {},
   "outputs": [
    {
     "data": {
      "text/plain": [
       "[102.1,\n",
       " 100.5,\n",
       " 99.9,\n",
       " 102.8,\n",
       " 96.4,\n",
       " 99.1,\n",
       " 100.9,\n",
       " 97.4,\n",
       " 95.2,\n",
       " 97.4,\n",
       " 97.2,\n",
       " 99.1,\n",
       " 101.9,\n",
       " 100.3,\n",
       " 101.5,\n",
       " 100.3,\n",
       " 100.6,\n",
       " 101.2,\n",
       " 101.8,\n",
       " 99.9,\n",
       " 95.4,\n",
       " 97.1,\n",
       " 97.1,\n",
       " 101.0,\n",
       " 100.5,\n",
       " 102.0,\n",
       " 102.2,\n",
       " 102.9,\n",
       " 100.9,\n",
       " 100.8,\n",
       " 99.9,\n",
       " 102.0,\n",
       " 99.6,\n",
       " 97.2,\n",
       " 97.9,\n",
       " 101.2,\n",
       " 99.2,\n",
       " 101.3,\n",
       " 101.5,\n",
       " 101.8,\n",
       " 100.8,\n",
       " 98.4,\n",
       " 98.2,\n",
       " 100.2,\n",
       " 99.0,\n",
       " 97.4,\n",
       " 96.1,\n",
       " 99.3,\n",
       " 99.5,\n",
       " 97.9,\n",
       " 100.3,\n",
       " 101.0,\n",
       " 101.9,\n",
       " 100.1,\n",
       " 101.2,\n",
       " 102.6,\n",
       " 101.3,\n",
       " 98.3,\n",
       " 96.4,\n",
       " 97.7,\n",
       " 102.5,\n",
       " 102.7,\n",
       " 97.4,\n",
       " 101.9,\n",
       " 103.6,\n",
       " 99.1,\n",
       " 99.1,\n",
       " 101.9,\n",
       " 101.3,\n",
       " 98.8,\n",
       " 97.1,\n",
       " 96.8,\n",
       " 100.0,\n",
       " 99.4,\n",
       " 99.2,\n",
       " 100.8,\n",
       " 100.2,\n",
       " 102.2,\n",
       " 100.4,\n",
       " 101.5,\n",
       " 101.6,\n",
       " 102.3,\n",
       " 97.5,\n",
       " 95.6,\n",
       " 98.4,\n",
       " 101.4,\n",
       " 101.3,\n",
       " 102.7,\n",
       " 98.9,\n",
       " 103.3,\n",
       " 100.3,\n",
       " 102.8,\n",
       " 102.2,\n",
       " 100.8,\n",
       " 98.3,\n",
       " 95.5,\n",
       " 98.0,\n",
       " 97.9,\n",
       " 99.7,\n",
       " 102.3,\n",
       " 99.9,\n",
       " 101.5,\n",
       " 102.2,\n",
       " 102.6,\n",
       " 100.4,\n",
       " 100.8,\n",
       " 99.0,\n",
       " 97.0,\n",
       " 96.9,\n",
       " 97.9,\n",
       " 99.6,\n",
       " 98.6,\n",
       " 100.4,\n",
       " 101.9,\n",
       " 103.2,\n",
       " 98.5,\n",
       " 104.8,\n",
       " 102.5,\n",
       " 100.8,\n",
       " 99.7,\n",
       " 95.7,\n",
       " 97.1,\n",
       " 101.2,\n",
       " 100.7,\n",
       " 101.2,\n",
       " 103.3,\n",
       " 100.7,\n",
       " 100.3,\n",
       " 102.1,\n",
       " 101.2,\n",
       " 100.9,\n",
       " 100.4,\n",
       " 97.4,\n",
       " 94.7,\n",
       " 100.8,\n",
       " 102.1,\n",
       " 99.9,\n",
       " 102.4,\n",
       " 101.3,\n",
       " 100.9,\n",
       " 103.1,\n",
       " 101.3,\n",
       " 102.6,\n",
       " 98.9,\n",
       " 95.7,\n",
       " 97.2,\n",
       " 97.3,\n",
       " 99.4,\n",
       " 100.4,\n",
       " 102.7,\n",
       " 103.8,\n",
       " 102.0,\n",
       " 100.3,\n",
       " 98.4,\n",
       " 103.4,\n",
       " 100.1,\n",
       " 97.9,\n",
       " 97.4,\n",
       " 96.3,\n",
       " 102.7,\n",
       " 99.1,\n",
       " 97.8,\n",
       " 101.0,\n",
       " 101.1,\n",
       " 102.8,\n",
       " 101.9,\n",
       " 101.9,\n",
       " 102.1,\n",
       " 98.3,\n",
       " 95.9,\n",
       " 96.7,\n",
       " 98.0,\n",
       " 101.1,\n",
       " 100.1,\n",
       " 103.1,\n",
       " 100.2,\n",
       " 100.6,\n",
       " 102.0,\n",
       " 102.3,\n",
       " 101.2,\n",
       " 98.5,\n",
       " 97.2,\n",
       " 95.7,\n",
       " 101.9,\n",
       " 103.9,\n",
       " 100.7,\n",
       " 98.0,\n",
       " 100.1,\n",
       " 99.9,\n",
       " 99.8,\n",
       " 104.5,\n",
       " 102.6,\n",
       " 98.6,\n",
       " 97.0,\n",
       " 98.3,\n",
       " 99.8,\n",
       " 102.3,\n",
       " 100.5,\n",
       " 103.1,\n",
       " 102.2,\n",
       " 101.0,\n",
       " 99.4,\n",
       " 99.6,\n",
       " 100.4,\n",
       " 101.8,\n",
       " 97.9,\n",
       " 95.8,\n",
       " 99.8,\n",
       " 100.1,\n",
       " 101.9,\n",
       " 101.1,\n",
       " 101.4,\n",
       " 101.1,\n",
       " 104.0,\n",
       " 98.7,\n",
       " 102.0,\n",
       " 100.4,\n",
       " 98.4,\n",
       " 95.8,\n",
       " 96.4,\n",
       " 100.3,\n",
       " 100.0,\n",
       " 100.0,\n",
       " 100.4,\n",
       " 101.7,\n",
       " 99.5,\n",
       " 96.6,\n",
       " 99.8,\n",
       " 99.3,\n",
       " 97.8,\n",
       " 98.4,\n",
       " 96.9,\n",
       " 100.0,\n",
       " 100.2,\n",
       " 100.2,\n",
       " 102.4,\n",
       " 102.4,\n",
       " 100.1,\n",
       " 101.3,\n",
       " 101.0,\n",
       " 100.9,\n",
       " 101.9,\n",
       " 98.1,\n",
       " 96.8,\n",
       " 96.7,\n",
       " 101.4,\n",
       " 101.9,\n",
       " 104.5,\n",
       " 103.3,\n",
       " 100.4,\n",
       " 101.9,\n",
       " 97.7,\n",
       " 101.8,\n",
       " 100.9,\n",
       " 97.4,\n",
       " 96.9,\n",
       " 96.6,\n",
       " 101.7,\n",
       " 99.3,\n",
       " 100.6,\n",
       " 100.7,\n",
       " 101.5,\n",
       " 98.4,\n",
       " 99.3,\n",
       " 100.0,\n",
       " 102.3,\n",
       " 98.3,\n",
       " 99.5,\n",
       " 96.3,\n",
       " 100.7,\n",
       " 104.2,\n",
       " 101.8,\n",
       " 100.2,\n",
       " 100.8,\n",
       " 101.0,\n",
       " 102.9,\n",
       " 101.4,\n",
       " 100.3,\n",
       " 101.0,\n",
       " 95.7,\n",
       " 95.0,\n",
       " 97.6,\n",
       " 101.1,\n",
       " 102.0,\n",
       " 97.7,\n",
       " 102.7,\n",
       " 96.6,\n",
       " 103.4,\n",
       " 100.3,\n",
       " 101.2,\n",
       " 103.0,\n",
       " 96.7,\n",
       " 98.0,\n",
       " 98.1,\n",
       " 99.8,\n",
       " 100.0,\n",
       " 102.9,\n",
       " 103.3,\n",
       " 100.0,\n",
       " 101.4,\n",
       " 102.0,\n",
       " 99.5,\n",
       " 97.9,\n",
       " 97.4,\n",
       " 97.5,\n",
       " 99.8,\n",
       " 101.3,\n",
       " 100.2,\n",
       " 98.9,\n",
       " 100.3,\n",
       " 101.0,\n",
       " 102.2,\n",
       " 100.5,\n",
       " 100.7,\n",
       " 100.2,\n",
       " 95.1,\n",
       " 97.0,\n",
       " 99.3,\n",
       " 99.3,\n",
       " 101.8,\n",
       " 101.3,\n",
       " 101.3,\n",
       " 102.4,\n",
       " 100.8,\n",
       " 97.6,\n",
       " 104.0,\n",
       " 98.9,\n",
       " 98.6,\n",
       " 97.3,\n",
       " 96.0,\n",
       " 98.3,\n",
       " 101.2,\n",
       " 101.4,\n",
       " 99.4,\n",
       " 101.9,\n",
       " 99.8,\n",
       " 101.6,\n",
       " 100.7,\n",
       " 100.5,\n",
       " 102.8,\n",
       " 96.7,\n",
       " 96.4,\n",
       " 98.2,\n",
       " 96.9,\n",
       " 101.6,\n",
       " 100.8,\n",
       " 98.3,\n",
       " 103.3,\n",
       " 99.9,\n",
       " 102.4,\n",
       " 102.4,\n",
       " 101.2,\n",
       " 98.3,\n",
       " 96.8,\n",
       " 96.9,\n",
       " 101.0,\n",
       " 99.1,\n",
       " 101.1,\n",
       " 104.1,\n",
       " 103.2,\n",
       " 101.2,\n",
       " 101.0,\n",
       " 100.7,\n",
       " 101.6,\n",
       " 100.4,\n",
       " 96.8,\n",
       " 96.8,\n",
       " 96.6,\n",
       " 103.2,\n",
       " 100.4,\n",
       " 100.8,\n",
       " 99.6,\n",
       " 100.5,\n",
       " 101.5,\n",
       " 99.9,\n",
       " 102.3,\n",
       " 101.7,\n",
       " 99.9,\n",
       " 97.3,\n",
       " 96.7,\n",
       " 100.9,\n",
       " 102.9,\n",
       " 101.4,\n",
       " 99.9,\n",
       " 103.0,\n",
       " 101.2,\n",
       " 99.6,\n",
       " 102.4,\n",
       " 102.3,\n",
       " 99.0,\n",
       " 97.4,\n",
       " 97.4,\n",
       " 100.1,\n",
       " 99.4,\n",
       " 99.4,\n",
       " 102.4,\n",
       " 100.8,\n",
       " 101.8,\n",
       " 101.2,\n",
       " 100.0,\n",
       " 100.2,\n",
       " 101.6,\n",
       " 97.4,\n",
       " 96.6,\n",
       " 96.7,\n",
       " 103.1,\n",
       " 100.5,\n",
       " 100.6,\n",
       " 101.8,\n",
       " 103.3,\n",
       " 99.9,\n",
       " 101.0,\n",
       " 98.2,\n",
       " 95.5,\n",
       " 98.3,\n",
       " 97.5,\n",
       " 97.0,\n",
       " 100.6,\n",
       " 101.8,\n",
       " 98.5,\n",
       " 102.6,\n",
       " 98.9,\n",
       " 100.1,\n",
       " 100.9,\n",
       " 103.0,\n",
       " 97.2,\n",
       " 97.7,\n",
       " 95.4,\n",
       " 98.4,\n",
       " 102.3,\n",
       " 97.4,\n",
       " 102.0,\n",
       " 100.5,\n",
       " 99.3,\n",
       " 100.1,\n",
       " 98.4,\n",
       " 102.8,\n",
       " 103.1,\n",
       " 99.1,\n",
       " 97.8,\n",
       " 96.0,\n",
       " 100.9,\n",
       " 100.6,\n",
       " 99.2,\n",
       " 99.3,\n",
       " 100.3,\n",
       " 100.4,\n",
       " 101.3,\n",
       " 101.9,\n",
       " 101.6,\n",
       " 99.9,\n",
       " 97.3,\n",
       " 98.3,\n",
       " 100.0,\n",
       " 100.3,\n",
       " 98.4,\n",
       " 103.8,\n",
       " 99.7,\n",
       " 101.3,\n",
       " 103.2,\n",
       " 99.9,\n",
       " 102.9,\n",
       " 99.5,\n",
       " 98.4,\n",
       " 97.1,\n",
       " 99.0,\n",
       " 104.0,\n",
       " 100.7,\n",
       " 100.3,\n",
       " 103.2,\n",
       " 99.2,\n",
       " 102.2,\n",
       " 104.3,\n",
       " 100.5,\n",
       " 97.8,\n",
       " 97.5,\n",
       " 96.4,\n",
       " 99.4,\n",
       " 100.7,\n",
       " 102.0,\n",
       " 99.0,\n",
       " 100.7,\n",
       " 98.8,\n",
       " 104.5,\n",
       " 101.1,\n",
       " 100.4,\n",
       " 101.2,\n",
       " 97.1,\n",
       " 96.0,\n",
       " 99.8,\n",
       " 100.2,\n",
       " 97.3,\n",
       " 99.7,\n",
       " 101.3,\n",
       " 101.4,\n",
       " 99.8,\n",
       " 102.4,\n",
       " 102.1,\n",
       " 102.2,\n",
       " 97.9,\n",
       " 96.5,\n",
       " 96.7,\n",
       " 100.7,\n",
       " 101.8,\n",
       " 103.3,\n",
       " 100.3,\n",
       " 101.1,\n",
       " 101.9,\n",
       " 100.7,\n",
       " 103.3,\n",
       " 99.9,\n",
       " 99.2,\n",
       " 96.4,\n",
       " 96.6,\n",
       " 100.2,\n",
       " 100.6,\n",
       " 101.5,\n",
       " 101.1,\n",
       " 102.4,\n",
       " 100.3,\n",
       " 102.8,\n",
       " 101.4,\n",
       " 100.9,\n",
       " 102.8,\n",
       " 95.4,\n",
       " 96.2,\n",
       " 99.3,\n",
       " 99.7,\n",
       " 99.6,\n",
       " 100.5,\n",
       " 100.0,\n",
       " 100.9,\n",
       " 100.5,\n",
       " 99.3,\n",
       " 102.4,\n",
       " 100.3,\n",
       " 98.3,\n",
       " 97.0,\n",
       " 100.0,\n",
       " 99.2,\n",
       " 98.5,\n",
       " 95.5,\n",
       " 102.2,\n",
       " 100.4,\n",
       " 101.3,\n",
       " 101.1,\n",
       " 101.0,\n",
       " 104.0,\n",
       " 97.2,\n",
       " 97.8,\n",
       " 101.4,\n",
       " 102.3,\n",
       " 101.7,\n",
       " 101.3,\n",
       " 101.3,\n",
       " 102.2,\n",
       " 101.9,\n",
       " 102.3,\n",
       " 103.0,\n",
       " 99.6,\n",
       " 99.7,\n",
       " 96.9,\n",
       " 95.9,\n",
       " 100.4,\n",
       " 100.7,\n",
       " 99.9,\n",
       " 99.7,\n",
       " 101.8,\n",
       " 102.1,\n",
       " 99.3,\n",
       " 101.4,\n",
       " 102.3,\n",
       " 101.9,\n",
       " 97.7,\n",
       " 96.4,\n",
       " 101.3,\n",
       " 98.8,\n",
       " 100.5,\n",
       " 102.6,\n",
       " 104.1,\n",
       " 101.8,\n",
       " 101.3,\n",
       " 99.7,\n",
       " 101.3,\n",
       " 102.1,\n",
       " 95.8,\n",
       " 98.4,\n",
       " 98.2,\n",
       " 102.6,\n",
       " 100.2,\n",
       " 99.2,\n",
       " 99.7,\n",
       " 100.0,\n",
       " 98.7,\n",
       " 103.7,\n",
       " 100.3,\n",
       " 99.9,\n",
       " 96.1,\n",
       " 95.6,\n",
       " 99.0,\n",
       " 102.1,\n",
       " 100.7,\n",
       " 96.3,\n",
       " 102.8,\n",
       " 100.7,\n",
       " 102.1,\n",
       " 100.5,\n",
       " 101.8,\n",
       " 99.5,\n",
       " 98.3,\n",
       " 96.4,\n",
       " 100.2,\n",
       " 103.0,\n",
       " 102.0,\n",
       " 99.8,\n",
       " 102.2,\n",
       " 100.7,\n",
       " 98.3,\n",
       " 102.1,\n",
       " 101.7,\n",
       " 97.3,\n",
       " 97.9,\n",
       " 96.2,\n",
       " 98.9,\n",
       " 102.3,\n",
       " 102.4,\n",
       " 100.9,\n",
       " 100.2,\n",
       " 102.2,\n",
       " 101.0,\n",
       " 100.6,\n",
       " 99.2,\n",
       " 99.3,\n",
       " 96.4,\n",
       " 97.9,\n",
       " 97.1,\n",
       " 99.9,\n",
       " 99.3,\n",
       " 102.2,\n",
       " 101.7,\n",
       " 101.4,\n",
       " 102.3,\n",
       " 101.4,\n",
       " 102.8,\n",
       " 99.6,\n",
       " 99.3,\n",
       " 97.0,\n",
       " 97.3,\n",
       " 100.3,\n",
       " 100.1,\n",
       " 102.0,\n",
       " 99.9,\n",
       " 100.9,\n",
       " 99.1,\n",
       " 102.2,\n",
       " 102.2,\n",
       " 100.9,\n",
       " 100.3,\n",
       " 98.2,\n",
       " 93.9,\n",
       " 97.0,\n",
       " 101.0,\n",
       " 102.1,\n",
       " 98.6,\n",
       " 101.4,\n",
       " 101.2,\n",
       " 99.1,\n",
       " 99.2,\n",
       " 101.9,\n",
       " 99.7,\n",
       " 98.8,\n",
       " 97.5,\n",
       " 95.5,\n",
       " 101.3,\n",
       " 101.6,\n",
       " 103.1,\n",
       " 100.7,\n",
       " 103.1,\n",
       " 100.2,\n",
       " 100.9,\n",
       " 100.1,\n",
       " 103.2,\n",
       " 97.2,\n",
       " 97.4,\n",
       " 95.8,\n",
       " 103.3,\n",
       " 102.3,\n",
       " 99.7,\n",
       " 102.0,\n",
       " 100.2,\n",
       " 100.0,\n",
       " 100.3,\n",
       " 99.0,\n",
       " 101.5,\n",
       " 95.6,\n",
       " 95.4,\n",
       " 96.5,\n",
       " 103.7,\n",
       " 103.0,\n",
       " 102.1,\n",
       " 99.6,\n",
       " 104.2,\n",
       " 98.8,\n",
       " 99.7,\n",
       " 102.1,\n",
       " 100.0,\n",
       " 99.4,\n",
       " 97.2,\n",
       " 98.9,\n",
       " 99.7,\n",
       " 101.1,\n",
       " 100.9,\n",
       " 101.7,\n",
       " 103.3,\n",
       " 101.0,\n",
       " 101.2,\n",
       " 100.2,\n",
       " 101.6,\n",
       " 100.6,\n",
       " 96.4,\n",
       " 96.7,\n",
       " 99.2,\n",
       " 99.7,\n",
       " 100.9,\n",
       " 99.5,\n",
       " 101.6,\n",
       " 101.1,\n",
       " 100.1,\n",
       " 100.4,\n",
       " 102.5,\n",
       " 102.3,\n",
       " 99.2,\n",
       " 97.6,\n",
       " 94.1,\n",
       " 101.2,\n",
       " 101.1,\n",
       " 102.4,\n",
       " 102.2,\n",
       " 101.4,\n",
       " 103.7,\n",
       " 100.1,\n",
       " 102.2,\n",
       " 100.4,\n",
       " 99.7,\n",
       " 97.5,\n",
       " 96.1,\n",
       " 97.3,\n",
       " 100.2,\n",
       " 100.9,\n",
       " 101.9,\n",
       " 99.6,\n",
       " 99.2,\n",
       " 100.8,\n",
       " 99.8,\n",
       " 102.2,\n",
       " 101.8,\n",
       " 97.2,\n",
       " 96.1,\n",
       " 97.2,\n",
       " 101.2,\n",
       " 99.2,\n",
       " 97.7,\n",
       " 101.3,\n",
       " 102.4,\n",
       " 99.2,\n",
       " 101.8,\n",
       " 100.1,\n",
       " 103.0,\n",
       " 99.2,\n",
       " 96.0,\n",
       " 96.8,\n",
       " 98.2,\n",
       " 101.0,\n",
       " 99.3,\n",
       " 100.6,\n",
       " 101.2,\n",
       " 100.9,\n",
       " 101.3,\n",
       " 102.4,\n",
       " 103.0,\n",
       " 100.4,\n",
       " 99.3,\n",
       " 96.3,\n",
       " 96.4,\n",
       " 102.9,\n",
       " 99.5,\n",
       " 99.6,\n",
       " 99.5,\n",
       " 99.3,\n",
       " 100.8,\n",
       " 103.2,\n",
       " 99.2,\n",
       " 98.5,\n",
       " 96.8,\n",
       " 96.6,\n",
       " 97.7,\n",
       " 100.7,\n",
       " 100.2,\n",
       " 101.2,\n",
       " 100.7,\n",
       " 103.1,\n",
       " 102.3,\n",
       " 100.3,\n",
       " 101.3,\n",
       " 102.0,\n",
       " 102.2,\n",
       " 95.5,\n",
       " 96.0,\n",
       " 101.8,\n",
       " 98.6,\n",
       " 101.8,\n",
       " 100.0,\n",
       " 101.2,\n",
       " 101.1,\n",
       " 98.2,\n",
       " 102.2,\n",
       " 99.9,\n",
       " 95.1,\n",
       " 98.0,\n",
       " 95.7,\n",
       " 97.8,\n",
       " 98.1,\n",
       " 103.3,\n",
       " 104.3,\n",
       " 97.1,\n",
       " 103.2,\n",
       " 101.3,\n",
       " 101.7,\n",
       " 102.4,\n",
       " 100.9,\n",
       " 97.6,\n",
       " 97.5,\n",
       " 95.2,\n",
       " 99.7,\n",
       " 101.2,\n",
       " 101.0,\n",
       " 102.8,\n",
       " 99.4,\n",
       " 104.7,\n",
       " 101.0,\n",
       " 101.9,\n",
       " 100.1,\n",
       " 97.3,\n",
       " 97.3,\n",
       " 97.5,\n",
       " 100.2,\n",
       " 98.1,\n",
       " 102.7,\n",
       " 99.0,\n",
       " 104.2,\n",
       " 100.7,\n",
       " 100.1,\n",
       " 98.7,\n",
       " 99.2,\n",
       " 96.2,\n",
       " 97.3,\n",
       " 97.1,\n",
       " 103.1,\n",
       " 99.6,\n",
       " 100.6,\n",
       " 97.0,\n",
       " 102.0,\n",
       " 99.2,\n",
       " 97.4,\n",
       " 98.3,\n",
       " 100.9,\n",
       " 98.2,\n",
       " 96.3,\n",
       " 96.9,\n",
       " 102.2,\n",
       " 99.0,\n",
       " 99.7,\n",
       " 102.6,\n",
       " 99.4,\n",
       " 101.1,\n",
       " 99.8,\n",
       " 100.6,\n",
       " 101.7,\n",
       " 100.0,\n",
       " 97.7,\n",
       " 96.4,\n",
       " 99.8,\n",
       " 99.1,\n",
       " 102.0,\n",
       " 99.9,\n",
       " 102.2,\n",
       " 102.1,\n",
       " 101.9,\n",
       " 99.8,\n",
       " 102.8,\n",
       " 101.7,\n",
       " 98.4,\n",
       " 96.3,\n",
       " 96.4,\n",
       " 100.7,\n",
       " 100.9,\n",
       " 100.6,\n",
       " 99.4,\n",
       " 101.6,\n",
       " 100.7,\n",
       " 102.4,\n",
       " 101.6,\n",
       " 102.9,\n",
       " 97.9,\n",
       " 97.3,\n",
       " 95.4,\n",
       " 98.7,\n",
       " 100.5,\n",
       " 101.9,\n",
       " 101.6,\n",
       " 101.5,\n",
       " 100.2,\n",
       " 100.9,\n",
       " 101.6,\n",
       " 102.0,\n",
       " 101.2,\n",
       " 95.8,\n",
       " 95.3,\n",
       " 97.2,\n",
       " 99.7,\n",
       " 102.9,\n",
       " 103.4,\n",
       " 95.5,\n",
       " 103.1,\n",
       " 99.9,\n",
       " 102.6,\n",
       " 99.8,\n",
       " 101.2,\n",
       " 98.1,\n",
       " 96.1,\n",
       " 98.7,\n",
       " 101.4,\n",
       " 97.6,\n",
       " 100.5,\n",
       " 101.7,\n",
       " 101.7,\n",
       " 103.3,\n",
       " 102.9,\n",
       " 100.3,\n",
       " 100.6,\n",
       " 98.3,\n",
       " 98.5,\n",
       " 95.9,\n",
       " 99.8,\n",
       " 100.1,\n",
       " 102.7,\n",
       " 100.4,\n",
       " 101.2,\n",
       " 102.0,\n",
       " 96.2,\n",
       " 103.9,\n",
       " 101.2,\n",
       " 96.3,\n",
       " 97.3,\n",
       " 96.8,\n",
       " 100.9,\n",
       " 103.8,\n",
       " 99.6,\n",
       " 104.0,\n",
       " 99.8,\n",
       " 99.2,\n",
       " 103.8,\n",
       " 98.9,\n",
       " 101.7,\n",
       " 97.3,\n",
       " 96.9,\n",
       " 95.7,\n",
       " 97.3,\n",
       " 97.4,\n",
       " 100.9,\n",
       " 101.6,\n",
       " 99.9,\n",
       " 97.7,\n",
       " 99.5,\n",
       " 101.4,\n",
       " 99.6,\n",
       " 101.4,\n",
       " 96.6,\n",
       " 96.3,\n",
       " 97.2,\n",
       " 102.0,\n",
       " 100.6,\n",
       " 100.5,\n",
       " 102.0,\n",
       " 101.1,\n",
       " 102.9,\n",
       " 99.0,\n",
       " 100.6,\n",
       " 99.0,\n",
       " 98.9,\n",
       " 95.1,\n",
       " 95.8,\n",
       " 100.0,\n",
       " 102.0,\n",
       " 100.3,\n",
       " 102.2,\n",
       " 102.3,\n",
       " 101.2,\n",
       " 101.0,\n",
       " 102.2,\n",
       " ...]"
      ]
     },
     "execution_count": 37,
     "metadata": {},
     "output_type": "execute_result"
    }
   ],
   "source": [
    "paillier_cpu_use_short=shortlist_cpu_usage(cpu_usages_paillier)\n",
    "paillier_cpu_use_short"
   ]
  },
  {
   "cell_type": "code",
   "execution_count": 38,
   "id": "b08b1906-e12f-4881-a936-ea6199871af8",
   "metadata": {},
   "outputs": [],
   "source": [
    "paillier_cpu_use_short=np.array(paillier_cpu_use_short)"
   ]
  },
  {
   "cell_type": "code",
   "execution_count": 39,
   "id": "23d85184-511e-4cd3-a471-ab1e79da4ed0",
   "metadata": {},
   "outputs": [
    {
     "data": {
      "text/plain": [
       "100.07078651685394"
      ]
     },
     "execution_count": 39,
     "metadata": {},
     "output_type": "execute_result"
    }
   ],
   "source": [
    "paillier_cpu_use_short.mean()"
   ]
  },
  {
   "cell_type": "code",
   "execution_count": 40,
   "id": "b203da10-7b96-4cc0-a7c8-d232bb589873",
   "metadata": {},
   "outputs": [
    {
     "data": {
      "text/plain": [
       "151407.1"
      ]
     },
     "execution_count": 40,
     "metadata": {},
     "output_type": "execute_result"
    }
   ],
   "source": [
    "paillier_cpu_use_short.sum()"
   ]
  },
  {
   "cell_type": "code",
   "execution_count": 41,
   "id": "9c445644-8561-4c09-b11d-ef4e410b99d6",
   "metadata": {},
   "outputs": [
    {
     "data": {
      "text/plain": [
       "1514.0710000000001"
      ]
     },
     "execution_count": 41,
     "metadata": {},
     "output_type": "execute_result"
    }
   ],
   "source": [
    "cpu_seconds_for_paillier=paillier_cpu_use_short.sum()/100\n",
    "cpu_seconds_for_paillier"
   ]
  },
  {
   "cell_type": "code",
   "execution_count": 42,
   "id": "e3d13a63-5d5d-4ff4-b4ab-5588cd9bcdc8",
   "metadata": {},
   "outputs": [
    {
     "data": {
      "text/plain": [
       "120.6"
      ]
     },
     "execution_count": 42,
     "metadata": {},
     "output_type": "execute_result"
    }
   ],
   "source": [
    "paillier_cpu_use_short.max()"
   ]
  },
  {
   "cell_type": "code",
   "execution_count": 43,
   "id": "bd6288fc-44db-4a62-a4be-73d7f9775b36",
   "metadata": {},
   "outputs": [
    {
     "data": {
      "text/plain": [
       "93.3"
      ]
     },
     "execution_count": 43,
     "metadata": {},
     "output_type": "execute_result"
    }
   ],
   "source": [
    "paillier_cpu_use_short.min()"
   ]
  },
  {
   "cell_type": "code",
   "execution_count": 44,
   "id": "8019c7fa-7447-47ab-acb4-753b8c4852c0",
   "metadata": {},
   "outputs": [
    {
     "data": {
      "text/plain": [
       "1513"
      ]
     },
     "execution_count": 44,
     "metadata": {},
     "output_type": "execute_result"
    }
   ],
   "source": [
    "len(paillier_cpu_use_short)"
   ]
  },
  {
   "cell_type": "code",
   "execution_count": 45,
   "id": "73273bab-0732-4764-bf12-cceb3a768558",
   "metadata": {},
   "outputs": [],
   "source": [
    "cpu_percent_consumption_paillier=(paillier_cpu_use_short.sum()/(len(paillier_cpu_use_short)*200))*100"
   ]
  },
  {
   "cell_type": "code",
   "execution_count": 46,
   "id": "9cd56901-4016-4586-a50f-cf3b440e66c5",
   "metadata": {},
   "outputs": [
    {
     "data": {
      "text/plain": [
       "50.035393258426964"
      ]
     },
     "execution_count": 46,
     "metadata": {},
     "output_type": "execute_result"
    }
   ],
   "source": [
    "cpu_percent_consumption_paillier"
   ]
  },
  {
   "cell_type": "code",
   "execution_count": 47,
   "id": "70343caa-80ce-4735-9dfb-0055666876a0",
   "metadata": {},
   "outputs": [
    {
     "data": {
      "text/plain": [
       "[91.7, 96.1, 106.6, 100.8, 119.3, 116.5, 95.2, 106.0, 100.7, 102.2]"
      ]
     },
     "execution_count": 47,
     "metadata": {},
     "output_type": "execute_result"
    }
   ],
   "source": [
    "ckks_cpu_use_short=shortlist_cpu_usage(cpu_usages_ckks)\n",
    "ckks_cpu_use_short"
   ]
  },
  {
   "cell_type": "code",
   "execution_count": 48,
   "id": "d8c91d68-0f4b-4e31-b109-cb6eae6335e6",
   "metadata": {},
   "outputs": [],
   "source": [
    "ckks_cpu_use_short=np.array(ckks_cpu_use_short)"
   ]
  },
  {
   "cell_type": "code",
   "execution_count": 49,
   "id": "71971821-8163-43f7-9b65-139a6a6f3cd7",
   "metadata": {},
   "outputs": [
    {
     "data": {
      "text/plain": [
       "103.51000000000002"
      ]
     },
     "execution_count": 49,
     "metadata": {},
     "output_type": "execute_result"
    }
   ],
   "source": [
    "ckks_cpu_use_short.mean()"
   ]
  },
  {
   "cell_type": "code",
   "execution_count": 50,
   "id": "687db669-cafe-47d4-97d8-9e7e40f3e716",
   "metadata": {},
   "outputs": [
    {
     "data": {
      "text/plain": [
       "1035.1000000000001"
      ]
     },
     "execution_count": 50,
     "metadata": {},
     "output_type": "execute_result"
    }
   ],
   "source": [
    "ckks_cpu_use_short.sum()"
   ]
  },
  {
   "cell_type": "code",
   "execution_count": 51,
   "id": "d82a9236-d0d7-4e10-bf46-fed948ff8dac",
   "metadata": {},
   "outputs": [
    {
     "data": {
      "text/plain": [
       "10.351"
      ]
     },
     "execution_count": 51,
     "metadata": {},
     "output_type": "execute_result"
    }
   ],
   "source": [
    "cpu_seconds_for_ckks=ckks_cpu_use_short.sum()/100\n",
    "cpu_seconds_for_ckks"
   ]
  },
  {
   "cell_type": "code",
   "execution_count": 52,
   "id": "fd87bc08-edbb-4e73-aa46-4cb631b99b17",
   "metadata": {},
   "outputs": [
    {
     "data": {
      "text/plain": [
       "119.3"
      ]
     },
     "execution_count": 52,
     "metadata": {},
     "output_type": "execute_result"
    }
   ],
   "source": [
    "ckks_cpu_use_short.max()"
   ]
  },
  {
   "cell_type": "code",
   "execution_count": 53,
   "id": "353cd72a-d316-446b-a48c-7777b5c27bcd",
   "metadata": {},
   "outputs": [
    {
     "data": {
      "text/plain": [
       "91.7"
      ]
     },
     "execution_count": 53,
     "metadata": {},
     "output_type": "execute_result"
    }
   ],
   "source": [
    "ckks_cpu_use_short.min()"
   ]
  },
  {
   "cell_type": "code",
   "execution_count": 54,
   "id": "3849453f-a4ce-4f5e-a542-89df109235a2",
   "metadata": {},
   "outputs": [
    {
     "data": {
      "text/plain": [
       "10"
      ]
     },
     "execution_count": 54,
     "metadata": {},
     "output_type": "execute_result"
    }
   ],
   "source": [
    "len(ckks_cpu_use_short)"
   ]
  },
  {
   "cell_type": "code",
   "execution_count": 55,
   "id": "440523d9-19c4-406e-a164-bdd8d996f078",
   "metadata": {},
   "outputs": [
    {
     "data": {
      "text/plain": [
       "51.75500000000001"
      ]
     },
     "execution_count": 55,
     "metadata": {},
     "output_type": "execute_result"
    }
   ],
   "source": [
    "cpu_percent_consumption_ckks=(ckks_cpu_use_short.sum()/(len(ckks_cpu_use_short)*200))*100\n",
    "cpu_percent_consumption_ckks"
   ]
  },
  {
   "cell_type": "code",
   "execution_count": 56,
   "id": "9f0a6aa0-a1d5-4478-b84e-26c53182d9f3",
   "metadata": {},
   "outputs": [
    {
     "data": {
      "text/plain": [
       "['cpu_util_insights_ckks_1055_12.pkl']"
      ]
     },
     "execution_count": 56,
     "metadata": {},
     "output_type": "execute_result"
    }
   ],
   "source": [
    "joblib.dump((ckks_cpu_use_short.mean(),ckks_cpu_use_short.sum(),cpu_seconds_for_ckks,ckks_cpu_use_short.max(),ckks_cpu_use_short.min(),len(ckks_cpu_use_short),cpu_percent_consumption_ckks),'cpu_util_insights_ckks_1055_12.pkl')"
   ]
  },
  {
   "cell_type": "code",
   "execution_count": 57,
   "id": "86617836-0d9d-44be-83d2-c58990a2415d",
   "metadata": {},
   "outputs": [
    {
     "data": {
      "text/plain": [
       "['cpu_util_insights_paillier_1055_12.pkl']"
      ]
     },
     "execution_count": 57,
     "metadata": {},
     "output_type": "execute_result"
    }
   ],
   "source": [
    "joblib.dump((paillier_cpu_use_short.mean(),paillier_cpu_use_short.sum(),cpu_seconds_for_paillier,paillier_cpu_use_short.max(),paillier_cpu_use_short.min(),len(paillier_cpu_use_short),cpu_percent_consumption_paillier),'cpu_util_insights_paillier_1055_12.pkl')"
   ]
  },
  {
   "cell_type": "code",
   "execution_count": null,
   "id": "dcb8e9d1-deb8-4af7-ac5a-00fc535deed9",
   "metadata": {},
   "outputs": [],
   "source": []
  }
 ],
 "metadata": {
  "kernelspec": {
   "display_name": "Python 3 (ipykernel)",
   "language": "python",
   "name": "python3"
  },
  "language_info": {
   "codemirror_mode": {
    "name": "ipython",
    "version": 3
   },
   "file_extension": ".py",
   "mimetype": "text/x-python",
   "name": "python",
   "nbconvert_exporter": "python",
   "pygments_lexer": "ipython3",
   "version": "3.12.3"
  }
 },
 "nbformat": 4,
 "nbformat_minor": 5
}
