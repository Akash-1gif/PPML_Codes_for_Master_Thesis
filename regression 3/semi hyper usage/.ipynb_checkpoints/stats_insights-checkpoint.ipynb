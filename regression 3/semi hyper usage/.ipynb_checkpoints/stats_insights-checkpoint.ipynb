{
 "cells": [
  {
   "cell_type": "code",
   "execution_count": 1,
   "id": "eda35c9b-91e8-4762-a74f-a804b5613800",
   "metadata": {},
   "outputs": [],
   "source": [
    "import numpy as np\n",
    "import pandas as pd\n",
    "from scipy import stats\n",
    "import matplotlib.pyplot as plt\n",
    "import joblib\n",
    "import scipy.stats as stats\n",
    "import statsmodels.api as sm\n",
    "from statsmodels.formula.api import ols\n",
    "%matplotlib inline\n",
    "plt.style.use('dark_background')"
   ]
  },
  {
   "cell_type": "code",
   "execution_count": 2,
   "id": "616e1ecc-e7a8-4384-a020-2dd6ee5499d9",
   "metadata": {},
   "outputs": [],
   "source": [
    "weights_ckks,bias_ckks,unenc_preds_ckks,cpu_seconds_ckks,cpu_usages_ckks,train_time_ckks,test_time_ckks=joblib.load('variables.pkl')"
   ]
  },
  {
   "cell_type": "markdown",
   "id": "0720ce03-91b4-4526-b4d6-8770d6eaeb81",
   "metadata": {},
   "source": [
    "### training time:"
   ]
  },
  {
   "cell_type": "markdown",
   "id": "f3de5898-2831-41d7-9a7b-8575dc805b03",
   "metadata": {},
   "source": [
    "### CPU % utilization:"
   ]
  },
  {
   "cell_type": "code",
   "execution_count": 3,
   "id": "969ad115-ac97-49e5-afa4-97709c43b1a8",
   "metadata": {},
   "outputs": [],
   "source": [
    "def shortlist_cpu_usage(cpu):\n",
    "    cpu_use=[]\n",
    "    for i in cpu:\n",
    "        if i>50:\n",
    "            cpu_use.append(i)\n",
    "\n",
    "    return cpu_use"
   ]
  },
  {
   "cell_type": "code",
   "execution_count": 4,
   "id": "70343caa-80ce-4735-9dfb-0055666876a0",
   "metadata": {},
   "outputs": [
    {
     "data": {
      "text/plain": [
       "[177.7,\n",
       " 195.9,\n",
       " 154.2,\n",
       " 157.6,\n",
       " 118.9,\n",
       " 102.0,\n",
       " 161.8,\n",
       " 189.6,\n",
       " 186.3,\n",
       " 186.8,\n",
       " 134.1,\n",
       " 104.6,\n",
       " 97.9,\n",
       " 174.9,\n",
       " 192.2,\n",
       " 131.5,\n",
       " 199.8,\n",
       " 115.0,\n",
       " 106.0,\n",
       " 147.3,\n",
       " 174.3,\n",
       " 158.1,\n",
       " 181.3,\n",
       " 175.8,\n",
       " 157.9,\n",
       " 132.6,\n",
       " 104.0,\n",
       " 105.7,\n",
       " 125.0,\n",
       " 157.3,\n",
       " 202.6,\n",
       " 157.4,\n",
       " 197.4,\n",
       " 224.4,\n",
       " 110.3,\n",
       " 108.0,\n",
       " 163.4,\n",
       " 159.2,\n",
       " 180.9,\n",
       " 157.4,\n",
       " 140.0,\n",
       " 132.4,\n",
       " 105.9,\n",
       " 116.2,\n",
       " 202.0,\n",
       " 180.1,\n",
       " 156.5,\n",
       " 173.5,\n",
       " 180.7,\n",
       " 109.6,\n",
       " 96.2]"
      ]
     },
     "execution_count": 4,
     "metadata": {},
     "output_type": "execute_result"
    }
   ],
   "source": [
    "ckks_cpu_use_short=shortlist_cpu_usage(cpu_usages_ckks)\n",
    "ckks_cpu_use_short"
   ]
  },
  {
   "cell_type": "code",
   "execution_count": 5,
   "id": "d8c91d68-0f4b-4e31-b109-cb6eae6335e6",
   "metadata": {},
   "outputs": [],
   "source": [
    "ckks_cpu_use_short=np.array(ckks_cpu_use_short)"
   ]
  },
  {
   "cell_type": "code",
   "execution_count": 6,
   "id": "71971821-8163-43f7-9b65-139a6a6f3cd7",
   "metadata": {},
   "outputs": [
    {
     "data": {
      "text/plain": [
       "152.1607843137255"
      ]
     },
     "execution_count": 6,
     "metadata": {},
     "output_type": "execute_result"
    }
   ],
   "source": [
    "ckks_cpu_use_short.mean()"
   ]
  },
  {
   "cell_type": "code",
   "execution_count": 7,
   "id": "687db669-cafe-47d4-97d8-9e7e40f3e716",
   "metadata": {},
   "outputs": [
    {
     "data": {
      "text/plain": [
       "7760.2"
      ]
     },
     "execution_count": 7,
     "metadata": {},
     "output_type": "execute_result"
    }
   ],
   "source": [
    "ckks_cpu_use_short.sum()"
   ]
  },
  {
   "cell_type": "code",
   "execution_count": 8,
   "id": "d82a9236-d0d7-4e10-bf46-fed948ff8dac",
   "metadata": {},
   "outputs": [
    {
     "data": {
      "text/plain": [
       "77.602"
      ]
     },
     "execution_count": 8,
     "metadata": {},
     "output_type": "execute_result"
    }
   ],
   "source": [
    "cpu_seconds_for_ckks=ckks_cpu_use_short.sum()/100\n",
    "cpu_seconds_for_ckks"
   ]
  },
  {
   "cell_type": "code",
   "execution_count": 9,
   "id": "fd87bc08-edbb-4e73-aa46-4cb631b99b17",
   "metadata": {},
   "outputs": [
    {
     "data": {
      "text/plain": [
       "224.4"
      ]
     },
     "execution_count": 9,
     "metadata": {},
     "output_type": "execute_result"
    }
   ],
   "source": [
    "ckks_cpu_use_short.max()"
   ]
  },
  {
   "cell_type": "code",
   "execution_count": 10,
   "id": "353cd72a-d316-446b-a48c-7777b5c27bcd",
   "metadata": {},
   "outputs": [
    {
     "data": {
      "text/plain": [
       "96.2"
      ]
     },
     "execution_count": 10,
     "metadata": {},
     "output_type": "execute_result"
    }
   ],
   "source": [
    "ckks_cpu_use_short.min()"
   ]
  },
  {
   "cell_type": "code",
   "execution_count": 11,
   "id": "3849453f-a4ce-4f5e-a542-89df109235a2",
   "metadata": {},
   "outputs": [
    {
     "data": {
      "text/plain": [
       "51"
      ]
     },
     "execution_count": 11,
     "metadata": {},
     "output_type": "execute_result"
    }
   ],
   "source": [
    "len(ckks_cpu_use_short)"
   ]
  },
  {
   "cell_type": "code",
   "execution_count": 12,
   "id": "440523d9-19c4-406e-a164-bdd8d996f078",
   "metadata": {},
   "outputs": [
    {
     "data": {
      "text/plain": [
       "76.08039215686274"
      ]
     },
     "execution_count": 12,
     "metadata": {},
     "output_type": "execute_result"
    }
   ],
   "source": [
    "cpu_percent_consumption_ckks=(ckks_cpu_use_short.sum()/(len(ckks_cpu_use_short)*200))*100\n",
    "cpu_percent_consumption_ckks"
   ]
  },
  {
   "cell_type": "code",
   "execution_count": 13,
   "id": "9f0a6aa0-a1d5-4478-b84e-26c53182d9f3",
   "metadata": {},
   "outputs": [
    {
     "data": {
      "text/plain": [
       "['cpu_util_insights_ckks_1055_21.pkl']"
      ]
     },
     "execution_count": 13,
     "metadata": {},
     "output_type": "execute_result"
    }
   ],
   "source": [
    "joblib.dump((ckks_cpu_use_short.mean(),ckks_cpu_use_short.sum(),cpu_seconds_for_ckks,ckks_cpu_use_short.max(),ckks_cpu_use_short.min(),len(ckks_cpu_use_short),cpu_percent_consumption_ckks),'cpu_util_insights_ckks_1055_21.pkl')"
   ]
  }
 ],
 "metadata": {
  "kernelspec": {
   "display_name": "Python 3 (ipykernel)",
   "language": "python",
   "name": "python3"
  },
  "language_info": {
   "codemirror_mode": {
    "name": "ipython",
    "version": 3
   },
   "file_extension": ".py",
   "mimetype": "text/x-python",
   "name": "python",
   "nbconvert_exporter": "python",
   "pygments_lexer": "ipython3",
   "version": "3.12.3"
  }
 },
 "nbformat": 4,
 "nbformat_minor": 5
}
