{
 "cells": [
  {
   "cell_type": "code",
   "execution_count": 1,
   "id": "f761f64b-c406-47b9-9fee-e779d9385f56",
   "metadata": {},
   "outputs": [],
   "source": [
    "import numpy as np\n",
    "import pandas as pd\n",
    "import matplotlib.pyplot as plt\n",
    "%matplotlib inline\n",
    "plt.style.use('dark_background')\n",
    "from sklearn.model_selection import train_test_split\n",
    "from sklearn.linear_model import LinearRegression\n",
    "from sklearn.preprocessing import LabelEncoder\n",
    "import json\n",
    "import pickle\n",
    "import joblib"
   ]
  },
  {
   "cell_type": "code",
   "execution_count": 2,
   "id": "ffe8f84f-45ef-4638-9063-0a4f75945857",
   "metadata": {},
   "outputs": [
    {
     "data": {
      "text/html": [
       "<div>\n",
       "<style scoped>\n",
       "    .dataframe tbody tr th:only-of-type {\n",
       "        vertical-align: middle;\n",
       "    }\n",
       "\n",
       "    .dataframe tbody tr th {\n",
       "        vertical-align: top;\n",
       "    }\n",
       "\n",
       "    .dataframe thead th {\n",
       "        text-align: right;\n",
       "    }\n",
       "</style>\n",
       "<table border=\"1\" class=\"dataframe\">\n",
       "  <thead>\n",
       "    <tr style=\"text-align: right;\">\n",
       "      <th></th>\n",
       "      <th>area_type</th>\n",
       "      <th>availability</th>\n",
       "      <th>location</th>\n",
       "      <th>size</th>\n",
       "      <th>society</th>\n",
       "      <th>total_sqft</th>\n",
       "      <th>bath</th>\n",
       "      <th>balcony</th>\n",
       "      <th>price</th>\n",
       "    </tr>\n",
       "  </thead>\n",
       "  <tbody>\n",
       "    <tr>\n",
       "      <th>1624</th>\n",
       "      <td>Plot  Area</td>\n",
       "      <td>Ready To Move</td>\n",
       "      <td>Kereguddadahalli</td>\n",
       "      <td>6 Bedroom</td>\n",
       "      <td>NaN</td>\n",
       "      <td>600</td>\n",
       "      <td>4.0</td>\n",
       "      <td>0.0</td>\n",
       "      <td>60.00</td>\n",
       "    </tr>\n",
       "    <tr>\n",
       "      <th>11167</th>\n",
       "      <td>Built-up  Area</td>\n",
       "      <td>Ready To Move</td>\n",
       "      <td>ISRO Layout</td>\n",
       "      <td>2 BHK</td>\n",
       "      <td>NaN</td>\n",
       "      <td>1200</td>\n",
       "      <td>2.0</td>\n",
       "      <td>3.0</td>\n",
       "      <td>43.00</td>\n",
       "    </tr>\n",
       "    <tr>\n",
       "      <th>4831</th>\n",
       "      <td>Super built-up  Area</td>\n",
       "      <td>Ready To Move</td>\n",
       "      <td>Ambalipura</td>\n",
       "      <td>2 BHK</td>\n",
       "      <td>NaN</td>\n",
       "      <td>1230</td>\n",
       "      <td>2.0</td>\n",
       "      <td>2.0</td>\n",
       "      <td>66.25</td>\n",
       "    </tr>\n",
       "    <tr>\n",
       "      <th>655</th>\n",
       "      <td>Super built-up  Area</td>\n",
       "      <td>Ready To Move</td>\n",
       "      <td>Bommasandra</td>\n",
       "      <td>3 BHK</td>\n",
       "      <td>Vaodspe</td>\n",
       "      <td>1200</td>\n",
       "      <td>3.0</td>\n",
       "      <td>2.0</td>\n",
       "      <td>46.00</td>\n",
       "    </tr>\n",
       "    <tr>\n",
       "      <th>2723</th>\n",
       "      <td>Super built-up  Area</td>\n",
       "      <td>20-Mar</td>\n",
       "      <td>8th Phase JP Nagar</td>\n",
       "      <td>3 BHK</td>\n",
       "      <td>Vaarech</td>\n",
       "      <td>1455</td>\n",
       "      <td>3.0</td>\n",
       "      <td>2.0</td>\n",
       "      <td>73.31</td>\n",
       "    </tr>\n",
       "  </tbody>\n",
       "</table>\n",
       "</div>"
      ],
      "text/plain": [
       "                  area_type   availability            location       size  \\\n",
       "1624             Plot  Area  Ready To Move    Kereguddadahalli  6 Bedroom   \n",
       "11167        Built-up  Area  Ready To Move         ISRO Layout      2 BHK   \n",
       "4831   Super built-up  Area  Ready To Move          Ambalipura      2 BHK   \n",
       "655    Super built-up  Area  Ready To Move         Bommasandra      3 BHK   \n",
       "2723   Super built-up  Area         20-Mar  8th Phase JP Nagar      3 BHK   \n",
       "\n",
       "       society total_sqft  bath  balcony  price  \n",
       "1624       NaN        600   4.0      0.0  60.00  \n",
       "11167      NaN       1200   2.0      3.0  43.00  \n",
       "4831       NaN       1230   2.0      2.0  66.25  \n",
       "655    Vaodspe       1200   3.0      2.0  46.00  \n",
       "2723   Vaarech       1455   3.0      2.0  73.31  "
      ]
     },
     "execution_count": 2,
     "metadata": {},
     "output_type": "execute_result"
    }
   ],
   "source": [
    "df=pd.read_csv('Bengaluru_House_Data.csv')\n",
    "df.sample(5)"
   ]
  },
  {
   "cell_type": "code",
   "execution_count": 3,
   "id": "a36c48a4-513b-4743-94d9-ce359b0aa9a0",
   "metadata": {},
   "outputs": [
    {
     "data": {
      "text/html": [
       "<div>\n",
       "<style scoped>\n",
       "    .dataframe tbody tr th:only-of-type {\n",
       "        vertical-align: middle;\n",
       "    }\n",
       "\n",
       "    .dataframe tbody tr th {\n",
       "        vertical-align: top;\n",
       "    }\n",
       "\n",
       "    .dataframe thead th {\n",
       "        text-align: right;\n",
       "    }\n",
       "</style>\n",
       "<table border=\"1\" class=\"dataframe\">\n",
       "  <thead>\n",
       "    <tr style=\"text-align: right;\">\n",
       "      <th></th>\n",
       "      <th>area_type</th>\n",
       "      <th>location</th>\n",
       "      <th>size</th>\n",
       "      <th>total_sqft</th>\n",
       "      <th>bath</th>\n",
       "      <th>balcony</th>\n",
       "      <th>price</th>\n",
       "    </tr>\n",
       "  </thead>\n",
       "  <tbody>\n",
       "    <tr>\n",
       "      <th>4976</th>\n",
       "      <td>Super built-up  Area</td>\n",
       "      <td>Ramagondanahalli</td>\n",
       "      <td>2 BHK</td>\n",
       "      <td>1295</td>\n",
       "      <td>2.0</td>\n",
       "      <td>2.0</td>\n",
       "      <td>95.0</td>\n",
       "    </tr>\n",
       "    <tr>\n",
       "      <th>5156</th>\n",
       "      <td>Built-up  Area</td>\n",
       "      <td>Hebbal</td>\n",
       "      <td>3 BHK</td>\n",
       "      <td>1269</td>\n",
       "      <td>2.0</td>\n",
       "      <td>1.0</td>\n",
       "      <td>73.0</td>\n",
       "    </tr>\n",
       "    <tr>\n",
       "      <th>2034</th>\n",
       "      <td>Super built-up  Area</td>\n",
       "      <td>Budigere</td>\n",
       "      <td>2 BHK</td>\n",
       "      <td>1139</td>\n",
       "      <td>2.0</td>\n",
       "      <td>2.0</td>\n",
       "      <td>62.0</td>\n",
       "    </tr>\n",
       "    <tr>\n",
       "      <th>2917</th>\n",
       "      <td>Super built-up  Area</td>\n",
       "      <td>Bellandur</td>\n",
       "      <td>2 BHK</td>\n",
       "      <td>900</td>\n",
       "      <td>2.0</td>\n",
       "      <td>2.0</td>\n",
       "      <td>56.0</td>\n",
       "    </tr>\n",
       "    <tr>\n",
       "      <th>7359</th>\n",
       "      <td>Built-up  Area</td>\n",
       "      <td>Yelahanka</td>\n",
       "      <td>2 BHK</td>\n",
       "      <td>1200</td>\n",
       "      <td>2.0</td>\n",
       "      <td>2.0</td>\n",
       "      <td>55.0</td>\n",
       "    </tr>\n",
       "  </tbody>\n",
       "</table>\n",
       "</div>"
      ],
      "text/plain": [
       "                 area_type          location   size total_sqft  bath  balcony  \\\n",
       "4976  Super built-up  Area  Ramagondanahalli  2 BHK       1295   2.0      2.0   \n",
       "5156        Built-up  Area            Hebbal  3 BHK       1269   2.0      1.0   \n",
       "2034  Super built-up  Area          Budigere  2 BHK       1139   2.0      2.0   \n",
       "2917  Super built-up  Area         Bellandur  2 BHK        900   2.0      2.0   \n",
       "7359        Built-up  Area         Yelahanka  2 BHK       1200   2.0      2.0   \n",
       "\n",
       "      price  \n",
       "4976   95.0  \n",
       "5156   73.0  \n",
       "2034   62.0  \n",
       "2917   56.0  \n",
       "7359   55.0  "
      ]
     },
     "execution_count": 3,
     "metadata": {},
     "output_type": "execute_result"
    }
   ],
   "source": [
    "df=df.drop(['availability','society'],axis=1)\n",
    "df.sample(5)"
   ]
  },
  {
   "cell_type": "code",
   "execution_count": 4,
   "id": "dafba79c-4e7c-4d72-957d-677a992b4ec3",
   "metadata": {},
   "outputs": [
    {
     "data": {
      "text/plain": [
       "area_type       0\n",
       "location        1\n",
       "size           16\n",
       "total_sqft      0\n",
       "bath           73\n",
       "balcony       609\n",
       "price           0\n",
       "dtype: int64"
      ]
     },
     "execution_count": 4,
     "metadata": {},
     "output_type": "execute_result"
    }
   ],
   "source": [
    "df.isnull().sum()"
   ]
  },
  {
   "cell_type": "code",
   "execution_count": 5,
   "id": "96f5c34f-3d0d-4dc7-963d-dd8cec39f5ba",
   "metadata": {},
   "outputs": [],
   "source": [
    "df=df.dropna()"
   ]
  },
  {
   "cell_type": "code",
   "execution_count": 6,
   "id": "0477d4f5-6e10-4a33-8d42-b13a93985626",
   "metadata": {},
   "outputs": [
    {
     "data": {
      "text/plain": [
       "area_type     0\n",
       "location      0\n",
       "size          0\n",
       "total_sqft    0\n",
       "bath          0\n",
       "balcony       0\n",
       "price         0\n",
       "dtype: int64"
      ]
     },
     "execution_count": 6,
     "metadata": {},
     "output_type": "execute_result"
    }
   ],
   "source": [
    "df.isnull().sum()"
   ]
  },
  {
   "cell_type": "code",
   "execution_count": 7,
   "id": "8ba7321c-030f-48a7-aa81-ad87232d2a1e",
   "metadata": {},
   "outputs": [
    {
     "data": {
      "text/plain": [
       "array(['2 BHK', '4 Bedroom', '3 BHK', '3 Bedroom', '1 BHK', '1 RK',\n",
       "       '4 BHK', '1 Bedroom', '2 Bedroom', '6 Bedroom', '8 Bedroom',\n",
       "       '7 Bedroom', '5 BHK', '7 BHK', '6 BHK', '5 Bedroom', '11 BHK',\n",
       "       '9 BHK', '9 Bedroom', '27 BHK', '11 Bedroom', '43 Bedroom',\n",
       "       '14 BHK', '8 BHK', '12 Bedroom', '10 Bedroom', '13 BHK'],\n",
       "      dtype=object)"
      ]
     },
     "execution_count": 7,
     "metadata": {},
     "output_type": "execute_result"
    }
   ],
   "source": [
    "df['size'].unique()"
   ]
  },
  {
   "cell_type": "code",
   "execution_count": 8,
   "id": "2b1cd704-b959-46d4-853a-5c05d47b2ba3",
   "metadata": {},
   "outputs": [],
   "source": [
    "def size_clear(string):\n",
    "    string=string.split(' ')[0]\n",
    "    string=int(string)\n",
    "    return string"
   ]
  },
  {
   "cell_type": "code",
   "execution_count": 9,
   "id": "e5f51f9c-c96f-414f-b243-b69c088c19b8",
   "metadata": {},
   "outputs": [
    {
     "data": {
      "text/html": [
       "<div>\n",
       "<style scoped>\n",
       "    .dataframe tbody tr th:only-of-type {\n",
       "        vertical-align: middle;\n",
       "    }\n",
       "\n",
       "    .dataframe tbody tr th {\n",
       "        vertical-align: top;\n",
       "    }\n",
       "\n",
       "    .dataframe thead th {\n",
       "        text-align: right;\n",
       "    }\n",
       "</style>\n",
       "<table border=\"1\" class=\"dataframe\">\n",
       "  <thead>\n",
       "    <tr style=\"text-align: right;\">\n",
       "      <th></th>\n",
       "      <th>area_type</th>\n",
       "      <th>location</th>\n",
       "      <th>size</th>\n",
       "      <th>total_sqft</th>\n",
       "      <th>bath</th>\n",
       "      <th>balcony</th>\n",
       "      <th>price</th>\n",
       "    </tr>\n",
       "  </thead>\n",
       "  <tbody>\n",
       "    <tr>\n",
       "      <th>0</th>\n",
       "      <td>Super built-up  Area</td>\n",
       "      <td>Electronic City Phase II</td>\n",
       "      <td>2</td>\n",
       "      <td>1056</td>\n",
       "      <td>2.0</td>\n",
       "      <td>1.0</td>\n",
       "      <td>39.07</td>\n",
       "    </tr>\n",
       "    <tr>\n",
       "      <th>1</th>\n",
       "      <td>Plot  Area</td>\n",
       "      <td>Chikka Tirupathi</td>\n",
       "      <td>4</td>\n",
       "      <td>2600</td>\n",
       "      <td>5.0</td>\n",
       "      <td>3.0</td>\n",
       "      <td>120.00</td>\n",
       "    </tr>\n",
       "    <tr>\n",
       "      <th>2</th>\n",
       "      <td>Built-up  Area</td>\n",
       "      <td>Uttarahalli</td>\n",
       "      <td>3</td>\n",
       "      <td>1440</td>\n",
       "      <td>2.0</td>\n",
       "      <td>3.0</td>\n",
       "      <td>62.00</td>\n",
       "    </tr>\n",
       "    <tr>\n",
       "      <th>3</th>\n",
       "      <td>Super built-up  Area</td>\n",
       "      <td>Lingadheeranahalli</td>\n",
       "      <td>3</td>\n",
       "      <td>1521</td>\n",
       "      <td>3.0</td>\n",
       "      <td>1.0</td>\n",
       "      <td>95.00</td>\n",
       "    </tr>\n",
       "    <tr>\n",
       "      <th>4</th>\n",
       "      <td>Super built-up  Area</td>\n",
       "      <td>Kothanur</td>\n",
       "      <td>2</td>\n",
       "      <td>1200</td>\n",
       "      <td>2.0</td>\n",
       "      <td>1.0</td>\n",
       "      <td>51.00</td>\n",
       "    </tr>\n",
       "    <tr>\n",
       "      <th>...</th>\n",
       "      <td>...</td>\n",
       "      <td>...</td>\n",
       "      <td>...</td>\n",
       "      <td>...</td>\n",
       "      <td>...</td>\n",
       "      <td>...</td>\n",
       "      <td>...</td>\n",
       "    </tr>\n",
       "    <tr>\n",
       "      <th>13314</th>\n",
       "      <td>Super built-up  Area</td>\n",
       "      <td>Green Glen Layout</td>\n",
       "      <td>3</td>\n",
       "      <td>1715</td>\n",
       "      <td>3.0</td>\n",
       "      <td>3.0</td>\n",
       "      <td>112.00</td>\n",
       "    </tr>\n",
       "    <tr>\n",
       "      <th>13315</th>\n",
       "      <td>Built-up  Area</td>\n",
       "      <td>Whitefield</td>\n",
       "      <td>5</td>\n",
       "      <td>3453</td>\n",
       "      <td>4.0</td>\n",
       "      <td>0.0</td>\n",
       "      <td>231.00</td>\n",
       "    </tr>\n",
       "    <tr>\n",
       "      <th>13317</th>\n",
       "      <td>Built-up  Area</td>\n",
       "      <td>Raja Rajeshwari Nagar</td>\n",
       "      <td>2</td>\n",
       "      <td>1141</td>\n",
       "      <td>2.0</td>\n",
       "      <td>1.0</td>\n",
       "      <td>60.00</td>\n",
       "    </tr>\n",
       "    <tr>\n",
       "      <th>13318</th>\n",
       "      <td>Super built-up  Area</td>\n",
       "      <td>Padmanabhanagar</td>\n",
       "      <td>4</td>\n",
       "      <td>4689</td>\n",
       "      <td>4.0</td>\n",
       "      <td>1.0</td>\n",
       "      <td>488.00</td>\n",
       "    </tr>\n",
       "    <tr>\n",
       "      <th>13319</th>\n",
       "      <td>Super built-up  Area</td>\n",
       "      <td>Doddathoguru</td>\n",
       "      <td>1</td>\n",
       "      <td>550</td>\n",
       "      <td>1.0</td>\n",
       "      <td>1.0</td>\n",
       "      <td>17.00</td>\n",
       "    </tr>\n",
       "  </tbody>\n",
       "</table>\n",
       "<p>12710 rows × 7 columns</p>\n",
       "</div>"
      ],
      "text/plain": [
       "                  area_type                  location  size total_sqft  bath  \\\n",
       "0      Super built-up  Area  Electronic City Phase II     2       1056   2.0   \n",
       "1                Plot  Area          Chikka Tirupathi     4       2600   5.0   \n",
       "2            Built-up  Area               Uttarahalli     3       1440   2.0   \n",
       "3      Super built-up  Area        Lingadheeranahalli     3       1521   3.0   \n",
       "4      Super built-up  Area                  Kothanur     2       1200   2.0   \n",
       "...                     ...                       ...   ...        ...   ...   \n",
       "13314  Super built-up  Area         Green Glen Layout     3       1715   3.0   \n",
       "13315        Built-up  Area                Whitefield     5       3453   4.0   \n",
       "13317        Built-up  Area     Raja Rajeshwari Nagar     2       1141   2.0   \n",
       "13318  Super built-up  Area           Padmanabhanagar     4       4689   4.0   \n",
       "13319  Super built-up  Area              Doddathoguru     1        550   1.0   \n",
       "\n",
       "       balcony   price  \n",
       "0          1.0   39.07  \n",
       "1          3.0  120.00  \n",
       "2          3.0   62.00  \n",
       "3          1.0   95.00  \n",
       "4          1.0   51.00  \n",
       "...        ...     ...  \n",
       "13314      3.0  112.00  \n",
       "13315      0.0  231.00  \n",
       "13317      1.0   60.00  \n",
       "13318      1.0  488.00  \n",
       "13319      1.0   17.00  \n",
       "\n",
       "[12710 rows x 7 columns]"
      ]
     },
     "execution_count": 9,
     "metadata": {},
     "output_type": "execute_result"
    }
   ],
   "source": [
    "df['size']=df['size'].apply(size_clear)\n",
    "df"
   ]
  },
  {
   "cell_type": "code",
   "execution_count": 10,
   "id": "65751328-1b6b-4998-bb35-efddd6b5337d",
   "metadata": {},
   "outputs": [
    {
     "data": {
      "text/plain": [
       "array([ 2.,  5.,  3.,  4.,  1.,  8.,  7.,  6.,  9., 27., 11., 12., 10.,\n",
       "       40., 15., 13.])"
      ]
     },
     "execution_count": 10,
     "metadata": {},
     "output_type": "execute_result"
    }
   ],
   "source": [
    "df['bath'].unique()"
   ]
  },
  {
   "cell_type": "code",
   "execution_count": 11,
   "id": "77e6f680-a6d6-4a67-b314-923279fcd42f",
   "metadata": {},
   "outputs": [
    {
     "data": {
      "text/plain": [
       "array([1., 3., 2., 0.])"
      ]
     },
     "execution_count": 11,
     "metadata": {},
     "output_type": "execute_result"
    }
   ],
   "source": [
    "df['balcony'].unique()"
   ]
  },
  {
   "cell_type": "code",
   "execution_count": 12,
   "id": "a3f9d57c-4c9d-44b4-8464-1f64db925c75",
   "metadata": {},
   "outputs": [
    {
     "data": {
      "text/plain": [
       "array(['1056', '2600', '1440', ..., '1133 - 1384', '774', '4689'],\n",
       "      dtype=object)"
      ]
     },
     "execution_count": 12,
     "metadata": {},
     "output_type": "execute_result"
    }
   ],
   "source": [
    "df['total_sqft'].unique()"
   ]
  },
  {
   "cell_type": "code",
   "execution_count": 13,
   "id": "e92a7a2c-7bb8-418d-b769-f96d972f66ad",
   "metadata": {},
   "outputs": [],
   "source": [
    "def correcting_total_sqft(val):\n",
    "    x=None\n",
    "    try:\n",
    "        x=float(val)\n",
    "    except:\n",
    "        try:\n",
    "            x_list=list(val.strip(' - '))\n",
    "            \n",
    "            x=(float(x_list[0])+float(x_list[1]))/2\n",
    "        except:\n",
    "            x=None\n",
    "    return x"
   ]
  },
  {
   "cell_type": "code",
   "execution_count": 14,
   "id": "981a46b4-6504-40ed-b7e1-02f23958a1ce",
   "metadata": {},
   "outputs": [],
   "source": [
    "df['total_sqft']=df['total_sqft'].apply(correcting_total_sqft)"
   ]
  },
  {
   "cell_type": "code",
   "execution_count": 15,
   "id": "c3c2ca3c-b79a-4ca0-955d-ea5e8c7fc90f",
   "metadata": {},
   "outputs": [
    {
     "data": {
      "text/plain": [
       "8"
      ]
     },
     "execution_count": 15,
     "metadata": {},
     "output_type": "execute_result"
    }
   ],
   "source": [
    "df['total_sqft'].isnull().sum()"
   ]
  },
  {
   "cell_type": "code",
   "execution_count": 16,
   "id": "05dd6e7d-c556-4fe3-be82-74b3589d0e75",
   "metadata": {},
   "outputs": [],
   "source": [
    "df=df.dropna()"
   ]
  },
  {
   "cell_type": "code",
   "execution_count": 17,
   "id": "c3e75ece-cdbe-4c30-b6f4-f1a720726e24",
   "metadata": {},
   "outputs": [
    {
     "data": {
      "text/plain": [
       "0"
      ]
     },
     "execution_count": 17,
     "metadata": {},
     "output_type": "execute_result"
    }
   ],
   "source": [
    "df['total_sqft'].isnull().sum()"
   ]
  },
  {
   "cell_type": "code",
   "execution_count": 18,
   "id": "a3bdb1b2-0447-4c05-a476-e61be90a643e",
   "metadata": {},
   "outputs": [
    {
     "data": {
      "text/plain": [
       "(12702, 7)"
      ]
     },
     "execution_count": 18,
     "metadata": {},
     "output_type": "execute_result"
    }
   ],
   "source": [
    "df.shape"
   ]
  },
  {
   "cell_type": "code",
   "execution_count": 19,
   "id": "3c92beb4-590d-4e0e-8b93-5e9cffc8008b",
   "metadata": {},
   "outputs": [
    {
     "data": {
      "text/plain": [
       "1262"
      ]
     },
     "execution_count": 19,
     "metadata": {},
     "output_type": "execute_result"
    }
   ],
   "source": [
    "df['location'].nunique()"
   ]
  },
  {
   "cell_type": "code",
   "execution_count": 20,
   "id": "fab10ef3-6a4a-4a4c-9ef6-e0d1c21729f4",
   "metadata": {},
   "outputs": [
    {
     "data": {
      "text/plain": [
       "location\n",
       "Whitefield              514\n",
       "Sarjapur  Road          372\n",
       "Electronic City         300\n",
       "Kanakpura Road          259\n",
       "Thanisandra             231\n",
       "                       ... \n",
       "Kalhalli                  1\n",
       "Kalkere Channasandra      1\n",
       " Banaswadi                1\n",
       "Kamdhenu Nagar            1\n",
       "whitefiled                1\n",
       "Name: location, Length: 1262, dtype: int64"
      ]
     },
     "execution_count": 20,
     "metadata": {},
     "output_type": "execute_result"
    }
   ],
   "source": [
    "locations=df.groupby('location')['location'].count().sort_values(ascending=False)\n",
    "locations"
   ]
  },
  {
   "cell_type": "code",
   "execution_count": 21,
   "id": "32e41f74-1a1d-4694-bdde-1d31887e936b",
   "metadata": {},
   "outputs": [
    {
     "data": {
      "text/plain": [
       "1025"
      ]
     },
     "execution_count": 21,
     "metadata": {},
     "output_type": "execute_result"
    }
   ],
   "source": [
    "len(locations[locations<=10])"
   ]
  },
  {
   "cell_type": "code",
   "execution_count": 22,
   "id": "ea0ee4a2-19ba-4e7a-9332-c90969736ba4",
   "metadata": {},
   "outputs": [],
   "source": [
    "rare_locs=locations[locations<=10]"
   ]
  },
  {
   "cell_type": "code",
   "execution_count": 23,
   "id": "15c1cdaf-84ff-4ff6-8429-9c71bdebc38d",
   "metadata": {},
   "outputs": [],
   "source": [
    "def loc_assign(loc):\n",
    "    if loc in rare_locs:\n",
    "        return 'other'\n",
    "    else:\n",
    "        return loc"
   ]
  },
  {
   "cell_type": "code",
   "execution_count": 24,
   "id": "90d8cb7d-f2a1-40c7-946a-c82e23fe55cf",
   "metadata": {},
   "outputs": [
    {
     "name": "stderr",
     "output_type": "stream",
     "text": [
      "C:\\Users\\hp\\AppData\\Local\\Temp\\ipykernel_3160\\4263921389.py:1: SettingWithCopyWarning: \n",
      "A value is trying to be set on a copy of a slice from a DataFrame.\n",
      "Try using .loc[row_indexer,col_indexer] = value instead\n",
      "\n",
      "See the caveats in the documentation: https://pandas.pydata.org/pandas-docs/stable/user_guide/indexing.html#returning-a-view-versus-a-copy\n",
      "  df['location']=df['location'].apply(loc_assign)\n"
     ]
    }
   ],
   "source": [
    "df['location']=df['location'].apply(loc_assign)"
   ]
  },
  {
   "cell_type": "code",
   "execution_count": 25,
   "id": "0ff7f642-4a7d-4ad2-b905-f8118bdd64dd",
   "metadata": {},
   "outputs": [
    {
     "data": {
      "text/plain": [
       "238"
      ]
     },
     "execution_count": 25,
     "metadata": {},
     "output_type": "execute_result"
    }
   ],
   "source": [
    "df['location'].nunique()"
   ]
  },
  {
   "cell_type": "code",
   "execution_count": 26,
   "id": "e4880321-5b1b-4f3b-bbf5-4085714cdee8",
   "metadata": {},
   "outputs": [
    {
     "data": {
      "text/html": [
       "<div>\n",
       "<style scoped>\n",
       "    .dataframe tbody tr th:only-of-type {\n",
       "        vertical-align: middle;\n",
       "    }\n",
       "\n",
       "    .dataframe tbody tr th {\n",
       "        vertical-align: top;\n",
       "    }\n",
       "\n",
       "    .dataframe thead th {\n",
       "        text-align: right;\n",
       "    }\n",
       "</style>\n",
       "<table border=\"1\" class=\"dataframe\">\n",
       "  <thead>\n",
       "    <tr style=\"text-align: right;\">\n",
       "      <th></th>\n",
       "      <th>area_type</th>\n",
       "      <th>location</th>\n",
       "      <th>size</th>\n",
       "      <th>total_sqft</th>\n",
       "      <th>bath</th>\n",
       "      <th>balcony</th>\n",
       "      <th>price</th>\n",
       "    </tr>\n",
       "  </thead>\n",
       "  <tbody>\n",
       "    <tr>\n",
       "      <th>10838</th>\n",
       "      <td>Built-up  Area</td>\n",
       "      <td>6th Phase JP Nagar</td>\n",
       "      <td>1</td>\n",
       "      <td>750.0</td>\n",
       "      <td>1.0</td>\n",
       "      <td>1.0</td>\n",
       "      <td>105.00</td>\n",
       "    </tr>\n",
       "    <tr>\n",
       "      <th>5140</th>\n",
       "      <td>Super built-up  Area</td>\n",
       "      <td>Mysore Road</td>\n",
       "      <td>2</td>\n",
       "      <td>1070.0</td>\n",
       "      <td>2.0</td>\n",
       "      <td>1.0</td>\n",
       "      <td>49.65</td>\n",
       "    </tr>\n",
       "    <tr>\n",
       "      <th>11192</th>\n",
       "      <td>Plot  Area</td>\n",
       "      <td>Raja Rajeshwari Nagar</td>\n",
       "      <td>4</td>\n",
       "      <td>1560.0</td>\n",
       "      <td>4.0</td>\n",
       "      <td>1.0</td>\n",
       "      <td>160.00</td>\n",
       "    </tr>\n",
       "    <tr>\n",
       "      <th>5467</th>\n",
       "      <td>Super built-up  Area</td>\n",
       "      <td>other</td>\n",
       "      <td>3</td>\n",
       "      <td>2250.0</td>\n",
       "      <td>3.0</td>\n",
       "      <td>1.0</td>\n",
       "      <td>113.00</td>\n",
       "    </tr>\n",
       "    <tr>\n",
       "      <th>3791</th>\n",
       "      <td>Super built-up  Area</td>\n",
       "      <td>Raja Rajeshwari Nagar</td>\n",
       "      <td>3</td>\n",
       "      <td>1530.0</td>\n",
       "      <td>3.0</td>\n",
       "      <td>3.0</td>\n",
       "      <td>51.77</td>\n",
       "    </tr>\n",
       "  </tbody>\n",
       "</table>\n",
       "</div>"
      ],
      "text/plain": [
       "                  area_type               location  size  total_sqft  bath  \\\n",
       "10838        Built-up  Area     6th Phase JP Nagar     1       750.0   1.0   \n",
       "5140   Super built-up  Area            Mysore Road     2      1070.0   2.0   \n",
       "11192            Plot  Area  Raja Rajeshwari Nagar     4      1560.0   4.0   \n",
       "5467   Super built-up  Area                  other     3      2250.0   3.0   \n",
       "3791   Super built-up  Area  Raja Rajeshwari Nagar     3      1530.0   3.0   \n",
       "\n",
       "       balcony   price  \n",
       "10838      1.0  105.00  \n",
       "5140       1.0   49.65  \n",
       "11192      1.0  160.00  \n",
       "5467       1.0  113.00  \n",
       "3791       3.0   51.77  "
      ]
     },
     "execution_count": 26,
     "metadata": {},
     "output_type": "execute_result"
    }
   ],
   "source": [
    "df.sample(5)"
   ]
  },
  {
   "cell_type": "code",
   "execution_count": 27,
   "id": "a28911d5-b58e-46a9-a398-1e12be63f1a6",
   "metadata": {},
   "outputs": [
    {
     "name": "stderr",
     "output_type": "stream",
     "text": [
      "C:\\Users\\hp\\AppData\\Local\\Temp\\ipykernel_3160\\2261337584.py:1: SettingWithCopyWarning: \n",
      "A value is trying to be set on a copy of a slice from a DataFrame.\n",
      "Try using .loc[row_indexer,col_indexer] = value instead\n",
      "\n",
      "See the caveats in the documentation: https://pandas.pydata.org/pandas-docs/stable/user_guide/indexing.html#returning-a-view-versus-a-copy\n",
      "  df['price_per_sqft']=(df['price']*100000)/df['total_sqft']\n"
     ]
    }
   ],
   "source": [
    "df['price_per_sqft']=(df['price']*100000)/df['total_sqft']"
   ]
  },
  {
   "cell_type": "code",
   "execution_count": 28,
   "id": "270e7074-4aaf-448a-a587-380497d7540b",
   "metadata": {},
   "outputs": [
    {
     "data": {
      "text/html": [
       "<div>\n",
       "<style scoped>\n",
       "    .dataframe tbody tr th:only-of-type {\n",
       "        vertical-align: middle;\n",
       "    }\n",
       "\n",
       "    .dataframe tbody tr th {\n",
       "        vertical-align: top;\n",
       "    }\n",
       "\n",
       "    .dataframe thead th {\n",
       "        text-align: right;\n",
       "    }\n",
       "</style>\n",
       "<table border=\"1\" class=\"dataframe\">\n",
       "  <thead>\n",
       "    <tr style=\"text-align: right;\">\n",
       "      <th></th>\n",
       "      <th>area_type</th>\n",
       "      <th>location</th>\n",
       "      <th>size</th>\n",
       "      <th>total_sqft</th>\n",
       "      <th>bath</th>\n",
       "      <th>balcony</th>\n",
       "      <th>price</th>\n",
       "      <th>price_per_sqft</th>\n",
       "    </tr>\n",
       "  </thead>\n",
       "  <tbody>\n",
       "    <tr>\n",
       "      <th>6584</th>\n",
       "      <td>Super built-up  Area</td>\n",
       "      <td>Bisuvanahalli</td>\n",
       "      <td>3</td>\n",
       "      <td>1075.0</td>\n",
       "      <td>2.0</td>\n",
       "      <td>1.0</td>\n",
       "      <td>41.00</td>\n",
       "      <td>3813.953488</td>\n",
       "    </tr>\n",
       "    <tr>\n",
       "      <th>352</th>\n",
       "      <td>Carpet  Area</td>\n",
       "      <td>other</td>\n",
       "      <td>3</td>\n",
       "      <td>1592.0</td>\n",
       "      <td>3.0</td>\n",
       "      <td>2.0</td>\n",
       "      <td>75.00</td>\n",
       "      <td>4711.055276</td>\n",
       "    </tr>\n",
       "    <tr>\n",
       "      <th>1855</th>\n",
       "      <td>Super built-up  Area</td>\n",
       "      <td>other</td>\n",
       "      <td>4</td>\n",
       "      <td>3675.0</td>\n",
       "      <td>4.0</td>\n",
       "      <td>3.0</td>\n",
       "      <td>367.00</td>\n",
       "      <td>9986.394558</td>\n",
       "    </tr>\n",
       "    <tr>\n",
       "      <th>6600</th>\n",
       "      <td>Built-up  Area</td>\n",
       "      <td>other</td>\n",
       "      <td>8</td>\n",
       "      <td>2500.0</td>\n",
       "      <td>8.0</td>\n",
       "      <td>3.0</td>\n",
       "      <td>95.00</td>\n",
       "      <td>3800.000000</td>\n",
       "    </tr>\n",
       "    <tr>\n",
       "      <th>1696</th>\n",
       "      <td>Built-up  Area</td>\n",
       "      <td>other</td>\n",
       "      <td>2</td>\n",
       "      <td>1090.0</td>\n",
       "      <td>2.0</td>\n",
       "      <td>1.0</td>\n",
       "      <td>31.48</td>\n",
       "      <td>2888.073394</td>\n",
       "    </tr>\n",
       "  </tbody>\n",
       "</table>\n",
       "</div>"
      ],
      "text/plain": [
       "                 area_type       location  size  total_sqft  bath  balcony  \\\n",
       "6584  Super built-up  Area  Bisuvanahalli     3      1075.0   2.0      1.0   \n",
       "352           Carpet  Area          other     3      1592.0   3.0      2.0   \n",
       "1855  Super built-up  Area          other     4      3675.0   4.0      3.0   \n",
       "6600        Built-up  Area          other     8      2500.0   8.0      3.0   \n",
       "1696        Built-up  Area          other     2      1090.0   2.0      1.0   \n",
       "\n",
       "       price  price_per_sqft  \n",
       "6584   41.00     3813.953488  \n",
       "352    75.00     4711.055276  \n",
       "1855  367.00     9986.394558  \n",
       "6600   95.00     3800.000000  \n",
       "1696   31.48     2888.073394  "
      ]
     },
     "execution_count": 28,
     "metadata": {},
     "output_type": "execute_result"
    }
   ],
   "source": [
    "df.sample(5)"
   ]
  },
  {
   "cell_type": "code",
   "execution_count": 29,
   "id": "6b67f62b-b9f8-4b5f-b0e8-99b938a86ac6",
   "metadata": {},
   "outputs": [
    {
     "data": {
      "text/plain": [
       "2749"
      ]
     },
     "execution_count": 29,
     "metadata": {},
     "output_type": "execute_result"
    }
   ],
   "source": [
    "df[df['location']=='other']['location'].count()"
   ]
  },
  {
   "cell_type": "code",
   "execution_count": 30,
   "id": "aa40ade9-1754-48d2-bc49-683f38aff1c0",
   "metadata": {},
   "outputs": [
    {
     "data": {
      "text/plain": [
       "(12702, 8)"
      ]
     },
     "execution_count": 30,
     "metadata": {},
     "output_type": "execute_result"
    }
   ],
   "source": [
    "df.shape"
   ]
  },
  {
   "cell_type": "code",
   "execution_count": 31,
   "id": "3e567816-d959-479d-81f3-218951a425b0",
   "metadata": {},
   "outputs": [
    {
     "data": {
      "text/plain": [
       "(11703, 8)"
      ]
     },
     "execution_count": 31,
     "metadata": {},
     "output_type": "execute_result"
    }
   ],
   "source": [
    "df1=df.copy()\n",
    "df1=df1[(df1['total_sqft']/df['size'])>300]\n",
    "df1.shape"
   ]
  },
  {
   "cell_type": "code",
   "execution_count": 32,
   "id": "bcf91bcc-eed1-4075-855a-419013fc2f09",
   "metadata": {},
   "outputs": [
    {
     "data": {
      "text/plain": [
       "count     11703.000000\n",
       "mean       6135.971418\n",
       "std        3913.970287\n",
       "min         267.829813\n",
       "25%        4185.898574\n",
       "50%        5238.319962\n",
       "75%        6764.705882\n",
       "max      176470.588235\n",
       "Name: price_per_sqft, dtype: float64"
      ]
     },
     "execution_count": 32,
     "metadata": {},
     "output_type": "execute_result"
    }
   ],
   "source": [
    "df1['price_per_sqft'].describe()"
   ]
  },
  {
   "cell_type": "code",
   "execution_count": 33,
   "id": "8172bd99-1d4f-4fd1-8d06-738c3c1e4748",
   "metadata": {},
   "outputs": [],
   "source": [
    "def filtering_price_per_sqft(df):\n",
    "    final_df=pd.DataFrame()\n",
    "    for loc,subdf in df.groupby('location'):\n",
    "        m=np.mean(subdf['price_per_sqft'])\n",
    "        sd=np.std(subdf['price_per_sqft'])\n",
    "        pre_final_df=subdf[(subdf['price_per_sqft']>(m-sd)) & (subdf['price_per_sqft']<=(m+sd))]\n",
    "        final_df=pd.concat([final_df,pre_final_df],ignore_index=True)\n",
    "        \n",
    "    return final_df"
   ]
  },
  {
   "cell_type": "code",
   "execution_count": 34,
   "id": "1ad45084-6bc9-44dc-83d6-8fc1ab53a55c",
   "metadata": {},
   "outputs": [
    {
     "data": {
      "text/html": [
       "<div>\n",
       "<style scoped>\n",
       "    .dataframe tbody tr th:only-of-type {\n",
       "        vertical-align: middle;\n",
       "    }\n",
       "\n",
       "    .dataframe tbody tr th {\n",
       "        vertical-align: top;\n",
       "    }\n",
       "\n",
       "    .dataframe thead th {\n",
       "        text-align: right;\n",
       "    }\n",
       "</style>\n",
       "<table border=\"1\" class=\"dataframe\">\n",
       "  <thead>\n",
       "    <tr style=\"text-align: right;\">\n",
       "      <th></th>\n",
       "      <th>area_type</th>\n",
       "      <th>location</th>\n",
       "      <th>size</th>\n",
       "      <th>total_sqft</th>\n",
       "      <th>bath</th>\n",
       "      <th>balcony</th>\n",
       "      <th>price</th>\n",
       "      <th>price_per_sqft</th>\n",
       "    </tr>\n",
       "  </thead>\n",
       "  <tbody>\n",
       "    <tr>\n",
       "      <th>3230</th>\n",
       "      <td>Super built-up  Area</td>\n",
       "      <td>Indira Nagar</td>\n",
       "      <td>2</td>\n",
       "      <td>1145.0</td>\n",
       "      <td>2.0</td>\n",
       "      <td>2.0</td>\n",
       "      <td>100.00</td>\n",
       "      <td>8733.624454</td>\n",
       "    </tr>\n",
       "    <tr>\n",
       "      <th>1642</th>\n",
       "      <td>Super built-up  Area</td>\n",
       "      <td>Doddakallasandra</td>\n",
       "      <td>2</td>\n",
       "      <td>1010.0</td>\n",
       "      <td>2.0</td>\n",
       "      <td>1.0</td>\n",
       "      <td>40.39</td>\n",
       "      <td>3999.009901</td>\n",
       "    </tr>\n",
       "    <tr>\n",
       "      <th>8763</th>\n",
       "      <td>Built-up  Area</td>\n",
       "      <td>other</td>\n",
       "      <td>4</td>\n",
       "      <td>2200.0</td>\n",
       "      <td>3.0</td>\n",
       "      <td>0.0</td>\n",
       "      <td>115.00</td>\n",
       "      <td>5227.272727</td>\n",
       "    </tr>\n",
       "    <tr>\n",
       "      <th>7501</th>\n",
       "      <td>Super built-up  Area</td>\n",
       "      <td>other</td>\n",
       "      <td>2</td>\n",
       "      <td>1000.0</td>\n",
       "      <td>2.0</td>\n",
       "      <td>1.0</td>\n",
       "      <td>53.00</td>\n",
       "      <td>5300.000000</td>\n",
       "    </tr>\n",
       "    <tr>\n",
       "      <th>9482</th>\n",
       "      <td>Super built-up  Area</td>\n",
       "      <td>other</td>\n",
       "      <td>2</td>\n",
       "      <td>1260.0</td>\n",
       "      <td>2.0</td>\n",
       "      <td>1.0</td>\n",
       "      <td>55.00</td>\n",
       "      <td>4365.079365</td>\n",
       "    </tr>\n",
       "  </tbody>\n",
       "</table>\n",
       "</div>"
      ],
      "text/plain": [
       "                 area_type          location  size  total_sqft  bath  balcony  \\\n",
       "3230  Super built-up  Area      Indira Nagar     2      1145.0   2.0      2.0   \n",
       "1642  Super built-up  Area  Doddakallasandra     2      1010.0   2.0      1.0   \n",
       "8763        Built-up  Area             other     4      2200.0   3.0      0.0   \n",
       "7501  Super built-up  Area             other     2      1000.0   2.0      1.0   \n",
       "9482  Super built-up  Area             other     2      1260.0   2.0      1.0   \n",
       "\n",
       "       price  price_per_sqft  \n",
       "3230  100.00     8733.624454  \n",
       "1642   40.39     3999.009901  \n",
       "8763  115.00     5227.272727  \n",
       "7501   53.00     5300.000000  \n",
       "9482   55.00     4365.079365  "
      ]
     },
     "execution_count": 34,
     "metadata": {},
     "output_type": "execute_result"
    }
   ],
   "source": [
    "df1=filtering_price_per_sqft(df1)\n",
    "df1.sample(5)"
   ]
  },
  {
   "cell_type": "code",
   "execution_count": 35,
   "id": "e58d6cd5-beb8-4e44-8dc2-e724b3d93b66",
   "metadata": {},
   "outputs": [
    {
     "data": {
      "text/plain": [
       "(9569, 8)"
      ]
     },
     "execution_count": 35,
     "metadata": {},
     "output_type": "execute_result"
    }
   ],
   "source": [
    "df1.shape"
   ]
  },
  {
   "cell_type": "code",
   "execution_count": 36,
   "id": "1dd6adec-fd37-45f3-9205-e4ae3824f9c0",
   "metadata": {},
   "outputs": [],
   "source": [
    "def bhks_price_analysis(df,loc):\n",
    "    df_2bhk=df[(df['size']==2) & (df['location']==loc)]\n",
    "    df_3bhk=df[(df['size']==3) & (df['location']==loc)]\n",
    "    plt.scatter(df_2bhk['total_sqft'],df_2bhk['price_per_sqft'],label='2 BHK')\n",
    "    plt.scatter(df_3bhk['total_sqft'],df_3bhk['price_per_sqft'],label='3 BHK')\n",
    "    plt.xlabel('Total Sqft')\n",
    "    plt.ylabel('Total Price')\n",
    "    plt.title(loc)\n",
    "    plt.legend()"
   ]
  },
  {
   "cell_type": "code",
   "execution_count": 37,
   "id": "7449f117-40cd-425d-b7d4-6c8678d8a0cb",
   "metadata": {},
   "outputs": [
    {
     "data": {
      "image/png": "[encoded data removed]",
      "text/plain": [
       "<Figure size 640x480 with 1 Axes>"
      ]
     },
     "metadata": {},
     "output_type": "display_data"
    }
   ],
   "source": [
    "bhks_price_analysis(df1,\"Whitefield\")"
   ]
  },
  {
   "cell_type": "code",
   "execution_count": 38,
   "id": "a0cdce3b-e99e-48c7-ae73-f56168d4c162",
   "metadata": {},
   "outputs": [
    {
     "data": {
      "image/png": "[encoded data removed]",
      "text/plain": [
       "<Figure size 640x480 with 1 Axes>"
      ]
     },
     "metadata": {},
     "output_type": "display_data"
    }
   ],
   "source": [
    "bhks_price_analysis(df1,\"Rajaji Nagar\")"
   ]
  },
  {
   "cell_type": "code",
   "execution_count": 39,
   "id": "7b997d49-7a7d-40bf-bbb1-db2e45b5460b",
   "metadata": {},
   "outputs": [
    {
     "data": {
      "image/png": "[encoded data removed]",
      "text/plain": [
       "<Figure size 640x480 with 1 Axes>"
      ]
     },
     "metadata": {},
     "output_type": "display_data"
    }
   ],
   "source": [
    "bhks_price_analysis(df1,\"Hebbal\")"
   ]
  },
  {
   "cell_type": "code",
   "execution_count": 40,
   "id": "e8234ea4-13ce-4d3c-ac0d-46fcf4ee1c9a",
   "metadata": {},
   "outputs": [],
   "source": [
    "def price_per_sqft_outlier_remover(df):\n",
    "    eliminations=np.array([])\n",
    "    for loc,loc_df in df.groupby('location'):\n",
    "        bhk_stats=dict()\n",
    "        for bhk,bhk_df in loc_df.groupby('size'):\n",
    "            bhk_stats[bhk]={\n",
    "                'mean':np.mean(bhk_df['price_per_sqft']),\n",
    "                'count':bhk_df.shape[0]\n",
    "            }\n",
    "        \n",
    "        for bhk,bhk_df in loc_df.groupby('size'):\n",
    "            stats=bhk_stats.get(bhk-1)\n",
    "            if stats and stats['count']>5:\n",
    "                eliminations=np.append(eliminations,bhk_df[(bhk_df['price_per_sqft']<stats['mean'])].index.values)\n",
    "                \n",
    "    return df.drop(eliminations,axis=0)"
   ]
  },
  {
   "cell_type": "code",
   "execution_count": 41,
   "id": "b872e229-a4d4-4eb2-bbc1-06bff4fce110",
   "metadata": {},
   "outputs": [],
   "source": [
    "df2=price_per_sqft_outlier_remover(df1)"
   ]
  },
  {
   "cell_type": "code",
   "execution_count": 42,
   "id": "2642e300-bba2-4819-affa-746cc0b1efab",
   "metadata": {},
   "outputs": [
    {
     "data": {
      "image/png": "[encoded data removed]",
      "text/plain": [
       "<Figure size 640x480 with 1 Axes>"
      ]
     },
     "metadata": {},
     "output_type": "display_data"
    }
   ],
   "source": [
    "bhks_price_analysis(df2,\"Whitefield\")"
   ]
  },
  {
   "cell_type": "code",
   "execution_count": 43,
   "id": "2fed2eaf-d005-4f93-adc4-99bb9c0ab5f1",
   "metadata": {},
   "outputs": [
    {
     "data": {
      "image/png": "[encoded data removed]",
      "text/plain": [
       "<Figure size 640x480 with 1 Axes>"
      ]
     },
     "metadata": {},
     "output_type": "display_data"
    }
   ],
   "source": [
    "bhks_price_analysis(df2,\"Rajaji Nagar\")"
   ]
  },
  {
   "cell_type": "code",
   "execution_count": 44,
   "id": "eda9a3d5-a671-478f-9727-f5a07054103d",
   "metadata": {},
   "outputs": [
    {
     "data": {
      "image/png": "[encoded data removed]",
      "text/plain": [
       "<Figure size 640x480 with 1 Axes>"
      ]
     },
     "metadata": {},
     "output_type": "display_data"
    }
   ],
   "source": [
    "bhks_price_analysis(df2,\"Hebbal\")"
   ]
  },
  {
   "cell_type": "code",
   "execution_count": 45,
   "id": "7644e8f3-fcd9-4ab6-906f-9d91020687bc",
   "metadata": {},
   "outputs": [
    {
     "data": {
      "text/plain": [
       "(6803, 8)"
      ]
     },
     "execution_count": 45,
     "metadata": {},
     "output_type": "execute_result"
    }
   ],
   "source": [
    "df2.shape"
   ]
  },
  {
   "cell_type": "code",
   "execution_count": 46,
   "id": "39ea00b4-e598-4c43-8694-500e4934176e",
   "metadata": {},
   "outputs": [
    {
     "data": {
      "text/html": [
       "<div>\n",
       "<style scoped>\n",
       "    .dataframe tbody tr th:only-of-type {\n",
       "        vertical-align: middle;\n",
       "    }\n",
       "\n",
       "    .dataframe tbody tr th {\n",
       "        vertical-align: top;\n",
       "    }\n",
       "\n",
       "    .dataframe thead th {\n",
       "        text-align: right;\n",
       "    }\n",
       "</style>\n",
       "<table border=\"1\" class=\"dataframe\">\n",
       "  <thead>\n",
       "    <tr style=\"text-align: right;\">\n",
       "      <th></th>\n",
       "      <th>area_type</th>\n",
       "      <th>location</th>\n",
       "      <th>size</th>\n",
       "      <th>total_sqft</th>\n",
       "      <th>bath</th>\n",
       "      <th>balcony</th>\n",
       "      <th>price</th>\n",
       "      <th>price_per_sqft</th>\n",
       "    </tr>\n",
       "  </thead>\n",
       "  <tbody>\n",
       "    <tr>\n",
       "      <th>1489</th>\n",
       "      <td>Built-up  Area</td>\n",
       "      <td>Chikkabanavar</td>\n",
       "      <td>4</td>\n",
       "      <td>2460.0</td>\n",
       "      <td>7.0</td>\n",
       "      <td>2.0</td>\n",
       "      <td>80.0</td>\n",
       "      <td>3252.032520</td>\n",
       "    </tr>\n",
       "    <tr>\n",
       "      <th>6261</th>\n",
       "      <td>Super built-up  Area</td>\n",
       "      <td>Thanisandra</td>\n",
       "      <td>3</td>\n",
       "      <td>1806.0</td>\n",
       "      <td>6.0</td>\n",
       "      <td>2.0</td>\n",
       "      <td>116.0</td>\n",
       "      <td>6423.034330</td>\n",
       "    </tr>\n",
       "    <tr>\n",
       "      <th>7852</th>\n",
       "      <td>Super built-up  Area</td>\n",
       "      <td>other</td>\n",
       "      <td>6</td>\n",
       "      <td>11338.0</td>\n",
       "      <td>9.0</td>\n",
       "      <td>1.0</td>\n",
       "      <td>1000.0</td>\n",
       "      <td>8819.897689</td>\n",
       "    </tr>\n",
       "  </tbody>\n",
       "</table>\n",
       "</div>"
      ],
      "text/plain": [
       "                 area_type       location  size  total_sqft  bath  balcony  \\\n",
       "1489        Built-up  Area  Chikkabanavar     4      2460.0   7.0      2.0   \n",
       "6261  Super built-up  Area    Thanisandra     3      1806.0   6.0      2.0   \n",
       "7852  Super built-up  Area          other     6     11338.0   9.0      1.0   \n",
       "\n",
       "       price  price_per_sqft  \n",
       "1489    80.0     3252.032520  \n",
       "6261   116.0     6423.034330  \n",
       "7852  1000.0     8819.897689  "
      ]
     },
     "execution_count": 46,
     "metadata": {},
     "output_type": "execute_result"
    }
   ],
   "source": [
    "df2[df2['bath']>df2['size']+2]"
   ]
  },
  {
   "cell_type": "code",
   "execution_count": 47,
   "id": "f686b438-2cc0-42e9-b7c5-c27d4a7bd6ba",
   "metadata": {},
   "outputs": [
    {
     "data": {
      "text/html": [
       "<div>\n",
       "<style scoped>\n",
       "    .dataframe tbody tr th:only-of-type {\n",
       "        vertical-align: middle;\n",
       "    }\n",
       "\n",
       "    .dataframe tbody tr th {\n",
       "        vertical-align: top;\n",
       "    }\n",
       "\n",
       "    .dataframe thead th {\n",
       "        text-align: right;\n",
       "    }\n",
       "</style>\n",
       "<table border=\"1\" class=\"dataframe\">\n",
       "  <thead>\n",
       "    <tr style=\"text-align: right;\">\n",
       "      <th></th>\n",
       "      <th>area_type</th>\n",
       "      <th>location</th>\n",
       "      <th>size</th>\n",
       "      <th>total_sqft</th>\n",
       "      <th>bath</th>\n",
       "      <th>balcony</th>\n",
       "      <th>price</th>\n",
       "      <th>price_per_sqft</th>\n",
       "    </tr>\n",
       "  </thead>\n",
       "  <tbody>\n",
       "    <tr>\n",
       "      <th>2459</th>\n",
       "      <td>Super built-up  Area</td>\n",
       "      <td>Haralur Road</td>\n",
       "      <td>3</td>\n",
       "      <td>1520.0</td>\n",
       "      <td>2.0</td>\n",
       "      <td>2.0</td>\n",
       "      <td>85.0</td>\n",
       "      <td>5592.105263</td>\n",
       "    </tr>\n",
       "    <tr>\n",
       "      <th>2888</th>\n",
       "      <td>Super built-up  Area</td>\n",
       "      <td>Hennur Road</td>\n",
       "      <td>2</td>\n",
       "      <td>1232.0</td>\n",
       "      <td>2.0</td>\n",
       "      <td>1.0</td>\n",
       "      <td>80.0</td>\n",
       "      <td>6493.506494</td>\n",
       "    </tr>\n",
       "    <tr>\n",
       "      <th>8362</th>\n",
       "      <td>Plot  Area</td>\n",
       "      <td>other</td>\n",
       "      <td>3</td>\n",
       "      <td>1365.0</td>\n",
       "      <td>3.0</td>\n",
       "      <td>0.0</td>\n",
       "      <td>99.0</td>\n",
       "      <td>7252.747253</td>\n",
       "    </tr>\n",
       "    <tr>\n",
       "      <th>1703</th>\n",
       "      <td>Super built-up  Area</td>\n",
       "      <td>EPIP Zone</td>\n",
       "      <td>2</td>\n",
       "      <td>1285.0</td>\n",
       "      <td>2.0</td>\n",
       "      <td>2.0</td>\n",
       "      <td>82.0</td>\n",
       "      <td>6381.322957</td>\n",
       "    </tr>\n",
       "    <tr>\n",
       "      <th>2926</th>\n",
       "      <td>Super built-up  Area</td>\n",
       "      <td>Hoodi</td>\n",
       "      <td>2</td>\n",
       "      <td>1305.0</td>\n",
       "      <td>2.0</td>\n",
       "      <td>1.0</td>\n",
       "      <td>75.0</td>\n",
       "      <td>5747.126437</td>\n",
       "    </tr>\n",
       "  </tbody>\n",
       "</table>\n",
       "</div>"
      ],
      "text/plain": [
       "                 area_type      location  size  total_sqft  bath  balcony  \\\n",
       "2459  Super built-up  Area  Haralur Road     3      1520.0   2.0      2.0   \n",
       "2888  Super built-up  Area   Hennur Road     2      1232.0   2.0      1.0   \n",
       "8362            Plot  Area         other     3      1365.0   3.0      0.0   \n",
       "1703  Super built-up  Area     EPIP Zone     2      1285.0   2.0      2.0   \n",
       "2926  Super built-up  Area         Hoodi     2      1305.0   2.0      1.0   \n",
       "\n",
       "      price  price_per_sqft  \n",
       "2459   85.0     5592.105263  \n",
       "2888   80.0     6493.506494  \n",
       "8362   99.0     7252.747253  \n",
       "1703   82.0     6381.322957  \n",
       "2926   75.0     5747.126437  "
      ]
     },
     "execution_count": 47,
     "metadata": {},
     "output_type": "execute_result"
    }
   ],
   "source": [
    "df2=df2[df2['bath']<=df2['size']+2]\n",
    "df2.sample(5)"
   ]
  },
  {
   "cell_type": "code",
   "execution_count": 48,
   "id": "491f3841-8852-4577-9e68-b64edbf51384",
   "metadata": {},
   "outputs": [
    {
     "data": {
      "text/plain": [
       "(6800, 8)"
      ]
     },
     "execution_count": 48,
     "metadata": {},
     "output_type": "execute_result"
    }
   ],
   "source": [
    "df2.shape"
   ]
  },
  {
   "cell_type": "code",
   "execution_count": 49,
   "id": "32dc17e3-7586-4958-8bec-ac6c692ee043",
   "metadata": {},
   "outputs": [
    {
     "data": {
      "text/html": [
       "<div>\n",
       "<style scoped>\n",
       "    .dataframe tbody tr th:only-of-type {\n",
       "        vertical-align: middle;\n",
       "    }\n",
       "\n",
       "    .dataframe tbody tr th {\n",
       "        vertical-align: top;\n",
       "    }\n",
       "\n",
       "    .dataframe thead th {\n",
       "        text-align: right;\n",
       "    }\n",
       "</style>\n",
       "<table border=\"1\" class=\"dataframe\">\n",
       "  <thead>\n",
       "    <tr style=\"text-align: right;\">\n",
       "      <th></th>\n",
       "      <th>location</th>\n",
       "      <th>size</th>\n",
       "      <th>total_sqft</th>\n",
       "      <th>bath</th>\n",
       "      <th>balcony</th>\n",
       "      <th>price</th>\n",
       "      <th>price_per_sqft</th>\n",
       "    </tr>\n",
       "  </thead>\n",
       "  <tbody>\n",
       "    <tr>\n",
       "      <th>1</th>\n",
       "      <td>Devarachikkanahalli</td>\n",
       "      <td>2</td>\n",
       "      <td>1250.0</td>\n",
       "      <td>2.0</td>\n",
       "      <td>2.0</td>\n",
       "      <td>40.0</td>\n",
       "      <td>3200.000000</td>\n",
       "    </tr>\n",
       "    <tr>\n",
       "      <th>2</th>\n",
       "      <td>Devarachikkanahalli</td>\n",
       "      <td>2</td>\n",
       "      <td>1200.0</td>\n",
       "      <td>2.0</td>\n",
       "      <td>2.0</td>\n",
       "      <td>83.0</td>\n",
       "      <td>6916.666667</td>\n",
       "    </tr>\n",
       "    <tr>\n",
       "      <th>3</th>\n",
       "      <td>Devarachikkanahalli</td>\n",
       "      <td>2</td>\n",
       "      <td>1170.0</td>\n",
       "      <td>2.0</td>\n",
       "      <td>2.0</td>\n",
       "      <td>40.0</td>\n",
       "      <td>3418.803419</td>\n",
       "    </tr>\n",
       "    <tr>\n",
       "      <th>4</th>\n",
       "      <td>Devarachikkanahalli</td>\n",
       "      <td>3</td>\n",
       "      <td>1425.0</td>\n",
       "      <td>2.0</td>\n",
       "      <td>2.0</td>\n",
       "      <td>65.0</td>\n",
       "      <td>4561.403509</td>\n",
       "    </tr>\n",
       "    <tr>\n",
       "      <th>5</th>\n",
       "      <td>Devarachikkanahalli</td>\n",
       "      <td>2</td>\n",
       "      <td>947.0</td>\n",
       "      <td>2.0</td>\n",
       "      <td>2.0</td>\n",
       "      <td>43.0</td>\n",
       "      <td>4540.654699</td>\n",
       "    </tr>\n",
       "  </tbody>\n",
       "</table>\n",
       "</div>"
      ],
      "text/plain": [
       "               location  size  total_sqft  bath  balcony  price  \\\n",
       "1   Devarachikkanahalli     2      1250.0   2.0      2.0   40.0   \n",
       "2   Devarachikkanahalli     2      1200.0   2.0      2.0   83.0   \n",
       "3   Devarachikkanahalli     2      1170.0   2.0      2.0   40.0   \n",
       "4   Devarachikkanahalli     3      1425.0   2.0      2.0   65.0   \n",
       "5   Devarachikkanahalli     2       947.0   2.0      2.0   43.0   \n",
       "\n",
       "   price_per_sqft  \n",
       "1     3200.000000  \n",
       "2     6916.666667  \n",
       "3     3418.803419  \n",
       "4     4561.403509  \n",
       "5     4540.654699  "
      ]
     },
     "execution_count": 49,
     "metadata": {},
     "output_type": "execute_result"
    }
   ],
   "source": [
    "df2=df2.drop('area_type',axis=1)\n",
    "df2.head()"
   ]
  },
  {
   "cell_type": "code",
   "execution_count": 50,
   "id": "73886a94-e1d1-432f-9ca3-92d371c3192b",
   "metadata": {},
   "outputs": [],
   "source": [
    "def strip_function(string):\n",
    "    string=string.strip()\n",
    "    return string"
   ]
  },
  {
   "cell_type": "code",
   "execution_count": 51,
   "id": "679a2043-d121-4122-baf4-69c3d4f3aeac",
   "metadata": {},
   "outputs": [],
   "source": [
    "df2['location']=df2['location'].apply(strip_function)"
   ]
  },
  {
   "cell_type": "code",
   "execution_count": 52,
   "id": "72f788f4-aa83-450c-8b57-b3d95658f16c",
   "metadata": {},
   "outputs": [
    {
     "data": {
      "text/html": [
       "<div>\n",
       "<style scoped>\n",
       "    .dataframe tbody tr th:only-of-type {\n",
       "        vertical-align: middle;\n",
       "    }\n",
       "\n",
       "    .dataframe tbody tr th {\n",
       "        vertical-align: top;\n",
       "    }\n",
       "\n",
       "    .dataframe thead th {\n",
       "        text-align: right;\n",
       "    }\n",
       "</style>\n",
       "<table border=\"1\" class=\"dataframe\">\n",
       "  <thead>\n",
       "    <tr style=\"text-align: right;\">\n",
       "      <th></th>\n",
       "      <th>location</th>\n",
       "      <th>size</th>\n",
       "      <th>total_sqft</th>\n",
       "      <th>bath</th>\n",
       "      <th>balcony</th>\n",
       "      <th>price</th>\n",
       "      <th>price_per_sqft</th>\n",
       "    </tr>\n",
       "  </thead>\n",
       "  <tbody>\n",
       "    <tr>\n",
       "      <th>1</th>\n",
       "      <td>Devarachikkanahalli</td>\n",
       "      <td>2</td>\n",
       "      <td>1250.0</td>\n",
       "      <td>2.0</td>\n",
       "      <td>2.0</td>\n",
       "      <td>40.0</td>\n",
       "      <td>3200.000000</td>\n",
       "    </tr>\n",
       "    <tr>\n",
       "      <th>2</th>\n",
       "      <td>Devarachikkanahalli</td>\n",
       "      <td>2</td>\n",
       "      <td>1200.0</td>\n",
       "      <td>2.0</td>\n",
       "      <td>2.0</td>\n",
       "      <td>83.0</td>\n",
       "      <td>6916.666667</td>\n",
       "    </tr>\n",
       "    <tr>\n",
       "      <th>3</th>\n",
       "      <td>Devarachikkanahalli</td>\n",
       "      <td>2</td>\n",
       "      <td>1170.0</td>\n",
       "      <td>2.0</td>\n",
       "      <td>2.0</td>\n",
       "      <td>40.0</td>\n",
       "      <td>3418.803419</td>\n",
       "    </tr>\n",
       "    <tr>\n",
       "      <th>4</th>\n",
       "      <td>Devarachikkanahalli</td>\n",
       "      <td>3</td>\n",
       "      <td>1425.0</td>\n",
       "      <td>2.0</td>\n",
       "      <td>2.0</td>\n",
       "      <td>65.0</td>\n",
       "      <td>4561.403509</td>\n",
       "    </tr>\n",
       "    <tr>\n",
       "      <th>5</th>\n",
       "      <td>Devarachikkanahalli</td>\n",
       "      <td>2</td>\n",
       "      <td>947.0</td>\n",
       "      <td>2.0</td>\n",
       "      <td>2.0</td>\n",
       "      <td>43.0</td>\n",
       "      <td>4540.654699</td>\n",
       "    </tr>\n",
       "  </tbody>\n",
       "</table>\n",
       "</div>"
      ],
      "text/plain": [
       "              location  size  total_sqft  bath  balcony  price  price_per_sqft\n",
       "1  Devarachikkanahalli     2      1250.0   2.0      2.0   40.0     3200.000000\n",
       "2  Devarachikkanahalli     2      1200.0   2.0      2.0   83.0     6916.666667\n",
       "3  Devarachikkanahalli     2      1170.0   2.0      2.0   40.0     3418.803419\n",
       "4  Devarachikkanahalli     3      1425.0   2.0      2.0   65.0     4561.403509\n",
       "5  Devarachikkanahalli     2       947.0   2.0      2.0   43.0     4540.654699"
      ]
     },
     "execution_count": 52,
     "metadata": {},
     "output_type": "execute_result"
    }
   ],
   "source": [
    "df2.head()"
   ]
  },
  {
   "cell_type": "code",
   "execution_count": 53,
   "id": "3ac98ea0-862b-4749-802e-fd5076e86a24",
   "metadata": {},
   "outputs": [
    {
     "data": {
      "text/plain": [
       "location          0\n",
       "size              0\n",
       "total_sqft        0\n",
       "bath              0\n",
       "balcony           0\n",
       "price             0\n",
       "price_per_sqft    0\n",
       "dtype: int64"
      ]
     },
     "execution_count": 53,
     "metadata": {},
     "output_type": "execute_result"
    }
   ],
   "source": [
    "df2.isnull().sum()"
   ]
  },
  {
   "cell_type": "code",
   "execution_count": 54,
   "id": "03b3fa0f-e7f5-430a-abdd-6e404843c38d",
   "metadata": {},
   "outputs": [],
   "source": [
    "le=LabelEncoder()"
   ]
  },
  {
   "cell_type": "code",
   "execution_count": 55,
   "id": "0cc67725-3757-4cbd-9fd0-f9780ac4d7d0",
   "metadata": {},
   "outputs": [
    {
     "data": {
      "text/html": [
       "<div>\n",
       "<style scoped>\n",
       "    .dataframe tbody tr th:only-of-type {\n",
       "        vertical-align: middle;\n",
       "    }\n",
       "\n",
       "    .dataframe tbody tr th {\n",
       "        vertical-align: top;\n",
       "    }\n",
       "\n",
       "    .dataframe thead th {\n",
       "        text-align: right;\n",
       "    }\n",
       "</style>\n",
       "<table border=\"1\" class=\"dataframe\">\n",
       "  <thead>\n",
       "    <tr style=\"text-align: right;\">\n",
       "      <th></th>\n",
       "      <th>location</th>\n",
       "      <th>size</th>\n",
       "      <th>total_sqft</th>\n",
       "      <th>bath</th>\n",
       "      <th>balcony</th>\n",
       "      <th>price</th>\n",
       "      <th>price_per_sqft</th>\n",
       "      <th>loc</th>\n",
       "    </tr>\n",
       "  </thead>\n",
       "  <tbody>\n",
       "    <tr>\n",
       "      <th>1</th>\n",
       "      <td>Devarachikkanahalli</td>\n",
       "      <td>2</td>\n",
       "      <td>1250.0</td>\n",
       "      <td>2.0</td>\n",
       "      <td>2.0</td>\n",
       "      <td>40.0</td>\n",
       "      <td>3200.000000</td>\n",
       "      <td>69</td>\n",
       "    </tr>\n",
       "    <tr>\n",
       "      <th>2</th>\n",
       "      <td>Devarachikkanahalli</td>\n",
       "      <td>2</td>\n",
       "      <td>1200.0</td>\n",
       "      <td>2.0</td>\n",
       "      <td>2.0</td>\n",
       "      <td>83.0</td>\n",
       "      <td>6916.666667</td>\n",
       "      <td>69</td>\n",
       "    </tr>\n",
       "    <tr>\n",
       "      <th>3</th>\n",
       "      <td>Devarachikkanahalli</td>\n",
       "      <td>2</td>\n",
       "      <td>1170.0</td>\n",
       "      <td>2.0</td>\n",
       "      <td>2.0</td>\n",
       "      <td>40.0</td>\n",
       "      <td>3418.803419</td>\n",
       "      <td>69</td>\n",
       "    </tr>\n",
       "    <tr>\n",
       "      <th>4</th>\n",
       "      <td>Devarachikkanahalli</td>\n",
       "      <td>3</td>\n",
       "      <td>1425.0</td>\n",
       "      <td>2.0</td>\n",
       "      <td>2.0</td>\n",
       "      <td>65.0</td>\n",
       "      <td>4561.403509</td>\n",
       "      <td>69</td>\n",
       "    </tr>\n",
       "    <tr>\n",
       "      <th>5</th>\n",
       "      <td>Devarachikkanahalli</td>\n",
       "      <td>2</td>\n",
       "      <td>947.0</td>\n",
       "      <td>2.0</td>\n",
       "      <td>2.0</td>\n",
       "      <td>43.0</td>\n",
       "      <td>4540.654699</td>\n",
       "      <td>69</td>\n",
       "    </tr>\n",
       "  </tbody>\n",
       "</table>\n",
       "</div>"
      ],
      "text/plain": [
       "              location  size  total_sqft  bath  balcony  price  \\\n",
       "1  Devarachikkanahalli     2      1250.0   2.0      2.0   40.0   \n",
       "2  Devarachikkanahalli     2      1200.0   2.0      2.0   83.0   \n",
       "3  Devarachikkanahalli     2      1170.0   2.0      2.0   40.0   \n",
       "4  Devarachikkanahalli     3      1425.0   2.0      2.0   65.0   \n",
       "5  Devarachikkanahalli     2       947.0   2.0      2.0   43.0   \n",
       "\n",
       "   price_per_sqft  loc  \n",
       "1     3200.000000   69  \n",
       "2     6916.666667   69  \n",
       "3     3418.803419   69  \n",
       "4     4561.403509   69  \n",
       "5     4540.654699   69  "
      ]
     },
     "execution_count": 55,
     "metadata": {},
     "output_type": "execute_result"
    }
   ],
   "source": [
    "df2['loc']=le.fit_transform(df2['location'])\n",
    "df2.head()"
   ]
  },
  {
   "cell_type": "code",
   "execution_count": 56,
   "id": "994978b0-3512-44c1-ba82-062afb23326d",
   "metadata": {},
   "outputs": [
    {
     "data": {
      "text/plain": [
       "238"
      ]
     },
     "execution_count": 56,
     "metadata": {},
     "output_type": "execute_result"
    }
   ],
   "source": [
    "df2['location'].nunique()"
   ]
  },
  {
   "cell_type": "code",
   "execution_count": 57,
   "id": "446c18a3-ffec-42b2-93f5-4de46c17684d",
   "metadata": {},
   "outputs": [
    {
     "data": {
      "text/plain": [
       "238"
      ]
     },
     "execution_count": 57,
     "metadata": {},
     "output_type": "execute_result"
    }
   ],
   "source": [
    "df2['loc'].nunique()"
   ]
  },
  {
   "cell_type": "code",
   "execution_count": 58,
   "id": "3c1c4d22-3500-4a48-ba63-1390cd076cfd",
   "metadata": {},
   "outputs": [],
   "source": [
    "le_converter=dict()"
   ]
  },
  {
   "cell_type": "code",
   "execution_count": 59,
   "id": "f71261d0-ec68-42fa-95f1-accec5567dea",
   "metadata": {},
   "outputs": [],
   "source": [
    "for location,subdf in df2.groupby('location'):\n",
    "    if location not in le_converter.keys():\n",
    "        dfx=subdf.iloc[0]\n",
    "        dfx=dfx['loc']\n",
    "        le_converter[location]=dfx"
   ]
  },
  {
   "cell_type": "code",
   "execution_count": 60,
   "id": "4ed4841d-4f1a-44a6-8035-107f3c1dbdb5",
   "metadata": {},
   "outputs": [
    {
     "data": {
      "text/plain": [
       "{'1st Block Jayanagar': 0,\n",
       " '1st Phase JP Nagar': 1,\n",
       " '2nd Phase Judicial Layout': 2,\n",
       " '2nd Stage Nagarbhavi': 3,\n",
       " '5th Phase JP Nagar': 4,\n",
       " '6th Phase JP Nagar': 5,\n",
       " '7th Phase JP Nagar': 6,\n",
       " '8th Phase JP Nagar': 7,\n",
       " '9th Phase JP Nagar': 8,\n",
       " 'AECS Layout': 9,\n",
       " 'Abbigere': 10,\n",
       " 'Akshaya Nagar': 11,\n",
       " 'Ambalipura': 12,\n",
       " 'Ambedkar Nagar': 13,\n",
       " 'Amruthahalli': 14,\n",
       " 'Anandapura': 15,\n",
       " 'Ananth Nagar': 16,\n",
       " 'Anekal': 17,\n",
       " 'Anjanapura': 18,\n",
       " 'Ardendale': 19,\n",
       " 'Arekere': 20,\n",
       " 'Attibele': 21,\n",
       " 'BEML Layout': 22,\n",
       " 'BTM 2nd Stage': 23,\n",
       " 'BTM Layout': 24,\n",
       " 'Babusapalaya': 25,\n",
       " 'Badavala Nagar': 26,\n",
       " 'Balagere': 27,\n",
       " 'Banashankari': 28,\n",
       " 'Banashankari Stage II': 29,\n",
       " 'Banashankari Stage III': 30,\n",
       " 'Banashankari Stage V': 31,\n",
       " 'Banashankari Stage VI': 32,\n",
       " 'Banaswadi': 33,\n",
       " 'Banjara Layout': 34,\n",
       " 'Bannerghatta': 35,\n",
       " 'Bannerghatta Road': 36,\n",
       " 'Basavangudi': 37,\n",
       " 'Basaveshwara Nagar': 38,\n",
       " 'Battarahalli': 39,\n",
       " 'Begur': 40,\n",
       " 'Begur Road': 41,\n",
       " 'Bellandur': 42,\n",
       " 'Benson Town': 43,\n",
       " 'Bharathi Nagar': 44,\n",
       " 'Bhoganhalli': 45,\n",
       " 'Billekahalli': 46,\n",
       " 'Binny Pete': 47,\n",
       " 'Bisuvanahalli': 48,\n",
       " 'Bommanahalli': 49,\n",
       " 'Bommasandra': 50,\n",
       " 'Bommasandra Industrial Area': 51,\n",
       " 'Bommenahalli': 52,\n",
       " 'Brookefield': 53,\n",
       " 'Budigere': 54,\n",
       " 'CV Raman Nagar': 55,\n",
       " 'Chamrajpet': 56,\n",
       " 'Chandapura': 57,\n",
       " 'Channasandra': 58,\n",
       " 'Chikka Tirupathi': 59,\n",
       " 'Chikkabanavar': 60,\n",
       " 'Chikkalasandra': 61,\n",
       " 'Choodasandra': 62,\n",
       " 'Cooke Town': 63,\n",
       " 'Cox Town': 64,\n",
       " 'Cunningham Road': 65,\n",
       " 'Dasanapura': 66,\n",
       " 'Dasarahalli': 67,\n",
       " 'Devanahalli': 68,\n",
       " 'Devarachikkanahalli': 69,\n",
       " 'Dodda Nekkundi': 70,\n",
       " 'Doddaballapur': 71,\n",
       " 'Doddakallasandra': 72,\n",
       " 'Doddathoguru': 73,\n",
       " 'Domlur': 74,\n",
       " 'Dommasandra': 75,\n",
       " 'EPIP Zone': 76,\n",
       " 'Electronic City': 77,\n",
       " 'Electronic City Phase II': 78,\n",
       " 'Electronics City Phase 1': 79,\n",
       " 'Frazer Town': 80,\n",
       " 'GM Palaya': 81,\n",
       " 'Garudachar Palya': 82,\n",
       " 'Giri Nagar': 83,\n",
       " 'Gollarapalya Hosahalli': 84,\n",
       " 'Gottigere': 85,\n",
       " 'Green Glen Layout': 86,\n",
       " 'Gubbalala': 87,\n",
       " 'Gunjur': 88,\n",
       " 'HBR Layout': 89,\n",
       " 'HRBR Layout': 90,\n",
       " 'HSR Layout': 91,\n",
       " 'Haralur Road': 92,\n",
       " 'Harlur': 93,\n",
       " 'Hebbal': 94,\n",
       " 'Hebbal Kempapura': 95,\n",
       " 'Hegde Nagar': 96,\n",
       " 'Hennur': 97,\n",
       " 'Hennur Road': 98,\n",
       " 'Hoodi': 99,\n",
       " 'Horamavu Agara': 100,\n",
       " 'Horamavu Banaswadi': 101,\n",
       " 'Hormavu': 102,\n",
       " 'Hosa Road': 103,\n",
       " 'Hosakerehalli': 104,\n",
       " 'Hoskote': 105,\n",
       " 'Hosur Road': 106,\n",
       " 'Hulimavu': 107,\n",
       " 'ISRO Layout': 108,\n",
       " 'ITPL': 109,\n",
       " 'Iblur Village': 110,\n",
       " 'Indira Nagar': 111,\n",
       " 'JP Nagar': 112,\n",
       " 'Jakkur': 113,\n",
       " 'Jalahalli': 114,\n",
       " 'Jalahalli East': 115,\n",
       " 'Jigani': 116,\n",
       " 'Judicial Layout': 117,\n",
       " 'KR Puram': 118,\n",
       " 'Kadubeesanahalli': 119,\n",
       " 'Kadugodi': 120,\n",
       " 'Kaggadasapura': 121,\n",
       " 'Kaggalipura': 122,\n",
       " 'Kaikondrahalli': 123,\n",
       " 'Kalena Agrahara': 124,\n",
       " 'Kalyan nagar': 125,\n",
       " 'Kambipura': 126,\n",
       " 'Kammanahalli': 127,\n",
       " 'Kammasandra': 128,\n",
       " 'Kanakapura': 129,\n",
       " 'Kanakpura Road': 130,\n",
       " 'Kannamangala': 131,\n",
       " 'Karuna Nagar': 132,\n",
       " 'Kasavanhalli': 133,\n",
       " 'Kasturi Nagar': 134,\n",
       " 'Kathriguppe': 135,\n",
       " 'Kaval Byrasandra': 136,\n",
       " 'Kenchenahalli': 137,\n",
       " 'Kengeri': 138,\n",
       " 'Kengeri Satellite Town': 139,\n",
       " 'Kereguddadahalli': 140,\n",
       " 'Kodichikkanahalli': 141,\n",
       " 'Kodigehaali': 142,\n",
       " 'Kodihalli': 143,\n",
       " 'Kogilu': 144,\n",
       " 'Konanakunte': 145,\n",
       " 'Koramangala': 146,\n",
       " 'Kothannur': 147,\n",
       " 'Kothanur': 148,\n",
       " 'Kudlu': 149,\n",
       " 'Kudlu Gate': 150,\n",
       " 'Kumaraswami Layout': 151,\n",
       " 'Kundalahalli': 152,\n",
       " 'LB Shastri Nagar': 153,\n",
       " 'Laggere': 154,\n",
       " 'Lakshminarayana Pura': 155,\n",
       " 'Lingadheeranahalli': 156,\n",
       " 'Magadi Road': 157,\n",
       " 'Mahadevpura': 158,\n",
       " 'Mahalakshmi Layout': 159,\n",
       " 'Mallasandra': 160,\n",
       " 'Malleshpalya': 161,\n",
       " 'Malleshwaram': 162,\n",
       " 'Marathahalli': 163,\n",
       " 'Margondanahalli': 164,\n",
       " 'Marsur': 165,\n",
       " 'Mico Layout': 166,\n",
       " 'Munnekollal': 167,\n",
       " 'Murugeshpalya': 168,\n",
       " 'Mysore Road': 169,\n",
       " 'NGR Layout': 170,\n",
       " 'NRI Layout': 171,\n",
       " 'Nagarbhavi': 172,\n",
       " 'Nagasandra': 173,\n",
       " 'Nagavara': 174,\n",
       " 'Nagavarapalya': 175,\n",
       " 'Narayanapura': 176,\n",
       " 'Neeladri Nagar': 177,\n",
       " 'OMBR Layout': 178,\n",
       " 'Old Airport Road': 179,\n",
       " 'Old Madras Road': 180,\n",
       " 'Padmanabhanagar': 181,\n",
       " 'Pai Layout': 182,\n",
       " 'Panathur': 183,\n",
       " 'Parappana Agrahara': 184,\n",
       " 'Pattandur Agrahara': 185,\n",
       " 'Poorna Pragna Layout': 186,\n",
       " 'Prithvi Layout': 187,\n",
       " 'R.T. Nagar': 188,\n",
       " 'Rachenahalli': 189,\n",
       " 'Raja Rajeshwari Nagar': 190,\n",
       " 'Rajaji Nagar': 191,\n",
       " 'Rajiv Nagar': 192,\n",
       " 'Ramagondanahalli': 193,\n",
       " 'Ramamurthy Nagar': 194,\n",
       " 'Rayasandra': 195,\n",
       " 'Sahakara Nagar': 196,\n",
       " 'Sanjay nagar': 197,\n",
       " 'Sarakki Nagar': 198,\n",
       " 'Sarjapur': 199,\n",
       " 'Sarjapur  Road': 200,\n",
       " 'Sarjapura - Attibele Road': 201,\n",
       " 'Sector 2 HSR Layout': 202,\n",
       " 'Sector 7 HSR Layout': 203,\n",
       " 'Seegehalli': 204,\n",
       " 'Shampura': 205,\n",
       " 'Shivaji Nagar': 206,\n",
       " 'Singasandra': 207,\n",
       " 'Somasundara Palya': 208,\n",
       " 'Sompura': 209,\n",
       " 'Sonnenahalli': 210,\n",
       " 'Subramanyapura': 211,\n",
       " 'Sultan Palaya': 212,\n",
       " 'TC Palaya': 213,\n",
       " 'Talaghattapura': 214,\n",
       " 'Thanisandra': 215,\n",
       " 'Thigalarapalya': 216,\n",
       " 'Thubarahalli': 217,\n",
       " 'Thyagaraja Nagar': 218,\n",
       " 'Tindlu': 219,\n",
       " 'Tumkur Road': 220,\n",
       " 'Ulsoor': 221,\n",
       " 'Uttarahalli': 222,\n",
       " 'Varthur': 223,\n",
       " 'Varthur Road': 224,\n",
       " 'Vasanthapura': 225,\n",
       " 'Vidyaranyapura': 226,\n",
       " 'Vijayanagar': 227,\n",
       " 'Vishveshwarya Layout': 228,\n",
       " 'Vishwapriya Layout': 229,\n",
       " 'Vittasandra': 230,\n",
       " 'Whitefield': 231,\n",
       " 'Yelachenahalli': 232,\n",
       " 'Yelahanka': 233,\n",
       " 'Yelahanka New Town': 234,\n",
       " 'Yelenahalli': 235,\n",
       " 'Yeshwanthpur': 236,\n",
       " 'other': 237}"
      ]
     },
     "execution_count": 60,
     "metadata": {},
     "output_type": "execute_result"
    }
   ],
   "source": [
    "le_converter"
   ]
  },
  {
   "cell_type": "code",
   "execution_count": 61,
   "id": "f7b34a64-9267-4231-8824-e2a3824c3aca",
   "metadata": {},
   "outputs": [
    {
     "data": {
      "text/html": [
       "<div>\n",
       "<style scoped>\n",
       "    .dataframe tbody tr th:only-of-type {\n",
       "        vertical-align: middle;\n",
       "    }\n",
       "\n",
       "    .dataframe tbody tr th {\n",
       "        vertical-align: top;\n",
       "    }\n",
       "\n",
       "    .dataframe thead th {\n",
       "        text-align: right;\n",
       "    }\n",
       "</style>\n",
       "<table border=\"1\" class=\"dataframe\">\n",
       "  <thead>\n",
       "    <tr style=\"text-align: right;\">\n",
       "      <th></th>\n",
       "      <th>size</th>\n",
       "      <th>total_sqft</th>\n",
       "      <th>bath</th>\n",
       "      <th>balcony</th>\n",
       "      <th>price</th>\n",
       "      <th>loc</th>\n",
       "    </tr>\n",
       "  </thead>\n",
       "  <tbody>\n",
       "    <tr>\n",
       "      <th>1</th>\n",
       "      <td>2</td>\n",
       "      <td>1250.0</td>\n",
       "      <td>2.0</td>\n",
       "      <td>2.0</td>\n",
       "      <td>40.0</td>\n",
       "      <td>69</td>\n",
       "    </tr>\n",
       "    <tr>\n",
       "      <th>2</th>\n",
       "      <td>2</td>\n",
       "      <td>1200.0</td>\n",
       "      <td>2.0</td>\n",
       "      <td>2.0</td>\n",
       "      <td>83.0</td>\n",
       "      <td>69</td>\n",
       "    </tr>\n",
       "    <tr>\n",
       "      <th>3</th>\n",
       "      <td>2</td>\n",
       "      <td>1170.0</td>\n",
       "      <td>2.0</td>\n",
       "      <td>2.0</td>\n",
       "      <td>40.0</td>\n",
       "      <td>69</td>\n",
       "    </tr>\n",
       "    <tr>\n",
       "      <th>4</th>\n",
       "      <td>3</td>\n",
       "      <td>1425.0</td>\n",
       "      <td>2.0</td>\n",
       "      <td>2.0</td>\n",
       "      <td>65.0</td>\n",
       "      <td>69</td>\n",
       "    </tr>\n",
       "    <tr>\n",
       "      <th>5</th>\n",
       "      <td>2</td>\n",
       "      <td>947.0</td>\n",
       "      <td>2.0</td>\n",
       "      <td>2.0</td>\n",
       "      <td>43.0</td>\n",
       "      <td>69</td>\n",
       "    </tr>\n",
       "  </tbody>\n",
       "</table>\n",
       "</div>"
      ],
      "text/plain": [
       "   size  total_sqft  bath  balcony  price  loc\n",
       "1     2      1250.0   2.0      2.0   40.0   69\n",
       "2     2      1200.0   2.0      2.0   83.0   69\n",
       "3     2      1170.0   2.0      2.0   40.0   69\n",
       "4     3      1425.0   2.0      2.0   65.0   69\n",
       "5     2       947.0   2.0      2.0   43.0   69"
      ]
     },
     "execution_count": 61,
     "metadata": {},
     "output_type": "execute_result"
    }
   ],
   "source": [
    "df3=df2.drop(['location','price_per_sqft'],axis=1)\n",
    "df3.head()"
   ]
  },
  {
   "cell_type": "code",
   "execution_count": 62,
   "id": "f3873038-6298-4603-b8d8-f921c9c861b7",
   "metadata": {},
   "outputs": [
    {
     "data": {
      "text/plain": [
       "(6800, 6)"
      ]
     },
     "execution_count": 62,
     "metadata": {},
     "output_type": "execute_result"
    }
   ],
   "source": [
    "df3.shape"
   ]
  },
  {
   "cell_type": "code",
   "execution_count": 63,
   "id": "bd7bc562-4491-456e-aad6-e57a16dbca4a",
   "metadata": {},
   "outputs": [
    {
     "data": {
      "text/plain": [
       "array([ 69,   0,   1,   2,   3,   4,   5,   6,   7,   8,   9,  10,  11,\n",
       "        12,  13,  14,  15,  16,  17,  18,  19,  20,  21,  22,  23,  24,\n",
       "        25,  26,  27,  28,  29,  30,  31,  32,  33,  34,  35,  36,  37,\n",
       "        38,  39,  40,  41,  42,  43,  44,  45,  46,  47,  48,  49,  50,\n",
       "        51,  52,  53,  54,  55,  56,  57,  58,  59,  60,  61,  62,  63,\n",
       "        64,  65,  66,  67,  68,  70,  71,  72,  73,  74,  75,  76,  77,\n",
       "        78,  79,  80,  81,  82,  83,  84,  85,  86,  87,  88,  89,  90,\n",
       "        91,  92,  93,  94,  95,  96,  97,  98,  99, 100, 101, 102, 103,\n",
       "       104, 105, 106, 107, 108, 109, 110, 111, 112, 113, 114, 115, 116,\n",
       "       117, 118, 119, 120, 121, 122, 123, 124, 125, 126, 127, 128, 129,\n",
       "       130, 131, 132, 133, 134, 135, 136, 137, 138, 139, 140, 141, 142,\n",
       "       143, 144, 145, 146, 147, 148, 149, 150, 151, 152, 153, 154, 155,\n",
       "       156, 157, 158, 159, 160, 161, 162, 163, 164, 165, 166, 167, 168,\n",
       "       169, 170, 171, 172, 173, 174, 175, 176, 177, 178, 179, 180, 181,\n",
       "       182, 183, 184, 185, 186, 187, 188, 189, 190, 191, 192, 193, 194,\n",
       "       195, 196, 197, 198, 199, 200, 201, 202, 203, 204, 205, 206, 207,\n",
       "       208, 209, 210, 211, 212, 213, 214, 215, 216, 217, 218, 219, 220,\n",
       "       221, 222, 223, 224, 225, 226, 227, 228, 229, 230, 231, 232, 233,\n",
       "       234, 235, 236, 237])"
      ]
     },
     "execution_count": 63,
     "metadata": {},
     "output_type": "execute_result"
    }
   ],
   "source": [
    "df2['loc'].unique()"
   ]
  },
  {
   "cell_type": "code",
   "execution_count": 64,
   "id": "5fbd10c2-e7b7-497b-8e02-78be558e4448",
   "metadata": {},
   "outputs": [
    {
     "data": {
      "text/plain": [
       "loc\n",
       "237    1075\n",
       "231     199\n",
       "200     180\n",
       "77      161\n",
       "190     135\n",
       "       ... \n",
       "3         4\n",
       "159       4\n",
       "34        3\n",
       "228       3\n",
       "165       3\n",
       "Name: count, Length: 238, dtype: int64"
      ]
     },
     "execution_count": 64,
     "metadata": {},
     "output_type": "execute_result"
    }
   ],
   "source": [
    "df2['loc'].value_counts()"
   ]
  },
  {
   "cell_type": "code",
   "execution_count": 65,
   "id": "d2e6baad-9c3d-4b61-9e91-a626311ab4ca",
   "metadata": {},
   "outputs": [
    {
     "data": {
      "text/plain": [
       "loc\n",
       "237    1075\n",
       "231     199\n",
       "200     180\n",
       "77      161\n",
       "190     135\n",
       "92      114\n",
       "163     112\n",
       "222     106\n",
       "98       99\n",
       "94       99\n",
       "Name: count, dtype: int64"
      ]
     },
     "execution_count": 65,
     "metadata": {},
     "output_type": "execute_result"
    }
   ],
   "source": [
    "df2['loc'].value_counts()[:10]"
   ]
  },
  {
   "cell_type": "code",
   "execution_count": 66,
   "id": "e510ce89-99f8-4482-bcab-9532c24c9131",
   "metadata": {},
   "outputs": [
    {
     "data": {
      "text/plain": [
       "loc\n",
       "237    1075\n",
       "231     199\n",
       "200     180\n",
       "77      161\n",
       "190     135\n",
       "92      114\n",
       "163     112\n",
       "222     106\n",
       "98       99\n",
       "94       99\n",
       "215      97\n",
       "78       90\n",
       "Name: count, dtype: int64"
      ]
     },
     "execution_count": 66,
     "metadata": {},
     "output_type": "execute_result"
    }
   ],
   "source": [
    "df2['loc'].value_counts()[:12]"
   ]
  },
  {
   "cell_type": "code",
   "execution_count": 67,
   "id": "9c110ce9-35ff-40c9-9da3-1d4e5afdd791",
   "metadata": {},
   "outputs": [
    {
     "data": {
      "text/plain": [
       "(469, 6)"
      ]
     },
     "execution_count": 67,
     "metadata": {},
     "output_type": "execute_result"
    }
   ],
   "source": [
    "df_shortlist1=df3[df3['loc'].isin({231,200,78})]\n",
    "df_shortlist1.shape"
   ]
  },
  {
   "cell_type": "code",
   "execution_count": 68,
   "id": "c30f4998-8ba7-4098-8b8d-4190ccb1a08d",
   "metadata": {},
   "outputs": [
    {
     "data": {
      "text/html": [
       "<div>\n",
       "<style scoped>\n",
       "    .dataframe tbody tr th:only-of-type {\n",
       "        vertical-align: middle;\n",
       "    }\n",
       "\n",
       "    .dataframe tbody tr th {\n",
       "        vertical-align: top;\n",
       "    }\n",
       "\n",
       "    .dataframe thead th {\n",
       "        text-align: right;\n",
       "    }\n",
       "</style>\n",
       "<table border=\"1\" class=\"dataframe\">\n",
       "  <thead>\n",
       "    <tr style=\"text-align: right;\">\n",
       "      <th></th>\n",
       "      <th>size</th>\n",
       "      <th>total_sqft</th>\n",
       "      <th>bath</th>\n",
       "      <th>balcony</th>\n",
       "      <th>loc</th>\n",
       "    </tr>\n",
       "  </thead>\n",
       "  <tbody>\n",
       "    <tr>\n",
       "      <th>1995</th>\n",
       "      <td>2</td>\n",
       "      <td>1056.0</td>\n",
       "      <td>2.0</td>\n",
       "      <td>1.0</td>\n",
       "      <td>78</td>\n",
       "    </tr>\n",
       "    <tr>\n",
       "      <th>1996</th>\n",
       "      <td>2</td>\n",
       "      <td>1020.0</td>\n",
       "      <td>2.0</td>\n",
       "      <td>1.0</td>\n",
       "      <td>78</td>\n",
       "    </tr>\n",
       "    <tr>\n",
       "      <th>1997</th>\n",
       "      <td>2</td>\n",
       "      <td>1069.0</td>\n",
       "      <td>2.0</td>\n",
       "      <td>2.0</td>\n",
       "      <td>78</td>\n",
       "    </tr>\n",
       "    <tr>\n",
       "      <th>1998</th>\n",
       "      <td>1</td>\n",
       "      <td>630.0</td>\n",
       "      <td>1.0</td>\n",
       "      <td>1.0</td>\n",
       "      <td>78</td>\n",
       "    </tr>\n",
       "    <tr>\n",
       "      <th>2000</th>\n",
       "      <td>2</td>\n",
       "      <td>1000.0</td>\n",
       "      <td>2.0</td>\n",
       "      <td>1.0</td>\n",
       "      <td>78</td>\n",
       "    </tr>\n",
       "  </tbody>\n",
       "</table>\n",
       "</div>"
      ],
      "text/plain": [
       "      size  total_sqft  bath  balcony  loc\n",
       "1995     2      1056.0   2.0      1.0   78\n",
       "1996     2      1020.0   2.0      1.0   78\n",
       "1997     2      1069.0   2.0      2.0   78\n",
       "1998     1       630.0   1.0      1.0   78\n",
       "2000     2      1000.0   2.0      1.0   78"
      ]
     },
     "execution_count": 68,
     "metadata": {},
     "output_type": "execute_result"
    }
   ],
   "source": [
    "X=df_shortlist1.drop(['price'],axis=1)\n",
    "X.head()"
   ]
  },
  {
   "cell_type": "code",
   "execution_count": 69,
   "id": "9dedefdf-a5b1-4d43-846e-7df1ed7a7fd9",
   "metadata": {},
   "outputs": [
    {
     "data": {
      "text/plain": [
       "1995    39.07\n",
       "1996    30.60\n",
       "1997    45.00\n",
       "1998    28.35\n",
       "2000    25.00\n",
       "Name: price, dtype: float64"
      ]
     },
     "execution_count": 69,
     "metadata": {},
     "output_type": "execute_result"
    }
   ],
   "source": [
    "y=df_shortlist1['price']\n",
    "y.head()"
   ]
  },
  {
   "cell_type": "code",
   "execution_count": 70,
   "id": "d570f3aa-d7fc-4152-85c4-1967fb6e4db1",
   "metadata": {},
   "outputs": [
    {
     "data": {
      "text/html": [
       "<div>\n",
       "<style scoped>\n",
       "    .dataframe tbody tr th:only-of-type {\n",
       "        vertical-align: middle;\n",
       "    }\n",
       "\n",
       "    .dataframe tbody tr th {\n",
       "        vertical-align: top;\n",
       "    }\n",
       "\n",
       "    .dataframe thead th {\n",
       "        text-align: right;\n",
       "    }\n",
       "</style>\n",
       "<table border=\"1\" class=\"dataframe\">\n",
       "  <thead>\n",
       "    <tr style=\"text-align: right;\">\n",
       "      <th></th>\n",
       "      <th>size</th>\n",
       "      <th>total_sqft</th>\n",
       "      <th>bath</th>\n",
       "      <th>balcony</th>\n",
       "      <th>price</th>\n",
       "      <th>loc</th>\n",
       "    </tr>\n",
       "  </thead>\n",
       "  <tbody>\n",
       "    <tr>\n",
       "      <th>1995</th>\n",
       "      <td>2</td>\n",
       "      <td>1056.0</td>\n",
       "      <td>2.0</td>\n",
       "      <td>1.0</td>\n",
       "      <td>39.07</td>\n",
       "      <td>78</td>\n",
       "    </tr>\n",
       "    <tr>\n",
       "      <th>1996</th>\n",
       "      <td>2</td>\n",
       "      <td>1020.0</td>\n",
       "      <td>2.0</td>\n",
       "      <td>1.0</td>\n",
       "      <td>30.60</td>\n",
       "      <td>78</td>\n",
       "    </tr>\n",
       "    <tr>\n",
       "      <th>1997</th>\n",
       "      <td>2</td>\n",
       "      <td>1069.0</td>\n",
       "      <td>2.0</td>\n",
       "      <td>2.0</td>\n",
       "      <td>45.00</td>\n",
       "      <td>78</td>\n",
       "    </tr>\n",
       "    <tr>\n",
       "      <th>1998</th>\n",
       "      <td>1</td>\n",
       "      <td>630.0</td>\n",
       "      <td>1.0</td>\n",
       "      <td>1.0</td>\n",
       "      <td>28.35</td>\n",
       "      <td>78</td>\n",
       "    </tr>\n",
       "    <tr>\n",
       "      <th>2000</th>\n",
       "      <td>2</td>\n",
       "      <td>1000.0</td>\n",
       "      <td>2.0</td>\n",
       "      <td>1.0</td>\n",
       "      <td>25.00</td>\n",
       "      <td>78</td>\n",
       "    </tr>\n",
       "  </tbody>\n",
       "</table>\n",
       "</div>"
      ],
      "text/plain": [
       "      size  total_sqft  bath  balcony  price  loc\n",
       "1995     2      1056.0   2.0      1.0  39.07   78\n",
       "1996     2      1020.0   2.0      1.0  30.60   78\n",
       "1997     2      1069.0   2.0      2.0  45.00   78\n",
       "1998     1       630.0   1.0      1.0  28.35   78\n",
       "2000     2      1000.0   2.0      1.0  25.00   78"
      ]
     },
     "execution_count": 70,
     "metadata": {},
     "output_type": "execute_result"
    }
   ],
   "source": [
    "df_shortlist1.head()"
   ]
  },
  {
   "cell_type": "code",
   "execution_count": 71,
   "id": "523d8f3c-6764-4c8e-9037-9317b91ed86e",
   "metadata": {},
   "outputs": [
    {
     "data": {
      "text/html": [
       "<div>\n",
       "<style scoped>\n",
       "    .dataframe tbody tr th:only-of-type {\n",
       "        vertical-align: middle;\n",
       "    }\n",
       "\n",
       "    .dataframe tbody tr th {\n",
       "        vertical-align: top;\n",
       "    }\n",
       "\n",
       "    .dataframe thead th {\n",
       "        text-align: right;\n",
       "    }\n",
       "</style>\n",
       "<table border=\"1\" class=\"dataframe\">\n",
       "  <thead>\n",
       "    <tr style=\"text-align: right;\">\n",
       "      <th></th>\n",
       "      <th>size</th>\n",
       "      <th>total_sqft</th>\n",
       "      <th>bath</th>\n",
       "      <th>balcony</th>\n",
       "      <th>loc</th>\n",
       "    </tr>\n",
       "  </thead>\n",
       "  <tbody>\n",
       "    <tr>\n",
       "      <th>1995</th>\n",
       "      <td>2</td>\n",
       "      <td>1056.0</td>\n",
       "      <td>2.0</td>\n",
       "      <td>1.0</td>\n",
       "      <td>78</td>\n",
       "    </tr>\n",
       "    <tr>\n",
       "      <th>1996</th>\n",
       "      <td>2</td>\n",
       "      <td>1020.0</td>\n",
       "      <td>2.0</td>\n",
       "      <td>1.0</td>\n",
       "      <td>78</td>\n",
       "    </tr>\n",
       "    <tr>\n",
       "      <th>1997</th>\n",
       "      <td>2</td>\n",
       "      <td>1069.0</td>\n",
       "      <td>2.0</td>\n",
       "      <td>2.0</td>\n",
       "      <td>78</td>\n",
       "    </tr>\n",
       "    <tr>\n",
       "      <th>1998</th>\n",
       "      <td>1</td>\n",
       "      <td>630.0</td>\n",
       "      <td>1.0</td>\n",
       "      <td>1.0</td>\n",
       "      <td>78</td>\n",
       "    </tr>\n",
       "    <tr>\n",
       "      <th>2000</th>\n",
       "      <td>2</td>\n",
       "      <td>1000.0</td>\n",
       "      <td>2.0</td>\n",
       "      <td>1.0</td>\n",
       "      <td>78</td>\n",
       "    </tr>\n",
       "  </tbody>\n",
       "</table>\n",
       "</div>"
      ],
      "text/plain": [
       "      size  total_sqft  bath  balcony  loc\n",
       "1995     2      1056.0   2.0      1.0   78\n",
       "1996     2      1020.0   2.0      1.0   78\n",
       "1997     2      1069.0   2.0      2.0   78\n",
       "1998     1       630.0   1.0      1.0   78\n",
       "2000     2      1000.0   2.0      1.0   78"
      ]
     },
     "execution_count": 71,
     "metadata": {},
     "output_type": "execute_result"
    }
   ],
   "source": [
    "X.head()"
   ]
  },
  {
   "cell_type": "code",
   "execution_count": 72,
   "id": "5fe07c80-7674-47e3-9f5b-d5827beb4a7e",
   "metadata": {},
   "outputs": [
    {
     "data": {
      "text/plain": [
       "1995    39.07\n",
       "1996    30.60\n",
       "1997    45.00\n",
       "1998    28.35\n",
       "2000    25.00\n",
       "Name: price, dtype: float64"
      ]
     },
     "execution_count": 72,
     "metadata": {},
     "output_type": "execute_result"
    }
   ],
   "source": [
    "y.head()"
   ]
  },
  {
   "cell_type": "code",
   "execution_count": 73,
   "id": "76f24096-1915-4631-8b89-f133cb0be0c5",
   "metadata": {},
   "outputs": [],
   "source": [
    "X_train,X_test,y_train,y_test=train_test_split(X,y,test_size=0.2,random_state=69)"
   ]
  },
  {
   "cell_type": "code",
   "execution_count": 74,
   "id": "a954d8a2-b798-49ae-baf1-aac0281c01c3",
   "metadata": {},
   "outputs": [],
   "source": [
    "X_train.to_csv('X_train1.csv', index=False)\n",
    "X_test.to_csv('X_test1.csv', index=False)\n",
    "y_train.to_csv('y_train1.csv', index=False)\n",
    "y_test.to_csv('y_test1.csv', index=False)"
   ]
  },
  {
   "cell_type": "code",
   "execution_count": 75,
   "id": "d979a2cb-5952-4918-9417-e93d54b28d5e",
   "metadata": {
    "scrolled": true
   },
   "outputs": [
    {
     "data": {
      "text/html": [
       "<div>\n",
       "<style scoped>\n",
       "    .dataframe tbody tr th:only-of-type {\n",
       "        vertical-align: middle;\n",
       "    }\n",
       "\n",
       "    .dataframe tbody tr th {\n",
       "        vertical-align: top;\n",
       "    }\n",
       "\n",
       "    .dataframe thead th {\n",
       "        text-align: right;\n",
       "    }\n",
       "</style>\n",
       "<table border=\"1\" class=\"dataframe\">\n",
       "  <thead>\n",
       "    <tr style=\"text-align: right;\">\n",
       "      <th></th>\n",
       "      <th>size</th>\n",
       "      <th>total_sqft</th>\n",
       "      <th>bath</th>\n",
       "      <th>balcony</th>\n",
       "      <th>loc</th>\n",
       "    </tr>\n",
       "  </thead>\n",
       "  <tbody>\n",
       "    <tr>\n",
       "      <th>6968</th>\n",
       "      <td>3</td>\n",
       "      <td>1836.0</td>\n",
       "      <td>3.0</td>\n",
       "      <td>2.0</td>\n",
       "      <td>231</td>\n",
       "    </tr>\n",
       "    <tr>\n",
       "      <th>2059</th>\n",
       "      <td>2</td>\n",
       "      <td>1140.0</td>\n",
       "      <td>2.0</td>\n",
       "      <td>1.0</td>\n",
       "      <td>78</td>\n",
       "    </tr>\n",
       "    <tr>\n",
       "      <th>5798</th>\n",
       "      <td>3</td>\n",
       "      <td>1489.0</td>\n",
       "      <td>3.0</td>\n",
       "      <td>2.0</td>\n",
       "      <td>200</td>\n",
       "    </tr>\n",
       "    <tr>\n",
       "      <th>5690</th>\n",
       "      <td>2</td>\n",
       "      <td>1308.0</td>\n",
       "      <td>2.0</td>\n",
       "      <td>1.0</td>\n",
       "      <td>200</td>\n",
       "    </tr>\n",
       "    <tr>\n",
       "      <th>6759</th>\n",
       "      <td>1</td>\n",
       "      <td>825.0</td>\n",
       "      <td>1.0</td>\n",
       "      <td>1.0</td>\n",
       "      <td>231</td>\n",
       "    </tr>\n",
       "  </tbody>\n",
       "</table>\n",
       "</div>"
      ],
      "text/plain": [
       "      size  total_sqft  bath  balcony  loc\n",
       "6968     3      1836.0   3.0      2.0  231\n",
       "2059     2      1140.0   2.0      1.0   78\n",
       "5798     3      1489.0   3.0      2.0  200\n",
       "5690     2      1308.0   2.0      1.0  200\n",
       "6759     1       825.0   1.0      1.0  231"
      ]
     },
     "execution_count": 75,
     "metadata": {},
     "output_type": "execute_result"
    }
   ],
   "source": [
    "X_train.head()"
   ]
  },
  {
   "cell_type": "code",
   "execution_count": 76,
   "id": "ec97754d-f896-4dac-84ab-b4f3a2b4b951",
   "metadata": {},
   "outputs": [
    {
     "data": {
      "text/plain": [
       "6968    125.00\n",
       "2059     32.92\n",
       "5798     88.00\n",
       "5690     83.00\n",
       "6759     45.00\n",
       "Name: price, dtype: float64"
      ]
     },
     "execution_count": 76,
     "metadata": {},
     "output_type": "execute_result"
    }
   ],
   "source": [
    "y_train.head()"
   ]
  },
  {
   "cell_type": "code",
   "execution_count": 77,
   "id": "95498dac-9e31-499d-bdff-db4aabc04dcd",
   "metadata": {},
   "outputs": [
    {
     "data": {
      "text/html": [
       "<div>\n",
       "<style scoped>\n",
       "    .dataframe tbody tr th:only-of-type {\n",
       "        vertical-align: middle;\n",
       "    }\n",
       "\n",
       "    .dataframe tbody tr th {\n",
       "        vertical-align: top;\n",
       "    }\n",
       "\n",
       "    .dataframe thead th {\n",
       "        text-align: right;\n",
       "    }\n",
       "</style>\n",
       "<table border=\"1\" class=\"dataframe\">\n",
       "  <thead>\n",
       "    <tr style=\"text-align: right;\">\n",
       "      <th></th>\n",
       "      <th>size</th>\n",
       "      <th>total_sqft</th>\n",
       "      <th>bath</th>\n",
       "      <th>balcony</th>\n",
       "      <th>loc</th>\n",
       "    </tr>\n",
       "  </thead>\n",
       "  <tbody>\n",
       "    <tr>\n",
       "      <th>5641</th>\n",
       "      <td>2</td>\n",
       "      <td>1282.0</td>\n",
       "      <td>2.0</td>\n",
       "      <td>2.0</td>\n",
       "      <td>200</td>\n",
       "    </tr>\n",
       "    <tr>\n",
       "      <th>2004</th>\n",
       "      <td>2</td>\n",
       "      <td>775.0</td>\n",
       "      <td>2.0</td>\n",
       "      <td>2.0</td>\n",
       "      <td>78</td>\n",
       "    </tr>\n",
       "    <tr>\n",
       "      <th>5709</th>\n",
       "      <td>3</td>\n",
       "      <td>1500.0</td>\n",
       "      <td>3.0</td>\n",
       "      <td>2.0</td>\n",
       "      <td>200</td>\n",
       "    </tr>\n",
       "    <tr>\n",
       "      <th>5893</th>\n",
       "      <td>2</td>\n",
       "      <td>1112.0</td>\n",
       "      <td>2.0</td>\n",
       "      <td>1.0</td>\n",
       "      <td>200</td>\n",
       "    </tr>\n",
       "    <tr>\n",
       "      <th>7074</th>\n",
       "      <td>2</td>\n",
       "      <td>1270.0</td>\n",
       "      <td>2.0</td>\n",
       "      <td>1.0</td>\n",
       "      <td>231</td>\n",
       "    </tr>\n",
       "  </tbody>\n",
       "</table>\n",
       "</div>"
      ],
      "text/plain": [
       "      size  total_sqft  bath  balcony  loc\n",
       "5641     2      1282.0   2.0      2.0  200\n",
       "2004     2       775.0   2.0      2.0   78\n",
       "5709     3      1500.0   3.0      2.0  200\n",
       "5893     2      1112.0   2.0      1.0  200\n",
       "7074     2      1270.0   2.0      1.0  231"
      ]
     },
     "execution_count": 77,
     "metadata": {},
     "output_type": "execute_result"
    }
   ],
   "source": [
    "X_test.head()"
   ]
  },
  {
   "cell_type": "code",
   "execution_count": 78,
   "id": "85a7ad52-ce0a-4520-a151-435bc01ee683",
   "metadata": {},
   "outputs": [
    {
     "data": {
      "text/plain": [
       "5641    72.0\n",
       "2004    38.0\n",
       "5709    88.0\n",
       "5893    58.0\n",
       "7074    94.0\n",
       "Name: price, dtype: float64"
      ]
     },
     "execution_count": 78,
     "metadata": {},
     "output_type": "execute_result"
    }
   ],
   "source": [
    "y_test.head()"
   ]
  },
  {
   "cell_type": "code",
   "execution_count": 79,
   "id": "9c8ef505-a7f3-40fe-be30-7e1a90effb08",
   "metadata": {},
   "outputs": [
    {
     "data": {
      "text/plain": [
       "(375, 5)"
      ]
     },
     "execution_count": 79,
     "metadata": {},
     "output_type": "execute_result"
    }
   ],
   "source": [
    "X_train.shape"
   ]
  },
  {
   "cell_type": "code",
   "execution_count": 80,
   "id": "3e59eea4-d49a-46ac-aa6f-444488e8fc75",
   "metadata": {},
   "outputs": [
    {
     "data": {
      "text/plain": [
       "(94, 5)"
      ]
     },
     "execution_count": 80,
     "metadata": {},
     "output_type": "execute_result"
    }
   ],
   "source": [
    "X_test.shape"
   ]
  },
  {
   "cell_type": "code",
   "execution_count": 81,
   "id": "554126c3-6f1c-4ad3-a090-0ac1f48c23d2",
   "metadata": {},
   "outputs": [
    {
     "data": {
      "text/plain": [
       "(6800, 6)"
      ]
     },
     "execution_count": 81,
     "metadata": {},
     "output_type": "execute_result"
    }
   ],
   "source": [
    "df3.shape"
   ]
  },
  {
   "cell_type": "code",
   "execution_count": 82,
   "id": "ec5f4cb8-c5ee-43a5-86e5-982e52f18090",
   "metadata": {},
   "outputs": [
    {
     "data": {
      "text/plain": [
       "loc\n",
       "237    1075\n",
       "231     199\n",
       "200     180\n",
       "77      161\n",
       "190     135\n",
       "92      114\n",
       "163     112\n",
       "222     106\n",
       "98       99\n",
       "94       99\n",
       "215      97\n",
       "78       90\n",
       "6        86\n",
       "Name: count, dtype: int64"
      ]
     },
     "execution_count": 82,
     "metadata": {},
     "output_type": "execute_result"
    }
   ],
   "source": [
    "df3['loc'].value_counts()[:13]"
   ]
  },
  {
   "cell_type": "code",
   "execution_count": 83,
   "id": "b772f77d-51fa-4c85-a027-f992f95c338d",
   "metadata": {},
   "outputs": [],
   "source": [
    "# some_random=pd.read_csv('X_train2.csv')\n",
    "# some_random.shape"
   ]
  },
  {
   "cell_type": "code",
   "execution_count": 84,
   "id": "82279bd9-5b69-49bc-9814-921606a6df35",
   "metadata": {},
   "outputs": [
    {
     "data": {
      "text/plain": [
       "(1392, 6)"
      ]
     },
     "execution_count": 84,
     "metadata": {},
     "output_type": "execute_result"
    }
   ],
   "source": [
    "df_shortlist3=df3[df3['loc'].isin({231,200,77,190,92,163,222,98,94,215,78})]\n",
    "df_shortlist3.shape"
   ]
  },
  {
   "cell_type": "code",
   "execution_count": 85,
   "id": "2ea826df-0a39-4a15-a45e-483fb3a330e7",
   "metadata": {},
   "outputs": [],
   "source": [
    "X=df_shortlist3.drop(['price'],axis=1)\n",
    "y=df_shortlist3['price']"
   ]
  },
  {
   "cell_type": "code",
   "execution_count": 86,
   "id": "0b1c8b0c-d9d4-493f-b1b9-fdfb73b1ed0a",
   "metadata": {},
   "outputs": [
    {
     "data": {
      "text/html": [
       "<div>\n",
       "<style scoped>\n",
       "    .dataframe tbody tr th:only-of-type {\n",
       "        vertical-align: middle;\n",
       "    }\n",
       "\n",
       "    .dataframe tbody tr th {\n",
       "        vertical-align: top;\n",
       "    }\n",
       "\n",
       "    .dataframe thead th {\n",
       "        text-align: right;\n",
       "    }\n",
       "</style>\n",
       "<table border=\"1\" class=\"dataframe\">\n",
       "  <thead>\n",
       "    <tr style=\"text-align: right;\">\n",
       "      <th></th>\n",
       "      <th>size</th>\n",
       "      <th>total_sqft</th>\n",
       "      <th>bath</th>\n",
       "      <th>balcony</th>\n",
       "      <th>loc</th>\n",
       "    </tr>\n",
       "  </thead>\n",
       "  <tbody>\n",
       "    <tr>\n",
       "      <th>1720</th>\n",
       "      <td>3</td>\n",
       "      <td>1025.0</td>\n",
       "      <td>2.0</td>\n",
       "      <td>1.0</td>\n",
       "      <td>77</td>\n",
       "    </tr>\n",
       "    <tr>\n",
       "      <th>1723</th>\n",
       "      <td>3</td>\n",
       "      <td>1500.0</td>\n",
       "      <td>2.0</td>\n",
       "      <td>1.0</td>\n",
       "      <td>77</td>\n",
       "    </tr>\n",
       "    <tr>\n",
       "      <th>1724</th>\n",
       "      <td>2</td>\n",
       "      <td>1060.0</td>\n",
       "      <td>2.0</td>\n",
       "      <td>1.0</td>\n",
       "      <td>77</td>\n",
       "    </tr>\n",
       "    <tr>\n",
       "      <th>1725</th>\n",
       "      <td>2</td>\n",
       "      <td>1152.0</td>\n",
       "      <td>2.0</td>\n",
       "      <td>1.0</td>\n",
       "      <td>77</td>\n",
       "    </tr>\n",
       "    <tr>\n",
       "      <th>1727</th>\n",
       "      <td>2</td>\n",
       "      <td>770.0</td>\n",
       "      <td>1.0</td>\n",
       "      <td>1.0</td>\n",
       "      <td>77</td>\n",
       "    </tr>\n",
       "  </tbody>\n",
       "</table>\n",
       "</div>"
      ],
      "text/plain": [
       "      size  total_sqft  bath  balcony  loc\n",
       "1720     3      1025.0   2.0      1.0   77\n",
       "1723     3      1500.0   2.0      1.0   77\n",
       "1724     2      1060.0   2.0      1.0   77\n",
       "1725     2      1152.0   2.0      1.0   77\n",
       "1727     2       770.0   1.0      1.0   77"
      ]
     },
     "execution_count": 86,
     "metadata": {},
     "output_type": "execute_result"
    }
   ],
   "source": [
    "X.head()"
   ]
  },
  {
   "cell_type": "code",
   "execution_count": 87,
   "id": "afd3228f-3e18-415e-9e60-f2c42ddddbf4",
   "metadata": {},
   "outputs": [
    {
     "data": {
      "text/plain": [
       "1720    47.0\n",
       "1723    64.5\n",
       "1724    60.0\n",
       "1725    64.5\n",
       "1727    36.0\n",
       "Name: price, dtype: float64"
      ]
     },
     "execution_count": 87,
     "metadata": {},
     "output_type": "execute_result"
    }
   ],
   "source": [
    "y.head()"
   ]
  },
  {
   "cell_type": "code",
   "execution_count": 88,
   "id": "adce79df-e6e9-4c32-9ef6-7cb325d26f76",
   "metadata": {},
   "outputs": [],
   "source": [
    "X_train,X_test,y_train,y_test=train_test_split(X,y,test_size=0.2,random_state=69)"
   ]
  },
  {
   "cell_type": "code",
   "execution_count": 89,
   "id": "741bae85-43bb-4a95-85db-28a021d4f3d8",
   "metadata": {},
   "outputs": [
    {
     "data": {
      "text/plain": [
       "(1113, 5)"
      ]
     },
     "execution_count": 89,
     "metadata": {},
     "output_type": "execute_result"
    }
   ],
   "source": [
    "X_train.shape"
   ]
  },
  {
   "cell_type": "code",
   "execution_count": 90,
   "id": "8a621b3a-4af1-4f9f-8802-2749fe6f87ca",
   "metadata": {},
   "outputs": [],
   "source": [
    "X_train.to_csv('X_train3.csv', index=False)\n",
    "X_test.to_csv('X_test3.csv', index=False)\n",
    "y_train.to_csv('y_train3.csv', index=False)\n",
    "y_test.to_csv('y_test3.csv', index=False)"
   ]
  },
  {
   "cell_type": "code",
   "execution_count": 91,
   "id": "3572cfa5-134b-4ee4-9616-ca32d9336a95",
   "metadata": {},
   "outputs": [
    {
     "data": {
      "text/plain": [
       "(879, 6)"
      ]
     },
     "execution_count": 91,
     "metadata": {},
     "output_type": "execute_result"
    }
   ],
   "source": [
    "df_shortlist4=df3[df3['loc'].isin({231,200,78,77,190,92})]\n",
    "df_shortlist4.shape"
   ]
  },
  {
   "cell_type": "code",
   "execution_count": 92,
   "id": "22991b2d-f3ce-4345-ad88-7692c3ccf6aa",
   "metadata": {},
   "outputs": [],
   "source": [
    "rows_to_drop = df_shortlist4.sample(n=60).index\n",
    "df_dropped = df_shortlist4.drop(rows_to_drop)"
   ]
  },
  {
   "cell_type": "code",
   "execution_count": 93,
   "id": "d0db039e-68ee-4f29-a2e9-c805fa3a8e40",
   "metadata": {},
   "outputs": [],
   "source": [
    "X=df_dropped.drop(['price'],axis=1)\n",
    "y=df_dropped['price']"
   ]
  },
  {
   "cell_type": "code",
   "execution_count": 94,
   "id": "b53e85f8-9aba-4ac0-bc97-964b66646128",
   "metadata": {},
   "outputs": [],
   "source": [
    "X_train,X_test,y_train,y_test=train_test_split(X,y,test_size=0.2,random_state=69)"
   ]
  },
  {
   "cell_type": "code",
   "execution_count": 95,
   "id": "52d5faa3-0994-490c-a302-e56f1449b20b",
   "metadata": {},
   "outputs": [
    {
     "data": {
      "text/plain": [
       "(655, 5)"
      ]
     },
     "execution_count": 95,
     "metadata": {},
     "output_type": "execute_result"
    }
   ],
   "source": [
    "X_train.shape"
   ]
  },
  {
   "cell_type": "code",
   "execution_count": 96,
   "id": "e04cea24-4736-44fd-bc10-888004339ae6",
   "metadata": {},
   "outputs": [],
   "source": [
    "X_train.to_csv('X_train2.csv', index=False)\n",
    "X_test.to_csv('X_test2.csv', index=False)\n",
    "y_train.to_csv('y_train2.csv', index=False)\n",
    "y_test.to_csv('y_test2.csv', index=False)"
   ]
  },
  {
   "cell_type": "code",
   "execution_count": null,
   "id": "a6be6f08-ec0d-49ee-979d-f55bfe6433fe",
   "metadata": {},
   "outputs": [],
   "source": []
  }
 ],
 "metadata": {
  "kernelspec": {
   "display_name": "Python 3 (ipykernel)",
   "language": "python",
   "name": "python3"
  },
  "language_info": {
   "codemirror_mode": {
    "name": "ipython",
    "version": 3
   },
   "file_extension": ".py",
   "mimetype": "text/x-python",
   "name": "python",
   "nbconvert_exporter": "python",
   "pygments_lexer": "ipython3",
   "version": "3.12.3"
  }
 },
 "nbformat": 4,
 "nbformat_minor": 5
}
