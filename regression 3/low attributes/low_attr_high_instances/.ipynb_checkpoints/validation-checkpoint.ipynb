{
 "cells": [
  {
   "cell_type": "code",
   "execution_count": 1,
   "id": "bf7edc18-d679-4618-a63e-02284080d374",
   "metadata": {},
   "outputs": [],
   "source": [
    "import numpy as np\n",
    "import pandas as pd\n",
    "from scipy import stats\n",
    "import matplotlib.pyplot as plt\n",
    "import joblib\n",
    "import scipy.stats as stats\n",
    "import statsmodels.api as sm\n",
    "from statsmodels.formula.api import ols\n",
    "%matplotlib inline\n",
    "plt.style.use('dark_background')"
   ]
  },
  {
   "cell_type": "code",
   "execution_count": 2,
   "id": "99f9a731-272d-4e92-b39e-7bd1afa1f1d8",
   "metadata": {},
   "outputs": [],
   "source": [
    "weights_paillier,bias_paillier,unenc_preds_paillier,cpu_seconds_paillier,cpu_usages_paillier,ram_usages_paillier,train_time_paillier,test_time_paillier=joblib.load('variables_paillier.pkl')"
   ]
  },
  {
   "cell_type": "code",
   "execution_count": 4,
   "id": "25c25157-ffd5-40e3-bf8d-339463921ade",
   "metadata": {},
   "outputs": [],
   "source": [
    "weights_ckks,bias_ckks,unenc_preds_ckks,cpu_seconds_ckks,cpu_usages_ckks,ram_usage_ckks,train_time_ckks,test_time_ckks=joblib.load('variables_ckks.pkl')"
   ]
  },
  {
   "cell_type": "code",
   "execution_count": 5,
   "id": "2b02cf8c-87a8-412e-bd56-7fca7bf78069",
   "metadata": {},
   "outputs": [],
   "source": [
    "weights_skl,bias_skl,unenc_preds_skl,cpu_seconds_skl,cpu_usages_skl,ram_usage_skl,train_time_skl,test_time_skl=joblib.load('variables_sklearn.pkl')"
   ]
  },
  {
   "cell_type": "code",
   "execution_count": 7,
   "id": "ea5f22a8-ef2c-4a0d-9a36-970b49a0cf78",
   "metadata": {},
   "outputs": [
    {
     "data": {
      "text/plain": [
       "array([[-6.93896168,  0.07497739, 11.0970909 , -2.86906628,  0.01616244]])"
      ]
     },
     "execution_count": 7,
     "metadata": {},
     "output_type": "execute_result"
    }
   ],
   "source": [
    "weights_skl"
   ]
  },
  {
   "cell_type": "code",
   "execution_count": 8,
   "id": "a0087bff-c358-41aa-9476-a3b597253135",
   "metadata": {},
   "outputs": [
    {
     "data": {
      "text/plain": [
       "array([-6.93896159,  0.07497739, 11.09709091, -2.86906629,  0.01616244])"
      ]
     },
     "execution_count": 8,
     "metadata": {},
     "output_type": "execute_result"
    }
   ],
   "source": [
    "weights_ckks"
   ]
  },
  {
   "cell_type": "code",
   "execution_count": 9,
   "id": "c9c3d9e8-0e4b-498d-9c7a-7bb243596b24",
   "metadata": {},
   "outputs": [
    {
     "data": {
      "text/plain": [
       "array([-6.93896168,  0.07497739, 11.0970909 , -2.86906628,  0.01616244])"
      ]
     },
     "execution_count": 9,
     "metadata": {},
     "output_type": "execute_result"
    }
   ],
   "source": [
    "weights_paillier"
   ]
  },
  {
   "cell_type": "code",
   "execution_count": null,
   "id": "f10a62a2-5c7e-4879-9d2c-170fd5d6c0ee",
   "metadata": {},
   "outputs": [],
   "source": []
  }
 ],
 "metadata": {
  "kernelspec": {
   "display_name": "Python 3 (ipykernel)",
   "language": "python",
   "name": "python3"
  },
  "language_info": {
   "codemirror_mode": {
    "name": "ipython",
    "version": 3
   },
   "file_extension": ".py",
   "mimetype": "text/x-python",
   "name": "python",
   "nbconvert_exporter": "python",
   "pygments_lexer": "ipython3",
   "version": "3.12.3"
  }
 },
 "nbformat": 4,
 "nbformat_minor": 5
}
