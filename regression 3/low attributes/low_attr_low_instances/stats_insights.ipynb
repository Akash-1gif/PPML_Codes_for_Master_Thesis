{
 "cells": [
  {
   "cell_type": "code",
   "execution_count": 1,
   "id": "eda35c9b-91e8-4762-a74f-a804b5613800",
   "metadata": {},
   "outputs": [],
   "source": [
    "import numpy as np\n",
    "import pandas as pd\n",
    "from scipy import stats\n",
    "import matplotlib.pyplot as plt\n",
    "import joblib\n",
    "import scipy.stats as stats\n",
    "import statsmodels.api as sm\n",
    "from statsmodels.formula.api import ols\n",
    "%matplotlib inline\n",
    "plt.style.use('dark_background')"
   ]
  },
  {
   "cell_type": "code",
   "execution_count": 2,
   "id": "8a5a89f5-13e8-4969-9c4a-d6847e5b5da6",
   "metadata": {},
   "outputs": [],
   "source": [
    "weights_paillier,bias_paillier,unenc_preds_paillier,cpu_seconds_paillier,cpu_usages_paillier,train_time_paillier,test_time_paillier=joblib.load('variables_paillier.pkl')"
   ]
  },
  {
   "cell_type": "code",
   "execution_count": 3,
   "id": "49d6c314-a5ff-4a1d-8cdc-2718d69eea8a",
   "metadata": {},
   "outputs": [],
   "source": [
    "weights_ckks,bias_ckks,unenc_preds_ckks,cpu_seconds_ckks,cpu_usages_ckks,train_time_ckks,test_time_ckks=joblib.load('variables.pkl')"
   ]
  },
  {
   "cell_type": "code",
   "execution_count": 4,
   "id": "896829ff-a0d2-4b44-8135-bbe01bb43351",
   "metadata": {},
   "outputs": [],
   "source": [
    "weights_sklearn,bias_sklearn,unenc_preds_sklearn=joblib.load('variables_sklearn.pkl')"
   ]
  },
  {
   "cell_type": "code",
   "execution_count": 5,
   "id": "f053038d-147e-4889-8a0e-a37d6d788287",
   "metadata": {},
   "outputs": [],
   "source": [
    "y_test=pd.read_csv('y_test1.csv')\n",
    "y_test=y_test.to_numpy()"
   ]
  },
  {
   "cell_type": "code",
   "execution_count": 6,
   "id": "939595e1-03cf-422c-8f67-3ea6377d5491",
   "metadata": {},
   "outputs": [
    {
     "data": {
      "text/plain": [
       "array([147.  ,  98.  ,  78.  , 190.  ,  57.  ,  74.  ,  40.  ,  89.  ,\n",
       "       140.  ,  78.2 , 400.  ,  29.25,  57.  ,  60.8 ,  84.  , 115.  ,\n",
       "        32.92,  26.  ,  83.  ,  80.  ,  79.  , 118.  ,  25.  ,  78.  ,\n",
       "        59.  ,  63.  , 135.  ,  61.96,  78.57,  80.  ,  98.  , 146.  ,\n",
       "       110.  , 253.  ,  95.  , 113.  ,  75.  , 130.  ,  28.34, 290.  ,\n",
       "        40.  , 150.  , 200.  ,  61.25,  85.  , 145.  ,  70.  ,  35.  ,\n",
       "       125.  , 107.  ,  55.  , 175.  , 110.  ,  81.  , 138.  ,  62.  ,\n",
       "       140.  , 290.  ,  45.  ,  93.  , 400.  , 140.  , 106.  ,  77.  ,\n",
       "        70.  , 280.  , 130.  , 300.  , 115.  , 120.  ,  79.  ,  39.  ,\n",
       "        52.  , 101.  ,  69.  ,  55.  , 112.  , 116.  , 201.  ,  98.88,\n",
       "       143.  , 102.  ,  85.  , 120.  ,  71.32, 211.  ,  95.  , 224.  ,\n",
       "        34.65,  52.  ,  46.  , 125.  , 300.  ,  85.  ])"
      ]
     },
     "execution_count": 6,
     "metadata": {},
     "output_type": "execute_result"
    }
   ],
   "source": [
    "y_test=y_test.reshape(-1,)\n",
    "y_test"
   ]
  },
  {
   "cell_type": "code",
   "execution_count": 7,
   "id": "8869d052-f56f-4c6b-9ea6-b0c125052fcc",
   "metadata": {},
   "outputs": [
    {
     "data": {
      "text/plain": [
       "(94,)"
      ]
     },
     "execution_count": 7,
     "metadata": {},
     "output_type": "execute_result"
    }
   ],
   "source": [
    "unenc_preds_paillier=np.array(unenc_preds_paillier)\n",
    "unenc_preds_paillier.shape"
   ]
  },
  {
   "cell_type": "code",
   "execution_count": 8,
   "id": "4a5a7e75-5611-4e09-823a-b8ee7b27c785",
   "metadata": {},
   "outputs": [
    {
     "data": {
      "text/plain": [
       "(94,)"
      ]
     },
     "execution_count": 8,
     "metadata": {},
     "output_type": "execute_result"
    }
   ],
   "source": [
    "y_test.shape"
   ]
  },
  {
   "cell_type": "code",
   "execution_count": 9,
   "id": "bfa771ee-aa6b-4757-8b87-14866d71629a",
   "metadata": {},
   "outputs": [
    {
     "data": {
      "text/plain": [
       "(94,)"
      ]
     },
     "execution_count": 9,
     "metadata": {},
     "output_type": "execute_result"
    }
   ],
   "source": [
    "unenc_preds_ckks=np.array(unenc_preds_ckks)\n",
    "unenc_preds_ckks=unenc_preds_ckks.reshape(-1,)\n",
    "unenc_preds_ckks.shape"
   ]
  },
  {
   "cell_type": "code",
   "execution_count": 10,
   "id": "cf3149b6-83f1-44d0-a045-d90e5a65988f",
   "metadata": {
    "scrolled": true
   },
   "outputs": [
    {
     "data": {
      "text/plain": [
       "(94,)"
      ]
     },
     "execution_count": 10,
     "metadata": {},
     "output_type": "execute_result"
    }
   ],
   "source": [
    "unenc_preds_sklearn=unenc_preds_sklearn.reshape(-1,)\n",
    "unenc_preds_sklearn.shape"
   ]
  },
  {
   "cell_type": "markdown",
   "id": "d2456f11-11db-4b7e-acec-356d4bbbd1ce",
   "metadata": {},
   "source": [
    "### Mean Squared Error:"
   ]
  },
  {
   "cell_type": "code",
   "execution_count": 11,
   "id": "a8186515-08b6-485c-afe9-3bffa24fd15c",
   "metadata": {},
   "outputs": [],
   "source": [
    "from sklearn.metrics import mean_squared_error"
   ]
  },
  {
   "cell_type": "code",
   "execution_count": 12,
   "id": "3f139c27-8415-4091-a173-2dbd2813cd89",
   "metadata": {},
   "outputs": [],
   "source": [
    "mse_sklearn=mean_squared_error(unenc_preds_sklearn,y_test)"
   ]
  },
  {
   "cell_type": "code",
   "execution_count": 13,
   "id": "065b91fb-8af2-434c-a926-4c63f60c36f5",
   "metadata": {
    "scrolled": true
   },
   "outputs": [
    {
     "data": {
      "text/plain": [
       "483.2575000879937"
      ]
     },
     "execution_count": 13,
     "metadata": {},
     "output_type": "execute_result"
    }
   ],
   "source": [
    "mse_sklearn"
   ]
  },
  {
   "cell_type": "code",
   "execution_count": 14,
   "id": "5a73739b-7d45-4254-84cd-a9562908223c",
   "metadata": {},
   "outputs": [
    {
     "data": {
      "text/plain": [
       "483.25722661564"
      ]
     },
     "execution_count": 14,
     "metadata": {},
     "output_type": "execute_result"
    }
   ],
   "source": [
    "mse_ckks=mean_squared_error(unenc_preds_ckks,y_test)\n",
    "mse_ckks"
   ]
  },
  {
   "cell_type": "code",
   "execution_count": 15,
   "id": "9629b78e-1cf7-4952-a301-f3af3855b80d",
   "metadata": {},
   "outputs": [
    {
     "data": {
      "text/plain": [
       "483.2575000879934"
      ]
     },
     "execution_count": 15,
     "metadata": {},
     "output_type": "execute_result"
    }
   ],
   "source": [
    "mse_paillier=mean_squared_error(unenc_preds_paillier,y_test)\n",
    "mse_paillier"
   ]
  },
  {
   "cell_type": "code",
   "execution_count": 16,
   "id": "2fed378b-b092-4b1e-8a2b-b767eab582a4",
   "metadata": {},
   "outputs": [
    {
     "name": "stdout",
     "output_type": "stream",
     "text": [
      "Variance: 4205.808056495047\n",
      "Variance: 4205.809236641021\n",
      "Variance: 4205.808056495053\n"
     ]
    }
   ],
   "source": [
    "def calculate_variance(numbers):\n",
    "    \n",
    "    if len(numbers) < 2:\n",
    "        raise ValueError(\"Variance requires at least two data points.\")\n",
    "    \n",
    "    mean = sum(numbers) / len(numbers)\n",
    "    squared_diffs = [(x - mean) ** 2 for x in numbers]\n",
    "    variance = sum(squared_diffs) / (len(numbers) - 1)\n",
    "    \n",
    "    return variance\n",
    "\n",
    "\n",
    "print(\"Variance:\", calculate_variance(unenc_preds_sklearn))\n",
    "print(\"Variance:\", calculate_variance(unenc_preds_ckks))\n",
    "print(\"Variance:\", calculate_variance(unenc_preds_paillier))"
   ]
  },
  {
   "cell_type": "code",
   "execution_count": 17,
   "id": "f4eb536f-2f57-4c29-b35b-032202e7e2cc",
   "metadata": {},
   "outputs": [],
   "source": [
    "f_statistic,p_value=stats.f_oneway(unenc_preds_sklearn,unenc_preds_ckks,unenc_preds_paillier)"
   ]
  },
  {
   "cell_type": "code",
   "execution_count": 18,
   "id": "2ac92c96-306c-475f-b7e0-f7d589fe629f",
   "metadata": {},
   "outputs": [
    {
     "data": {
      "text/plain": [
       "(3.834973078755497e-12, 0.9999999999961591)"
      ]
     },
     "execution_count": 18,
     "metadata": {},
     "output_type": "execute_result"
    }
   ],
   "source": [
    "f_statistic,p_value"
   ]
  },
  {
   "cell_type": "code",
   "execution_count": 19,
   "id": "3ec96b9e-7e8a-43c7-8a27-9602204083fc",
   "metadata": {},
   "outputs": [
    {
     "name": "stdout",
     "output_type": "stream",
     "text": [
      "There is no significant difference between the values\n"
     ]
    }
   ],
   "source": [
    "alpha = 0.05\n",
    "if p_value < alpha:\n",
    "    print(\"There is a significant difference between the values\")\n",
    "else:\n",
    "    print(\"There is no significant difference between the values\")"
   ]
  },
  {
   "cell_type": "code",
   "execution_count": 20,
   "id": "55a1933e-c867-4c91-a13c-d0d86c8ebf58",
   "metadata": {},
   "outputs": [],
   "source": [
    "diff_between_ckks_and_sklearn=abs(unenc_preds_ckks-unenc_preds_sklearn)"
   ]
  },
  {
   "cell_type": "code",
   "execution_count": 21,
   "id": "2f10d3d8-cce6-41d2-a15f-33d7f4cb7682",
   "metadata": {},
   "outputs": [
    {
     "data": {
      "text/plain": [
       "array([3.16241325e-05, 2.10507042e-05, 2.09948554e-05, 3.60816738e-05,\n",
       "       1.27099253e-05])"
      ]
     },
     "execution_count": 21,
     "metadata": {},
     "output_type": "execute_result"
    }
   ],
   "source": [
    "diff_between_ckks_and_sklearn[:5]"
   ]
  },
  {
   "cell_type": "code",
   "execution_count": 22,
   "id": "e94f1e5b-4896-406e-aa71-1d93bd9d5f2e",
   "metadata": {},
   "outputs": [],
   "source": [
    "diff_between_paillier_and_sklearn=abs(unenc_preds_paillier-unenc_preds_sklearn)"
   ]
  },
  {
   "cell_type": "code",
   "execution_count": 23,
   "id": "d89e770f-ce05-4ada-af28-a993d53a56a7",
   "metadata": {},
   "outputs": [
    {
     "data": {
      "text/plain": [
       "array([5.68434189e-13, 8.66862138e-13, 7.67386155e-13, 1.42108547e-13,\n",
       "       6.03961325e-13, 3.12638804e-13, 6.25277607e-13, 4.68958206e-13,\n",
       "       4.97379915e-13, 1.84741111e-13, 1.13686838e-13, 5.96855898e-13,\n",
       "       2.84217094e-14, 3.69482223e-13, 3.55271368e-13, 3.97903932e-13,\n",
       "       6.03961325e-13, 1.66977543e-13, 1.84741111e-13, 1.84741111e-13,\n",
       "       4.26325641e-13, 4.12114787e-13, 6.32383035e-13, 2.84217094e-13,\n",
       "       3.41060513e-13, 2.48689958e-13, 4.40536496e-13, 4.12114787e-13,\n",
       "       3.69482223e-13, 7.10542736e-13, 4.26325641e-13, 0.00000000e+00,\n",
       "       3.55271368e-13, 2.84217094e-14, 1.70530257e-13, 4.83169060e-13,\n",
       "       2.13162821e-13, 3.69482223e-13, 6.03961325e-13, 4.83169060e-13,\n",
       "       6.60804744e-13, 3.97903932e-13, 5.68434189e-13, 5.82645043e-13,\n",
       "       7.81597009e-13, 4.54747351e-13, 3.26849658e-13, 4.64517314e-13,\n",
       "       4.68958206e-13, 4.12114787e-13, 2.13162821e-14, 0.00000000e+00,\n",
       "       4.26325641e-13, 4.26325641e-13, 3.69482223e-13, 2.98427949e-13,\n",
       "       3.69482223e-13, 8.52651283e-14, 1.25766064e-12, 2.70006240e-13,\n",
       "       1.13686838e-13, 4.68958206e-13, 4.12114787e-13, 1.84741111e-13,\n",
       "       2.84217094e-13, 4.26325641e-13, 4.54747351e-13, 3.41060513e-13,\n",
       "       3.97903932e-13, 4.40536496e-13, 1.84741111e-13, 7.10542736e-14,\n",
       "       1.42108547e-13, 1.70530257e-13, 8.81072992e-13, 3.55271368e-13,\n",
       "       4.26325641e-13, 4.83169060e-13, 1.70530257e-13, 8.24229573e-13,\n",
       "       4.54747351e-13, 3.26849658e-13, 5.54223334e-13, 5.40012479e-13,\n",
       "       2.55795385e-13, 8.81072992e-13, 4.26325641e-13, 4.54747351e-13,\n",
       "       5.89750471e-13, 2.13162821e-14, 6.67910172e-13, 5.68434189e-14,\n",
       "       0.00000000e+00, 4.68958206e-13])"
      ]
     },
     "execution_count": 23,
     "metadata": {},
     "output_type": "execute_result"
    }
   ],
   "source": [
    "diff_between_paillier_and_sklearn"
   ]
  },
  {
   "cell_type": "code",
   "execution_count": 24,
   "id": "305493e7-252f-45ca-bd0d-11f715d5719c",
   "metadata": {},
   "outputs": [
    {
     "data": {
      "text/plain": [
       "(-24.144692103159898, 3.1719737318860307e-59)"
      ]
     },
     "execution_count": 24,
     "metadata": {},
     "output_type": "execute_result"
    }
   ],
   "source": [
    "t_statistic,p_value=stats.ttest_ind(diff_between_paillier_and_sklearn,diff_between_ckks_and_sklearn)\n",
    "t_statistic,p_value"
   ]
  },
  {
   "cell_type": "code",
   "execution_count": 25,
   "id": "af9e696a-311a-4c84-8092-170b956b0820",
   "metadata": {},
   "outputs": [
    {
     "name": "stdout",
     "output_type": "stream",
     "text": [
      "There is a significant difference between the ckks-sklearn preds and paillier-sklearn preds\n"
     ]
    }
   ],
   "source": [
    "alpha = 0.05\n",
    "if p_value < alpha:\n",
    "    print(\"There is a significant difference between the ckks-sklearn preds and paillier-sklearn preds\")\n",
    "else:\n",
    "    print(\"There is no significant difference between the ckks-sklearn preds and paillier-sklearn preds\")"
   ]
  },
  {
   "cell_type": "code",
   "execution_count": 26,
   "id": "d486df68-a18a-4c45-aa0a-42e4079a830a",
   "metadata": {},
   "outputs": [],
   "source": [
    "l=len(diff_between_paillier_and_sklearn)"
   ]
  },
  {
   "cell_type": "code",
   "execution_count": 27,
   "id": "f219c165-4d2a-4c4f-b8a0-32f77ec6ff4a",
   "metadata": {},
   "outputs": [
    {
     "data": {
      "text/plain": [
       "5.968797017879728e-10"
      ]
     },
     "execution_count": 27,
     "metadata": {},
     "output_type": "execute_result"
    }
   ],
   "source": [
    "mse_ckks_with_sklearn=sum(diff_between_ckks_and_sklearn**2)/l\n",
    "mse_ckks_with_sklearn"
   ]
  },
  {
   "cell_type": "code",
   "execution_count": 28,
   "id": "5d712025-6a8f-45f3-a70e-23b7289f17a5",
   "metadata": {},
   "outputs": [
    {
     "data": {
      "text/plain": [
       "2.0726572545249585e-25"
      ]
     },
     "execution_count": 28,
     "metadata": {},
     "output_type": "execute_result"
    }
   ],
   "source": [
    "mse_paillier_with_sklearn=sum(diff_between_paillier_and_sklearn**2)/l\n",
    "mse_paillier_with_sklearn"
   ]
  },
  {
   "cell_type": "markdown",
   "id": "0720ce03-91b4-4526-b4d6-8770d6eaeb81",
   "metadata": {},
   "source": [
    "### training time:"
   ]
  },
  {
   "cell_type": "code",
   "execution_count": 29,
   "id": "30c5e221-0307-4faf-b489-2f702a3d9987",
   "metadata": {},
   "outputs": [
    {
     "name": "stdout",
     "output_type": "stream",
     "text": [
      "ckks encryption takes less time to train the model\n"
     ]
    }
   ],
   "source": [
    "if train_time_ckks<train_time_paillier:\n",
    "    print(\"ckks encryption takes less time to train the model\")\n",
    "else:\n",
    "    print(\"paillier encryption takes less time to train the model\")"
   ]
  },
  {
   "cell_type": "code",
   "execution_count": 30,
   "id": "d4ecc13c-413c-481b-8656-8415d44bb1a4",
   "metadata": {},
   "outputs": [
    {
     "data": {
      "text/plain": [
       "3.345334053039551"
      ]
     },
     "execution_count": 30,
     "metadata": {},
     "output_type": "execute_result"
    }
   ],
   "source": [
    "train_time_ckks"
   ]
  },
  {
   "cell_type": "code",
   "execution_count": 31,
   "id": "52110b6d-fef6-45eb-ba83-582fa2e119b9",
   "metadata": {},
   "outputs": [
    {
     "data": {
      "text/plain": [
       "112.69778513908386"
      ]
     },
     "execution_count": 31,
     "metadata": {},
     "output_type": "execute_result"
    }
   ],
   "source": [
    "train_time_paillier"
   ]
  },
  {
   "cell_type": "code",
   "execution_count": 32,
   "id": "003aee86-6800-4e0f-bb81-355d5b62b903",
   "metadata": {},
   "outputs": [
    {
     "name": "stdout",
     "output_type": "stream",
     "text": [
      "ckks encrypted data takes less time to test the model\n"
     ]
    }
   ],
   "source": [
    "if test_time_ckks<test_time_paillier:\n",
    "    print(\"ckks encrypted data takes less time to test the model\")\n",
    "else:\n",
    "    print(\"paillier encrypted data takes less time to train the model\")"
   ]
  },
  {
   "cell_type": "code",
   "execution_count": 33,
   "id": "927e7fd9-8c82-4553-b7a6-894f883379fc",
   "metadata": {},
   "outputs": [
    {
     "data": {
      "text/plain": [
       "0.9361004829406738"
      ]
     },
     "execution_count": 33,
     "metadata": {},
     "output_type": "execute_result"
    }
   ],
   "source": [
    "test_time_ckks"
   ]
  },
  {
   "cell_type": "code",
   "execution_count": 34,
   "id": "dbc4c1e4-03e9-4e16-a575-38df3d5b0de4",
   "metadata": {},
   "outputs": [
    {
     "data": {
      "text/plain": [
       "4.70487642288208"
      ]
     },
     "execution_count": 34,
     "metadata": {},
     "output_type": "execute_result"
    }
   ],
   "source": [
    "test_time_paillier"
   ]
  },
  {
   "cell_type": "code",
   "execution_count": 35,
   "id": "34e033bc-d9b6-45dd-b97f-aabace04b894",
   "metadata": {},
   "outputs": [
    {
     "data": {
      "text/plain": [
       "['test_time_paillier_375_5.pkl']"
      ]
     },
     "execution_count": 35,
     "metadata": {},
     "output_type": "execute_result"
    }
   ],
   "source": [
    "joblib.dump(train_time_ckks,'train_time_ckks_375_5.pkl')\n",
    "joblib.dump(train_time_paillier,'train_time_paillier_375_5.pkl')\n",
    "joblib.dump(test_time_ckks,'test_time_ckks_375_5.pkl')\n",
    "joblib.dump(test_time_paillier,'test_time_paillier_375_5.pkl')"
   ]
  },
  {
   "cell_type": "markdown",
   "id": "f3de5898-2831-41d7-9a7b-8575dc805b03",
   "metadata": {},
   "source": [
    "### CPU % utilization:"
   ]
  },
  {
   "cell_type": "code",
   "execution_count": 36,
   "id": "969ad115-ac97-49e5-afa4-97709c43b1a8",
   "metadata": {},
   "outputs": [],
   "source": [
    "def shortlist_cpu_usage(cpu):\n",
    "    cpu_use=[]\n",
    "    for i in cpu:\n",
    "        if i>80:\n",
    "            cpu_use.append(i)\n",
    "\n",
    "    return cpu_use"
   ]
  },
  {
   "cell_type": "code",
   "execution_count": 37,
   "id": "d309f379-51dc-4b1f-996b-fb07f1ab53bd",
   "metadata": {},
   "outputs": [
    {
     "data": {
      "text/plain": [
       "[98.2,\n",
       " 96.4,\n",
       " 101.4,\n",
       " 99.9,\n",
       " 100.2,\n",
       " 101.5,\n",
       " 101.2,\n",
       " 97.3,\n",
       " 97.1,\n",
       " 96.4,\n",
       " 99.3,\n",
       " 100.6,\n",
       " 97.4,\n",
       " 101.3,\n",
       " 101.7,\n",
       " 100.8,\n",
       " 102.0,\n",
       " 101.1,\n",
       " 102.3,\n",
       " 100.4,\n",
       " 97.1,\n",
       " 98.0,\n",
       " 97.0,\n",
       " 95.4,\n",
       " 99.9,\n",
       " 102.3,\n",
       " 100.3,\n",
       " 99.4,\n",
       " 102.7,\n",
       " 101.0,\n",
       " 102.9,\n",
       " 100.2,\n",
       " 100.2,\n",
       " 97.2,\n",
       " 87.5,\n",
       " 89.1,\n",
       " 96.2,\n",
       " 100.8,\n",
       " 101.0,\n",
       " 101.0,\n",
       " 100.9,\n",
       " 102.4,\n",
       " 103.4,\n",
       " 100.0,\n",
       " 101.0,\n",
       " 102.2,\n",
       " 88.9,\n",
       " 91.1,\n",
       " 96.6,\n",
       " 96.4,\n",
       " 100.3,\n",
       " 99.0,\n",
       " 99.6,\n",
       " 99.6,\n",
       " 101.1,\n",
       " 101.6,\n",
       " 100.8,\n",
       " 100.0,\n",
       " 99.0,\n",
       " 99.5,\n",
       " 98.3,\n",
       " 96.4,\n",
       " 98.0,\n",
       " 102.2,\n",
       " 100.5,\n",
       " 100.1,\n",
       " 101.2,\n",
       " 101.3,\n",
       " 99.8,\n",
       " 99.2,\n",
       " 100.6,\n",
       " 100.5,\n",
       " 99.4,\n",
       " 96.8,\n",
       " 96.1,\n",
       " 98.3,\n",
       " 102.2,\n",
       " 99.7,\n",
       " 100.0,\n",
       " 100.8,\n",
       " 99.7,\n",
       " 100.3,\n",
       " 101.3,\n",
       " 100.5,\n",
       " 101.4,\n",
       " 99.8,\n",
       " 95.9,\n",
       " 97.3,\n",
       " 99.4,\n",
       " 101.6,\n",
       " 100.1,\n",
       " 97.1,\n",
       " 100.2,\n",
       " 102.5,\n",
       " 99.9,\n",
       " 101.4,\n",
       " 100.1,\n",
       " 102.1,\n",
       " 98.9,\n",
       " 97.3,\n",
       " 96.9,\n",
       " 99.3,\n",
       " 98.2,\n",
       " 100.2,\n",
       " 99.4,\n",
       " 99.7,\n",
       " 100.0,\n",
       " 100.1]"
      ]
     },
     "execution_count": 37,
     "metadata": {},
     "output_type": "execute_result"
    }
   ],
   "source": [
    "paillier_cpu_use_short=shortlist_cpu_usage(cpu_usages_paillier)\n",
    "paillier_cpu_use_short"
   ]
  },
  {
   "cell_type": "code",
   "execution_count": 38,
   "id": "b08b1906-e12f-4881-a936-ea6199871af8",
   "metadata": {},
   "outputs": [],
   "source": [
    "paillier_cpu_use_short=np.array(paillier_cpu_use_short)"
   ]
  },
  {
   "cell_type": "code",
   "execution_count": 39,
   "id": "23d85184-511e-4cd3-a471-ab1e79da4ed0",
   "metadata": {},
   "outputs": [
    {
     "data": {
      "text/plain": [
       "99.36203703703704"
      ]
     },
     "execution_count": 39,
     "metadata": {},
     "output_type": "execute_result"
    }
   ],
   "source": [
    "paillier_cpu_use_short.mean()"
   ]
  },
  {
   "cell_type": "code",
   "execution_count": 40,
   "id": "b203da10-7b96-4cc0-a7c8-d232bb589873",
   "metadata": {},
   "outputs": [
    {
     "data": {
      "text/plain": [
       "10731.1"
      ]
     },
     "execution_count": 40,
     "metadata": {},
     "output_type": "execute_result"
    }
   ],
   "source": [
    "paillier_cpu_use_short.sum()"
   ]
  },
  {
   "cell_type": "code",
   "execution_count": 41,
   "id": "9c445644-8561-4c09-b11d-ef4e410b99d6",
   "metadata": {},
   "outputs": [
    {
     "data": {
      "text/plain": [
       "107.311"
      ]
     },
     "execution_count": 41,
     "metadata": {},
     "output_type": "execute_result"
    }
   ],
   "source": [
    "cpu_seconds_for_paillier=paillier_cpu_use_short.sum()/100\n",
    "cpu_seconds_for_paillier"
   ]
  },
  {
   "cell_type": "code",
   "execution_count": 42,
   "id": "e3d13a63-5d5d-4ff4-b4ab-5588cd9bcdc8",
   "metadata": {},
   "outputs": [
    {
     "data": {
      "text/plain": [
       "103.4"
      ]
     },
     "execution_count": 42,
     "metadata": {},
     "output_type": "execute_result"
    }
   ],
   "source": [
    "paillier_cpu_use_short.max()"
   ]
  },
  {
   "cell_type": "code",
   "execution_count": 43,
   "id": "bd6288fc-44db-4a62-a4be-73d7f9775b36",
   "metadata": {},
   "outputs": [
    {
     "data": {
      "text/plain": [
       "87.5"
      ]
     },
     "execution_count": 43,
     "metadata": {},
     "output_type": "execute_result"
    }
   ],
   "source": [
    "paillier_cpu_use_short.min()"
   ]
  },
  {
   "cell_type": "code",
   "execution_count": 44,
   "id": "8019c7fa-7447-47ab-acb4-753b8c4852c0",
   "metadata": {},
   "outputs": [
    {
     "data": {
      "text/plain": [
       "108"
      ]
     },
     "execution_count": 44,
     "metadata": {},
     "output_type": "execute_result"
    }
   ],
   "source": [
    "len(paillier_cpu_use_short)"
   ]
  },
  {
   "cell_type": "code",
   "execution_count": 45,
   "id": "73273bab-0732-4764-bf12-cceb3a768558",
   "metadata": {},
   "outputs": [],
   "source": [
    "cpu_percent_consumption_paillier=(paillier_cpu_use_short.sum()/(108*200))*100"
   ]
  },
  {
   "cell_type": "code",
   "execution_count": 46,
   "id": "9cd56901-4016-4586-a50f-cf3b440e66c5",
   "metadata": {},
   "outputs": [
    {
     "data": {
      "text/plain": [
       "49.68101851851852"
      ]
     },
     "execution_count": 46,
     "metadata": {},
     "output_type": "execute_result"
    }
   ],
   "source": [
    "cpu_percent_consumption_paillier"
   ]
  },
  {
   "cell_type": "code",
   "execution_count": 47,
   "id": "70343caa-80ce-4735-9dfb-0055666876a0",
   "metadata": {},
   "outputs": [
    {
     "data": {
      "text/plain": [
       "[100.0, 95.4]"
      ]
     },
     "execution_count": 47,
     "metadata": {},
     "output_type": "execute_result"
    }
   ],
   "source": [
    "ckks_cpu_use_short=shortlist_cpu_usage(cpu_usages_ckks)\n",
    "ckks_cpu_use_short"
   ]
  },
  {
   "cell_type": "code",
   "execution_count": 48,
   "id": "d8c91d68-0f4b-4e31-b109-cb6eae6335e6",
   "metadata": {},
   "outputs": [],
   "source": [
    "ckks_cpu_use_short=np.array(ckks_cpu_use_short)"
   ]
  },
  {
   "cell_type": "code",
   "execution_count": 49,
   "id": "71971821-8163-43f7-9b65-139a6a6f3cd7",
   "metadata": {},
   "outputs": [
    {
     "data": {
      "text/plain": [
       "97.7"
      ]
     },
     "execution_count": 49,
     "metadata": {},
     "output_type": "execute_result"
    }
   ],
   "source": [
    "ckks_cpu_use_short.mean()"
   ]
  },
  {
   "cell_type": "code",
   "execution_count": 50,
   "id": "687db669-cafe-47d4-97d8-9e7e40f3e716",
   "metadata": {},
   "outputs": [
    {
     "data": {
      "text/plain": [
       "195.4"
      ]
     },
     "execution_count": 50,
     "metadata": {},
     "output_type": "execute_result"
    }
   ],
   "source": [
    "ckks_cpu_use_short.sum()"
   ]
  },
  {
   "cell_type": "code",
   "execution_count": 51,
   "id": "d82a9236-d0d7-4e10-bf46-fed948ff8dac",
   "metadata": {},
   "outputs": [
    {
     "data": {
      "text/plain": [
       "1.954"
      ]
     },
     "execution_count": 51,
     "metadata": {},
     "output_type": "execute_result"
    }
   ],
   "source": [
    "cpu_seconds_for_ckks=ckks_cpu_use_short.sum()/100\n",
    "cpu_seconds_for_ckks"
   ]
  },
  {
   "cell_type": "code",
   "execution_count": 52,
   "id": "fd87bc08-edbb-4e73-aa46-4cb631b99b17",
   "metadata": {},
   "outputs": [
    {
     "data": {
      "text/plain": [
       "100.0"
      ]
     },
     "execution_count": 52,
     "metadata": {},
     "output_type": "execute_result"
    }
   ],
   "source": [
    "ckks_cpu_use_short.max()"
   ]
  },
  {
   "cell_type": "code",
   "execution_count": 53,
   "id": "353cd72a-d316-446b-a48c-7777b5c27bcd",
   "metadata": {},
   "outputs": [
    {
     "data": {
      "text/plain": [
       "95.4"
      ]
     },
     "execution_count": 53,
     "metadata": {},
     "output_type": "execute_result"
    }
   ],
   "source": [
    "ckks_cpu_use_short.min()"
   ]
  },
  {
   "cell_type": "code",
   "execution_count": 54,
   "id": "3849453f-a4ce-4f5e-a542-89df109235a2",
   "metadata": {},
   "outputs": [
    {
     "data": {
      "text/plain": [
       "2"
      ]
     },
     "execution_count": 54,
     "metadata": {},
     "output_type": "execute_result"
    }
   ],
   "source": [
    "len(ckks_cpu_use_short)"
   ]
  },
  {
   "cell_type": "code",
   "execution_count": 55,
   "id": "440523d9-19c4-406e-a164-bdd8d996f078",
   "metadata": {},
   "outputs": [
    {
     "data": {
      "text/plain": [
       "48.85"
      ]
     },
     "execution_count": 55,
     "metadata": {},
     "output_type": "execute_result"
    }
   ],
   "source": [
    "cpu_percent_consumption_ckks=(ckks_cpu_use_short.sum()/(2*200))*100\n",
    "cpu_percent_consumption_ckks"
   ]
  },
  {
   "cell_type": "code",
   "execution_count": 56,
   "id": "9f0a6aa0-a1d5-4478-b84e-26c53182d9f3",
   "metadata": {},
   "outputs": [
    {
     "data": {
      "text/plain": [
       "['cpu_util_insights_ckks_375_5.pkl']"
      ]
     },
     "execution_count": 56,
     "metadata": {},
     "output_type": "execute_result"
    }
   ],
   "source": [
    "joblib.dump((ckks_cpu_use_short.mean(),ckks_cpu_use_short.sum(),cpu_seconds_for_ckks,ckks_cpu_use_short.max(),ckks_cpu_use_short.min(),len(ckks_cpu_use_short),cpu_percent_consumption_ckks),'cpu_util_insights_ckks_375_5.pkl')"
   ]
  },
  {
   "cell_type": "code",
   "execution_count": 57,
   "id": "86617836-0d9d-44be-83d2-c58990a2415d",
   "metadata": {},
   "outputs": [
    {
     "data": {
      "text/plain": [
       "['cpu_util_insights_paillier_375_5.pkl']"
      ]
     },
     "execution_count": 57,
     "metadata": {},
     "output_type": "execute_result"
    }
   ],
   "source": [
    "joblib.dump((paillier_cpu_use_short.mean(),paillier_cpu_use_short.sum(),cpu_seconds_for_paillier,paillier_cpu_use_short.max(),paillier_cpu_use_short.min(),len(paillier_cpu_use_short),cpu_percent_consumption_paillier),'cpu_util_insights_paillier_375_5.pkl')"
   ]
  },
  {
   "cell_type": "code",
   "execution_count": null,
   "id": "dcb8e9d1-deb8-4af7-ac5a-00fc535deed9",
   "metadata": {},
   "outputs": [],
   "source": []
  }
 ],
 "metadata": {
  "kernelspec": {
   "display_name": "Python 3 (ipykernel)",
   "language": "python",
   "name": "python3"
  },
  "language_info": {
   "codemirror_mode": {
    "name": "ipython",
    "version": 3
   },
   "file_extension": ".py",
   "mimetype": "text/x-python",
   "name": "python",
   "nbconvert_exporter": "python",
   "pygments_lexer": "ipython3",
   "version": "3.12.3"
  }
 },
 "nbformat": 4,
 "nbformat_minor": 5
}
