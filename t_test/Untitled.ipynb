{
 "cells": [
  {
   "cell_type": "code",
   "execution_count": 1,
   "id": "c03c243c-6d9f-4393-bc82-fddd81d24155",
   "metadata": {},
   "outputs": [],
   "source": [
    "import numpy as np\n",
    "from scipy.stats import ttest_rel"
   ]
  },
  {
   "cell_type": "markdown",
   "id": "a18c591b-d4e8-4e64-887b-aef3d1e66812",
   "metadata": {},
   "source": [
    "### Paired t-test function:"
   ]
  },
  {
   "cell_type": "code",
   "execution_count": 2,
   "id": "be8340e2-d7b2-4b67-996d-1a4f06083446",
   "metadata": {},
   "outputs": [],
   "source": [
    "def paired_t_test(sample1, sample2):\n",
    "\n",
    "    # Perform the paired t-test\n",
    "    t_stat, p_value = ttest_rel(sample1, sample2)\n",
    "    \n",
    "    # Display the results\n",
    "    print(f\"T-Statistic: {t_stat:.4f}\")\n",
    "    print(f\"P-Value: {p_value:.4f}\")\n",
    "    if p_value < 0.05:\n",
    "        print(\"Conclusion: There is a significant difference between the two samples (p < 0.05).\")\n",
    "    else:\n",
    "        print(\"Conclusion: There is no significant difference between the two samples (p >= 0.05).\")\n",
    "    \n",
    "    return t_stat, p_value"
   ]
  },
  {
   "cell_type": "markdown",
   "id": "1bff576a-6507-456d-ad8e-46fae7c7ff53",
   "metadata": {},
   "source": [
    "## accuracy values:"
   ]
  },
  {
   "cell_type": "markdown",
   "id": "952297c8-e778-4499-950b-e5a990a299ff",
   "metadata": {},
   "source": [
    "### Logistic Regression accuracies:"
   ]
  },
  {
   "cell_type": "code",
   "execution_count": 3,
   "id": "feff307f-db68-401c-9015-dbba9b4638b8",
   "metadata": {
    "scrolled": true
   },
   "outputs": [],
   "source": [
    "sample1 = [0.733,0.7235,0.7481,0.8333,0.8352,0.8481,0.7666,0.8,0.8185] # accuracies of baseline models\n",
    "sample2 = [0.711,0.7,0.737,0.8333,0.47,0.8518,0.744,0.811,0.7925] # accuracies of ckks models\n",
    "sample3= [0.744,0.6705,0.7370,0.8222,0.8325,0.8581,0.7444,0.811,0.7975] # accuracies of ckks (without rescaling) models\n",
    "sample4 = [0.7,0.7058,0.7407,0.822,0.8411,0.8481,0.733,0.8176,0.8]"
   ]
  },
  {
   "cell_type": "markdown",
   "id": "9272b43a-5fa5-46ab-a587-1a279cdd944b",
   "metadata": {},
   "source": [
    "#### Paired t-test between accuracies of baseline models and ckks encrypted (with rescaling) models"
   ]
  },
  {
   "cell_type": "code",
   "execution_count": 4,
   "id": "7ddfc9ae-cee4-4807-bdd6-affb0c57a4cd",
   "metadata": {},
   "outputs": [
    {
     "name": "stdout",
     "output_type": "stream",
     "text": [
      "T-Statistic: 1.2794\n",
      "P-Value: 0.2366\n",
      "Conclusion: There is no significant difference between the two samples (p >= 0.05).\n"
     ]
    },
    {
     "data": {
      "text/plain": [
       "(1.2793516053614056, 0.23662926659342842)"
      ]
     },
     "execution_count": 4,
     "metadata": {},
     "output_type": "execute_result"
    }
   ],
   "source": [
    "paired_t_test(sample1, sample2)"
   ]
  },
  {
   "cell_type": "markdown",
   "id": "cdc583ea-062c-4527-9641-8e4c8acc59b3",
   "metadata": {},
   "source": [
    "#### paired t-test between accuracies of baseline models and ckks (no rescaling) encrypted models"
   ]
  },
  {
   "cell_type": "code",
   "execution_count": 5,
   "id": "57c41f83-c2b2-4721-8e23-c2194db729d0",
   "metadata": {},
   "outputs": [
    {
     "name": "stdout",
     "output_type": "stream",
     "text": [
      "T-Statistic: 1.4288\n",
      "P-Value: 0.1909\n",
      "Conclusion: There is no significant difference between the two samples (p >= 0.05).\n"
     ]
    },
    {
     "data": {
      "text/plain": [
       "(1.4288468283288813, 0.19090778889446414)"
      ]
     },
     "execution_count": 5,
     "metadata": {},
     "output_type": "execute_result"
    }
   ],
   "source": [
    "paired_t_test(sample1, sample3)"
   ]
  },
  {
   "cell_type": "markdown",
   "id": "d3a382fd-79a8-493f-baff-d7cd017ccf41",
   "metadata": {},
   "source": [
    "#### paired t-test between accuracies of baseline models and paillier encrypted models"
   ]
  },
  {
   "cell_type": "code",
   "execution_count": 6,
   "id": "5b2954c7-23de-4c00-99cb-25568b7a2709",
   "metadata": {
    "scrolled": true
   },
   "outputs": [
    {
     "name": "stdout",
     "output_type": "stream",
     "text": [
      "T-Statistic: 1.9127\n",
      "P-Value: 0.0921\n",
      "Conclusion: There is no significant difference between the two samples (p >= 0.05).\n"
     ]
    },
    {
     "data": {
      "text/plain": [
       "(1.9127331751688896, 0.09214219290070609)"
      ]
     },
     "execution_count": 6,
     "metadata": {},
     "output_type": "execute_result"
    }
   ],
   "source": [
    "paired_t_test(sample1, sample4)"
   ]
  },
  {
   "cell_type": "markdown",
   "id": "7f65e129-a085-457d-9137-d6b53736b183",
   "metadata": {},
   "source": [
    "#### paired t-test between accuracies of ckks models and paillier encrypted models:"
   ]
  },
  {
   "cell_type": "code",
   "execution_count": 7,
   "id": "2aad2df1-893f-4afc-89ce-8d7f1b17e0fa",
   "metadata": {},
   "outputs": [
    {
     "name": "stdout",
     "output_type": "stream",
     "text": [
      "T-Statistic: -0.9576\n",
      "P-Value: 0.3663\n",
      "Conclusion: There is no significant difference between the two samples (p >= 0.05).\n",
      "(-0.9575926607204786, 0.36630846342371143)\n",
      "T-Statistic: 0.1410\n",
      "P-Value: 0.8913\n",
      "Conclusion: There is no significant difference between the two samples (p >= 0.05).\n",
      "(0.1410152824603162, 0.8913440285608818)\n"
     ]
    }
   ],
   "source": [
    "print(paired_t_test(sample2, sample4))\n",
    "print(paired_t_test(sample3, sample4))"
   ]
  },
  {
   "cell_type": "markdown",
   "id": "5fc67aca-4364-49ec-ad89-102e2ed58fce",
   "metadata": {},
   "source": [
    "### SVM Classification accuracies:"
   ]
  },
  {
   "cell_type": "code",
   "execution_count": 8,
   "id": "fbf0ee5a-d883-4b45-9a61-9f5821b09c9b",
   "metadata": {},
   "outputs": [],
   "source": [
    "sample1 = [0.711,0.7294,0.7370,0.788,0.8582,0.8481,0.733,0.8176,0.8]\n",
    "sample2 = [0.711,0.7294,0.7333,0.766,0.8588,0.8481,0.7,0.7823,0.8259]\n",
    "sample3 = [0.711,0.7294,0.7333,0.7666,0.8588,0.8481,0.7,0.7882,0.829]"
   ]
  },
  {
   "cell_type": "markdown",
   "id": "aea72c27-c7b3-4957-97ad-ec20557e3464",
   "metadata": {},
   "source": [
    "#### paired t-test between accuracies of baseline models and ckks encrypted models"
   ]
  },
  {
   "cell_type": "code",
   "execution_count": 9,
   "id": "c8154b55-d71e-457e-9ef4-55aabb63f5b1",
   "metadata": {
    "scrolled": true
   },
   "outputs": [
    {
     "name": "stdout",
     "output_type": "stream",
     "text": [
      "T-Statistic: 1.1623\n",
      "P-Value: 0.2786\n",
      "Conclusion: There is no significant difference between the two samples (p >= 0.05).\n"
     ]
    },
    {
     "data": {
      "text/plain": [
       "(1.162340653211795, 0.27859660723380525)"
      ]
     },
     "execution_count": 9,
     "metadata": {},
     "output_type": "execute_result"
    }
   ],
   "source": [
    "paired_t_test(sample1, sample2)"
   ]
  },
  {
   "cell_type": "markdown",
   "id": "cd8581a6-da82-4301-97d7-9f044de6e8b9",
   "metadata": {},
   "source": [
    "#### paired t-test between accuracies of baseline models and paillier encrypted models"
   ]
  },
  {
   "cell_type": "code",
   "execution_count": 10,
   "id": "5c19570f-ada6-4125-89cc-623c378c68a0",
   "metadata": {
    "scrolled": true
   },
   "outputs": [
    {
     "name": "stdout",
     "output_type": "stream",
     "text": [
      "T-Statistic: 1.0148\n",
      "P-Value: 0.3399\n",
      "Conclusion: There is no significant difference between the two samples (p >= 0.05).\n"
     ]
    },
    {
     "data": {
      "text/plain": [
       "(1.0147569707456956, 0.33992542009344284)"
      ]
     },
     "execution_count": 10,
     "metadata": {},
     "output_type": "execute_result"
    }
   ],
   "source": [
    "paired_t_test(sample1, sample3)"
   ]
  },
  {
   "cell_type": "markdown",
   "id": "b0a5c47e-e469-4c36-9958-6858b693a13b",
   "metadata": {},
   "source": [
    "#### paired t-test between accuracies of ckks and paillier encrypted models:"
   ]
  },
  {
   "cell_type": "code",
   "execution_count": 11,
   "id": "f6b3291e-76db-407f-87ef-4195e2736c65",
   "metadata": {
    "scrolled": true
   },
   "outputs": [
    {
     "name": "stdout",
     "output_type": "stream",
     "text": [
      "T-Statistic: -1.5400\n",
      "P-Value: 0.1621\n",
      "Conclusion: There is no significant difference between the two samples (p >= 0.05).\n"
     ]
    },
    {
     "data": {
      "text/plain": [
       "(-1.5400463976045373, 0.16211422337848008)"
      ]
     },
     "execution_count": 11,
     "metadata": {},
     "output_type": "execute_result"
    }
   ],
   "source": [
    "paired_t_test(sample2,sample3)"
   ]
  },
  {
   "cell_type": "markdown",
   "id": "0eb9ea0c-6179-4945-81b1-9e259cb37548",
   "metadata": {},
   "source": [
    "### Linear Regression Models:"
   ]
  },
  {
   "cell_type": "code",
   "execution_count": 12,
   "id": "c5ce7c49-3dd5-45ce-ab88-3a018e515fb4",
   "metadata": {},
   "outputs": [],
   "source": [
    "sample1=[483.2575000879937,361.2599630692902,294.6889591175362,15.941730074749175,24.630310523121693,20.668978790483855,10.975861845186673,10.549915956551716,13.725901006918571]\n",
    "sample2=[483.25722661564,361.2597424815084,294.6889462649803,15.942085679000519,24.63032133446641,20.66895989043567,10.974740524313926,10.549850429000896,13.725916472004684]\n",
    "sample3=[483.2575000879934,361.2599630692942,294.68895911753316,15.941730077382886,24.630310524914993,20.668978793951897,10.975861844987772,10.549915956509903,13.725901008411283]"
   ]
  },
  {
   "cell_type": "markdown",
   "id": "f39f83ee-8f0d-47ea-8896-a23dd8da5ef4",
   "metadata": {},
   "source": [
    "#### paired t-test between obtained MSE values of baseline models and CKKS encrypted models"
   ]
  },
  {
   "cell_type": "code",
   "execution_count": 13,
   "id": "eccfe6be-2e1b-4eae-9906-df2beae83dbb",
   "metadata": {},
   "outputs": [
    {
     "name": "stdout",
     "output_type": "stream",
     "text": [
      "T-Statistic: 1.0939\n",
      "P-Value: 0.3059\n",
      "Conclusion: There is no significant difference between the two samples (p >= 0.05).\n"
     ]
    },
    {
     "data": {
      "text/plain": [
       "(1.0938521832582797, 0.30585876649873056)"
      ]
     },
     "execution_count": 13,
     "metadata": {},
     "output_type": "execute_result"
    }
   ],
   "source": [
    "paired_t_test(sample1, sample2)"
   ]
  },
  {
   "cell_type": "markdown",
   "id": "ba902f81-5b39-4967-adee-907182993297",
   "metadata": {},
   "source": [
    "#### paired t-test between obtained MSE values of baseline models and paillier encrypted models:"
   ]
  },
  {
   "cell_type": "code",
   "execution_count": 14,
   "id": "2f075dac-a336-4329-b79a-0d4d6c1824d4",
   "metadata": {
    "scrolled": true
   },
   "outputs": [
    {
     "name": "stdout",
     "output_type": "stream",
     "text": [
      "T-Statistic: -2.2157\n",
      "P-Value: 0.0576\n",
      "Conclusion: There is no significant difference between the two samples (p >= 0.05).\n"
     ]
    },
    {
     "data": {
      "text/plain": [
       "(-2.215661676926846, 0.05757037722100328)"
      ]
     },
     "execution_count": 14,
     "metadata": {},
     "output_type": "execute_result"
    }
   ],
   "source": [
    "paired_t_test(sample1, sample3)"
   ]
  },
  {
   "cell_type": "markdown",
   "id": "1b2c9f37-0610-4aa9-a160-66f955b3c0cf",
   "metadata": {},
   "source": [
    "#### paired t-test between obtained MSE values of CKKS and Paillier encrypted models:"
   ]
  },
  {
   "cell_type": "code",
   "execution_count": 15,
   "id": "a6890f2a-0880-48a0-8363-11dee8a1318e",
   "metadata": {},
   "outputs": [
    {
     "name": "stdout",
     "output_type": "stream",
     "text": [
      "T-Statistic: -1.0939\n",
      "P-Value: 0.3059\n",
      "Conclusion: There is no significant difference between the two samples (p >= 0.05).\n"
     ]
    },
    {
     "data": {
      "text/plain": [
       "(-1.0938617734177225, 0.30585480529351305)"
      ]
     },
     "execution_count": 15,
     "metadata": {},
     "output_type": "execute_result"
    }
   ],
   "source": [
    "paired_t_test(sample2,sample3)"
   ]
  },
  {
   "cell_type": "markdown",
   "id": "1c510075-7833-4fd1-9623-9f4a7d831e3b",
   "metadata": {},
   "source": [
    "## Training time values:"
   ]
  },
  {
   "cell_type": "markdown",
   "id": "ec214615-aed0-4653-b7a0-f2721e006e20",
   "metadata": {},
   "source": [
    "### Logistic Regression Training time values:"
   ]
  },
  {
   "cell_type": "code",
   "execution_count": 16,
   "id": "d985ac3c-0fe2-49cb-8c73-807529bc17b3",
   "metadata": {},
   "outputs": [],
   "source": [
    "sample1=[0.015,0.014,0.008,0.025,0.010,0.008,0.0085,0.019,0.017]\n",
    "sample2=[74.223,138.869,212.179,83.009,155.448,281.907,87.20,167.744,262.141]\n",
    "sample3=[95.38,195.59,315.73,149.39,274.32,445.63,164.67,304.38,471.74]\n",
    "sample4=[3087.355,5671.315,9059.358,5824.142,10007.128,15621.78,7137.112,14239.90,22027.14]"
   ]
  },
  {
   "cell_type": "markdown",
   "id": "b69f2926-92d7-45dd-bcad-75a56cb4a0cd",
   "metadata": {},
   "source": [
    "#### paired t-test between training times of baseline models and ckks encrypted models (with rescaling):"
   ]
  },
  {
   "cell_type": "code",
   "execution_count": 17,
   "id": "f7bdf4ad-a460-4df8-b389-b7e8a9bb5dcd",
   "metadata": {},
   "outputs": [
    {
     "name": "stdout",
     "output_type": "stream",
     "text": [
      "T-Statistic: -6.3556\n",
      "P-Value: 0.0002\n",
      "Conclusion: There is a significant difference between the two samples (p < 0.05).\n"
     ]
    },
    {
     "data": {
      "text/plain": [
       "(-6.355601165557146, 0.000219290579658207)"
      ]
     },
     "execution_count": 17,
     "metadata": {},
     "output_type": "execute_result"
    }
   ],
   "source": [
    "paired_t_test(sample1, sample2)"
   ]
  },
  {
   "cell_type": "markdown",
   "id": "865e0b50-70ea-4580-962a-9e8adf2cd229",
   "metadata": {},
   "source": [
    "#### paired t-test between training times of baseline models and ckks encrypted models (without rescaling):"
   ]
  },
  {
   "cell_type": "code",
   "execution_count": 18,
   "id": "d7970de0-0074-4318-8ea3-16e0a27e7054",
   "metadata": {},
   "outputs": [
    {
     "name": "stdout",
     "output_type": "stream",
     "text": [
      "T-Statistic: -6.1673\n",
      "P-Value: 0.0003\n",
      "Conclusion: There is a significant difference between the two samples (p < 0.05).\n"
     ]
    },
    {
     "data": {
      "text/plain": [
       "(-6.16731247550833, 0.00026885228957937283)"
      ]
     },
     "execution_count": 18,
     "metadata": {},
     "output_type": "execute_result"
    }
   ],
   "source": [
    "paired_t_test(sample1, sample3)"
   ]
  },
  {
   "cell_type": "markdown",
   "id": "fdf02003-90a8-4df2-8f57-4011bf7b23e8",
   "metadata": {},
   "source": [
    "#### paired t-test between training times of baseline models and paillier encrypted models:"
   ]
  },
  {
   "cell_type": "code",
   "execution_count": 19,
   "id": "44afc48e-9063-4e1b-a62f-ae0707ea3172",
   "metadata": {},
   "outputs": [
    {
     "name": "stdout",
     "output_type": "stream",
     "text": [
      "T-Statistic: -5.1623\n",
      "P-Value: 0.0009\n",
      "Conclusion: There is a significant difference between the two samples (p < 0.05).\n"
     ]
    },
    {
     "data": {
      "text/plain": [
       "(-5.162266462355296, 0.0008612618017437225)"
      ]
     },
     "execution_count": 19,
     "metadata": {},
     "output_type": "execute_result"
    }
   ],
   "source": [
    "paired_t_test(sample1, sample4)"
   ]
  },
  {
   "cell_type": "markdown",
   "id": "54b23ce1-96c1-4a3c-a736-f6b47eea7ac9",
   "metadata": {},
   "source": [
    "#### paired t-test between training times of ckks and paillier encrypted models:"
   ]
  },
  {
   "cell_type": "code",
   "execution_count": 20,
   "id": "17c438be-7f7f-4b4f-a647-383e9113699e",
   "metadata": {},
   "outputs": [
    {
     "name": "stdout",
     "output_type": "stream",
     "text": [
      "T-Statistic: -5.1363\n",
      "P-Value: 0.0009\n",
      "Conclusion: There is a significant difference between the two samples (p < 0.05).\n",
      "T-Statistic: -5.1324\n",
      "P-Value: 0.0009\n",
      "Conclusion: There is a significant difference between the two samples (p < 0.05).\n"
     ]
    },
    {
     "data": {
      "text/plain": [
       "(-5.132386180644958, 0.0008934593811515363)"
      ]
     },
     "execution_count": 20,
     "metadata": {},
     "output_type": "execute_result"
    }
   ],
   "source": [
    "paired_t_test(sample2,sample4)\n",
    "paired_t_test(sample3,sample4)"
   ]
  },
  {
   "cell_type": "markdown",
   "id": "5b749cef-af90-4406-85ab-6f401da24f01",
   "metadata": {},
   "source": [
    "### SVM Classification training time values:"
   ]
  },
  {
   "cell_type": "code",
   "execution_count": 21,
   "id": "d08fef9a-05f0-4793-abcf-aea7f26d2027",
   "metadata": {},
   "outputs": [],
   "source": [
    "sample1 = [0.0145,0.00966,0.00561,0.02586,0.01196,0.009964,0.01119,0.00965,0.00691] # baseline model\n",
    "sample2 = [45.38,81.57,126.76,56.36,106.47,160.47,54.90,99.69,156.79] # ckks model\n",
    "sample3 = [3022.195,5425.988,8440.105,5288.20,9616.149,14098.52,7012.723,12097.10,20187.65] #paillier model"
   ]
  },
  {
   "cell_type": "markdown",
   "id": "5ec106f3-f408-4975-ba5b-a13ea950bacd",
   "metadata": {},
   "source": [
    "#### paired t-test between training times of baseline models and ckks encrypted models"
   ]
  },
  {
   "cell_type": "code",
   "execution_count": 22,
   "id": "fba0f54f-00c8-4f3c-a8ee-76bd48972dce",
   "metadata": {
    "scrolled": true
   },
   "outputs": [
    {
     "name": "stdout",
     "output_type": "stream",
     "text": [
      "T-Statistic: -6.8635\n",
      "P-Value: 0.0001\n",
      "Conclusion: There is a significant difference between the two samples (p < 0.05).\n"
     ]
    },
    {
     "data": {
      "text/plain": [
       "(-6.86351427340851, 0.00012920719926897616)"
      ]
     },
     "execution_count": 22,
     "metadata": {},
     "output_type": "execute_result"
    }
   ],
   "source": [
    "paired_t_test(sample1, sample2)"
   ]
  },
  {
   "cell_type": "markdown",
   "id": "4f3a8cf7-67c1-40da-b4a9-08cb318bf114",
   "metadata": {},
   "source": [
    "#### paired t-test between training times of baseline models and paillier encrypted models"
   ]
  },
  {
   "cell_type": "code",
   "execution_count": 23,
   "id": "e47307b1-35b0-4bfa-b4e4-505dadc4f578",
   "metadata": {
    "scrolled": true
   },
   "outputs": [
    {
     "name": "stdout",
     "output_type": "stream",
     "text": [
      "T-Statistic: -5.3458\n",
      "P-Value: 0.0007\n",
      "Conclusion: There is a significant difference between the two samples (p < 0.05).\n"
     ]
    },
    {
     "data": {
      "text/plain": [
       "(-5.345782552294232, 0.000689330671338254)"
      ]
     },
     "execution_count": 23,
     "metadata": {},
     "output_type": "execute_result"
    }
   ],
   "source": [
    "paired_t_test(sample1, sample3)"
   ]
  },
  {
   "cell_type": "markdown",
   "id": "96255175-6814-48fd-94d1-08b79a4bf159",
   "metadata": {},
   "source": [
    "#### paired t-test between training times of ckks and paillier encrypted models:"
   ]
  },
  {
   "cell_type": "code",
   "execution_count": 24,
   "id": "73f414f5-e686-4389-b533-67f5fec184b1",
   "metadata": {},
   "outputs": [
    {
     "name": "stdout",
     "output_type": "stream",
     "text": [
      "T-Statistic: -5.3273\n",
      "P-Value: 0.0007\n",
      "Conclusion: There is a significant difference between the two samples (p < 0.05).\n"
     ]
    },
    {
     "data": {
      "text/plain": [
       "(-5.327312711413413, 0.0007048047020724799)"
      ]
     },
     "execution_count": 24,
     "metadata": {},
     "output_type": "execute_result"
    }
   ],
   "source": [
    "paired_t_test(sample2,sample3)"
   ]
  },
  {
   "cell_type": "markdown",
   "id": "bab2bcba-8483-49be-a4e4-258604bcf8c8",
   "metadata": {},
   "source": [
    "### Linear Regression training time values:"
   ]
  },
  {
   "cell_type": "code",
   "execution_count": 25,
   "id": "a1340a00-af3e-487d-8590-254c3c53e96e",
   "metadata": {},
   "outputs": [],
   "source": [
    "sample1=[0.042,0.0300,0.0314,0.0576,0.03147,0.0824,0.0418,0.0370,0.0837]\n",
    "sample2=[3.41,3.21,3.02,13.45,9.12,12.839,40.03,27.54,34.76]\n",
    "sample3=[109.128,192.341,321.455,535.236,968.891,1588.129,1475.112,2696.438,4480.923]"
   ]
  },
  {
   "cell_type": "markdown",
   "id": "69f66d66-e516-4e35-adb3-efd5c2b9be6e",
   "metadata": {},
   "source": [
    "#### paired t-test between training times of baseline models and ckks encrypted models"
   ]
  },
  {
   "cell_type": "code",
   "execution_count": 26,
   "id": "f40669a0-5a84-4bfc-9db4-71dc81e50cb1",
   "metadata": {},
   "outputs": [
    {
     "name": "stdout",
     "output_type": "stream",
     "text": [
      "T-Statistic: -3.4485\n",
      "P-Value: 0.0087\n",
      "Conclusion: There is a significant difference between the two samples (p < 0.05).\n"
     ]
    },
    {
     "data": {
      "text/plain": [
       "(-3.4485009825242354, 0.008714009653762112)"
      ]
     },
     "execution_count": 26,
     "metadata": {},
     "output_type": "execute_result"
    }
   ],
   "source": [
    "paired_t_test(sample1, sample2)"
   ]
  },
  {
   "cell_type": "markdown",
   "id": "e2bdd4a8-6c5b-460a-8729-8db6eecd8e0b",
   "metadata": {},
   "source": [
    "#### paired t-test between training times of baseline models and paillier encrypted models"
   ]
  },
  {
   "cell_type": "code",
   "execution_count": 27,
   "id": "7d04ef53-9060-4119-a34d-ad044aad35bd",
   "metadata": {},
   "outputs": [
    {
     "name": "stdout",
     "output_type": "stream",
     "text": [
      "T-Statistic: -2.8766\n",
      "P-Value: 0.0206\n",
      "Conclusion: There is a significant difference between the two samples (p < 0.05).\n"
     ]
    },
    {
     "data": {
      "text/plain": [
       "(-2.8766441793162945, 0.02061748605162475)"
      ]
     },
     "execution_count": 27,
     "metadata": {},
     "output_type": "execute_result"
    }
   ],
   "source": [
    "paired_t_test(sample1, sample3)"
   ]
  },
  {
   "cell_type": "markdown",
   "id": "51db445f-88d1-4def-9c4d-35c4248a37c5",
   "metadata": {},
   "source": [
    "#### paired t-test between training times of ckks and paillier encrypted models:"
   ]
  },
  {
   "cell_type": "code",
   "execution_count": 28,
   "id": "365ddf3c-01b4-42e7-aff6-08e4e473173b",
   "metadata": {},
   "outputs": [
    {
     "name": "stdout",
     "output_type": "stream",
     "text": [
      "T-Statistic: -2.8642\n",
      "P-Value: 0.0210\n",
      "Conclusion: There is a significant difference between the two samples (p < 0.05).\n"
     ]
    },
    {
     "data": {
      "text/plain": [
       "(-2.864159228459648, 0.02101665840591321)"
      ]
     },
     "execution_count": 28,
     "metadata": {},
     "output_type": "execute_result"
    }
   ],
   "source": [
    "paired_t_test(sample2,sample3)"
   ]
  },
  {
   "cell_type": "markdown",
   "id": "1abb9a4c-9261-4698-9130-59b48aab3ec2",
   "metadata": {},
   "source": [
    "## Testing Time values:"
   ]
  },
  {
   "cell_type": "markdown",
   "id": "b2fd995a-4625-4ba9-86b2-64e595ea58d6",
   "metadata": {},
   "source": [
    "### Logistic Regression testing time values:"
   ]
  },
  {
   "cell_type": "code",
   "execution_count": 29,
   "id": "22810c32-1367-4324-ad36-161cda44a29b",
   "metadata": {},
   "outputs": [],
   "source": [
    "sample1=[0.010,0.006,0.004,0.003,0.001,0.0007,0.0008,0.0011,0.0041]\n",
    "sample2=[2.02,3.51,5.16,2.14,4.17,6.92,2.54,4.09,6.16]\n",
    "sample3=[3.68,7.61,21.28,5.5,11.69,18.22,7.88,11.93,17.60]\n",
    "sample4=[152.25,282.704,452.087,241.47,448.49,708.216,369.79,623.48,956.37]"
   ]
  },
  {
   "cell_type": "markdown",
   "id": "0c430a52-95fd-47dc-a2e7-225b76f669ba",
   "metadata": {},
   "source": [
    "#### paired t-test between testing times of baseline models and ckks encrypted models (with rescaling):"
   ]
  },
  {
   "cell_type": "code",
   "execution_count": 30,
   "id": "0825e92a-5aac-4980-9a6e-e61c0743958b",
   "metadata": {},
   "outputs": [
    {
     "name": "stdout",
     "output_type": "stream",
     "text": [
      "T-Statistic: -7.0149\n",
      "P-Value: 0.0001\n",
      "Conclusion: There is a significant difference between the two samples (p < 0.05).\n"
     ]
    },
    {
     "data": {
      "text/plain": [
       "(-7.014855061597269, 0.00011098206601280589)"
      ]
     },
     "execution_count": 30,
     "metadata": {},
     "output_type": "execute_result"
    }
   ],
   "source": [
    "paired_t_test(sample1, sample2)"
   ]
  },
  {
   "cell_type": "markdown",
   "id": "2fff7044-66a8-4259-bba7-9670d2f08b26",
   "metadata": {},
   "source": [
    "#### paired t-test between testing times of baseline models and ckks encrypted models (without rescaling):"
   ]
  },
  {
   "cell_type": "code",
   "execution_count": 31,
   "id": "50573bd4-6b8f-4403-80b9-9174e6d1d17a",
   "metadata": {},
   "outputs": [
    {
     "name": "stdout",
     "output_type": "stream",
     "text": [
      "T-Statistic: -5.7033\n",
      "P-Value: 0.0005\n",
      "Conclusion: There is a significant difference between the two samples (p < 0.05).\n"
     ]
    },
    {
     "data": {
      "text/plain": [
       "(-5.703291682122062, 0.0004526591669739304)"
      ]
     },
     "execution_count": 31,
     "metadata": {},
     "output_type": "execute_result"
    }
   ],
   "source": [
    "paired_t_test(sample1, sample3)"
   ]
  },
  {
   "cell_type": "markdown",
   "id": "bc0b31dd-c09f-4807-824c-c18f66679ff6",
   "metadata": {},
   "source": [
    "#### paired t-test between testing times of baseline models and paillier encrypted models"
   ]
  },
  {
   "cell_type": "code",
   "execution_count": 32,
   "id": "c6e7e7f6-f35a-435a-bd5f-42aa51a275b7",
   "metadata": {},
   "outputs": [
    {
     "name": "stdout",
     "output_type": "stream",
     "text": [
      "T-Statistic: -5.5584\n",
      "P-Value: 0.0005\n",
      "Conclusion: There is a significant difference between the two samples (p < 0.05).\n"
     ]
    },
    {
     "data": {
      "text/plain": [
       "(-5.558429029742219, 0.0005356543182167243)"
      ]
     },
     "execution_count": 32,
     "metadata": {},
     "output_type": "execute_result"
    }
   ],
   "source": [
    "paired_t_test(sample1, sample4)"
   ]
  },
  {
   "cell_type": "markdown",
   "id": "be9c6eb5-7274-4f9f-ab07-d7bcf32aca0c",
   "metadata": {},
   "source": [
    "#### paired t-test between testing time of ckks and paillier encrypted models:"
   ]
  },
  {
   "cell_type": "code",
   "execution_count": 33,
   "id": "6aa6ca77-6395-4806-aaa8-5fceb0d35964",
   "metadata": {},
   "outputs": [
    {
     "name": "stdout",
     "output_type": "stream",
     "text": [
      "T-Statistic: -5.5428\n",
      "P-Value: 0.0005\n",
      "Conclusion: There is a significant difference between the two samples (p < 0.05).\n",
      "T-Statistic: -5.5200\n",
      "P-Value: 0.0006\n",
      "Conclusion: There is a significant difference between the two samples (p < 0.05).\n"
     ]
    },
    {
     "data": {
      "text/plain": [
       "(-5.52002580653428, 0.000560364784825744)"
      ]
     },
     "execution_count": 33,
     "metadata": {},
     "output_type": "execute_result"
    }
   ],
   "source": [
    "paired_t_test(sample2,sample4)\n",
    "paired_t_test(sample3,sample4)"
   ]
  },
  {
   "cell_type": "markdown",
   "id": "3b0568fe-23b1-4336-9aa8-9f0d4e9a3c55",
   "metadata": {},
   "source": [
    "### SVM Classification testing time values:"
   ]
  },
  {
   "cell_type": "code",
   "execution_count": 34,
   "id": "0dab09d6-cd2d-4ebb-81f9-3c71db72b1bd",
   "metadata": {},
   "outputs": [],
   "source": [
    "sample1=[0.00036,0.00037,0.00051,0.00314,0.000421,0.000411,0.000416,0.000424,0.000393]\n",
    "sample2=[1.32,4.87,6.72,2.43,5.66,7.16,2.41,4.47,7.36]\n",
    "sample3=[118.26,219.074,359.856,205.459,387.089,616.355,291.355,616.472,883.36]"
   ]
  },
  {
   "cell_type": "markdown",
   "id": "f4ef0b80-f9b3-447b-b55b-08ee9b878bf6",
   "metadata": {},
   "source": [
    "#### paired t-test between testing times of baseline models and ckks encrypted models"
   ]
  },
  {
   "cell_type": "code",
   "execution_count": 35,
   "id": "81615a79-264b-4dcb-972a-db8bf498dd0a",
   "metadata": {},
   "outputs": [
    {
     "name": "stdout",
     "output_type": "stream",
     "text": [
      "T-Statistic: -6.3163\n",
      "P-Value: 0.0002\n",
      "Conclusion: There is a significant difference between the two samples (p < 0.05).\n"
     ]
    },
    {
     "data": {
      "text/plain": [
       "(-6.316254440887915, 0.00022874903882392762)"
      ]
     },
     "execution_count": 35,
     "metadata": {},
     "output_type": "execute_result"
    }
   ],
   "source": [
    "paired_t_test(sample1, sample2)"
   ]
  },
  {
   "cell_type": "markdown",
   "id": "34612d8a-7764-4286-a43d-9ed60b279c20",
   "metadata": {},
   "source": [
    "#### paired t-test between testing times of baseline models and paillier encrypted models"
   ]
  },
  {
   "cell_type": "code",
   "execution_count": 36,
   "id": "1626ee99-845f-4923-b51f-a9eea1ce6f3c",
   "metadata": {},
   "outputs": [
    {
     "name": "stdout",
     "output_type": "stream",
     "text": [
      "T-Statistic: -4.9808\n",
      "P-Value: 0.0011\n",
      "Conclusion: There is a significant difference between the two samples (p < 0.05).\n"
     ]
    },
    {
     "data": {
      "text/plain": [
       "(-4.980784338848059, 0.0010784326790944927)"
      ]
     },
     "execution_count": 36,
     "metadata": {},
     "output_type": "execute_result"
    }
   ],
   "source": [
    "paired_t_test(sample1, sample3)"
   ]
  },
  {
   "cell_type": "markdown",
   "id": "f9c61255-eb69-480b-b8de-4177ed3ea471",
   "metadata": {},
   "source": [
    "#### paired t-test between testing times of ckks and paillier encrypted models:"
   ]
  },
  {
   "cell_type": "code",
   "execution_count": 37,
   "id": "938f9cee-1601-4ca4-8904-f3109b3f57df",
   "metadata": {},
   "outputs": [
    {
     "name": "stdout",
     "output_type": "stream",
     "text": [
      "T-Statistic: -4.9568\n",
      "P-Value: 0.0011\n",
      "Conclusion: There is a significant difference between the two samples (p < 0.05).\n"
     ]
    },
    {
     "data": {
      "text/plain": [
       "(-4.956838185170856, 0.0011112990832351723)"
      ]
     },
     "execution_count": 37,
     "metadata": {},
     "output_type": "execute_result"
    }
   ],
   "source": [
    "paired_t_test(sample2,sample3)"
   ]
  },
  {
   "cell_type": "markdown",
   "id": "a770920a-0430-4498-9d2f-a5e2a5a3d894",
   "metadata": {},
   "source": [
    "### Linear Regression testing time values:"
   ]
  },
  {
   "cell_type": "code",
   "execution_count": 38,
   "id": "0bbe22c9-5b5f-4e79-a27b-41c04999b8a3",
   "metadata": {},
   "outputs": [],
   "source": [
    "sample1=[0.0061,0.0038,0.0023,0.2289,0.00257,0.00013,0.00446,0.00586,0.0203]\n",
    "sample2=[1.27,2.39,4.73,1.25,2.54,4.93,2.18,3.08,4.90]\n",
    "sample3=[5.33,11.06,16.48,13.037,23.57,42.85,25.44,42.57,74.53]"
   ]
  },
  {
   "cell_type": "markdown",
   "id": "e9b3e875-0367-4d4b-b7d2-38afc9c58c99",
   "metadata": {},
   "source": [
    "#### paired t-test between testing times of baseline models and ckks encrypted models"
   ]
  },
  {
   "cell_type": "code",
   "execution_count": 39,
   "id": "354fb868-3148-43c2-bf30-d486d3fed72b",
   "metadata": {},
   "outputs": [
    {
     "name": "stdout",
     "output_type": "stream",
     "text": [
      "T-Statistic: -5.9256\n",
      "P-Value: 0.0004\n",
      "Conclusion: There is a significant difference between the two samples (p < 0.05).\n"
     ]
    },
    {
     "data": {
      "text/plain": [
       "(-5.925623189688197, 0.0003514626812538864)"
      ]
     },
     "execution_count": 39,
     "metadata": {},
     "output_type": "execute_result"
    }
   ],
   "source": [
    "paired_t_test(sample1, sample2)"
   ]
  },
  {
   "cell_type": "markdown",
   "id": "2109c4b2-c9fc-4bb8-bf1e-e4184a09012f",
   "metadata": {},
   "source": [
    "#### paired t-test between testing times of baseline models and paillier encrypted models"
   ]
  },
  {
   "cell_type": "code",
   "execution_count": 40,
   "id": "1f088cc3-c907-4ada-a24b-e304d8bc0baa",
   "metadata": {},
   "outputs": [
    {
     "name": "stdout",
     "output_type": "stream",
     "text": [
      "T-Statistic: -3.9010\n",
      "P-Value: 0.0045\n",
      "Conclusion: There is a significant difference between the two samples (p < 0.05).\n"
     ]
    },
    {
     "data": {
      "text/plain": [
       "(-3.900968492822444, 0.0045384509680729155)"
      ]
     },
     "execution_count": 40,
     "metadata": {},
     "output_type": "execute_result"
    }
   ],
   "source": [
    "paired_t_test(sample1, sample3)"
   ]
  },
  {
   "cell_type": "markdown",
   "id": "49081fc0-c69e-48de-b454-23eb1187d45a",
   "metadata": {},
   "source": [
    "#### paired t-test between testing times of ckks and paillier encrypted models:"
   ]
  },
  {
   "cell_type": "code",
   "execution_count": 41,
   "id": "59d36d63-83f1-4f87-aa57-cb0721ec0deb",
   "metadata": {},
   "outputs": [
    {
     "name": "stdout",
     "output_type": "stream",
     "text": [
      "T-Statistic: -3.6575\n",
      "P-Value: 0.0064\n",
      "Conclusion: There is a significant difference between the two samples (p < 0.05).\n"
     ]
    },
    {
     "data": {
      "text/plain": [
       "(-3.657471895576902, 0.006424627046956779)"
      ]
     },
     "execution_count": 41,
     "metadata": {},
     "output_type": "execute_result"
    }
   ],
   "source": [
    "paired_t_test(sample2,sample3)"
   ]
  },
  {
   "cell_type": "markdown",
   "id": "9caca432-d5d9-46a2-8afd-816d6bad3309",
   "metadata": {},
   "source": [
    "## CPU Utilization:"
   ]
  },
  {
   "cell_type": "markdown",
   "id": "8c916ba5-0844-480e-8670-b880be39cfd1",
   "metadata": {},
   "source": [
    "### Logistic Regression Model:"
   ]
  },
  {
   "cell_type": "code",
   "execution_count": 42,
   "id": "eb989ba9-a812-4120-af0b-f36e543c23af",
   "metadata": {},
   "outputs": [],
   "source": [
    "sample1=[1,1,1,1,1,1,1,1,1]\n",
    "sample2=[100.4,100,100.6,99.8,100.1,99.8,99.4,100,99.9]\n",
    "sample3=[100.5,100.3,99.7,99.5,100,99.8,99.9,100.1,99.8]\n",
    "sample4=[99.7,100.05,99.8,99.6,99.5,99.7,99.8,99.6,99.9]"
   ]
  },
  {
   "cell_type": "markdown",
   "id": "dfb36a8c-81e3-4783-b93e-b047f77a5bff",
   "metadata": {},
   "source": [
    "#### paired t-test between CPU Util of baseline models and ckks encrypted models (with rescaling):"
   ]
  },
  {
   "cell_type": "code",
   "execution_count": 43,
   "id": "86b3b64b-d093-4a65-899e-82a0b1987470",
   "metadata": {},
   "outputs": [
    {
     "name": "stdout",
     "output_type": "stream",
     "text": [
      "T-Statistic: -848.5714\n",
      "P-Value: 0.0000\n",
      "Conclusion: There is a significant difference between the two samples (p < 0.05).\n"
     ]
    },
    {
     "data": {
      "text/plain": [
       "(-848.5714285714324, 4.165752014624394e-21)"
      ]
     },
     "execution_count": 43,
     "metadata": {},
     "output_type": "execute_result"
    }
   ],
   "source": [
    "paired_t_test(sample1, sample2)"
   ]
  },
  {
   "cell_type": "markdown",
   "id": "8ae482a3-c959-4f9a-bced-111cacfda047",
   "metadata": {},
   "source": [
    "#### paired t-test between CPU Util of baseline models and ckks encrypted models (without rescaling):"
   ]
  },
  {
   "cell_type": "code",
   "execution_count": 44,
   "id": "51ccfb32-4e13-44cd-aa01-4e8e0e26f319",
   "metadata": {},
   "outputs": [
    {
     "name": "stdout",
     "output_type": "stream",
     "text": [
      "T-Statistic: -961.7576\n",
      "P-Value: 0.0000\n",
      "Conclusion: There is a significant difference between the two samples (p < 0.05).\n"
     ]
    },
    {
     "data": {
      "text/plain": [
       "(-961.7575990343388, 1.5299579303775347e-21)"
      ]
     },
     "execution_count": 44,
     "metadata": {},
     "output_type": "execute_result"
    }
   ],
   "source": [
    "paired_t_test(sample1, sample3)"
   ]
  },
  {
   "cell_type": "markdown",
   "id": "e6a5a2c4-1e54-4863-8439-2771116e14e6",
   "metadata": {},
   "source": [
    "#### paired t-test between CPU Util of baseline models and paillier encrypted models:"
   ]
  },
  {
   "cell_type": "code",
   "execution_count": 45,
   "id": "15a00da9-9473-44b9-97bb-5fdca5f067fa",
   "metadata": {},
   "outputs": [
    {
     "name": "stdout",
     "output_type": "stream",
     "text": [
      "T-Statistic: -1751.2257\n",
      "P-Value: 0.0000\n",
      "Conclusion: There is a significant difference between the two samples (p < 0.05).\n"
     ]
    },
    {
     "data": {
      "text/plain": [
       "(-1751.2257260813901, 1.2661259673909154e-23)"
      ]
     },
     "execution_count": 45,
     "metadata": {},
     "output_type": "execute_result"
    }
   ],
   "source": [
    "paired_t_test(sample1, sample4)"
   ]
  },
  {
   "cell_type": "code",
   "execution_count": 46,
   "id": "1c2f559b-001b-4355-9028-ff9aa54737e0",
   "metadata": {},
   "outputs": [
    {
     "name": "stdout",
     "output_type": "stream",
     "text": [
      "T-Statistic: 1.9826\n",
      "P-Value: 0.0827\n",
      "Conclusion: There is no significant difference between the two samples (p >= 0.05).\n",
      "T-Statistic: 2.0180\n",
      "P-Value: 0.0783\n",
      "Conclusion: There is no significant difference between the two samples (p >= 0.05).\n"
     ]
    },
    {
     "data": {
      "text/plain": [
       "(2.0179913668364753, 0.07830210446054142)"
      ]
     },
     "execution_count": 46,
     "metadata": {},
     "output_type": "execute_result"
    }
   ],
   "source": [
    "paired_t_test(sample2, sample4)\n",
    "paired_t_test(sample3, sample4)"
   ]
  },
  {
   "cell_type": "markdown",
   "id": "95c9bdd8-5d71-463e-9ddd-d004617d6301",
   "metadata": {},
   "source": [
    "### SVM Classification Model:"
   ]
  },
  {
   "cell_type": "code",
   "execution_count": 47,
   "id": "c492a167-3afe-41cb-8b7d-ee7ab960528f",
   "metadata": {},
   "outputs": [],
   "source": [
    "sample1=[1,1,1,1,1,1,1,1,1]\n",
    "sample2=[100.2,100.3,100.2,99.5,99.25,100.1,100.3,100.0,100.2]\n",
    "sample3=[99.6,100.1,100.0,99.8,99.9,100.1,100.0,99.9,100.0]"
   ]
  },
  {
   "cell_type": "markdown",
   "id": "6366695c-63eb-4438-a699-b72d904a59cd",
   "metadata": {},
   "source": [
    "#### paired t-test between CPU Util of baseline models and ckks encrypted models:"
   ]
  },
  {
   "cell_type": "code",
   "execution_count": 48,
   "id": "cfd72f75-08f7-4da6-a4be-cb4e2ec8ddfa",
   "metadata": {},
   "outputs": [
    {
     "name": "stdout",
     "output_type": "stream",
     "text": [
      "T-Statistic: -793.0241\n",
      "P-Value: 0.0000\n",
      "Conclusion: There is a significant difference between the two samples (p < 0.05).\n"
     ]
    },
    {
     "data": {
      "text/plain": [
       "(-793.0240916271022, 7.159902116447548e-21)"
      ]
     },
     "execution_count": 48,
     "metadata": {},
     "output_type": "execute_result"
    }
   ],
   "source": [
    "paired_t_test(sample1, sample2)"
   ]
  },
  {
   "cell_type": "markdown",
   "id": "dcc34d8a-b5a8-489e-be80-e81913c9b83b",
   "metadata": {},
   "source": [
    "#### paired t-test between CPU Util of baseline models and paillier encrypted models:"
   ]
  },
  {
   "cell_type": "code",
   "execution_count": 49,
   "id": "bc40f99f-5a9a-425e-a6a2-935372cdb317",
   "metadata": {},
   "outputs": [
    {
     "name": "stdout",
     "output_type": "stream",
     "text": [
      "T-Statistic: -1877.1280\n",
      "P-Value: 0.0000\n",
      "Conclusion: There is a significant difference between the two samples (p < 0.05).\n"
     ]
    },
    {
     "data": {
      "text/plain": [
       "(-1877.12801907595, 7.265463659066178e-24)"
      ]
     },
     "execution_count": 49,
     "metadata": {},
     "output_type": "execute_result"
    }
   ],
   "source": [
    "paired_t_test(sample1, sample3)"
   ]
  },
  {
   "cell_type": "markdown",
   "id": "99ea8868-e222-4902-bb28-28112235d160",
   "metadata": {},
   "source": [
    "#### paired t-test between CPU Util of CKKS and Paillier encrypted models:"
   ]
  },
  {
   "cell_type": "code",
   "execution_count": 50,
   "id": "3279eaa3-b588-4bb6-83b0-6c9119439497",
   "metadata": {},
   "outputs": [
    {
     "name": "stdout",
     "output_type": "stream",
     "text": [
      "T-Statistic: 0.5993\n",
      "P-Value: 0.5655\n",
      "Conclusion: There is no significant difference between the two samples (p >= 0.05).\n"
     ]
    },
    {
     "data": {
      "text/plain": [
       "(0.5993265792248471, 0.5655373852328196)"
      ]
     },
     "execution_count": 50,
     "metadata": {},
     "output_type": "execute_result"
    }
   ],
   "source": [
    "paired_t_test(sample2,sample3)"
   ]
  },
  {
   "cell_type": "markdown",
   "id": "90fd9761-82e8-491c-81b1-b43b6c2eea24",
   "metadata": {},
   "source": [
    "### Linear Regression Model:"
   ]
  },
  {
   "cell_type": "code",
   "execution_count": 51,
   "id": "117cd269-c96c-420b-be3e-dad0c0c22336",
   "metadata": {},
   "outputs": [],
   "source": [
    "sample1=[1,1,1,1,1,10,3,7,9]\n",
    "sample2=[110.5,114.2,109.7,102.15,104.5,105.25,98.3,100.3,100.0]\n",
    "sample3=[100.05,100.3,100.1,100.3,100.3,100.3,100.2,100.3,100.3]"
   ]
  },
  {
   "cell_type": "markdown",
   "id": "85367fb0-3483-4783-8a38-87970bfb0168",
   "metadata": {},
   "source": [
    "#### paired t-test between CPU Util of baseline models and ckks encrypted models:"
   ]
  },
  {
   "cell_type": "code",
   "execution_count": 52,
   "id": "81cec229-ba31-4e0c-b831-ad3ab6e3c73e",
   "metadata": {},
   "outputs": [
    {
     "name": "stdout",
     "output_type": "stream",
     "text": [
      "T-Statistic: -37.9878\n",
      "P-Value: 0.0000\n",
      "Conclusion: There is a significant difference between the two samples (p < 0.05).\n"
     ]
    },
    {
     "data": {
      "text/plain": [
       "(-37.9877959700893, 2.531753337280725e-10)"
      ]
     },
     "execution_count": 52,
     "metadata": {},
     "output_type": "execute_result"
    }
   ],
   "source": [
    "paired_t_test(sample1, sample2)"
   ]
  },
  {
   "cell_type": "markdown",
   "id": "a09e0fe1-fc73-4471-8455-d5efd46a5a0d",
   "metadata": {},
   "source": [
    "#### paired t-test between CPU Util of baseline models and paillier encrypted models:"
   ]
  },
  {
   "cell_type": "code",
   "execution_count": 53,
   "id": "89c0c9ad-5289-48b2-8312-61ae9b805483",
   "metadata": {},
   "outputs": [
    {
     "name": "stdout",
     "output_type": "stream",
     "text": [
      "T-Statistic: -77.0052\n",
      "P-Value: 0.0000\n",
      "Conclusion: There is a significant difference between the two samples (p < 0.05).\n"
     ]
    },
    {
     "data": {
      "text/plain": [
       "(-77.00516552383542, 9.014699554366468e-13)"
      ]
     },
     "execution_count": 53,
     "metadata": {},
     "output_type": "execute_result"
    }
   ],
   "source": [
    "paired_t_test(sample1, sample3)"
   ]
  },
  {
   "cell_type": "markdown",
   "id": "db450391-0fca-47a4-bdbf-0623e43d84f7",
   "metadata": {},
   "source": [
    "#### paired t-test between CPU Util of CKKS and paillier encrypted models:"
   ]
  },
  {
   "cell_type": "code",
   "execution_count": 54,
   "id": "918e0122-c482-438a-9aaa-8e7a3d08df49",
   "metadata": {},
   "outputs": [
    {
     "name": "stdout",
     "output_type": "stream",
     "text": [
      "T-Statistic: 2.5975\n",
      "P-Value: 0.0317\n",
      "Conclusion: There is a significant difference between the two samples (p < 0.05).\n"
     ]
    },
    {
     "data": {
      "text/plain": [
       "(2.597491661622442, 0.03174131223112664)"
      ]
     },
     "execution_count": 54,
     "metadata": {},
     "output_type": "execute_result"
    }
   ],
   "source": [
    "paired_t_test(sample2,sample3)"
   ]
  },
  {
   "cell_type": "markdown",
   "id": "6bf73db1-b83b-4f77-a047-0b8a718b908c",
   "metadata": {},
   "source": [
    "## RAM Utilization:"
   ]
  },
  {
   "cell_type": "markdown",
   "id": "68a502e9-2e33-4c46-a3c3-042c8fc2b1db",
   "metadata": {},
   "source": [
    "### Logistic Regression Model:"
   ]
  },
  {
   "cell_type": "code",
   "execution_count": 55,
   "id": "646120e9-7e1d-4a57-8d85-ca919439d6e1",
   "metadata": {},
   "outputs": [],
   "source": [
    "sample1=[1.545,1.546,1.555,1.545,1.545,1.55,1.544,1.548,1.55]\n",
    "sample2=[5.1628,8.0363,11.7396,4.3368,7.8347,11.9243,4.3287,7.7051,11.1156]\n",
    "sample3=[10.738,13.7945,21.41572,9.47855,14.0740,21.7448,9.4724,13.7920,19.1920]\n",
    "sample4=[1.6101,1.6324,1.6799,1.6346,1.6833,1.7644,1.6699,1.7525,1.859]"
   ]
  },
  {
   "cell_type": "markdown",
   "id": "6cc411bd-d7a4-4d16-b48e-0b9f64a82ebe",
   "metadata": {},
   "source": [
    "#### paired t-test between RAM Util of baseline models and ckks encrypted models (with rescaling):"
   ]
  },
  {
   "cell_type": "code",
   "execution_count": 56,
   "id": "72380b25-9567-4423-854b-1130a259d385",
   "metadata": {},
   "outputs": [
    {
     "name": "stdout",
     "output_type": "stream",
     "text": [
      "T-Statistic: -6.3848\n",
      "P-Value: 0.0002\n",
      "Conclusion: There is a significant difference between the two samples (p < 0.05).\n"
     ]
    },
    {
     "data": {
      "text/plain": [
       "(-6.384766790917869, 0.00021255811203650608)"
      ]
     },
     "execution_count": 56,
     "metadata": {},
     "output_type": "execute_result"
    }
   ],
   "source": [
    "paired_t_test(sample1, sample2)"
   ]
  },
  {
   "cell_type": "markdown",
   "id": "e4fbf55c-6a2e-4f6f-a27c-52e62f8237bc",
   "metadata": {},
   "source": [
    "#### paired t-test between RAM Util of baseline models and ckks encrypted models (without rescaling):"
   ]
  },
  {
   "cell_type": "code",
   "execution_count": 57,
   "id": "2d4beaf9-1705-48c5-bb6f-fab2eac0d85c",
   "metadata": {},
   "outputs": [
    {
     "name": "stdout",
     "output_type": "stream",
     "text": [
      "T-Statistic: -8.2629\n",
      "P-Value: 0.0000\n",
      "Conclusion: There is a significant difference between the two samples (p < 0.05).\n"
     ]
    },
    {
     "data": {
      "text/plain": [
       "(-8.262919668128296, 3.45745084705895e-05)"
      ]
     },
     "execution_count": 57,
     "metadata": {},
     "output_type": "execute_result"
    }
   ],
   "source": [
    "paired_t_test(sample1, sample3)"
   ]
  },
  {
   "cell_type": "markdown",
   "id": "cd8480e5-3d5c-468d-a422-66a6b1077f94",
   "metadata": {},
   "source": [
    "#### paired t-test between RAM Util of baseline models and paillier encrypted models:"
   ]
  },
  {
   "cell_type": "code",
   "execution_count": 58,
   "id": "301e0a35-bed3-436f-8dca-abde42dfc87b",
   "metadata": {},
   "outputs": [
    {
     "name": "stdout",
     "output_type": "stream",
     "text": [
      "T-Statistic: -5.8057\n",
      "P-Value: 0.0004\n",
      "Conclusion: There is a significant difference between the two samples (p < 0.05).\n"
     ]
    },
    {
     "data": {
      "text/plain": [
       "(-5.805745450946285, 0.0004025189827460611)"
      ]
     },
     "execution_count": 58,
     "metadata": {},
     "output_type": "execute_result"
    }
   ],
   "source": [
    "paired_t_test(sample1, sample4)"
   ]
  },
  {
   "cell_type": "markdown",
   "id": "355a3856-7b3a-4a16-b265-5a3baf1596f2",
   "metadata": {},
   "source": [
    "#### paired t-test RAM Util of CKKS and Paillier encrpted models:"
   ]
  },
  {
   "cell_type": "code",
   "execution_count": 59,
   "id": "c7987c84-2975-4f48-8385-6f12dec8b9ee",
   "metadata": {},
   "outputs": [
    {
     "name": "stdout",
     "output_type": "stream",
     "text": [
      "T-Statistic: 6.3363\n",
      "P-Value: 0.0002\n",
      "Conclusion: There is a significant difference between the two samples (p < 0.05).\n",
      "\n",
      "T-Statistic: 8.2476\n",
      "P-Value: 0.0000\n",
      "Conclusion: There is a significant difference between the two samples (p < 0.05).\n"
     ]
    },
    {
     "data": {
      "text/plain": [
       "(8.247583218628481, 3.504282969480931e-05)"
      ]
     },
     "execution_count": 59,
     "metadata": {},
     "output_type": "execute_result"
    }
   ],
   "source": [
    "paired_t_test(sample2,sample4)\n",
    "print()\n",
    "paired_t_test(sample3,sample4)"
   ]
  },
  {
   "cell_type": "markdown",
   "id": "73f9fb31-fab9-441e-a97d-c34590940315",
   "metadata": {},
   "source": [
    "### SVM Classification Model:"
   ]
  },
  {
   "cell_type": "code",
   "execution_count": 60,
   "id": "e809fdff-a1c6-42b7-ba37-a7e607ccd0f0",
   "metadata": {},
   "outputs": [],
   "source": [
    "sample1=[1.591,1.594,1.5951,1.5986,1.5945,1.5953,1.5958,1.5991,1.5960]\n",
    "sample2=[5.1891,8.8652,11.8420,4.4013,7.7745,11.9574,4.8414,7.7498,11.4387]\n",
    "sample3=[1.6134,1.6441,1.6809,1.6452,1.7019,1.7678,1.6716,1.7529,1.8611]"
   ]
  },
  {
   "cell_type": "markdown",
   "id": "ac93d020-4387-47b4-8eed-989728a629c2",
   "metadata": {},
   "source": [
    "#### paired t-test between RAM Util of baseline models and ckks encrypted models:"
   ]
  },
  {
   "cell_type": "code",
   "execution_count": 61,
   "id": "66fb2cb2-b3ce-4788-bfed-c3ee1a3085ea",
   "metadata": {},
   "outputs": [
    {
     "name": "stdout",
     "output_type": "stream",
     "text": [
      "T-Statistic: -6.5666\n",
      "P-Value: 0.0002\n",
      "Conclusion: There is a significant difference between the two samples (p < 0.05).\n"
     ]
    },
    {
     "data": {
      "text/plain": [
       "(-6.5666354015695205, 0.00017539234859968446)"
      ]
     },
     "execution_count": 61,
     "metadata": {},
     "output_type": "execute_result"
    }
   ],
   "source": [
    "paired_t_test(sample1, sample2)"
   ]
  },
  {
   "cell_type": "markdown",
   "id": "129ccc99-7656-4f5e-af55-f70de35bd740",
   "metadata": {},
   "source": [
    "#### paired t-test between RAM Util of baseline models and paillier encrypted models:"
   ]
  },
  {
   "cell_type": "code",
   "execution_count": 62,
   "id": "be51d36a-e102-45d9-8b49-60864e061f5f",
   "metadata": {},
   "outputs": [
    {
     "name": "stdout",
     "output_type": "stream",
     "text": [
      "T-Statistic: -4.2637\n",
      "P-Value: 0.0027\n",
      "Conclusion: There is a significant difference between the two samples (p < 0.05).\n"
     ]
    },
    {
     "data": {
      "text/plain": [
       "(-4.263703911976315, 0.00274754372000926)"
      ]
     },
     "execution_count": 62,
     "metadata": {},
     "output_type": "execute_result"
    }
   ],
   "source": [
    "paired_t_test(sample1, sample3)"
   ]
  },
  {
   "cell_type": "markdown",
   "id": "1a99a1a3-b359-4460-b022-caa8bc923951",
   "metadata": {},
   "source": [
    "#### paired t-test between RAM Util of CKKS and paillier encrypted models:"
   ]
  },
  {
   "cell_type": "code",
   "execution_count": 63,
   "id": "dc58e87e-fac3-4d94-9426-b66a2429216c",
   "metadata": {},
   "outputs": [
    {
     "name": "stdout",
     "output_type": "stream",
     "text": [
      "T-Statistic: 6.5658\n",
      "P-Value: 0.0002\n",
      "Conclusion: There is a significant difference between the two samples (p < 0.05).\n"
     ]
    },
    {
     "data": {
      "text/plain": [
       "(6.565787442755035, 0.00017554802044762252)"
      ]
     },
     "execution_count": 63,
     "metadata": {},
     "output_type": "execute_result"
    }
   ],
   "source": [
    "paired_t_test(sample2,sample3)"
   ]
  },
  {
   "cell_type": "markdown",
   "id": "76b739d0-e2c9-4c26-b3b2-7d9673d806a2",
   "metadata": {},
   "source": [
    "### Linear Regression Model:"
   ]
  },
  {
   "cell_type": "code",
   "execution_count": 64,
   "id": "45ebb319-5094-49cb-8c55-23adbe9819ed",
   "metadata": {},
   "outputs": [],
   "source": [
    "sample1=[1.5616,1.5631,1.5671,1.5626,1.5654,1.5659,1.5631,1.5707,1.5751]\n",
    "sample2=[2.7732,2.979,3.3015,3.3872,3.5849,3.8956,3.8994,4.9320,4.7108]\n",
    "sample3=[1.5907,1.6089,1.6345,1.6166,1.6527,1.7060,1.6458,1.7066,1.7934]"
   ]
  },
  {
   "cell_type": "markdown",
   "id": "16c53b09-8408-49c6-b7c4-372da8faf1e9",
   "metadata": {},
   "source": [
    "#### paired t-test between RAM Util of baseline models and ckks encrypted models:"
   ]
  },
  {
   "cell_type": "code",
   "execution_count": 65,
   "id": "b2e8bf3c-b18c-4ab0-b0a2-64228cdd05fb",
   "metadata": {},
   "outputs": [
    {
     "name": "stdout",
     "output_type": "stream",
     "text": [
      "T-Statistic: -8.8884\n",
      "P-Value: 0.0000\n",
      "Conclusion: There is a significant difference between the two samples (p < 0.05).\n"
     ]
    },
    {
     "data": {
      "text/plain": [
       "(-8.888448031608371, 2.0308806683660232e-05)"
      ]
     },
     "execution_count": 65,
     "metadata": {},
     "output_type": "execute_result"
    }
   ],
   "source": [
    "paired_t_test(sample1, sample2)"
   ]
  },
  {
   "cell_type": "markdown",
   "id": "33e598f7-469e-4036-97b1-faabc1c40ed1",
   "metadata": {},
   "source": [
    "#### paired t-test between RAM Util of baseline models and paillier encrypted models:"
   ]
  },
  {
   "cell_type": "code",
   "execution_count": 66,
   "id": "a45eb1e7-1d6a-44be-b5f5-f6da9b63e2f4",
   "metadata": {},
   "outputs": [
    {
     "name": "stdout",
     "output_type": "stream",
     "text": [
      "T-Statistic: -4.8212\n",
      "P-Value: 0.0013\n",
      "Conclusion: There is a significant difference between the two samples (p < 0.05).\n"
     ]
    },
    {
     "data": {
      "text/plain": [
       "(-4.82120207810187, 0.00131934106352413)"
      ]
     },
     "execution_count": 66,
     "metadata": {},
     "output_type": "execute_result"
    }
   ],
   "source": [
    "paired_t_test(sample1, sample3)"
   ]
  },
  {
   "cell_type": "markdown",
   "id": "14c914b8-9450-4f4b-b9e8-184017e5a183",
   "metadata": {},
   "source": [
    "#### paired t-test between RAM Util of CKKS and Paillier encrypted models:"
   ]
  },
  {
   "cell_type": "code",
   "execution_count": 67,
   "id": "2aee534b-b937-4767-bf1d-a89e98b8758a",
   "metadata": {},
   "outputs": [
    {
     "name": "stdout",
     "output_type": "stream",
     "text": [
      "T-Statistic: 9.1362\n",
      "P-Value: 0.0000\n",
      "Conclusion: There is a significant difference between the two samples (p < 0.05).\n"
     ]
    },
    {
     "data": {
      "text/plain": [
       "(9.13624104277174, 1.6591096181599415e-05)"
      ]
     },
     "execution_count": 67,
     "metadata": {},
     "output_type": "execute_result"
    }
   ],
   "source": [
    "paired_t_test(sample2,sample3)"
   ]
  }
 ],
 "metadata": {
  "kernelspec": {
   "display_name": "Python 3 (ipykernel)",
   "language": "python",
   "name": "python3"
  },
  "language_info": {
   "codemirror_mode": {
    "name": "ipython",
    "version": 3
   },
   "file_extension": ".py",
   "mimetype": "text/x-python",
   "name": "python",
   "nbconvert_exporter": "python",
   "pygments_lexer": "ipython3",
   "version": "3.12.3"
  }
 },
 "nbformat": 4,
 "nbformat_minor": 5
}
