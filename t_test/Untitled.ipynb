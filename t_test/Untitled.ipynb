{
 "cells": [
  {
   "cell_type": "code",
   "execution_count": 1,
   "id": "c03c243c-6d9f-4393-bc82-fddd81d24155",
   "metadata": {},
   "outputs": [],
   "source": [
    "import numpy as np\n",
    "from scipy.stats import ttest_rel"
   ]
  },
  {
   "cell_type": "markdown",
   "id": "a18c591b-d4e8-4e64-887b-aef3d1e66812",
   "metadata": {},
   "source": [
    "### Paired t-test function:"
   ]
  },
  {
   "cell_type": "code",
   "execution_count": 2,
   "id": "be8340e2-d7b2-4b67-996d-1a4f06083446",
   "metadata": {},
   "outputs": [],
   "source": [
    "def paired_t_test(sample1, sample2):\n",
    "\n",
    "    # Perform the paired t-test\n",
    "    t_stat, p_value = ttest_rel(sample1, sample2)\n",
    "    \n",
    "    # Display the results\n",
    "    print(f\"T-Statistic: {t_stat:.4f}\")\n",
    "    print(f\"P-Value: {p_value:.4f}\")\n",
    "    if p_value < 0.05:\n",
    "        print(\"Conclusion: There is a significant difference between the two samples (p < 0.05).\")\n",
    "    else:\n",
    "        print(\"Conclusion: There is no significant difference between the two samples (p >= 0.05).\")\n",
    "    \n",
    "    return t_stat, p_value"
   ]
  },
  {
   "cell_type": "markdown",
   "id": "1bff576a-6507-456d-ad8e-46fae7c7ff53",
   "metadata": {},
   "source": [
    "## accuracy values:"
   ]
  },
  {
   "cell_type": "markdown",
   "id": "952297c8-e778-4499-950b-e5a990a299ff",
   "metadata": {},
   "source": [
    "### Logistic Regression accuracies:"
   ]
  },
  {
   "cell_type": "code",
   "execution_count": 3,
   "id": "feff307f-db68-401c-9015-dbba9b4638b8",
   "metadata": {
    "scrolled": true
   },
   "outputs": [],
   "source": [
    "sample1 = [0.733,0.7235,0.7481,0.8333,0.8352,0.8481,0.7666,0.8,0.8185] # accuracies of baseline models\n",
    "sample2 = [0.711,0.7,0.737,0.8333,0.47,0.8518,0.744,0.811,0.7925] # accuracies of ckks models\n",
    "sample3= [0.744,0.6705,0.7370,0.8222,0.8325,0.8581,0.7444,0.811,0.7975] # accuracies of ckks (without rescaling) models\n",
    "sample4 = [0.7,0.7058,0.7407,0.822,0.8411,0.8481,0.733,0.8176,0.8]"
   ]
  },
  {
   "cell_type": "markdown",
   "id": "9272b43a-5fa5-46ab-a587-1a279cdd944b",
   "metadata": {},
   "source": [
    "#### Paired t-test between accuracies of baseline models and ckks encrypted (with rescaling) models"
   ]
  },
  {
   "cell_type": "code",
   "execution_count": 4,
   "id": "7ddfc9ae-cee4-4807-bdd6-affb0c57a4cd",
   "metadata": {},
   "outputs": [
    {
     "name": "stdout",
     "output_type": "stream",
     "text": [
      "T-Statistic: 1.2794\n",
      "P-Value: 0.2366\n",
      "Conclusion: There is no significant difference between the two samples (p >= 0.05).\n"
     ]
    },
    {
     "data": {
      "text/plain": [
       "(1.2793516053614056, 0.23662926659342842)"
      ]
     },
     "execution_count": 4,
     "metadata": {},
     "output_type": "execute_result"
    }
   ],
   "source": [
    "paired_t_test(sample1, sample2)"
   ]
  },
  {
   "cell_type": "markdown",
   "id": "cdc583ea-062c-4527-9641-8e4c8acc59b3",
   "metadata": {},
   "source": [
    "#### paired t-test between accuracies of baseline models and ckks (no rescaling) encrypted models"
   ]
  },
  {
   "cell_type": "code",
   "execution_count": 5,
   "id": "57c41f83-c2b2-4721-8e23-c2194db729d0",
   "metadata": {
    "scrolled": true
   },
   "outputs": [
    {
     "name": "stdout",
     "output_type": "stream",
     "text": [
      "T-Statistic: 1.4288\n",
      "P-Value: 0.1909\n",
      "Conclusion: There is no significant difference between the two samples (p >= 0.05).\n"
     ]
    },
    {
     "data": {
      "text/plain": [
       "(1.4288468283288813, 0.19090778889446414)"
      ]
     },
     "execution_count": 5,
     "metadata": {},
     "output_type": "execute_result"
    }
   ],
   "source": [
    "paired_t_test(sample1, sample3)"
   ]
  },
  {
   "cell_type": "markdown",
   "id": "d3a382fd-79a8-493f-baff-d7cd017ccf41",
   "metadata": {},
   "source": [
    "#### paired t-test between accuracies of baseline models and paillier encrypted models"
   ]
  },
  {
   "cell_type": "code",
   "execution_count": 6,
   "id": "5b2954c7-23de-4c00-99cb-25568b7a2709",
   "metadata": {
    "scrolled": true
   },
   "outputs": [
    {
     "name": "stdout",
     "output_type": "stream",
     "text": [
      "T-Statistic: 1.9127\n",
      "P-Value: 0.0921\n",
      "Conclusion: There is no significant difference between the two samples (p >= 0.05).\n"
     ]
    },
    {
     "data": {
      "text/plain": [
       "(1.9127331751688896, 0.09214219290070609)"
      ]
     },
     "execution_count": 6,
     "metadata": {},
     "output_type": "execute_result"
    }
   ],
   "source": [
    "paired_t_test(sample1, sample4)"
   ]
  },
  {
   "cell_type": "markdown",
   "id": "5fc67aca-4364-49ec-ad89-102e2ed58fce",
   "metadata": {},
   "source": [
    "### SVM Classification accuracies:"
   ]
  },
  {
   "cell_type": "code",
   "execution_count": 7,
   "id": "fbf0ee5a-d883-4b45-9a61-9f5821b09c9b",
   "metadata": {},
   "outputs": [],
   "source": [
    "sample1 = [0.711,0.7294,0.7370,0.788,0.8582,0.8481,0.733,0.8176,0.8]\n",
    "sample2 = [0.711,0.7294,0.7333,0.766,0.8588,0.8481,0.7,0.7823,0.8259]\n",
    "sample3 = [0.711,0.7294,0.7333,0.7666,0.8588,0.8481,0.7,0.7882,0.829]"
   ]
  },
  {
   "cell_type": "markdown",
   "id": "aea72c27-c7b3-4957-97ad-ec20557e3464",
   "metadata": {},
   "source": [
    "#### paired t-test between accuracies of baseline models and ckks encrypted models"
   ]
  },
  {
   "cell_type": "code",
   "execution_count": 8,
   "id": "c8154b55-d71e-457e-9ef4-55aabb63f5b1",
   "metadata": {
    "scrolled": true
   },
   "outputs": [
    {
     "name": "stdout",
     "output_type": "stream",
     "text": [
      "T-Statistic: 1.1623\n",
      "P-Value: 0.2786\n",
      "Conclusion: There is no significant difference between the two samples (p >= 0.05).\n"
     ]
    },
    {
     "data": {
      "text/plain": [
       "(1.162340653211795, 0.27859660723380525)"
      ]
     },
     "execution_count": 8,
     "metadata": {},
     "output_type": "execute_result"
    }
   ],
   "source": [
    "paired_t_test(sample1, sample2)"
   ]
  },
  {
   "cell_type": "markdown",
   "id": "cd8581a6-da82-4301-97d7-9f044de6e8b9",
   "metadata": {},
   "source": [
    "#### paired t-test between accuracies of baseline models and paillier encrypted models"
   ]
  },
  {
   "cell_type": "code",
   "execution_count": 9,
   "id": "5c19570f-ada6-4125-89cc-623c378c68a0",
   "metadata": {
    "scrolled": true
   },
   "outputs": [
    {
     "name": "stdout",
     "output_type": "stream",
     "text": [
      "T-Statistic: 1.0148\n",
      "P-Value: 0.3399\n",
      "Conclusion: There is no significant difference between the two samples (p >= 0.05).\n"
     ]
    },
    {
     "data": {
      "text/plain": [
       "(1.0147569707456956, 0.33992542009344284)"
      ]
     },
     "execution_count": 9,
     "metadata": {},
     "output_type": "execute_result"
    }
   ],
   "source": [
    "paired_t_test(sample1, sample3)"
   ]
  },
  {
   "cell_type": "markdown",
   "id": "0eb9ea0c-6179-4945-81b1-9e259cb37548",
   "metadata": {},
   "source": [
    "### Linear Regression Models:"
   ]
  },
  {
   "cell_type": "code",
   "execution_count": 10,
   "id": "c5ce7c49-3dd5-45ce-ab88-3a018e515fb4",
   "metadata": {},
   "outputs": [],
   "source": [
    "sample1=[483.2575000879937,361.2599630692902,294.6889591175362,15.941730074749175,24.630310523121693,20.668978790483855,10.975861845186673,10.549915956551716,13.725901006918571]\n",
    "sample2=[483.25722661564,361.2597424815084,294.6889462649803,15.942085679000519,24.63032133446641,20.66895989043567,10.974740524313926,10.549850429000896,13.725916472004684]\n",
    "sample3=[483.2575000879934,361.2599630692942,294.68895911753316,15.941730077382886,24.630310524914993,20.668978793951897,10.975861844987772,10.549915956509903,13.725901008411283]"
   ]
  },
  {
   "cell_type": "markdown",
   "id": "f39f83ee-8f0d-47ea-8896-a23dd8da5ef4",
   "metadata": {},
   "source": [
    "#### paired t-test between obtained MSE values of baseline models and CKKS encrypted models"
   ]
  },
  {
   "cell_type": "code",
   "execution_count": 11,
   "id": "eccfe6be-2e1b-4eae-9906-df2beae83dbb",
   "metadata": {},
   "outputs": [
    {
     "name": "stdout",
     "output_type": "stream",
     "text": [
      "T-Statistic: 1.0939\n",
      "P-Value: 0.3059\n",
      "Conclusion: There is no significant difference between the two samples (p >= 0.05).\n"
     ]
    },
    {
     "data": {
      "text/plain": [
       "(1.0938521832582797, 0.30585876649873056)"
      ]
     },
     "execution_count": 11,
     "metadata": {},
     "output_type": "execute_result"
    }
   ],
   "source": [
    "paired_t_test(sample1, sample2)"
   ]
  },
  {
   "cell_type": "markdown",
   "id": "ba902f81-5b39-4967-adee-907182993297",
   "metadata": {},
   "source": [
    "#### paired t-test between obtained MSE values of baseline models and paillier encrypted models:"
   ]
  },
  {
   "cell_type": "code",
   "execution_count": 12,
   "id": "2f075dac-a336-4329-b79a-0d4d6c1824d4",
   "metadata": {
    "scrolled": true
   },
   "outputs": [
    {
     "name": "stdout",
     "output_type": "stream",
     "text": [
      "T-Statistic: -2.2157\n",
      "P-Value: 0.0576\n",
      "Conclusion: There is no significant difference between the two samples (p >= 0.05).\n"
     ]
    },
    {
     "data": {
      "text/plain": [
       "(-2.215661676926846, 0.05757037722100328)"
      ]
     },
     "execution_count": 12,
     "metadata": {},
     "output_type": "execute_result"
    }
   ],
   "source": [
    "paired_t_test(sample1, sample3)"
   ]
  },
  {
   "cell_type": "markdown",
   "id": "1c510075-7833-4fd1-9623-9f4a7d831e3b",
   "metadata": {},
   "source": [
    "## Training time values:"
   ]
  },
  {
   "cell_type": "markdown",
   "id": "ec214615-aed0-4653-b7a0-f2721e006e20",
   "metadata": {},
   "source": [
    "### Logistic Regression Training time values:"
   ]
  },
  {
   "cell_type": "code",
   "execution_count": 16,
   "id": "d985ac3c-0fe2-49cb-8c73-807529bc17b3",
   "metadata": {},
   "outputs": [],
   "source": [
    "sample1=[0.015,0.014,0.008,0.025,0.010,0.008,0.0085,0.019,0.017]\n",
    "sample2=[74.223,138.869,212.179,83.009,155.448,281.907,87.20,167.744,262.141]\n",
    "sample3=[95.38,195.59,315.73,149.39,274.32,445.63,164.67,304.38,471.74]\n",
    "sample4=[3087.355,5671.315,9059.358,5824.142,10007.128,15621.78,7137.112,14239.90,22027.14]"
   ]
  },
  {
   "cell_type": "markdown",
   "id": "b69f2926-92d7-45dd-bcad-75a56cb4a0cd",
   "metadata": {},
   "source": [
    "#### paired t-test between training times of baseline models and ckks encrypted models (with rescaling):"
   ]
  },
  {
   "cell_type": "code",
   "execution_count": 17,
   "id": "f7bdf4ad-a460-4df8-b389-b7e8a9bb5dcd",
   "metadata": {},
   "outputs": [
    {
     "name": "stdout",
     "output_type": "stream",
     "text": [
      "T-Statistic: -6.3556\n",
      "P-Value: 0.0002\n",
      "Conclusion: There is a significant difference between the two samples (p < 0.05).\n"
     ]
    },
    {
     "data": {
      "text/plain": [
       "(-6.355601165557146, 0.000219290579658207)"
      ]
     },
     "execution_count": 17,
     "metadata": {},
     "output_type": "execute_result"
    }
   ],
   "source": [
    "paired_t_test(sample1, sample2)"
   ]
  },
  {
   "cell_type": "markdown",
   "id": "865e0b50-70ea-4580-962a-9e8adf2cd229",
   "metadata": {},
   "source": [
    "#### paired t-test between training times of baseline models and ckks encrypted models (without rescaling):"
   ]
  },
  {
   "cell_type": "code",
   "execution_count": 18,
   "id": "d7970de0-0074-4318-8ea3-16e0a27e7054",
   "metadata": {},
   "outputs": [
    {
     "name": "stdout",
     "output_type": "stream",
     "text": [
      "T-Statistic: -6.1673\n",
      "P-Value: 0.0003\n",
      "Conclusion: There is a significant difference between the two samples (p < 0.05).\n"
     ]
    },
    {
     "data": {
      "text/plain": [
       "(-6.16731247550833, 0.00026885228957937283)"
      ]
     },
     "execution_count": 18,
     "metadata": {},
     "output_type": "execute_result"
    }
   ],
   "source": [
    "paired_t_test(sample1, sample3)"
   ]
  },
  {
   "cell_type": "markdown",
   "id": "fdf02003-90a8-4df2-8f57-4011bf7b23e8",
   "metadata": {},
   "source": [
    "#### paired t-test between training times of baseline models and paillier encrypted models:"
   ]
  },
  {
   "cell_type": "code",
   "execution_count": 19,
   "id": "44afc48e-9063-4e1b-a62f-ae0707ea3172",
   "metadata": {},
   "outputs": [
    {
     "name": "stdout",
     "output_type": "stream",
     "text": [
      "T-Statistic: -5.1623\n",
      "P-Value: 0.0009\n",
      "Conclusion: There is a significant difference between the two samples (p < 0.05).\n"
     ]
    },
    {
     "data": {
      "text/plain": [
       "(-5.162266462355296, 0.0008612618017437225)"
      ]
     },
     "execution_count": 19,
     "metadata": {},
     "output_type": "execute_result"
    }
   ],
   "source": [
    "paired_t_test(sample1, sample4)"
   ]
  },
  {
   "cell_type": "markdown",
   "id": "5b749cef-af90-4406-85ab-6f401da24f01",
   "metadata": {},
   "source": [
    "### SVM Classification training time values:"
   ]
  },
  {
   "cell_type": "code",
   "execution_count": 13,
   "id": "d08fef9a-05f0-4793-abcf-aea7f26d2027",
   "metadata": {},
   "outputs": [],
   "source": [
    "sample1 = [0.0145,0.00966,0.00561,0.02586,0.01196,0.009964,0.01119,0.00965,0.00691] # baseline model\n",
    "sample2 = [45.38,81.57,126.76,56.36,106.47,160.47,54.90,99.69,156.79] # ckks model\n",
    "sample3 = [3022.195,5425.988,8440.105,5288.20,9616.149,14098.52,7012.723,12097.10,20187.65] #paillier model"
   ]
  },
  {
   "cell_type": "markdown",
   "id": "5ec106f3-f408-4975-ba5b-a13ea950bacd",
   "metadata": {},
   "source": [
    "#### paired t-test between training times of baseline models and ckks encrypted models"
   ]
  },
  {
   "cell_type": "code",
   "execution_count": 14,
   "id": "fba0f54f-00c8-4f3c-a8ee-76bd48972dce",
   "metadata": {
    "scrolled": true
   },
   "outputs": [
    {
     "name": "stdout",
     "output_type": "stream",
     "text": [
      "T-Statistic: -6.8635\n",
      "P-Value: 0.0001\n",
      "Conclusion: There is a significant difference between the two samples (p < 0.05).\n"
     ]
    },
    {
     "data": {
      "text/plain": [
       "(-6.86351427340851, 0.00012920719926897616)"
      ]
     },
     "execution_count": 14,
     "metadata": {},
     "output_type": "execute_result"
    }
   ],
   "source": [
    "paired_t_test(sample1, sample2)"
   ]
  },
  {
   "cell_type": "markdown",
   "id": "4f3a8cf7-67c1-40da-b4a9-08cb318bf114",
   "metadata": {},
   "source": [
    "#### paired t-test between training times of baseline models and paillier encrypted models"
   ]
  },
  {
   "cell_type": "code",
   "execution_count": 15,
   "id": "e47307b1-35b0-4bfa-b4e4-505dadc4f578",
   "metadata": {
    "scrolled": true
   },
   "outputs": [
    {
     "name": "stdout",
     "output_type": "stream",
     "text": [
      "T-Statistic: -5.3458\n",
      "P-Value: 0.0007\n",
      "Conclusion: There is a significant difference between the two samples (p < 0.05).\n"
     ]
    },
    {
     "data": {
      "text/plain": [
       "(-5.345782552294232, 0.000689330671338254)"
      ]
     },
     "execution_count": 15,
     "metadata": {},
     "output_type": "execute_result"
    }
   ],
   "source": [
    "paired_t_test(sample1, sample3)"
   ]
  },
  {
   "cell_type": "markdown",
   "id": "bab2bcba-8483-49be-a4e4-258604bcf8c8",
   "metadata": {},
   "source": [
    "### Linear Regression training time values:"
   ]
  },
  {
   "cell_type": "code",
   "execution_count": 20,
   "id": "a1340a00-af3e-487d-8590-254c3c53e96e",
   "metadata": {},
   "outputs": [],
   "source": [
    "sample1=[0.042,0.0300,0.0314,0.0576,0.03147,0.0824,0.0418,0.0370,0.0837]\n",
    "sample2=[3.41,3.21,3.02,13.45,9.12,12.839,40.03,27.54,34.76]\n",
    "sample3=[109.128,192.341,321.455,535.236,968.891,1588.129,1475.112,2696.438,4480.923]"
   ]
  },
  {
   "cell_type": "markdown",
   "id": "69f66d66-e516-4e35-adb3-efd5c2b9be6e",
   "metadata": {},
   "source": [
    "#### paired t-test between training times of baseline models and ckks encrypted models"
   ]
  },
  {
   "cell_type": "code",
   "execution_count": 21,
   "id": "f40669a0-5a84-4bfc-9db4-71dc81e50cb1",
   "metadata": {},
   "outputs": [
    {
     "name": "stdout",
     "output_type": "stream",
     "text": [
      "T-Statistic: -3.4485\n",
      "P-Value: 0.0087\n",
      "Conclusion: There is a significant difference between the two samples (p < 0.05).\n"
     ]
    },
    {
     "data": {
      "text/plain": [
       "(-3.4485009825242354, 0.008714009653762112)"
      ]
     },
     "execution_count": 21,
     "metadata": {},
     "output_type": "execute_result"
    }
   ],
   "source": [
    "paired_t_test(sample1, sample2)"
   ]
  },
  {
   "cell_type": "markdown",
   "id": "e2bdd4a8-6c5b-460a-8729-8db6eecd8e0b",
   "metadata": {},
   "source": [
    "#### paired t-test between training times of baseline models and paillier encrypted models"
   ]
  },
  {
   "cell_type": "code",
   "execution_count": 22,
   "id": "7d04ef53-9060-4119-a34d-ad044aad35bd",
   "metadata": {},
   "outputs": [
    {
     "name": "stdout",
     "output_type": "stream",
     "text": [
      "T-Statistic: -2.8766\n",
      "P-Value: 0.0206\n",
      "Conclusion: There is a significant difference between the two samples (p < 0.05).\n"
     ]
    },
    {
     "data": {
      "text/plain": [
       "(-2.8766441793162945, 0.02061748605162475)"
      ]
     },
     "execution_count": 22,
     "metadata": {},
     "output_type": "execute_result"
    }
   ],
   "source": [
    "paired_t_test(sample1, sample3)"
   ]
  },
  {
   "cell_type": "markdown",
   "id": "1abb9a4c-9261-4698-9130-59b48aab3ec2",
   "metadata": {},
   "source": [
    "## Testing Time values:"
   ]
  },
  {
   "cell_type": "markdown",
   "id": "b2fd995a-4625-4ba9-86b2-64e595ea58d6",
   "metadata": {},
   "source": [
    "### Logistic Regression testing time values:"
   ]
  },
  {
   "cell_type": "markdown",
   "id": "0c430a52-95fd-47dc-a2e7-225b76f669ba",
   "metadata": {},
   "source": [
    "#### paired t-test between testing times of baseline models and ckks encrypted models (with rescaling):"
   ]
  },
  {
   "cell_type": "markdown",
   "id": "2fff7044-66a8-4259-bba7-9670d2f08b26",
   "metadata": {},
   "source": [
    "#### paired t-test between testing times of baseline models and ckks encrypted models (without rescaling):"
   ]
  },
  {
   "cell_type": "markdown",
   "id": "bc0b31dd-c09f-4807-824c-c18f66679ff6",
   "metadata": {},
   "source": [
    "#### paired t-test between testing times of baseline models and paillier encrypted models"
   ]
  },
  {
   "cell_type": "markdown",
   "id": "3b0568fe-23b1-4336-9aa8-9f0d4e9a3c55",
   "metadata": {},
   "source": [
    "### SVM Classification testing time values:"
   ]
  },
  {
   "cell_type": "markdown",
   "id": "f4ef0b80-f9b3-447b-b55b-08ee9b878bf6",
   "metadata": {},
   "source": [
    "#### paired t-test between testing times of baseline models and ckks encrypted models"
   ]
  },
  {
   "cell_type": "markdown",
   "id": "34612d8a-7764-4286-a43d-9ed60b279c20",
   "metadata": {},
   "source": [
    "#### paired t-test between testing times of baseline models and paillier encrypted models"
   ]
  },
  {
   "cell_type": "markdown",
   "id": "a770920a-0430-4498-9d2f-a5e2a5a3d894",
   "metadata": {},
   "source": [
    "### Linear Regression testing time values:"
   ]
  },
  {
   "cell_type": "markdown",
   "id": "e9b3e875-0367-4d4b-b7d2-38afc9c58c99",
   "metadata": {},
   "source": [
    "#### paired t-test between testing times of baseline models and ckks encrypted models"
   ]
  },
  {
   "cell_type": "markdown",
   "id": "2109c4b2-c9fc-4bb8-bf1e-e4184a09012f",
   "metadata": {},
   "source": [
    "#### paired t-test between testing times of baseline models and paillier encrypted models"
   ]
  },
  {
   "cell_type": "markdown",
   "id": "9caca432-d5d9-46a2-8afd-816d6bad3309",
   "metadata": {},
   "source": [
    "## CPU Utilization:"
   ]
  },
  {
   "cell_type": "markdown",
   "id": "8c916ba5-0844-480e-8670-b880be39cfd1",
   "metadata": {},
   "source": [
    "### Logistic Regression Model:"
   ]
  },
  {
   "cell_type": "markdown",
   "id": "dfb36a8c-81e3-4783-b93e-b047f77a5bff",
   "metadata": {},
   "source": [
    "#### paired t-test between CPU Util of baseline models and ckks encrypted models (with rescaling):"
   ]
  },
  {
   "cell_type": "markdown",
   "id": "8ae482a3-c959-4f9a-bced-111cacfda047",
   "metadata": {},
   "source": [
    "#### paired t-test between CPU Util of baseline models and ckks encrypted models (without rescaling):"
   ]
  },
  {
   "cell_type": "markdown",
   "id": "e6a5a2c4-1e54-4863-8439-2771116e14e6",
   "metadata": {},
   "source": [
    "#### paired t-test between CPU Util of baseline models and paillier encrypted models:"
   ]
  },
  {
   "cell_type": "markdown",
   "id": "95c9bdd8-5d71-463e-9ddd-d004617d6301",
   "metadata": {},
   "source": [
    "### SVM Classification Model:"
   ]
  },
  {
   "cell_type": "markdown",
   "id": "6366695c-63eb-4438-a699-b72d904a59cd",
   "metadata": {},
   "source": [
    "#### paired t-test between CPU Util of baseline models and ckks encrypted models:"
   ]
  },
  {
   "cell_type": "markdown",
   "id": "dcc34d8a-b5a8-489e-be80-e81913c9b83b",
   "metadata": {},
   "source": [
    "#### paired t-test between CPU Util of baseline models and paillier encrypted models:"
   ]
  },
  {
   "cell_type": "markdown",
   "id": "90fd9761-82e8-491c-81b1-b43b6c2eea24",
   "metadata": {},
   "source": [
    "### Linear Regression Model:"
   ]
  },
  {
   "cell_type": "markdown",
   "id": "85367fb0-3483-4783-8a38-87970bfb0168",
   "metadata": {},
   "source": [
    "#### paired t-test between CPU Util of baseline models and ckks encrypted models:"
   ]
  },
  {
   "cell_type": "markdown",
   "id": "a09e0fe1-fc73-4471-8455-d5efd46a5a0d",
   "metadata": {},
   "source": [
    "#### paired t-test between CPU Util of baseline models and paillier encrypted models:"
   ]
  },
  {
   "cell_type": "markdown",
   "id": "6bf73db1-b83b-4f77-a047-0b8a718b908c",
   "metadata": {},
   "source": [
    "## RAM Utilization:"
   ]
  },
  {
   "cell_type": "markdown",
   "id": "68a502e9-2e33-4c46-a3c3-042c8fc2b1db",
   "metadata": {},
   "source": [
    "### Logistic Regression Model:"
   ]
  },
  {
   "cell_type": "markdown",
   "id": "6cc411bd-d7a4-4d16-b48e-0b9f64a82ebe",
   "metadata": {},
   "source": [
    "#### paired t-test between CPU Util of baseline models and ckks encrypted models (with rescaling):m"
   ]
  },
  {
   "cell_type": "markdown",
   "id": "e4fbf55c-6a2e-4f6f-a27c-52e62f8237bc",
   "metadata": {},
   "source": [
    "#### paired t-test between CPU Util of baseline models and ckks encrypted models (without rescaling):"
   ]
  },
  {
   "cell_type": "markdown",
   "id": "cd8480e5-3d5c-468d-a422-66a6b1077f94",
   "metadata": {},
   "source": [
    "#### paired t-test between CPU Util of baseline models and paillier encrypted models:"
   ]
  },
  {
   "cell_type": "markdown",
   "id": "73f9fb31-fab9-441e-a97d-c34590940315",
   "metadata": {},
   "source": [
    "### SVM Classification Model:"
   ]
  },
  {
   "cell_type": "markdown",
   "id": "ac93d020-4387-47b4-8eed-989728a629c2",
   "metadata": {},
   "source": [
    "#### paired t-test between CPU Util of baseline models and ckks encrypted models:"
   ]
  },
  {
   "cell_type": "markdown",
   "id": "129ccc99-7656-4f5e-af55-f70de35bd740",
   "metadata": {},
   "source": [
    "#### paired t-test between CPU Util of baseline models and paillier encrypted models:"
   ]
  },
  {
   "cell_type": "markdown",
   "id": "76b739d0-e2c9-4c26-b3b2-7d9673d806a2",
   "metadata": {},
   "source": [
    "### Linear Regression Model:"
   ]
  },
  {
   "cell_type": "markdown",
   "id": "16c53b09-8408-49c6-b7c4-372da8faf1e9",
   "metadata": {},
   "source": [
    "#### paired t-test between CPU Util of baseline models and ckks encrypted models:"
   ]
  },
  {
   "cell_type": "markdown",
   "id": "33e598f7-469e-4036-97b1-faabc1c40ed1",
   "metadata": {},
   "source": [
    "#### paired t-test between CPU Util of baseline models and paillier encrypted models:"
   ]
  },
  {
   "cell_type": "code",
   "execution_count": null,
   "id": "a45eb1e7-1d6a-44be-b5f5-f6da9b63e2f4",
   "metadata": {},
   "outputs": [],
   "source": []
  }
 ],
 "metadata": {
  "kernelspec": {
   "display_name": "Python 3 (ipykernel)",
   "language": "python",
   "name": "python3"
  },
  "language_info": {
   "codemirror_mode": {
    "name": "ipython",
    "version": 3
   },
   "file_extension": ".py",
   "mimetype": "text/x-python",
   "name": "python",
   "nbconvert_exporter": "python",
   "pygments_lexer": "ipython3",
   "version": "3.12.3"
  }
 },
 "nbformat": 4,
 "nbformat_minor": 5
}
