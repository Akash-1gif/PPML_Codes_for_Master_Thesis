{
 "cells": [
  {
   "cell_type": "code",
   "execution_count": 1,
   "id": "c03c243c-6d9f-4393-bc82-fddd81d24155",
   "metadata": {},
   "outputs": [],
   "source": [
    "import numpy as np\n",
    "from scipy.stats import ttest_rel"
   ]
  },
  {
   "cell_type": "markdown",
   "id": "a18c591b-d4e8-4e64-887b-aef3d1e66812",
   "metadata": {},
   "source": [
    "### Paired t-test function:"
   ]
  },
  {
   "cell_type": "code",
   "execution_count": 2,
   "id": "be8340e2-d7b2-4b67-996d-1a4f06083446",
   "metadata": {},
   "outputs": [],
   "source": [
    "def paired_t_test(sample1, sample2):\n",
    "\n",
    "    # Perform the paired t-test\n",
    "    t_stat, p_value = ttest_rel(sample1, sample2)\n",
    "    \n",
    "    # Display the results\n",
    "    print(f\"T-Statistic: {t_stat:.4f}\")\n",
    "    print(f\"P-Value: {p_value:.4f}\")\n",
    "    if p_value < 0.05:\n",
    "        print(\"Conclusion: There is a significant difference between the two samples (p < 0.05).\")\n",
    "    else:\n",
    "        print(\"Conclusion: There is no significant difference between the two samples (p >= 0.05).\")\n",
    "    \n",
    "    return t_stat, p_value"
   ]
  },
  {
   "cell_type": "markdown",
   "id": "1bff576a-6507-456d-ad8e-46fae7c7ff53",
   "metadata": {},
   "source": [
    "## accuracy values:"
   ]
  },
  {
   "cell_type": "markdown",
   "id": "952297c8-e778-4499-950b-e5a990a299ff",
   "metadata": {},
   "source": [
    "### Logistic Regression accuracies:"
   ]
  },
  {
   "cell_type": "code",
   "execution_count": 3,
   "id": "feff307f-db68-401c-9015-dbba9b4638b8",
   "metadata": {
    "scrolled": true
   },
   "outputs": [],
   "source": [
    "sample1 = [0.733,0.7235,0.7481,0.8333,0.8352,0.8481,0.7666,0.8,0.8185] # accuracies of baseline models\n",
    "sample2 = [0.711,0.7,0.737,0.8333,0.47,0.8518,0.744,0.811,0.7925] # accuracies of ckks models\n",
    "sample3= [0.744,0.6705,0.7370,0.8222,0.8325,0.8581,0.7444,0.811,0.7975] # accuracies of ckks (without rescaling) models\n",
    "sample4 = [0.7,0.7058,0.7407,0.822,0.8411,0.8481,0.733,0.8176,0.8]"
   ]
  },
  {
   "cell_type": "markdown",
   "id": "9272b43a-5fa5-46ab-a587-1a279cdd944b",
   "metadata": {},
   "source": [
    "#### Paired t-test between accuracies of baseline models and ckks encrypted models"
   ]
  },
  {
   "cell_type": "code",
   "execution_count": 4,
   "id": "7ddfc9ae-cee4-4807-bdd6-affb0c57a4cd",
   "metadata": {},
   "outputs": [
    {
     "name": "stdout",
     "output_type": "stream",
     "text": [
      "T-Statistic: 1.2794\n",
      "P-Value: 0.2366\n",
      "Conclusion: There is no significant difference between the two samples (p >= 0.05).\n"
     ]
    },
    {
     "data": {
      "text/plain": [
       "(1.2793516053614056, 0.23662926659342842)"
      ]
     },
     "execution_count": 4,
     "metadata": {},
     "output_type": "execute_result"
    }
   ],
   "source": [
    "paired_t_test(sample1, sample2)"
   ]
  },
  {
   "cell_type": "markdown",
   "id": "cdc583ea-062c-4527-9641-8e4c8acc59b3",
   "metadata": {},
   "source": [
    "#### paired t-test between accuracies of baseline models and ckks (no rescaling) encrypted models"
   ]
  },
  {
   "cell_type": "code",
   "execution_count": 5,
   "id": "57c41f83-c2b2-4721-8e23-c2194db729d0",
   "metadata": {
    "scrolled": true
   },
   "outputs": [
    {
     "name": "stdout",
     "output_type": "stream",
     "text": [
      "T-Statistic: 1.4288\n",
      "P-Value: 0.1909\n",
      "Conclusion: There is no significant difference between the two samples (p >= 0.05).\n"
     ]
    },
    {
     "data": {
      "text/plain": [
       "(1.4288468283288813, 0.19090778889446414)"
      ]
     },
     "execution_count": 5,
     "metadata": {},
     "output_type": "execute_result"
    }
   ],
   "source": [
    "paired_t_test(sample1, sample3)"
   ]
  },
  {
   "cell_type": "markdown",
   "id": "d3a382fd-79a8-493f-baff-d7cd017ccf41",
   "metadata": {},
   "source": [
    "#### paired t-test between accuracies of baseline models and paillier encrypted models"
   ]
  },
  {
   "cell_type": "code",
   "execution_count": 6,
   "id": "5b2954c7-23de-4c00-99cb-25568b7a2709",
   "metadata": {},
   "outputs": [
    {
     "name": "stdout",
     "output_type": "stream",
     "text": [
      "T-Statistic: 1.9127\n",
      "P-Value: 0.0921\n",
      "Conclusion: There is no significant difference between the two samples (p >= 0.05).\n"
     ]
    },
    {
     "data": {
      "text/plain": [
       "(1.9127331751688896, 0.09214219290070609)"
      ]
     },
     "execution_count": 6,
     "metadata": {},
     "output_type": "execute_result"
    }
   ],
   "source": [
    "paired_t_test(sample1, sample4)"
   ]
  },
  {
   "cell_type": "markdown",
   "id": "5b749cef-af90-4406-85ab-6f401da24f01",
   "metadata": {},
   "source": [
    "### SVM Classification accuracy values:"
   ]
  },
  {
   "cell_type": "code",
   "execution_count": null,
   "id": "d08fef9a-05f0-4793-abcf-aea7f26d2027",
   "metadata": {},
   "outputs": [],
   "source": [
    "sample1 = []"
   ]
  }
 ],
 "metadata": {
  "kernelspec": {
   "display_name": "Python 3 (ipykernel)",
   "language": "python",
   "name": "python3"
  },
  "language_info": {
   "codemirror_mode": {
    "name": "ipython",
    "version": 3
   },
   "file_extension": ".py",
   "mimetype": "text/x-python",
   "name": "python",
   "nbconvert_exporter": "python",
   "pygments_lexer": "ipython3",
   "version": "3.12.3"
  }
 },
 "nbformat": 4,
 "nbformat_minor": 5
}
